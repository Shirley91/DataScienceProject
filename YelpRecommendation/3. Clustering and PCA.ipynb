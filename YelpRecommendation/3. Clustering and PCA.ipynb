{
 "cells": [
  {
   "cell_type": "markdown",
   "metadata": {},
   "source": [
    "# Yelp Data Challenge - Clustering and PCA"
   ]
  },
  {
   "cell_type": "code",
   "execution_count": 1,
   "metadata": {},
   "outputs": [],
   "source": [
    "import pandas as pd\n",
    "import numpy as np\n",
    "import matplotlib.pyplot as plt\n",
    "% matplotlib inline\n",
    "plt.style.use(\"ggplot\")"
   ]
  },
  {
   "cell_type": "code",
   "execution_count": 2,
   "metadata": {},
   "outputs": [],
   "source": [
    "df = pd.read_csv('last_2_years_restaurant_reviews.csv')"
   ]
  },
  {
   "cell_type": "code",
   "execution_count": 3,
   "metadata": {
    "scrolled": true
   },
   "outputs": [
    {
     "data": {
      "text/html": [
       "<div>\n",
       "<style scoped>\n",
       "    .dataframe tbody tr th:only-of-type {\n",
       "        vertical-align: middle;\n",
       "    }\n",
       "\n",
       "    .dataframe tbody tr th {\n",
       "        vertical-align: top;\n",
       "    }\n",
       "\n",
       "    .dataframe thead th {\n",
       "        text-align: right;\n",
       "    }\n",
       "</style>\n",
       "<table border=\"1\" class=\"dataframe\">\n",
       "  <thead>\n",
       "    <tr style=\"text-align: right;\">\n",
       "      <th></th>\n",
       "      <th>business_id</th>\n",
       "      <th>name</th>\n",
       "      <th>categories</th>\n",
       "      <th>avg_stars</th>\n",
       "      <th>cool</th>\n",
       "      <th>date</th>\n",
       "      <th>funny</th>\n",
       "      <th>review_id</th>\n",
       "      <th>stars</th>\n",
       "      <th>text</th>\n",
       "      <th>useful</th>\n",
       "      <th>user_id</th>\n",
       "    </tr>\n",
       "  </thead>\n",
       "  <tbody>\n",
       "    <tr>\n",
       "      <th>0</th>\n",
       "      <td>--9e1ONYQuAa-CB_Rrw7Tw</td>\n",
       "      <td>Delmonico Steakhouse</td>\n",
       "      <td>['Cajun/Creole', 'Steakhouses', 'Restaurants']</td>\n",
       "      <td>4.0</td>\n",
       "      <td>0</td>\n",
       "      <td>2016-03-31</td>\n",
       "      <td>0</td>\n",
       "      <td>6SgvNWJltnZhW7duJgZ42w</td>\n",
       "      <td>5</td>\n",
       "      <td>This is mine and my fiancé's favorite steakhou...</td>\n",
       "      <td>0</td>\n",
       "      <td>oFyOUOeGTRZhFPF9uTqrTQ</td>\n",
       "    </tr>\n",
       "    <tr>\n",
       "      <th>1</th>\n",
       "      <td>--9e1ONYQuAa-CB_Rrw7Tw</td>\n",
       "      <td>Delmonico Steakhouse</td>\n",
       "      <td>['Cajun/Creole', 'Steakhouses', 'Restaurants']</td>\n",
       "      <td>4.0</td>\n",
       "      <td>0</td>\n",
       "      <td>2015-06-29</td>\n",
       "      <td>0</td>\n",
       "      <td>iwx6s6yQxc7yjS7NFANZig</td>\n",
       "      <td>4</td>\n",
       "      <td>Nice atmosphere and wonderful service. I had t...</td>\n",
       "      <td>0</td>\n",
       "      <td>2aeNFntqY2QDZLADNo8iQQ</td>\n",
       "    </tr>\n",
       "    <tr>\n",
       "      <th>2</th>\n",
       "      <td>--9e1ONYQuAa-CB_Rrw7Tw</td>\n",
       "      <td>Delmonico Steakhouse</td>\n",
       "      <td>['Cajun/Creole', 'Steakhouses', 'Restaurants']</td>\n",
       "      <td>4.0</td>\n",
       "      <td>0</td>\n",
       "      <td>2015-03-16</td>\n",
       "      <td>0</td>\n",
       "      <td>UVUMu_bELdA56Ryfbur-DA</td>\n",
       "      <td>5</td>\n",
       "      <td>Every year a group of us (we had 6 this year) ...</td>\n",
       "      <td>1</td>\n",
       "      <td>gmPP4YFrgYsYQqPYokMgFA</td>\n",
       "    </tr>\n",
       "    <tr>\n",
       "      <th>3</th>\n",
       "      <td>--9e1ONYQuAa-CB_Rrw7Tw</td>\n",
       "      <td>Delmonico Steakhouse</td>\n",
       "      <td>['Cajun/Creole', 'Steakhouses', 'Restaurants']</td>\n",
       "      <td>4.0</td>\n",
       "      <td>0</td>\n",
       "      <td>2016-02-10</td>\n",
       "      <td>0</td>\n",
       "      <td>UxFpgng8dPMWOj99653k5Q</td>\n",
       "      <td>5</td>\n",
       "      <td>Truly Fantastic!  Best Steak ever. Service was...</td>\n",
       "      <td>0</td>\n",
       "      <td>aVOGlN9fZ-BXcbtj6dbf0g</td>\n",
       "    </tr>\n",
       "    <tr>\n",
       "      <th>4</th>\n",
       "      <td>--9e1ONYQuAa-CB_Rrw7Tw</td>\n",
       "      <td>Delmonico Steakhouse</td>\n",
       "      <td>['Cajun/Creole', 'Steakhouses', 'Restaurants']</td>\n",
       "      <td>4.0</td>\n",
       "      <td>0</td>\n",
       "      <td>2017-02-14</td>\n",
       "      <td>0</td>\n",
       "      <td>Xp3ppynEvVu1KxDHQ3ae8w</td>\n",
       "      <td>5</td>\n",
       "      <td>Delmonico Steakhouse is a steakhouse owned by ...</td>\n",
       "      <td>0</td>\n",
       "      <td>KC8H7qTZVPIEnanw9fG43g</td>\n",
       "    </tr>\n",
       "  </tbody>\n",
       "</table>\n",
       "</div>"
      ],
      "text/plain": [
       "              business_id                  name  \\\n",
       "0  --9e1ONYQuAa-CB_Rrw7Tw  Delmonico Steakhouse   \n",
       "1  --9e1ONYQuAa-CB_Rrw7Tw  Delmonico Steakhouse   \n",
       "2  --9e1ONYQuAa-CB_Rrw7Tw  Delmonico Steakhouse   \n",
       "3  --9e1ONYQuAa-CB_Rrw7Tw  Delmonico Steakhouse   \n",
       "4  --9e1ONYQuAa-CB_Rrw7Tw  Delmonico Steakhouse   \n",
       "\n",
       "                                       categories  avg_stars  cool  \\\n",
       "0  ['Cajun/Creole', 'Steakhouses', 'Restaurants']        4.0     0   \n",
       "1  ['Cajun/Creole', 'Steakhouses', 'Restaurants']        4.0     0   \n",
       "2  ['Cajun/Creole', 'Steakhouses', 'Restaurants']        4.0     0   \n",
       "3  ['Cajun/Creole', 'Steakhouses', 'Restaurants']        4.0     0   \n",
       "4  ['Cajun/Creole', 'Steakhouses', 'Restaurants']        4.0     0   \n",
       "\n",
       "         date  funny               review_id  stars  \\\n",
       "0  2016-03-31      0  6SgvNWJltnZhW7duJgZ42w      5   \n",
       "1  2015-06-29      0  iwx6s6yQxc7yjS7NFANZig      4   \n",
       "2  2015-03-16      0  UVUMu_bELdA56Ryfbur-DA      5   \n",
       "3  2016-02-10      0  UxFpgng8dPMWOj99653k5Q      5   \n",
       "4  2017-02-14      0  Xp3ppynEvVu1KxDHQ3ae8w      5   \n",
       "\n",
       "                                                text  useful  \\\n",
       "0  This is mine and my fiancé's favorite steakhou...       0   \n",
       "1  Nice atmosphere and wonderful service. I had t...       0   \n",
       "2  Every year a group of us (we had 6 this year) ...       1   \n",
       "3  Truly Fantastic!  Best Steak ever. Service was...       0   \n",
       "4  Delmonico Steakhouse is a steakhouse owned by ...       0   \n",
       "\n",
       "                  user_id  \n",
       "0  oFyOUOeGTRZhFPF9uTqrTQ  \n",
       "1  2aeNFntqY2QDZLADNo8iQQ  \n",
       "2  gmPP4YFrgYsYQqPYokMgFA  \n",
       "3  aVOGlN9fZ-BXcbtj6dbf0g  \n",
       "4  KC8H7qTZVPIEnanw9fG43g  "
      ]
     },
     "execution_count": 3,
     "metadata": {},
     "output_type": "execute_result"
    }
   ],
   "source": [
    "df.head()"
   ]
  },
  {
   "cell_type": "markdown",
   "metadata": {},
   "source": [
    "## Cluster the review text data for all the restaurants"
   ]
  },
  {
   "cell_type": "markdown",
   "metadata": {},
   "source": [
    "### Define feature variables - the text of the review"
   ]
  },
  {
   "cell_type": "code",
   "execution_count": 4,
   "metadata": {},
   "outputs": [
    {
     "data": {
      "text/plain": [
       "(dtype('O'), (515752,))"
      ]
     },
     "execution_count": 4,
     "metadata": {},
     "output_type": "execute_result"
    }
   ],
   "source": [
    "# Take the values of the column that contains review text data, save to a variable named \"documents\"\n",
    "documents = df['text'].values\n",
    "documents.dtype, documents.shape"
   ]
  },
  {
   "cell_type": "code",
   "execution_count": 5,
   "metadata": {},
   "outputs": [
    {
     "data": {
      "text/plain": [
       "\"This was supposed to be a very special dinner for 10 for my husband's 50th birthday. Four other couples flew in  from all over to celebrate with us and the first problem is that they seated us at a table for 9. The hostess called that morning and said 9, I corrected her and let her know there were 10 and she said she'd call me back by noon to confirm but I never heard back. Regardless, this Open Table reso said 10 so I didn't worry about it until we all sat down, realized we were one short, and had to get back up and go wait in the bar. \\nWhen were seated at a proper table, the appetizers that I'd pre-ordered were sitting out on the table, including fried oysters which had gone ice cold and soggy (very gross). We had to ask for bread long after entrees were served and it was cold, mushy things that looked like they used to be popovers (I thought I'd remembered a wonderful bread service before...?) And so on with the poor service...\\nI've eaten here before and service and food were five stars. But the bone-in ribeyes were bland and not well-marbled, the bone-in bacon was 100% bone-in fat (of course bacon is very fatty but there was NO meat to be found at all) and the service was severely lacking in detail and common meal planning skills. I could list all the issues but you get the picture. Very disappointing. The best part of the meal was the fresh oysters in the seafood tower, very fresh and delicious.\""
      ]
     },
     "execution_count": 5,
     "metadata": {},
     "output_type": "execute_result"
    }
   ],
   "source": [
    "documents[10]"
   ]
  },
  {
   "cell_type": "markdown",
   "metadata": {},
   "source": [
    "### Define target variable (any categorical variable that may be meaningful)"
   ]
  },
  {
   "cell_type": "markdown",
   "metadata": {},
   "source": [
    "#### I am interested in perfect (5 stars) and imperfect (1-4 stars) rating"
   ]
  },
  {
   "cell_type": "code",
   "execution_count": 6,
   "metadata": {},
   "outputs": [
    {
     "data": {
      "text/plain": [
       "array([ True, False,  True,  True,  True, False,  True,  True,  True,\n",
       "       False])"
      ]
     },
     "execution_count": 6,
     "metadata": {},
     "output_type": "execute_result"
    }
   ],
   "source": [
    "# Make a column and take the values, save to a variable named \"target\"\n",
    "df['favorable'] = (df['stars'] > 4)\n",
    "target = df['favorable'].values\n",
    "target[:10]"
   ]
  },
  {
   "cell_type": "markdown",
   "metadata": {},
   "source": [
    "#### The statistic of the target variable"
   ]
  },
  {
   "cell_type": "code",
   "execution_count": 7,
   "metadata": {},
   "outputs": [
    {
     "data": {
      "text/plain": [
       "(0.46397299477268145, 0.49870036584541505)"
      ]
     },
     "execution_count": 7,
     "metadata": {},
     "output_type": "execute_result"
    }
   ],
   "source": [
    "# To be implemented\n",
    "target.mean(), target.std()"
   ]
  },
  {
   "cell_type": "markdown",
   "metadata": {},
   "source": [
    "### Create training dataset and test dataset"
   ]
  },
  {
   "cell_type": "code",
   "execution_count": 8,
   "metadata": {},
   "outputs": [
    {
     "name": "stderr",
     "output_type": "stream",
     "text": [
      "/Users/yaru/anaconda3/lib/python3.6/site-packages/sklearn/cross_validation.py:41: DeprecationWarning: This module was deprecated in version 0.18 in favor of the model_selection module into which all the refactored classes and functions are moved. Also note that the interface of the new CV iterators are different from that of this module. This module will be removed in 0.20.\n",
      "  \"This module will be removed in 0.20.\", DeprecationWarning)\n"
     ]
    }
   ],
   "source": [
    "from sklearn.cross_validation import train_test_split"
   ]
  },
  {
   "cell_type": "code",
   "execution_count": 9,
   "metadata": {},
   "outputs": [],
   "source": [
    "# documents is your X, target is your y\n",
    "# Now split the data to training set and test set\n",
    "# You may want to start with a big \"test_size\", since large training set can easily crash your laptop.\n",
    "documents_train, documents_test, target_train, target_test = train_test_split(\n",
    "    documents,\n",
    "    target,\n",
    "    test_size = 0.8,\n",
    "    random_state = 42\n",
    ")"
   ]
  },
  {
   "cell_type": "markdown",
   "metadata": {},
   "source": [
    "### Get NLP representation of the documents\n",
    "\n",
    "#### Fit TfidfVectorizer with training data only, then tranform all the data to tf-idf"
   ]
  },
  {
   "cell_type": "code",
   "execution_count": 10,
   "metadata": {},
   "outputs": [],
   "source": [
    "from sklearn.feature_extraction.text import TfidfVectorizer"
   ]
  },
  {
   "cell_type": "code",
   "execution_count": 11,
   "metadata": {},
   "outputs": [],
   "source": [
    "# Create TfidfVectorizer, and name it vectorizer, choose a reasonable max_features, e.g. 1000\n",
    "vectorizer = TfidfVectorizer(stop_words = 'english', max_features = 1000)"
   ]
  },
  {
   "cell_type": "code",
   "execution_count": 12,
   "metadata": {},
   "outputs": [
    {
     "data": {
      "text/plain": [
       "(103150, 1000)"
      ]
     },
     "execution_count": 12,
     "metadata": {},
     "output_type": "execute_result"
    }
   ],
   "source": [
    "# Train the model with your training data\n",
    "vector_train = vectorizer.fit_transform(documents_train).toarray()\n",
    "vector_train.shape"
   ]
  },
  {
   "cell_type": "code",
   "execution_count": 13,
   "metadata": {},
   "outputs": [],
   "source": [
    "# Get the vocab of your tfidf\n",
    "words = vectorizer.get_feature_names()"
   ]
  },
  {
   "cell_type": "code",
   "execution_count": 14,
   "metadata": {},
   "outputs": [],
   "source": [
    "# Use the trained model to transform all the reviews\n",
    "vector_documents = vectorizer.transform(documents).toarray()"
   ]
  },
  {
   "cell_type": "markdown",
   "metadata": {},
   "source": [
    "### Cluster reviews with KMeans"
   ]
  },
  {
   "cell_type": "markdown",
   "metadata": {},
   "source": [
    "#### Fit k-means clustering with the training vectors and apply it on all the data"
   ]
  },
  {
   "cell_type": "code",
   "execution_count": 15,
   "metadata": {},
   "outputs": [
    {
     "data": {
      "text/plain": [
       "KMeans(algorithm='auto', copy_x=True, init='k-means++', max_iter=300,\n",
       "    n_clusters=8, n_init=10, n_jobs=1, precompute_distances='auto',\n",
       "    random_state=None, tol=0.0001, verbose=0)"
      ]
     },
     "execution_count": 15,
     "metadata": {},
     "output_type": "execute_result"
    }
   ],
   "source": [
    "from sklearn.cluster import KMeans\n",
    "kmeans = KMeans()\n",
    "kmeans.fit(vector_train)"
   ]
  },
  {
   "cell_type": "markdown",
   "metadata": {},
   "source": [
    "#### Make predictions on all data"
   ]
  },
  {
   "cell_type": "code",
   "execution_count": 16,
   "metadata": {},
   "outputs": [],
   "source": [
    "assigned_cluster = kmeans.predict(vector_documents)"
   ]
  },
  {
   "cell_type": "markdown",
   "metadata": {},
   "source": [
    "#### Inspect the centroids\n",
    "To find out what \"topics\" Kmeans has discovered we must inspect the centroids. Print out the centroids of the Kmeans clustering.\n",
    "\n",
    "   These centroids are simply a bunch of vectors.  To make any sense of them we need to map these vectors back into our 'word space'.  Think of each feature/dimension of the centroid vector as representing the \"average\" review or the average occurances of words for that cluster."
   ]
  },
  {
   "cell_type": "code",
   "execution_count": 17,
   "metadata": {},
   "outputs": [
    {
     "name": "stdout",
     "output_type": "stream",
     "text": [
      "cluster centers:\n",
      "[[0.0031773  0.00701481 0.00206869 ... 0.00070825 0.00300868 0.00555389]\n",
      " [0.00439499 0.01938376 0.00304842 ... 0.00353583 0.00066224 0.00197983]\n",
      " [0.00165061 0.00698702 0.00241687 ... 0.00091545 0.00258091 0.00640777]\n",
      " ...\n",
      " [0.00234046 0.00597869 0.00241897 ... 0.00127422 0.0041039  0.00732105]\n",
      " [0.00204096 0.00534777 0.00135414 ... 0.0011432  0.0023761  0.00553087]\n",
      " [0.00328747 0.00692058 0.00172721 ... 0.00161112 0.00217866 0.00633348]]\n"
     ]
    }
   ],
   "source": [
    "print('cluster centers:')\n",
    "print(kmeans.cluster_centers_)"
   ]
  },
  {
   "cell_type": "markdown",
   "metadata": {},
   "source": [
    "#### Find the top 10 features for each cluster.\n",
    "For topics we are only really interested in the most present words, i.e. features/dimensions with the greatest representation in the centroid.  Print out the top ten words for each centroid.\n",
    "\n",
    "* Sort each centroid vector to find the top 10 features\n",
    "* Go back to your vectorizer object to find out what words each of these features corresponds to.\n"
   ]
  },
  {
   "cell_type": "code",
   "execution_count": 18,
   "metadata": {},
   "outputs": [],
   "source": [
    "n_feat = 10\n",
    "top_centroids = kmeans.cluster_centers_.argsort()[:,-1:-n_feat:-1]"
   ]
  },
  {
   "cell_type": "code",
   "execution_count": 19,
   "metadata": {},
   "outputs": [
    {
     "name": "stdout",
     "output_type": "stream",
     "text": [
      "Top features for each cluster:\n",
      "0: burger, fries, burgers, good, shake, cheese, place, food, great\n",
      "1: food, order, time, just, service, minutes, came, like, didn\n",
      "2: sushi, rolls, place, roll, ayce, great, good, service, fresh\n",
      "3: great, food, service, place, amazing, awesome, friendly, staff, love\n",
      "4: chicken, fried, food, rice, good, ordered, place, like, great\n",
      "5: place, food, best, vegas, delicious, amazing, love, service, like\n",
      "6: good, food, really, place, service, nice, pretty, like, just\n",
      "7: pizza, crust, good, place, great, slice, cheese, just, best\n"
     ]
    }
   ],
   "source": [
    "print('Top features for each cluster:')\n",
    "for num, centroid in enumerate(top_centroids):\n",
    "    print('%d: %s' %(num, ', '.join(words[i] for i in centroid)))"
   ]
  },
  {
   "cell_type": "markdown",
   "metadata": {},
   "source": [
    "#### Try different k"
   ]
  },
  {
   "cell_type": "code",
   "execution_count": 20,
   "metadata": {
    "scrolled": true
   },
   "outputs": [
    {
     "data": {
      "text/plain": [
       "KMeans(algorithm='auto', copy_x=True, init='k-means++', max_iter=300,\n",
       "    n_clusters=5, n_init=10, n_jobs=1, precompute_distances='auto',\n",
       "    random_state=None, tol=0.0001, verbose=0)"
      ]
     },
     "execution_count": 20,
     "metadata": {},
     "output_type": "execute_result"
    }
   ],
   "source": [
    "# k = 5 which is smaller than the default value 8\n",
    "from sklearn.cluster import KMeans\n",
    "kmeans = KMeans(n_clusters = 5)\n",
    "kmeans.fit(vector_train)"
   ]
  },
  {
   "cell_type": "code",
   "execution_count": 21,
   "metadata": {},
   "outputs": [],
   "source": [
    "assigned_cluster = kmeans.predict(vector_documents)"
   ]
  },
  {
   "cell_type": "code",
   "execution_count": 22,
   "metadata": {},
   "outputs": [],
   "source": [
    "n_feat = 10\n",
    "top_centroids = kmeans.cluster_centers_.argsort()[:,-1:-n_feat:-1]"
   ]
  },
  {
   "cell_type": "code",
   "execution_count": 23,
   "metadata": {},
   "outputs": [
    {
     "name": "stdout",
     "output_type": "stream",
     "text": [
      "Top features for each cluster:\n",
      "0: food, place, good, best, vegas, service, amazing, love, delicious\n",
      "1: great, food, service, place, good, amazing, awesome, friendly, staff\n",
      "2: food, order, time, just, service, minutes, like, came, didn\n",
      "3: pizza, crust, good, place, great, slice, cheese, just, best\n",
      "4: good, chicken, ordered, burger, like, fries, food, really, sauce\n"
     ]
    }
   ],
   "source": [
    "print('Top features for each cluster:')\n",
    "for num, centroid in enumerate(top_centroids):\n",
    "    print('%d: %s' %(num, ', '.join(words[i] for i in centroid)))"
   ]
  },
  {
   "cell_type": "code",
   "execution_count": 24,
   "metadata": {},
   "outputs": [
    {
     "data": {
      "text/plain": [
       "KMeans(algorithm='auto', copy_x=True, init='k-means++', max_iter=300,\n",
       "    n_clusters=10, n_init=10, n_jobs=1, precompute_distances='auto',\n",
       "    random_state=None, tol=0.0001, verbose=0)"
      ]
     },
     "execution_count": 24,
     "metadata": {},
     "output_type": "execute_result"
    }
   ],
   "source": [
    "# k = 10 which is larger than the default value 8\n",
    "from sklearn.cluster import KMeans\n",
    "kmeans = KMeans(n_clusters = 10)\n",
    "kmeans.fit(vector_train)"
   ]
  },
  {
   "cell_type": "code",
   "execution_count": 25,
   "metadata": {},
   "outputs": [],
   "source": [
    "assigned_cluster = kmeans.predict(vector_documents)"
   ]
  },
  {
   "cell_type": "code",
   "execution_count": 26,
   "metadata": {},
   "outputs": [],
   "source": [
    "n_feat = 10\n",
    "top_centroids = kmeans.cluster_centers_.argsort()[:,-1:-n_feat:-1]"
   ]
  },
  {
   "cell_type": "code",
   "execution_count": 27,
   "metadata": {},
   "outputs": [
    {
     "name": "stdout",
     "output_type": "stream",
     "text": [
      "Top features for each cluster:\n",
      "0: place, food, vegas, best, delicious, like, service, just, love\n",
      "1: good, food, really, place, service, pretty, nice, like, just\n",
      "2: breakfast, eggs, food, great, good, place, service, coffee, pancakes\n",
      "3: burger, fries, burgers, good, shake, cheese, place, food, great\n",
      "4: great, food, service, place, awesome, friendly, good, staff, love\n",
      "5: order, food, minutes, time, service, just, came, didn, got\n",
      "6: amazing, food, place, service, great, best, definitely, vegas, love\n",
      "7: chicken, fried, food, good, rice, ordered, place, like, sauce\n",
      "8: pizza, crust, good, place, great, slice, cheese, just, best\n",
      "9: sushi, rolls, place, roll, ayce, great, good, fish, fresh\n"
     ]
    }
   ],
   "source": [
    "print('Top features for each cluster:')\n",
    "for num, centroid in enumerate(top_centroids):\n",
    "    print('%d: %s' %(num, ', '.join(words[i] for i in centroid)))"
   ]
  },
  {
   "cell_type": "markdown",
   "metadata": {},
   "source": [
    "#### Print out the rating and review of a random sample of the reviews assigned to each cluster to get a sense of the cluster."
   ]
  },
  {
   "cell_type": "code",
   "execution_count": 28,
   "metadata": {},
   "outputs": [
    {
     "data": {
      "text/plain": [
       "array([0, 1, 2, 3, 4, 5, 6, 7, 8, 9], dtype=int32)"
      ]
     },
     "execution_count": 28,
     "metadata": {},
     "output_type": "execute_result"
    }
   ],
   "source": [
    "np.unique(assigned_cluster)"
   ]
  },
  {
   "cell_type": "code",
   "execution_count": 29,
   "metadata": {},
   "outputs": [
    {
     "name": "stdout",
     "output_type": "stream",
     "text": [
      "==========\n",
      "Cluster 0:\n"
     ]
    },
    {
     "name": "stderr",
     "output_type": "stream",
     "text": [
      "/Users/yaru/anaconda3/lib/python3.6/site-packages/ipykernel_launcher.py:7: DeprecationWarning: \n",
      ".ix is deprecated. Please use\n",
      ".loc for label based indexing or\n",
      ".iloc for positional indexing\n",
      "\n",
      "See the documentation here:\n",
      "http://pandas.pydata.org/pandas-docs/stable/indexing.html#ix-indexer-is-deprecated\n",
      "  import sys\n"
     ]
    },
    {
     "name": "stdout",
     "output_type": "stream",
     "text": [
      "  2 - \n",
      "I love the JW Marriott but this buffet could definitely use some improvements with selection. Stayed there for a few days for work and had to eat there several times. Every time I went to the ice cream machine it was empty. My saving grace was the salad bar.\n",
      "  5 - \n",
      "We tried this place on a recommendation from a friend & we were not disappointed! The salmon lover roll was by far, my favorite. The food quality & service was excellent!\n",
      "\n",
      "==========\n",
      "Cluster 1:\n",
      "  2 - \n",
      "Call ahead if you're looking for vegetarian fare. There is a lot listed on the menu, but they were out of basically all of it. Food looked good, but I left hungry.\n",
      "  4 - \n",
      "I had the French dip sandwich and it was good. The mac n cheese has amazing flavor. We ordered to go and they forgot a sandwich and the au jus spilled all over everything. They gladly remade the sandwich since the spilled au jus made it soggy. The fries are also good and cut differently (on the thick side). I'd eat here again.\n",
      "\n",
      "==========\n",
      "Cluster 2:\n",
      "  5 - \n",
      "Hash House is famous for their comically large portions. We came here for breakfast on a Sunday morning. It was packed and the wait time was over an hour. \n",
      "\n",
      "Once we were seated, that was when the real wait began. We knew right away what we wanted, since we were staring at the big menu in the waiting area. We split the house smoked salmon benedict and the Snickers pancake, which also came with two eggs. \n",
      "\n",
      "Dining at this location is an exercise in patience. We witnessed several impatient parties around us. Our favorite was the hangry lady who complained about the pancake being so large that it was touched the table. The food took almost an hour to get to us. There was no secret why this happened. Scratch-made, slow food takes time and the restaurant was busting at the seams with diners. \n",
      "\n",
      "For the amount of volume they experienced that morning, there was no compromise on the quality or taste. Our snickers pancake drooped over the side and touched the table, which I was fully anticipating. My inner fat kid kicked my inner germaphobe in the gut, before going to town on the oversized hotcake. The cakes were fluffy enough to support the chunks of candy. The sugars from the chocolate and nougat caramelized and were ooey and gooey. The side of over easy eggs looked silly in comparison. Everything smelled delicious and we were making the other tables still waiting for their meals jealous. The salmon serving was generous. It was flaky and moist and doused in hollandaise. The biscuit was tender and flaky and absorbed all the flavors cascading from above. \n",
      "\n",
      "This was a great dining experience, but it was our first and last visit to this location since learning about the one a couple miles off-strip.\n",
      "  5 - \n",
      "Delicious food & amazing service with a very personable staff. Definitely a great breakfast place! Corned beef hash & banana nut french toast were awesome :)\n",
      "\n",
      "==========\n",
      "Cluster 3:\n",
      "  4 - \n",
      "Very slow on a Sunday afternoon.  Nice atmosphere and friendly staff.\n",
      "Service was a little slow since there were 2 servers and only 5 tables seated. It could have been the time of day, 3pm. Staff maybe getting ready for the dinner crowd? I won't ding them for this because we were not in a hurry.\n",
      "I ordered the 7 oz Angus Burger. The burger is good, Angus is my favorite beef and the portion is just right. I dislike giant burgers that leave me stuffed and wanting a nap. \n",
      "My wife had Kiki's Burger. It was obvious she was very pleased with her choice since she did not offer to let my try nor leave any on the plate for my to sample when she was done.\n",
      "We split an order of Salt & Pepper Garlic Fries. The fries were very good, I always put pepper on my potatoes and you can never go wrong with garlic.\n",
      "If we get the opportunity we will go back.  Maybe try the Windmill Ln location.\n",
      "  3 - \n",
      "This was the last stop we went to eat before leaving Vegas and it wasn't too impressed. The burger was very greasy and nothing too special. I really like the location and we ate outside because it wasn't too hot and it was nice to view the strip. I wouldn't jump back in to Fat Burger to have my burger craving but this was on the way out...\n",
      "\n",
      "==========\n",
      "Cluster 4:\n",
      "  5 - \n",
      "Evan and the staff are great, best food in Vegas, service is wonderful! Great to get out of the hotels and taste the real Vegas .\n",
      "Scott s\n",
      "  4 - \n",
      "Awesome place, great tacos, great micheladas, the flautas were incredible and great service! Can't wait to come back and try dessert! Only thing is my boyfriend tried the chorizo one of his favorite but he mentioned they didn't have much taste...other than that everything was excellent!\n",
      "\n",
      "==========\n",
      "Cluster 5:\n",
      "  1 - \n",
      "What a disappointment!\n",
      "I do not mind spending money for good food no matter the size of the serving, but this place was a joke. I've been to many gourmet restaurants and this place is just and insult to all of them. Not only was the food served at room temperature (which means it was sitting out somewhere because it was not hot), I felt like I was at a tasting eating crappy samples.\n",
      "I came to celebrate my wife's B-day, I called in a reservation and I requested a table by the window to see the Bellagio's fountain show (which many people recommend to see from the restaurant) ,I was told that to guarantee a window table there was a $100 per person minimum drinking requirement, otherwise there might not be one available. I took a chance and did not go with the guaranteed option but got one anyway, and found out that you can't see the fountain show because the view is blocked by the footbridge (and they don't tell you that). \n",
      "We got the menu, the server was very nice, she explained the menu when we had a question, I order a glass of wine, 2 appetizers and 2 entrees.  At this point everything is good, within 5 min from ordering we get the appetizers. We got 5 meatballs the size of jaw breakers and 5 bacon warped dates slightly bigger than the meatball. We started eating, then I get my wine glass and they served the \"one\" garlic bread which was the size of a biscuit (which was cold and salty). Not even 10 min go by and we get our entrees, LMAO, I've never seen a serving so small, in any other restaurant this won't even be considered an appetizer. Believe me when I tell you that a Lean Cuisine microwavable has more food than these dishes (and they were at room temperature as well, not hot). I do not mind spending money for good quality food no matter the size of the serving but the quality of this food was no better that a T.G.I. Friday's. I got the bill, looked at my wife and we couldn't stop laughing. We were not in this place for more than 1/2 hour and the whole time it felt that they were focus on getting people in and out quickly. The only reason why I give this place one star is because the waiter was the only pleasant park about the experience.\n",
      "\n",
      "Giada, I hope you read this because I open this Yelp account just to write this review,  you are robbing people by selling them overpriced below average food. We had high expectations because of who you are but your restaurant was the worse place we ate in Las Vegas.\n",
      "  2 - \n",
      "Terrible experience.Drove to Vegas to see my dad and let him meet the kids. I insisted on taking him to dinner at my favorite spot in San Diego; searsucker in Las Vegas. What a disappointment; service was below average waiter acted bothered and had attitude when asking questions; ordered the 145 dollar tomahawk that's was not seasoned and they had it sliced into strips and off the bone. Also it looked substantially  smaller than normal and no juice( ordered many times at del mar location) Not to mention the sides came 5 minutes after steak did and rest of dinner came in 5-10 after the steak arrived. About 30/40 minutes for a unseasoned and dry steak. Tomato soup was not hot; somewhere between cold and warm and bacon and egg dish was soggy. Major disappointment for owner who has top chef status. Oh let's not mention my old fashion was half maybe 3/4 filled. Lastly the bell hoy was in our face ever minute to collect dishes and took leftover chicken before I can take home. I spend 350 and waiter took time to add top of 20%. Major disappointment after putting a lot of talk into the dinner leading up to the dinner. Everyone left disappointed. \n",
      "\n",
      "Update- management did reach out and was very professional and response. For this I raise you a star.\n",
      "\n",
      "==========\n",
      "Cluster 6:\n",
      "  5 - \n",
      "I had the best apps cocktails here with a group of 18 friends before Britney at PH.   A friend suggested here which I found odd since we were gonna be going to PH and I'm so glad he did!  Our server I can't think of her name but she was awesome early 30's shoulder length blonde and wore a San Fran 49's tie...well her service was completely flawless and amazing we even had her jump in our group photo at the end of our meal.  I will def bring a date back her and sit in cocktail area or bar!!!!\n",
      "  5 - \n",
      "Amazing food and an incredibly friendly staff. We eat there almost once a week. The buffets is fabulous!\n",
      "\n",
      "==========\n",
      "Cluster 7:\n",
      "  5 - \n",
      "Yep I gave them 5. For one thing it's the only place in or around this side of town that makes real pork fried rice, not just fried rice with pork. The chicken noodle soup is good also. Every time I order its good food. That's a rare thing in this town full of restaurants.\n",
      "  4 - \n",
      "Chow is the only Asian fusion I've seen in Vegas. Everything about this place screams fusion. The name, the tagline, in fact, everything except the food itself. Alabama crispy chicken. Rangoon dip. Dirt. Shumai. Potstickers. I didn't see as much fusion as: Asian-OR-American varieties of food. \n",
      " \n",
      "I ordered the four piece crispy chicken, the Rangoon crab dip, and the dirt. \n",
      "\n",
      "The Rangoon crab dip was nothing short of delicious. It put the other crab dips in my life to shame when I tried this perfect pairing. The sauce (aka salty dark sauce) on the side also adds a very nice Asian zing. The chips (wontons) on the side are very flavorless. It's an empty crunch. However, its lack of flavor somehow pairs perfectly with the super flavorful dip. Exceeded expectations!\n",
      "\n",
      "The crispy chicken was also good. It has an additional flavor I've never tasted in other fried chicken. Garlic? The rangoon was the real headliner in my tummy though. \n",
      "\n",
      "Now, the dirt. The huge plus is that it looks ridiculously nice in presentation. Unfortunately, I can't vouch for this dessert. The Vanilla pudding flavor strongly overtakes the entire cup. It basically rends the other elements in the cup obsolete. The chocolate syrup just digresses into the flavor of its own byproducts. The Oreos tastes like processed crumbs when eaten with the super sweet pudding. It just tastes like a concoction of pudding and textures, with a faint tinge of chocolate. I would not order this again (The pictures are nice though!).\n",
      "\n",
      "Besides the dirt, I loved this place. Having fried chicken and shumai in the same restaurant is a step in the right direction! And the rangoon and chicken were phenomenal. Can't wait to see what Chow brings to the table in the future.\n",
      "\n",
      "==========\n",
      "Cluster 8:\n",
      "  3 - \n",
      "Stopped in after La Rev for a quick bite.. not so quick. Pizza took forever! It was good but it was slow, especially for 9pm! \n",
      "No ranch either... BOO!\n",
      "Busy place with a decent looking Italian menu. Lots of wine! Good pizza.\n",
      "  5 - \n",
      "Name speaks for itself. Took me like fucking 5 hours to find this joint but it was well worth it. The pizza reminds me of the pizza I would get at New York.\n",
      "\n",
      "==========\n",
      "Cluster 9:\n",
      "  5 - \n",
      "Got there 20 mins til closing and glad i did. Staff was friendly and didn't try rushing us at all. Had the suncoast roll and the rainbow. Both were delicious.  Prices were low for good sushi rolls. Will definitely eat there again.\n",
      "  5 - \n",
      "Its now my new favorite. I like Sushi-mon a lot but this is my new go to, even though its a far drive from where i live its worth.\n",
      "\n"
     ]
    }
   ],
   "source": [
    "for i in range(kmeans.n_clusters):\n",
    "    cluster = np.arange(0,vector_documents.shape[0])[assigned_cluster == i]\n",
    "    sample_reviews = np.random.choice(cluster, 2, replace=False)\n",
    "    print('='*10)\n",
    "    print('Cluster %d:' %i)\n",
    "    for review_index in sample_reviews:\n",
    "        print('  %s - ' %df.ix[review_index]['stars'],)\n",
    "        print('%s' %df.ix[review_index]['text'])\n",
    "    print()"
   ]
  },
  {
   "cell_type": "markdown",
   "metadata": {},
   "source": [
    "## Cluster all the reviews of the most reviewed restaurant\n",
    "Let's find the most reviewed restaurant and analyze its reviews"
   ]
  },
  {
   "cell_type": "code",
   "execution_count": 30,
   "metadata": {},
   "outputs": [
    {
     "data": {
      "text/html": [
       "<div>\n",
       "<style scoped>\n",
       "    .dataframe tbody tr th:only-of-type {\n",
       "        vertical-align: middle;\n",
       "    }\n",
       "\n",
       "    .dataframe tbody tr th {\n",
       "        vertical-align: top;\n",
       "    }\n",
       "\n",
       "    .dataframe thead th {\n",
       "        text-align: right;\n",
       "    }\n",
       "</style>\n",
       "<table border=\"1\" class=\"dataframe\">\n",
       "  <thead>\n",
       "    <tr style=\"text-align: right;\">\n",
       "      <th></th>\n",
       "      <th>index</th>\n",
       "      <th>business_id</th>\n",
       "      <th>name</th>\n",
       "      <th>categories</th>\n",
       "      <th>avg_stars</th>\n",
       "      <th>cool</th>\n",
       "      <th>date</th>\n",
       "      <th>funny</th>\n",
       "      <th>review_id</th>\n",
       "      <th>stars</th>\n",
       "      <th>text</th>\n",
       "      <th>useful</th>\n",
       "      <th>user_id</th>\n",
       "      <th>favorable</th>\n",
       "    </tr>\n",
       "  </thead>\n",
       "  <tbody>\n",
       "    <tr>\n",
       "      <th>0</th>\n",
       "      <td>228947</td>\n",
       "      <td>RESDUcs7fIiihp38-d6_6g</td>\n",
       "      <td>Bacchanal Buffet</td>\n",
       "      <td>['Sandwiches', 'Buffets', 'Restaurants', 'Brea...</td>\n",
       "      <td>4.0</td>\n",
       "      <td>0</td>\n",
       "      <td>2015-02-25</td>\n",
       "      <td>0</td>\n",
       "      <td>pWnR3FNqTq1AoaZVj6cayw</td>\n",
       "      <td>3</td>\n",
       "      <td>Date &amp; Time: Tuesday, 2/24/15 @ 2pm\\n\\nThe buf...</td>\n",
       "      <td>0</td>\n",
       "      <td>RFIZhrka0gCpiL62M5E93g</td>\n",
       "      <td>False</td>\n",
       "    </tr>\n",
       "    <tr>\n",
       "      <th>1</th>\n",
       "      <td>228948</td>\n",
       "      <td>RESDUcs7fIiihp38-d6_6g</td>\n",
       "      <td>Bacchanal Buffet</td>\n",
       "      <td>['Sandwiches', 'Buffets', 'Restaurants', 'Brea...</td>\n",
       "      <td>4.0</td>\n",
       "      <td>0</td>\n",
       "      <td>2017-07-02</td>\n",
       "      <td>0</td>\n",
       "      <td>Xci8QJaDOB7OazJIP9U0Cw</td>\n",
       "      <td>5</td>\n",
       "      <td>I'm staying at Caesar's Palace for 4th of July...</td>\n",
       "      <td>0</td>\n",
       "      <td>J90_7u_8vPYa03GMohNxAA</td>\n",
       "      <td>True</td>\n",
       "    </tr>\n",
       "    <tr>\n",
       "      <th>2</th>\n",
       "      <td>228949</td>\n",
       "      <td>RESDUcs7fIiihp38-d6_6g</td>\n",
       "      <td>Bacchanal Buffet</td>\n",
       "      <td>['Sandwiches', 'Buffets', 'Restaurants', 'Brea...</td>\n",
       "      <td>4.0</td>\n",
       "      <td>0</td>\n",
       "      <td>2015-12-29</td>\n",
       "      <td>0</td>\n",
       "      <td>IZO6o6l-T8VKH-4eTzJNzw</td>\n",
       "      <td>3</td>\n",
       "      <td>Great buffet and beautiful food presentation. ...</td>\n",
       "      <td>0</td>\n",
       "      <td>KGGA28eimhhOgHmSfyhEgw</td>\n",
       "      <td>False</td>\n",
       "    </tr>\n",
       "    <tr>\n",
       "      <th>3</th>\n",
       "      <td>228950</td>\n",
       "      <td>RESDUcs7fIiihp38-d6_6g</td>\n",
       "      <td>Bacchanal Buffet</td>\n",
       "      <td>['Sandwiches', 'Buffets', 'Restaurants', 'Brea...</td>\n",
       "      <td>4.0</td>\n",
       "      <td>0</td>\n",
       "      <td>2016-03-19</td>\n",
       "      <td>0</td>\n",
       "      <td>KNYBYYO0Iq1QEsP4noql5g</td>\n",
       "      <td>4</td>\n",
       "      <td>By far the best buffet in Vegas!! A must stop,...</td>\n",
       "      <td>2</td>\n",
       "      <td>gJGXoQ6UzqK-cWVO8MnGHA</td>\n",
       "      <td>False</td>\n",
       "    </tr>\n",
       "    <tr>\n",
       "      <th>4</th>\n",
       "      <td>228951</td>\n",
       "      <td>RESDUcs7fIiihp38-d6_6g</td>\n",
       "      <td>Bacchanal Buffet</td>\n",
       "      <td>['Sandwiches', 'Buffets', 'Restaurants', 'Brea...</td>\n",
       "      <td>4.0</td>\n",
       "      <td>0</td>\n",
       "      <td>2015-10-14</td>\n",
       "      <td>0</td>\n",
       "      <td>9SGHR-0E37W9rC56uJeFPA</td>\n",
       "      <td>5</td>\n",
       "      <td>Wholly schneikeis!   This was simply the best ...</td>\n",
       "      <td>0</td>\n",
       "      <td>ej7th1TBk_WA_y4GU0n_iw</td>\n",
       "      <td>True</td>\n",
       "    </tr>\n",
       "    <tr>\n",
       "      <th>5</th>\n",
       "      <td>228952</td>\n",
       "      <td>RESDUcs7fIiihp38-d6_6g</td>\n",
       "      <td>Bacchanal Buffet</td>\n",
       "      <td>['Sandwiches', 'Buffets', 'Restaurants', 'Brea...</td>\n",
       "      <td>4.0</td>\n",
       "      <td>0</td>\n",
       "      <td>2015-07-20</td>\n",
       "      <td>0</td>\n",
       "      <td>EXZZw6XfEG1OwBre0L2daQ</td>\n",
       "      <td>5</td>\n",
       "      <td>My husband and I ate here back in March on a S...</td>\n",
       "      <td>0</td>\n",
       "      <td>pIzyC-oPzQccanodA2ckWQ</td>\n",
       "      <td>True</td>\n",
       "    </tr>\n",
       "    <tr>\n",
       "      <th>6</th>\n",
       "      <td>228953</td>\n",
       "      <td>RESDUcs7fIiihp38-d6_6g</td>\n",
       "      <td>Bacchanal Buffet</td>\n",
       "      <td>['Sandwiches', 'Buffets', 'Restaurants', 'Brea...</td>\n",
       "      <td>4.0</td>\n",
       "      <td>0</td>\n",
       "      <td>2016-01-29</td>\n",
       "      <td>0</td>\n",
       "      <td>sFnI-FJQTAS1oKBKqCBhkg</td>\n",
       "      <td>4</td>\n",
       "      <td>40 bucks for lunch 50 for dinner. Be prepared ...</td>\n",
       "      <td>0</td>\n",
       "      <td>i25irB9ppeha7IXK1HcM2g</td>\n",
       "      <td>False</td>\n",
       "    </tr>\n",
       "    <tr>\n",
       "      <th>7</th>\n",
       "      <td>228954</td>\n",
       "      <td>RESDUcs7fIiihp38-d6_6g</td>\n",
       "      <td>Bacchanal Buffet</td>\n",
       "      <td>['Sandwiches', 'Buffets', 'Restaurants', 'Brea...</td>\n",
       "      <td>4.0</td>\n",
       "      <td>0</td>\n",
       "      <td>2016-04-07</td>\n",
       "      <td>0</td>\n",
       "      <td>BQDV2B8hQZkmKjjViZzP8w</td>\n",
       "      <td>1</td>\n",
       "      <td>Worst service ever, estevan, took forever to c...</td>\n",
       "      <td>0</td>\n",
       "      <td>3H3yQmyzGuQ0ToooAp1uEA</td>\n",
       "      <td>False</td>\n",
       "    </tr>\n",
       "    <tr>\n",
       "      <th>8</th>\n",
       "      <td>228955</td>\n",
       "      <td>RESDUcs7fIiihp38-d6_6g</td>\n",
       "      <td>Bacchanal Buffet</td>\n",
       "      <td>['Sandwiches', 'Buffets', 'Restaurants', 'Brea...</td>\n",
       "      <td>4.0</td>\n",
       "      <td>0</td>\n",
       "      <td>2016-12-30</td>\n",
       "      <td>0</td>\n",
       "      <td>w0clsHBC5Z6cZkM9WhdY4Q</td>\n",
       "      <td>2</td>\n",
       "      <td>For the price we paid for our family , I would...</td>\n",
       "      <td>0</td>\n",
       "      <td>eOeYJk4b7R9RjSvb4RZj8A</td>\n",
       "      <td>False</td>\n",
       "    </tr>\n",
       "    <tr>\n",
       "      <th>9</th>\n",
       "      <td>228956</td>\n",
       "      <td>RESDUcs7fIiihp38-d6_6g</td>\n",
       "      <td>Bacchanal Buffet</td>\n",
       "      <td>['Sandwiches', 'Buffets', 'Restaurants', 'Brea...</td>\n",
       "      <td>4.0</td>\n",
       "      <td>0</td>\n",
       "      <td>2017-04-17</td>\n",
       "      <td>0</td>\n",
       "      <td>Cvu2u-qIT1VNMywoV21ziA</td>\n",
       "      <td>5</td>\n",
       "      <td>Really loved this place! We heard great things...</td>\n",
       "      <td>0</td>\n",
       "      <td>i05OLRVJCeN3ZD1dIM2mrQ</td>\n",
       "      <td>True</td>\n",
       "    </tr>\n",
       "    <tr>\n",
       "      <th>10</th>\n",
       "      <td>228957</td>\n",
       "      <td>RESDUcs7fIiihp38-d6_6g</td>\n",
       "      <td>Bacchanal Buffet</td>\n",
       "      <td>['Sandwiches', 'Buffets', 'Restaurants', 'Brea...</td>\n",
       "      <td>4.0</td>\n",
       "      <td>0</td>\n",
       "      <td>2017-11-21</td>\n",
       "      <td>0</td>\n",
       "      <td>HwslccNX5sAKrw_rU7h5BQ</td>\n",
       "      <td>3</td>\n",
       "      <td>Very long wait. Once you pay you still have to...</td>\n",
       "      <td>0</td>\n",
       "      <td>vI1b3YI2NYYQzxKkhPx-kg</td>\n",
       "      <td>False</td>\n",
       "    </tr>\n",
       "    <tr>\n",
       "      <th>11</th>\n",
       "      <td>228958</td>\n",
       "      <td>RESDUcs7fIiihp38-d6_6g</td>\n",
       "      <td>Bacchanal Buffet</td>\n",
       "      <td>['Sandwiches', 'Buffets', 'Restaurants', 'Brea...</td>\n",
       "      <td>4.0</td>\n",
       "      <td>0</td>\n",
       "      <td>2015-04-04</td>\n",
       "      <td>0</td>\n",
       "      <td>gOhwEO6XCXmXk0E7aIwklw</td>\n",
       "      <td>3</td>\n",
       "      <td>Was great the first time I had it.  It seems a...</td>\n",
       "      <td>0</td>\n",
       "      <td>CBaAgoD4aijYl-mQy7Wi9w</td>\n",
       "      <td>False</td>\n",
       "    </tr>\n",
       "    <tr>\n",
       "      <th>12</th>\n",
       "      <td>228959</td>\n",
       "      <td>RESDUcs7fIiihp38-d6_6g</td>\n",
       "      <td>Bacchanal Buffet</td>\n",
       "      <td>['Sandwiches', 'Buffets', 'Restaurants', 'Brea...</td>\n",
       "      <td>4.0</td>\n",
       "      <td>0</td>\n",
       "      <td>2015-08-30</td>\n",
       "      <td>0</td>\n",
       "      <td>t63ssFVnv2ZBL9lx9UnzqA</td>\n",
       "      <td>5</td>\n",
       "      <td>Bacchanal is so good! The quality of the food ...</td>\n",
       "      <td>0</td>\n",
       "      <td>BGypylh2KjIr8GebzSU3fg</td>\n",
       "      <td>True</td>\n",
       "    </tr>\n",
       "    <tr>\n",
       "      <th>13</th>\n",
       "      <td>228960</td>\n",
       "      <td>RESDUcs7fIiihp38-d6_6g</td>\n",
       "      <td>Bacchanal Buffet</td>\n",
       "      <td>['Sandwiches', 'Buffets', 'Restaurants', 'Brea...</td>\n",
       "      <td>4.0</td>\n",
       "      <td>0</td>\n",
       "      <td>2016-12-04</td>\n",
       "      <td>1</td>\n",
       "      <td>as-Tsg83PKoXzREJmI4gUQ</td>\n",
       "      <td>3</td>\n",
       "      <td>As the rumored \"Best Buffet\" in Las Vegas, the...</td>\n",
       "      <td>0</td>\n",
       "      <td>XrdEvB5ZuMwZN9J4aI55FA</td>\n",
       "      <td>False</td>\n",
       "    </tr>\n",
       "    <tr>\n",
       "      <th>14</th>\n",
       "      <td>228961</td>\n",
       "      <td>RESDUcs7fIiihp38-d6_6g</td>\n",
       "      <td>Bacchanal Buffet</td>\n",
       "      <td>['Sandwiches', 'Buffets', 'Restaurants', 'Brea...</td>\n",
       "      <td>4.0</td>\n",
       "      <td>0</td>\n",
       "      <td>2015-07-13</td>\n",
       "      <td>0</td>\n",
       "      <td>VsKdP0P31P9aPMcHKTi2gA</td>\n",
       "      <td>5</td>\n",
       "      <td>We usually do 1 buffet per trip to Vegas. This...</td>\n",
       "      <td>0</td>\n",
       "      <td>6YYpJ59jfFCUHkGOpu2NTA</td>\n",
       "      <td>True</td>\n",
       "    </tr>\n",
       "    <tr>\n",
       "      <th>15</th>\n",
       "      <td>228962</td>\n",
       "      <td>RESDUcs7fIiihp38-d6_6g</td>\n",
       "      <td>Bacchanal Buffet</td>\n",
       "      <td>['Sandwiches', 'Buffets', 'Restaurants', 'Brea...</td>\n",
       "      <td>4.0</td>\n",
       "      <td>0</td>\n",
       "      <td>2017-07-01</td>\n",
       "      <td>0</td>\n",
       "      <td>Zy45ehOLmbOfv8OVpaJzGw</td>\n",
       "      <td>5</td>\n",
       "      <td>Everything I ate was delicious, dim sum, chick...</td>\n",
       "      <td>0</td>\n",
       "      <td>tj4f7dbf803UjDejrs7eiQ</td>\n",
       "      <td>True</td>\n",
       "    </tr>\n",
       "    <tr>\n",
       "      <th>16</th>\n",
       "      <td>228963</td>\n",
       "      <td>RESDUcs7fIiihp38-d6_6g</td>\n",
       "      <td>Bacchanal Buffet</td>\n",
       "      <td>['Sandwiches', 'Buffets', 'Restaurants', 'Brea...</td>\n",
       "      <td>4.0</td>\n",
       "      <td>1</td>\n",
       "      <td>2016-12-11</td>\n",
       "      <td>1</td>\n",
       "      <td>ZETwl_l5TVUTUemsouYJ6Q</td>\n",
       "      <td>5</td>\n",
       "      <td>AMAZINGGGG!!!! You have to go here if you are ...</td>\n",
       "      <td>1</td>\n",
       "      <td>HYJYLFock-gXhBE2Wln5zg</td>\n",
       "      <td>True</td>\n",
       "    </tr>\n",
       "    <tr>\n",
       "      <th>17</th>\n",
       "      <td>228964</td>\n",
       "      <td>RESDUcs7fIiihp38-d6_6g</td>\n",
       "      <td>Bacchanal Buffet</td>\n",
       "      <td>['Sandwiches', 'Buffets', 'Restaurants', 'Brea...</td>\n",
       "      <td>4.0</td>\n",
       "      <td>0</td>\n",
       "      <td>2017-08-06</td>\n",
       "      <td>1</td>\n",
       "      <td>0jb9KV2ESl0W6mHrYk02rw</td>\n",
       "      <td>2</td>\n",
       "      <td>Not sure what the hype is about here. I have d...</td>\n",
       "      <td>0</td>\n",
       "      <td>kEGXZcG2i4IcE3A_FdMI_Q</td>\n",
       "      <td>False</td>\n",
       "    </tr>\n",
       "    <tr>\n",
       "      <th>18</th>\n",
       "      <td>228965</td>\n",
       "      <td>RESDUcs7fIiihp38-d6_6g</td>\n",
       "      <td>Bacchanal Buffet</td>\n",
       "      <td>['Sandwiches', 'Buffets', 'Restaurants', 'Brea...</td>\n",
       "      <td>4.0</td>\n",
       "      <td>0</td>\n",
       "      <td>2017-11-20</td>\n",
       "      <td>0</td>\n",
       "      <td>TIDiONXhflr4qCZXBfFMtA</td>\n",
       "      <td>1</td>\n",
       "      <td>The worst buffet I have ever had. The worst th...</td>\n",
       "      <td>0</td>\n",
       "      <td>RQhAok-F4jGkBzC4ZTxNgw</td>\n",
       "      <td>False</td>\n",
       "    </tr>\n",
       "    <tr>\n",
       "      <th>19</th>\n",
       "      <td>228966</td>\n",
       "      <td>RESDUcs7fIiihp38-d6_6g</td>\n",
       "      <td>Bacchanal Buffet</td>\n",
       "      <td>['Sandwiches', 'Buffets', 'Restaurants', 'Brea...</td>\n",
       "      <td>4.0</td>\n",
       "      <td>0</td>\n",
       "      <td>2016-08-16</td>\n",
       "      <td>0</td>\n",
       "      <td>N6JbutDXjO2jKu_9P8nYWg</td>\n",
       "      <td>2</td>\n",
       "      <td>This place has gone downhill over the years tr...</td>\n",
       "      <td>0</td>\n",
       "      <td>jdiRcAMTA-dROFn4VBOPdQ</td>\n",
       "      <td>False</td>\n",
       "    </tr>\n",
       "    <tr>\n",
       "      <th>20</th>\n",
       "      <td>228967</td>\n",
       "      <td>RESDUcs7fIiihp38-d6_6g</td>\n",
       "      <td>Bacchanal Buffet</td>\n",
       "      <td>['Sandwiches', 'Buffets', 'Restaurants', 'Brea...</td>\n",
       "      <td>4.0</td>\n",
       "      <td>1</td>\n",
       "      <td>2016-06-26</td>\n",
       "      <td>1</td>\n",
       "      <td>Q9wx4WcOeRRrN1FMD4MMeg</td>\n",
       "      <td>4</td>\n",
       "      <td>Starting off with the good...huge selection of...</td>\n",
       "      <td>1</td>\n",
       "      <td>nc0Tz2DEKEcbuNnwre_igA</td>\n",
       "      <td>False</td>\n",
       "    </tr>\n",
       "    <tr>\n",
       "      <th>21</th>\n",
       "      <td>228968</td>\n",
       "      <td>RESDUcs7fIiihp38-d6_6g</td>\n",
       "      <td>Bacchanal Buffet</td>\n",
       "      <td>['Sandwiches', 'Buffets', 'Restaurants', 'Brea...</td>\n",
       "      <td>4.0</td>\n",
       "      <td>0</td>\n",
       "      <td>2015-02-28</td>\n",
       "      <td>0</td>\n",
       "      <td>Z7THd6DVj_vwJugom08zTw</td>\n",
       "      <td>4</td>\n",
       "      <td>Great buffet for seafood lovers! Oysters on th...</td>\n",
       "      <td>0</td>\n",
       "      <td>6N1BsH8fvJibb0OPltwdpg</td>\n",
       "      <td>False</td>\n",
       "    </tr>\n",
       "    <tr>\n",
       "      <th>22</th>\n",
       "      <td>228969</td>\n",
       "      <td>RESDUcs7fIiihp38-d6_6g</td>\n",
       "      <td>Bacchanal Buffet</td>\n",
       "      <td>['Sandwiches', 'Buffets', 'Restaurants', 'Brea...</td>\n",
       "      <td>4.0</td>\n",
       "      <td>1</td>\n",
       "      <td>2017-05-31</td>\n",
       "      <td>0</td>\n",
       "      <td>1WRuzYwsnjMlcx2sBCJ3Pw</td>\n",
       "      <td>4</td>\n",
       "      <td>Heard lines were pretty long here and we were ...</td>\n",
       "      <td>1</td>\n",
       "      <td>3RTesI_MAwct13LWm4rhLw</td>\n",
       "      <td>False</td>\n",
       "    </tr>\n",
       "    <tr>\n",
       "      <th>23</th>\n",
       "      <td>228970</td>\n",
       "      <td>RESDUcs7fIiihp38-d6_6g</td>\n",
       "      <td>Bacchanal Buffet</td>\n",
       "      <td>['Sandwiches', 'Buffets', 'Restaurants', 'Brea...</td>\n",
       "      <td>4.0</td>\n",
       "      <td>0</td>\n",
       "      <td>2017-07-03</td>\n",
       "      <td>0</td>\n",
       "      <td>jOQSuLlaU2KOGHIDVvNeNQ</td>\n",
       "      <td>4</td>\n",
       "      <td>I've been here about 4 times now and I feel li...</td>\n",
       "      <td>1</td>\n",
       "      <td>ZajIvvSDcS7f1gsUcvJYiA</td>\n",
       "      <td>False</td>\n",
       "    </tr>\n",
       "    <tr>\n",
       "      <th>24</th>\n",
       "      <td>228971</td>\n",
       "      <td>RESDUcs7fIiihp38-d6_6g</td>\n",
       "      <td>Bacchanal Buffet</td>\n",
       "      <td>['Sandwiches', 'Buffets', 'Restaurants', 'Brea...</td>\n",
       "      <td>4.0</td>\n",
       "      <td>0</td>\n",
       "      <td>2017-03-22</td>\n",
       "      <td>0</td>\n",
       "      <td>p1IkUuRTFOnI3I27b1Sl1w</td>\n",
       "      <td>4</td>\n",
       "      <td>Didn't realize the wife and I been here twice....</td>\n",
       "      <td>0</td>\n",
       "      <td>V78AWd95_6_gEr8zq9z5AA</td>\n",
       "      <td>False</td>\n",
       "    </tr>\n",
       "    <tr>\n",
       "      <th>25</th>\n",
       "      <td>228972</td>\n",
       "      <td>RESDUcs7fIiihp38-d6_6g</td>\n",
       "      <td>Bacchanal Buffet</td>\n",
       "      <td>['Sandwiches', 'Buffets', 'Restaurants', 'Brea...</td>\n",
       "      <td>4.0</td>\n",
       "      <td>0</td>\n",
       "      <td>2015-12-29</td>\n",
       "      <td>0</td>\n",
       "      <td>oC4wIGKFjU0DSc7WFsV9Nw</td>\n",
       "      <td>1</td>\n",
       "      <td>I got a ticket asking me to come back after 6 ...</td>\n",
       "      <td>1</td>\n",
       "      <td>_QZbPy0J-OZ6Tux0q6RWEQ</td>\n",
       "      <td>False</td>\n",
       "    </tr>\n",
       "    <tr>\n",
       "      <th>26</th>\n",
       "      <td>228973</td>\n",
       "      <td>RESDUcs7fIiihp38-d6_6g</td>\n",
       "      <td>Bacchanal Buffet</td>\n",
       "      <td>['Sandwiches', 'Buffets', 'Restaurants', 'Brea...</td>\n",
       "      <td>4.0</td>\n",
       "      <td>0</td>\n",
       "      <td>2017-11-25</td>\n",
       "      <td>0</td>\n",
       "      <td>4j3Poe0yXiryR0vZbS8QbQ</td>\n",
       "      <td>1</td>\n",
       "      <td>I am honestly giving this Buffet a 1 star just...</td>\n",
       "      <td>0</td>\n",
       "      <td>MpMcjmLeCF1ODE13FPkjoA</td>\n",
       "      <td>False</td>\n",
       "    </tr>\n",
       "    <tr>\n",
       "      <th>27</th>\n",
       "      <td>228974</td>\n",
       "      <td>RESDUcs7fIiihp38-d6_6g</td>\n",
       "      <td>Bacchanal Buffet</td>\n",
       "      <td>['Sandwiches', 'Buffets', 'Restaurants', 'Brea...</td>\n",
       "      <td>4.0</td>\n",
       "      <td>1</td>\n",
       "      <td>2015-05-16</td>\n",
       "      <td>2</td>\n",
       "      <td>cANFZwwu92d26GLsNNmcsg</td>\n",
       "      <td>3</td>\n",
       "      <td>This is based on the Mother's Day dinner menu....</td>\n",
       "      <td>2</td>\n",
       "      <td>yAzOaJtPSuiayL-oDSaT3w</td>\n",
       "      <td>False</td>\n",
       "    </tr>\n",
       "    <tr>\n",
       "      <th>28</th>\n",
       "      <td>228975</td>\n",
       "      <td>RESDUcs7fIiihp38-d6_6g</td>\n",
       "      <td>Bacchanal Buffet</td>\n",
       "      <td>['Sandwiches', 'Buffets', 'Restaurants', 'Brea...</td>\n",
       "      <td>4.0</td>\n",
       "      <td>4</td>\n",
       "      <td>2016-10-07</td>\n",
       "      <td>3</td>\n",
       "      <td>25e3treYkn23-6UiniSOAA</td>\n",
       "      <td>4</td>\n",
       "      <td>Buffet Bliss!\\n\\nI came here with the recommen...</td>\n",
       "      <td>6</td>\n",
       "      <td>dcry6TioDEKJCSsRFq4PXw</td>\n",
       "      <td>False</td>\n",
       "    </tr>\n",
       "    <tr>\n",
       "      <th>29</th>\n",
       "      <td>228976</td>\n",
       "      <td>RESDUcs7fIiihp38-d6_6g</td>\n",
       "      <td>Bacchanal Buffet</td>\n",
       "      <td>['Sandwiches', 'Buffets', 'Restaurants', 'Brea...</td>\n",
       "      <td>4.0</td>\n",
       "      <td>0</td>\n",
       "      <td>2015-08-13</td>\n",
       "      <td>0</td>\n",
       "      <td>T8dHL8iBqhNoAl6sT8QDaA</td>\n",
       "      <td>3</td>\n",
       "      <td>Food was delicious.  Had a little something fo...</td>\n",
       "      <td>1</td>\n",
       "      <td>5OwYOdoQFrPkVG4QeoODFw</td>\n",
       "      <td>False</td>\n",
       "    </tr>\n",
       "    <tr>\n",
       "      <th>...</th>\n",
       "      <td>...</td>\n",
       "      <td>...</td>\n",
       "      <td>...</td>\n",
       "      <td>...</td>\n",
       "      <td>...</td>\n",
       "      <td>...</td>\n",
       "      <td>...</td>\n",
       "      <td>...</td>\n",
       "      <td>...</td>\n",
       "      <td>...</td>\n",
       "      <td>...</td>\n",
       "      <td>...</td>\n",
       "      <td>...</td>\n",
       "      <td>...</td>\n",
       "    </tr>\n",
       "    <tr>\n",
       "      <th>4029</th>\n",
       "      <td>232976</td>\n",
       "      <td>RESDUcs7fIiihp38-d6_6g</td>\n",
       "      <td>Bacchanal Buffet</td>\n",
       "      <td>['Sandwiches', 'Buffets', 'Restaurants', 'Brea...</td>\n",
       "      <td>4.0</td>\n",
       "      <td>0</td>\n",
       "      <td>2017-03-13</td>\n",
       "      <td>0</td>\n",
       "      <td>_-tAHyiQdTBmCMAeHvsHfw</td>\n",
       "      <td>2</td>\n",
       "      <td>As far as buffets go, this one was good. That'...</td>\n",
       "      <td>0</td>\n",
       "      <td>j5PYLJ_JFpADEI2Ec-v7Ew</td>\n",
       "      <td>False</td>\n",
       "    </tr>\n",
       "    <tr>\n",
       "      <th>4030</th>\n",
       "      <td>232977</td>\n",
       "      <td>RESDUcs7fIiihp38-d6_6g</td>\n",
       "      <td>Bacchanal Buffet</td>\n",
       "      <td>['Sandwiches', 'Buffets', 'Restaurants', 'Brea...</td>\n",
       "      <td>4.0</td>\n",
       "      <td>0</td>\n",
       "      <td>2017-09-05</td>\n",
       "      <td>0</td>\n",
       "      <td>I1usaP9D4LAUprOuyzyuIg</td>\n",
       "      <td>3</td>\n",
       "      <td>I could keep this really short and it would ge...</td>\n",
       "      <td>0</td>\n",
       "      <td>c5kZzOnWFOOsJWj5s6L36A</td>\n",
       "      <td>False</td>\n",
       "    </tr>\n",
       "    <tr>\n",
       "      <th>4031</th>\n",
       "      <td>232978</td>\n",
       "      <td>RESDUcs7fIiihp38-d6_6g</td>\n",
       "      <td>Bacchanal Buffet</td>\n",
       "      <td>['Sandwiches', 'Buffets', 'Restaurants', 'Brea...</td>\n",
       "      <td>4.0</td>\n",
       "      <td>0</td>\n",
       "      <td>2015-01-28</td>\n",
       "      <td>0</td>\n",
       "      <td>gVaMlcxeC63Kp--3ae90CA</td>\n",
       "      <td>5</td>\n",
       "      <td>This place is nothing short of amazing. This i...</td>\n",
       "      <td>0</td>\n",
       "      <td>wwSdeRlg0VA5Zd07DNk_5A</td>\n",
       "      <td>True</td>\n",
       "    </tr>\n",
       "    <tr>\n",
       "      <th>4032</th>\n",
       "      <td>232979</td>\n",
       "      <td>RESDUcs7fIiihp38-d6_6g</td>\n",
       "      <td>Bacchanal Buffet</td>\n",
       "      <td>['Sandwiches', 'Buffets', 'Restaurants', 'Brea...</td>\n",
       "      <td>4.0</td>\n",
       "      <td>0</td>\n",
       "      <td>2017-01-09</td>\n",
       "      <td>0</td>\n",
       "      <td>6TeUT58Jx2F9PQbegNAI7Q</td>\n",
       "      <td>3</td>\n",
       "      <td>Definitely the largest buffet I have every bee...</td>\n",
       "      <td>1</td>\n",
       "      <td>PlwxTapFNdr041N67MClvw</td>\n",
       "      <td>False</td>\n",
       "    </tr>\n",
       "    <tr>\n",
       "      <th>4033</th>\n",
       "      <td>232980</td>\n",
       "      <td>RESDUcs7fIiihp38-d6_6g</td>\n",
       "      <td>Bacchanal Buffet</td>\n",
       "      <td>['Sandwiches', 'Buffets', 'Restaurants', 'Brea...</td>\n",
       "      <td>4.0</td>\n",
       "      <td>0</td>\n",
       "      <td>2015-11-22</td>\n",
       "      <td>0</td>\n",
       "      <td>suNcxa_TNxsfKZ7Ed-BcPA</td>\n",
       "      <td>5</td>\n",
       "      <td>Best buffet I've ever been to... unlimited mim...</td>\n",
       "      <td>0</td>\n",
       "      <td>0THbB3hQc4R2sSUnyyH3qw</td>\n",
       "      <td>True</td>\n",
       "    </tr>\n",
       "    <tr>\n",
       "      <th>4034</th>\n",
       "      <td>232981</td>\n",
       "      <td>RESDUcs7fIiihp38-d6_6g</td>\n",
       "      <td>Bacchanal Buffet</td>\n",
       "      <td>['Sandwiches', 'Buffets', 'Restaurants', 'Brea...</td>\n",
       "      <td>4.0</td>\n",
       "      <td>3</td>\n",
       "      <td>2017-08-08</td>\n",
       "      <td>0</td>\n",
       "      <td>u_92ULrSYU_LixKlMSNJ9Q</td>\n",
       "      <td>5</td>\n",
       "      <td>Hands down the best buffet I've been to! There...</td>\n",
       "      <td>4</td>\n",
       "      <td>Il5rEF1q73uT-kzGoXIy_w</td>\n",
       "      <td>True</td>\n",
       "    </tr>\n",
       "    <tr>\n",
       "      <th>4035</th>\n",
       "      <td>232982</td>\n",
       "      <td>RESDUcs7fIiihp38-d6_6g</td>\n",
       "      <td>Bacchanal Buffet</td>\n",
       "      <td>['Sandwiches', 'Buffets', 'Restaurants', 'Brea...</td>\n",
       "      <td>4.0</td>\n",
       "      <td>0</td>\n",
       "      <td>2015-10-20</td>\n",
       "      <td>0</td>\n",
       "      <td>UrLDVRdXhp-3s4uj9APINQ</td>\n",
       "      <td>2</td>\n",
       "      <td>Very expensive and I think it's a lot of hype ...</td>\n",
       "      <td>0</td>\n",
       "      <td>gde1n0XcBZUqKRhsa1Slaw</td>\n",
       "      <td>False</td>\n",
       "    </tr>\n",
       "    <tr>\n",
       "      <th>4036</th>\n",
       "      <td>232983</td>\n",
       "      <td>RESDUcs7fIiihp38-d6_6g</td>\n",
       "      <td>Bacchanal Buffet</td>\n",
       "      <td>['Sandwiches', 'Buffets', 'Restaurants', 'Brea...</td>\n",
       "      <td>4.0</td>\n",
       "      <td>2</td>\n",
       "      <td>2016-03-23</td>\n",
       "      <td>2</td>\n",
       "      <td>tIoZ0r51KMqNCl5KXR00zQ</td>\n",
       "      <td>5</td>\n",
       "      <td>After much researching about which buffet to t...</td>\n",
       "      <td>2</td>\n",
       "      <td>XfyFuYsQMOzskexwu6Kgow</td>\n",
       "      <td>True</td>\n",
       "    </tr>\n",
       "    <tr>\n",
       "      <th>4037</th>\n",
       "      <td>232984</td>\n",
       "      <td>RESDUcs7fIiihp38-d6_6g</td>\n",
       "      <td>Bacchanal Buffet</td>\n",
       "      <td>['Sandwiches', 'Buffets', 'Restaurants', 'Brea...</td>\n",
       "      <td>4.0</td>\n",
       "      <td>1</td>\n",
       "      <td>2015-07-30</td>\n",
       "      <td>1</td>\n",
       "      <td>zivCNJRvLEjoZgoWxMuGUA</td>\n",
       "      <td>5</td>\n",
       "      <td>I'm going to preface this with, if you want to...</td>\n",
       "      <td>3</td>\n",
       "      <td>2hTp0sjO9ugflayPIUut3A</td>\n",
       "      <td>True</td>\n",
       "    </tr>\n",
       "    <tr>\n",
       "      <th>4038</th>\n",
       "      <td>232985</td>\n",
       "      <td>RESDUcs7fIiihp38-d6_6g</td>\n",
       "      <td>Bacchanal Buffet</td>\n",
       "      <td>['Sandwiches', 'Buffets', 'Restaurants', 'Brea...</td>\n",
       "      <td>4.0</td>\n",
       "      <td>0</td>\n",
       "      <td>2016-02-23</td>\n",
       "      <td>0</td>\n",
       "      <td>jAlJ1ebwfPMHpAdkpDabCQ</td>\n",
       "      <td>5</td>\n",
       "      <td>ALL YOU CAN EAT, PERFECTLY SLICED CRAB LEGS WI...</td>\n",
       "      <td>0</td>\n",
       "      <td>0FDaxGK8R5O2TCdHYR8Ppg</td>\n",
       "      <td>True</td>\n",
       "    </tr>\n",
       "    <tr>\n",
       "      <th>4039</th>\n",
       "      <td>232986</td>\n",
       "      <td>RESDUcs7fIiihp38-d6_6g</td>\n",
       "      <td>Bacchanal Buffet</td>\n",
       "      <td>['Sandwiches', 'Buffets', 'Restaurants', 'Brea...</td>\n",
       "      <td>4.0</td>\n",
       "      <td>0</td>\n",
       "      <td>2017-12-05</td>\n",
       "      <td>0</td>\n",
       "      <td>rOHqCn-6r0Zf8ltWMrDKTQ</td>\n",
       "      <td>3</td>\n",
       "      <td>Big disappointment.  I read plenty of reviews ...</td>\n",
       "      <td>0</td>\n",
       "      <td>VbpUN4KnH6SNsX2NkBmxEg</td>\n",
       "      <td>False</td>\n",
       "    </tr>\n",
       "    <tr>\n",
       "      <th>4040</th>\n",
       "      <td>232987</td>\n",
       "      <td>RESDUcs7fIiihp38-d6_6g</td>\n",
       "      <td>Bacchanal Buffet</td>\n",
       "      <td>['Sandwiches', 'Buffets', 'Restaurants', 'Brea...</td>\n",
       "      <td>4.0</td>\n",
       "      <td>0</td>\n",
       "      <td>2016-06-09</td>\n",
       "      <td>0</td>\n",
       "      <td>rG1pGVHdgiGlJLk2acrBMQ</td>\n",
       "      <td>5</td>\n",
       "      <td>A lot of the food was really delicious. My fav...</td>\n",
       "      <td>0</td>\n",
       "      <td>-_hiAMuWv43fAwDgJdg65w</td>\n",
       "      <td>True</td>\n",
       "    </tr>\n",
       "    <tr>\n",
       "      <th>4041</th>\n",
       "      <td>232988</td>\n",
       "      <td>RESDUcs7fIiihp38-d6_6g</td>\n",
       "      <td>Bacchanal Buffet</td>\n",
       "      <td>['Sandwiches', 'Buffets', 'Restaurants', 'Brea...</td>\n",
       "      <td>4.0</td>\n",
       "      <td>0</td>\n",
       "      <td>2017-06-07</td>\n",
       "      <td>0</td>\n",
       "      <td>knnQfM1DUqgtPpH-rHWNUg</td>\n",
       "      <td>3</td>\n",
       "      <td>Pro: Alot of food\\nCon: Long wait after wait a...</td>\n",
       "      <td>0</td>\n",
       "      <td>3cHR8o8sh32YxHGwm-OkqA</td>\n",
       "      <td>False</td>\n",
       "    </tr>\n",
       "    <tr>\n",
       "      <th>4042</th>\n",
       "      <td>232989</td>\n",
       "      <td>RESDUcs7fIiihp38-d6_6g</td>\n",
       "      <td>Bacchanal Buffet</td>\n",
       "      <td>['Sandwiches', 'Buffets', 'Restaurants', 'Brea...</td>\n",
       "      <td>4.0</td>\n",
       "      <td>0</td>\n",
       "      <td>2016-09-05</td>\n",
       "      <td>0</td>\n",
       "      <td>XM-T7OUI1EGxDeiUcckWyg</td>\n",
       "      <td>1</td>\n",
       "      <td>Overrated! After hearing things like \"best buf...</td>\n",
       "      <td>0</td>\n",
       "      <td>P8otN2q8dzZRmcTrPzInSQ</td>\n",
       "      <td>False</td>\n",
       "    </tr>\n",
       "    <tr>\n",
       "      <th>4043</th>\n",
       "      <td>232990</td>\n",
       "      <td>RESDUcs7fIiihp38-d6_6g</td>\n",
       "      <td>Bacchanal Buffet</td>\n",
       "      <td>['Sandwiches', 'Buffets', 'Restaurants', 'Brea...</td>\n",
       "      <td>4.0</td>\n",
       "      <td>2</td>\n",
       "      <td>2016-03-03</td>\n",
       "      <td>3</td>\n",
       "      <td>BuvyHb-agvzanv7jparGQw</td>\n",
       "      <td>3</td>\n",
       "      <td>At a destination for tourists, there's sure to...</td>\n",
       "      <td>2</td>\n",
       "      <td>HEBGcqMnSWyOHgDCzaeP-A</td>\n",
       "      <td>False</td>\n",
       "    </tr>\n",
       "    <tr>\n",
       "      <th>4044</th>\n",
       "      <td>232991</td>\n",
       "      <td>RESDUcs7fIiihp38-d6_6g</td>\n",
       "      <td>Bacchanal Buffet</td>\n",
       "      <td>['Sandwiches', 'Buffets', 'Restaurants', 'Brea...</td>\n",
       "      <td>4.0</td>\n",
       "      <td>0</td>\n",
       "      <td>2017-08-16</td>\n",
       "      <td>0</td>\n",
       "      <td>YtVK7JafZ5uzU-YP_2K7VA</td>\n",
       "      <td>5</td>\n",
       "      <td>Best Gelato in Vegas!!\\nAnd all the food is am...</td>\n",
       "      <td>0</td>\n",
       "      <td>JCGnDEs7L7U0zNJrLbrrzw</td>\n",
       "      <td>True</td>\n",
       "    </tr>\n",
       "    <tr>\n",
       "      <th>4045</th>\n",
       "      <td>232992</td>\n",
       "      <td>RESDUcs7fIiihp38-d6_6g</td>\n",
       "      <td>Bacchanal Buffet</td>\n",
       "      <td>['Sandwiches', 'Buffets', 'Restaurants', 'Brea...</td>\n",
       "      <td>4.0</td>\n",
       "      <td>0</td>\n",
       "      <td>2015-06-15</td>\n",
       "      <td>0</td>\n",
       "      <td>H73DdxnLdW6B1rF3VqYH3A</td>\n",
       "      <td>2</td>\n",
       "      <td>Massively disappointing. Except for the seafoo...</td>\n",
       "      <td>0</td>\n",
       "      <td>5qcxOjI1ATv7SGviRM1wtg</td>\n",
       "      <td>False</td>\n",
       "    </tr>\n",
       "    <tr>\n",
       "      <th>4046</th>\n",
       "      <td>232993</td>\n",
       "      <td>RESDUcs7fIiihp38-d6_6g</td>\n",
       "      <td>Bacchanal Buffet</td>\n",
       "      <td>['Sandwiches', 'Buffets', 'Restaurants', 'Brea...</td>\n",
       "      <td>4.0</td>\n",
       "      <td>0</td>\n",
       "      <td>2017-12-01</td>\n",
       "      <td>0</td>\n",
       "      <td>Fxz85rxv4qPfNrtB2fMHHg</td>\n",
       "      <td>5</td>\n",
       "      <td>On vacation in Las Vegas, NV staying at Caesar...</td>\n",
       "      <td>1</td>\n",
       "      <td>8z4esMxnrIJFL_7MSjQksA</td>\n",
       "      <td>True</td>\n",
       "    </tr>\n",
       "    <tr>\n",
       "      <th>4047</th>\n",
       "      <td>232994</td>\n",
       "      <td>RESDUcs7fIiihp38-d6_6g</td>\n",
       "      <td>Bacchanal Buffet</td>\n",
       "      <td>['Sandwiches', 'Buffets', 'Restaurants', 'Brea...</td>\n",
       "      <td>4.0</td>\n",
       "      <td>1</td>\n",
       "      <td>2015-09-19</td>\n",
       "      <td>0</td>\n",
       "      <td>CjTbh5Nmi0lBuKATo6HZbQ</td>\n",
       "      <td>5</td>\n",
       "      <td>My favorite buffet in all of Vegas for dinner....</td>\n",
       "      <td>3</td>\n",
       "      <td>_JwxuLa5Nf4GW-bLQYpdaA</td>\n",
       "      <td>True</td>\n",
       "    </tr>\n",
       "    <tr>\n",
       "      <th>4048</th>\n",
       "      <td>232995</td>\n",
       "      <td>RESDUcs7fIiihp38-d6_6g</td>\n",
       "      <td>Bacchanal Buffet</td>\n",
       "      <td>['Sandwiches', 'Buffets', 'Restaurants', 'Brea...</td>\n",
       "      <td>4.0</td>\n",
       "      <td>0</td>\n",
       "      <td>2017-01-25</td>\n",
       "      <td>0</td>\n",
       "      <td>pKBCvlZDYFP6WpV4Zud34A</td>\n",
       "      <td>3</td>\n",
       "      <td>Went here with my girlfriend and spent $114 fo...</td>\n",
       "      <td>0</td>\n",
       "      <td>q_2JIsgARvvHAirn4ZABQw</td>\n",
       "      <td>False</td>\n",
       "    </tr>\n",
       "    <tr>\n",
       "      <th>4049</th>\n",
       "      <td>232996</td>\n",
       "      <td>RESDUcs7fIiihp38-d6_6g</td>\n",
       "      <td>Bacchanal Buffet</td>\n",
       "      <td>['Sandwiches', 'Buffets', 'Restaurants', 'Brea...</td>\n",
       "      <td>4.0</td>\n",
       "      <td>0</td>\n",
       "      <td>2017-02-28</td>\n",
       "      <td>0</td>\n",
       "      <td>CDdZrtVWpzpwWhpOIrkQDQ</td>\n",
       "      <td>4</td>\n",
       "      <td>For $55/person, I'm not totally convinced it's...</td>\n",
       "      <td>0</td>\n",
       "      <td>t6uAOJHnui8zl2-PJ9m_Jw</td>\n",
       "      <td>False</td>\n",
       "    </tr>\n",
       "    <tr>\n",
       "      <th>4050</th>\n",
       "      <td>232997</td>\n",
       "      <td>RESDUcs7fIiihp38-d6_6g</td>\n",
       "      <td>Bacchanal Buffet</td>\n",
       "      <td>['Sandwiches', 'Buffets', 'Restaurants', 'Brea...</td>\n",
       "      <td>4.0</td>\n",
       "      <td>0</td>\n",
       "      <td>2015-07-16</td>\n",
       "      <td>0</td>\n",
       "      <td>COWPZW3lQ75iHUoqXypTyQ</td>\n",
       "      <td>5</td>\n",
       "      <td>go there 10 mins before dinner starts, pay the...</td>\n",
       "      <td>0</td>\n",
       "      <td>HxiPjEsicsdChnARYjZdnw</td>\n",
       "      <td>True</td>\n",
       "    </tr>\n",
       "    <tr>\n",
       "      <th>4051</th>\n",
       "      <td>232998</td>\n",
       "      <td>RESDUcs7fIiihp38-d6_6g</td>\n",
       "      <td>Bacchanal Buffet</td>\n",
       "      <td>['Sandwiches', 'Buffets', 'Restaurants', 'Brea...</td>\n",
       "      <td>4.0</td>\n",
       "      <td>1</td>\n",
       "      <td>2017-12-10</td>\n",
       "      <td>0</td>\n",
       "      <td>YLXpSz1Vd1ZVTqTNK1A-RQ</td>\n",
       "      <td>5</td>\n",
       "      <td>Patty was an excellent server. All good was fr...</td>\n",
       "      <td>1</td>\n",
       "      <td>L5_8oviH2I6ltKqH517unA</td>\n",
       "      <td>True</td>\n",
       "    </tr>\n",
       "    <tr>\n",
       "      <th>4052</th>\n",
       "      <td>232999</td>\n",
       "      <td>RESDUcs7fIiihp38-d6_6g</td>\n",
       "      <td>Bacchanal Buffet</td>\n",
       "      <td>['Sandwiches', 'Buffets', 'Restaurants', 'Brea...</td>\n",
       "      <td>4.0</td>\n",
       "      <td>0</td>\n",
       "      <td>2016-12-26</td>\n",
       "      <td>0</td>\n",
       "      <td>4kJJoj3s7xVlX6LsyQIcOw</td>\n",
       "      <td>1</td>\n",
       "      <td>The buffet for holiday the price is up, but th...</td>\n",
       "      <td>0</td>\n",
       "      <td>3q6QvACzuo3t1M5d62CX4Q</td>\n",
       "      <td>False</td>\n",
       "    </tr>\n",
       "    <tr>\n",
       "      <th>4053</th>\n",
       "      <td>233000</td>\n",
       "      <td>RESDUcs7fIiihp38-d6_6g</td>\n",
       "      <td>Bacchanal Buffet</td>\n",
       "      <td>['Sandwiches', 'Buffets', 'Restaurants', 'Brea...</td>\n",
       "      <td>4.0</td>\n",
       "      <td>0</td>\n",
       "      <td>2017-07-31</td>\n",
       "      <td>0</td>\n",
       "      <td>Pgsk3FRut9usu_e84e0dhg</td>\n",
       "      <td>5</td>\n",
       "      <td>This place is always on those \"Top Vegas Buffe...</td>\n",
       "      <td>0</td>\n",
       "      <td>mLPNZKUoogj71t5hEqHU8A</td>\n",
       "      <td>True</td>\n",
       "    </tr>\n",
       "    <tr>\n",
       "      <th>4054</th>\n",
       "      <td>233001</td>\n",
       "      <td>RESDUcs7fIiihp38-d6_6g</td>\n",
       "      <td>Bacchanal Buffet</td>\n",
       "      <td>['Sandwiches', 'Buffets', 'Restaurants', 'Brea...</td>\n",
       "      <td>4.0</td>\n",
       "      <td>0</td>\n",
       "      <td>2016-01-30</td>\n",
       "      <td>0</td>\n",
       "      <td>FVFfkHNmbhMLH1kpt7uaug</td>\n",
       "      <td>5</td>\n",
       "      <td>Every once in a while when we come and visit V...</td>\n",
       "      <td>0</td>\n",
       "      <td>mKLystZrkmpO0Rdf36tOJA</td>\n",
       "      <td>True</td>\n",
       "    </tr>\n",
       "    <tr>\n",
       "      <th>4055</th>\n",
       "      <td>233002</td>\n",
       "      <td>RESDUcs7fIiihp38-d6_6g</td>\n",
       "      <td>Bacchanal Buffet</td>\n",
       "      <td>['Sandwiches', 'Buffets', 'Restaurants', 'Brea...</td>\n",
       "      <td>4.0</td>\n",
       "      <td>0</td>\n",
       "      <td>2016-01-04</td>\n",
       "      <td>0</td>\n",
       "      <td>XStPpFKcrVblgHgBjcjreA</td>\n",
       "      <td>3</td>\n",
       "      <td>I feel like this buffet is a bit overrated... ...</td>\n",
       "      <td>0</td>\n",
       "      <td>ha5jq3G0RMr2wQ0AGnyG4Q</td>\n",
       "      <td>False</td>\n",
       "    </tr>\n",
       "    <tr>\n",
       "      <th>4056</th>\n",
       "      <td>233003</td>\n",
       "      <td>RESDUcs7fIiihp38-d6_6g</td>\n",
       "      <td>Bacchanal Buffet</td>\n",
       "      <td>['Sandwiches', 'Buffets', 'Restaurants', 'Brea...</td>\n",
       "      <td>4.0</td>\n",
       "      <td>1</td>\n",
       "      <td>2016-11-24</td>\n",
       "      <td>1</td>\n",
       "      <td>8Py21eTMB0wKMPZDgowEUQ</td>\n",
       "      <td>4</td>\n",
       "      <td>Arrive before 11 to avoid the crowd.\\nWe walke...</td>\n",
       "      <td>1</td>\n",
       "      <td>x05NsVRuwyiklsOrrWI0tg</td>\n",
       "      <td>False</td>\n",
       "    </tr>\n",
       "    <tr>\n",
       "      <th>4057</th>\n",
       "      <td>233004</td>\n",
       "      <td>RESDUcs7fIiihp38-d6_6g</td>\n",
       "      <td>Bacchanal Buffet</td>\n",
       "      <td>['Sandwiches', 'Buffets', 'Restaurants', 'Brea...</td>\n",
       "      <td>4.0</td>\n",
       "      <td>1</td>\n",
       "      <td>2015-03-17</td>\n",
       "      <td>0</td>\n",
       "      <td>jdvrXTBGXyk9WUwkmAZVQg</td>\n",
       "      <td>4</td>\n",
       "      <td>I have never been to another Vegas buffet so I...</td>\n",
       "      <td>2</td>\n",
       "      <td>NPi15vfyZ-Xeqgr0BT_yOA</td>\n",
       "      <td>False</td>\n",
       "    </tr>\n",
       "    <tr>\n",
       "      <th>4058</th>\n",
       "      <td>233005</td>\n",
       "      <td>RESDUcs7fIiihp38-d6_6g</td>\n",
       "      <td>Bacchanal Buffet</td>\n",
       "      <td>['Sandwiches', 'Buffets', 'Restaurants', 'Brea...</td>\n",
       "      <td>4.0</td>\n",
       "      <td>1</td>\n",
       "      <td>2016-08-11</td>\n",
       "      <td>0</td>\n",
       "      <td>wk0y--xK25mGKj-yPgMBbw</td>\n",
       "      <td>5</td>\n",
       "      <td>Definitely the BEST Buffet in Vegas!!! Tip: Tr...</td>\n",
       "      <td>2</td>\n",
       "      <td>V-eBx19Yx9F1BtmuM3qTtQ</td>\n",
       "      <td>True</td>\n",
       "    </tr>\n",
       "  </tbody>\n",
       "</table>\n",
       "<p>4059 rows × 14 columns</p>\n",
       "</div>"
      ],
      "text/plain": [
       "       index             business_id              name  \\\n",
       "0     228947  RESDUcs7fIiihp38-d6_6g  Bacchanal Buffet   \n",
       "1     228948  RESDUcs7fIiihp38-d6_6g  Bacchanal Buffet   \n",
       "2     228949  RESDUcs7fIiihp38-d6_6g  Bacchanal Buffet   \n",
       "3     228950  RESDUcs7fIiihp38-d6_6g  Bacchanal Buffet   \n",
       "4     228951  RESDUcs7fIiihp38-d6_6g  Bacchanal Buffet   \n",
       "5     228952  RESDUcs7fIiihp38-d6_6g  Bacchanal Buffet   \n",
       "6     228953  RESDUcs7fIiihp38-d6_6g  Bacchanal Buffet   \n",
       "7     228954  RESDUcs7fIiihp38-d6_6g  Bacchanal Buffet   \n",
       "8     228955  RESDUcs7fIiihp38-d6_6g  Bacchanal Buffet   \n",
       "9     228956  RESDUcs7fIiihp38-d6_6g  Bacchanal Buffet   \n",
       "10    228957  RESDUcs7fIiihp38-d6_6g  Bacchanal Buffet   \n",
       "11    228958  RESDUcs7fIiihp38-d6_6g  Bacchanal Buffet   \n",
       "12    228959  RESDUcs7fIiihp38-d6_6g  Bacchanal Buffet   \n",
       "13    228960  RESDUcs7fIiihp38-d6_6g  Bacchanal Buffet   \n",
       "14    228961  RESDUcs7fIiihp38-d6_6g  Bacchanal Buffet   \n",
       "15    228962  RESDUcs7fIiihp38-d6_6g  Bacchanal Buffet   \n",
       "16    228963  RESDUcs7fIiihp38-d6_6g  Bacchanal Buffet   \n",
       "17    228964  RESDUcs7fIiihp38-d6_6g  Bacchanal Buffet   \n",
       "18    228965  RESDUcs7fIiihp38-d6_6g  Bacchanal Buffet   \n",
       "19    228966  RESDUcs7fIiihp38-d6_6g  Bacchanal Buffet   \n",
       "20    228967  RESDUcs7fIiihp38-d6_6g  Bacchanal Buffet   \n",
       "21    228968  RESDUcs7fIiihp38-d6_6g  Bacchanal Buffet   \n",
       "22    228969  RESDUcs7fIiihp38-d6_6g  Bacchanal Buffet   \n",
       "23    228970  RESDUcs7fIiihp38-d6_6g  Bacchanal Buffet   \n",
       "24    228971  RESDUcs7fIiihp38-d6_6g  Bacchanal Buffet   \n",
       "25    228972  RESDUcs7fIiihp38-d6_6g  Bacchanal Buffet   \n",
       "26    228973  RESDUcs7fIiihp38-d6_6g  Bacchanal Buffet   \n",
       "27    228974  RESDUcs7fIiihp38-d6_6g  Bacchanal Buffet   \n",
       "28    228975  RESDUcs7fIiihp38-d6_6g  Bacchanal Buffet   \n",
       "29    228976  RESDUcs7fIiihp38-d6_6g  Bacchanal Buffet   \n",
       "...      ...                     ...               ...   \n",
       "4029  232976  RESDUcs7fIiihp38-d6_6g  Bacchanal Buffet   \n",
       "4030  232977  RESDUcs7fIiihp38-d6_6g  Bacchanal Buffet   \n",
       "4031  232978  RESDUcs7fIiihp38-d6_6g  Bacchanal Buffet   \n",
       "4032  232979  RESDUcs7fIiihp38-d6_6g  Bacchanal Buffet   \n",
       "4033  232980  RESDUcs7fIiihp38-d6_6g  Bacchanal Buffet   \n",
       "4034  232981  RESDUcs7fIiihp38-d6_6g  Bacchanal Buffet   \n",
       "4035  232982  RESDUcs7fIiihp38-d6_6g  Bacchanal Buffet   \n",
       "4036  232983  RESDUcs7fIiihp38-d6_6g  Bacchanal Buffet   \n",
       "4037  232984  RESDUcs7fIiihp38-d6_6g  Bacchanal Buffet   \n",
       "4038  232985  RESDUcs7fIiihp38-d6_6g  Bacchanal Buffet   \n",
       "4039  232986  RESDUcs7fIiihp38-d6_6g  Bacchanal Buffet   \n",
       "4040  232987  RESDUcs7fIiihp38-d6_6g  Bacchanal Buffet   \n",
       "4041  232988  RESDUcs7fIiihp38-d6_6g  Bacchanal Buffet   \n",
       "4042  232989  RESDUcs7fIiihp38-d6_6g  Bacchanal Buffet   \n",
       "4043  232990  RESDUcs7fIiihp38-d6_6g  Bacchanal Buffet   \n",
       "4044  232991  RESDUcs7fIiihp38-d6_6g  Bacchanal Buffet   \n",
       "4045  232992  RESDUcs7fIiihp38-d6_6g  Bacchanal Buffet   \n",
       "4046  232993  RESDUcs7fIiihp38-d6_6g  Bacchanal Buffet   \n",
       "4047  232994  RESDUcs7fIiihp38-d6_6g  Bacchanal Buffet   \n",
       "4048  232995  RESDUcs7fIiihp38-d6_6g  Bacchanal Buffet   \n",
       "4049  232996  RESDUcs7fIiihp38-d6_6g  Bacchanal Buffet   \n",
       "4050  232997  RESDUcs7fIiihp38-d6_6g  Bacchanal Buffet   \n",
       "4051  232998  RESDUcs7fIiihp38-d6_6g  Bacchanal Buffet   \n",
       "4052  232999  RESDUcs7fIiihp38-d6_6g  Bacchanal Buffet   \n",
       "4053  233000  RESDUcs7fIiihp38-d6_6g  Bacchanal Buffet   \n",
       "4054  233001  RESDUcs7fIiihp38-d6_6g  Bacchanal Buffet   \n",
       "4055  233002  RESDUcs7fIiihp38-d6_6g  Bacchanal Buffet   \n",
       "4056  233003  RESDUcs7fIiihp38-d6_6g  Bacchanal Buffet   \n",
       "4057  233004  RESDUcs7fIiihp38-d6_6g  Bacchanal Buffet   \n",
       "4058  233005  RESDUcs7fIiihp38-d6_6g  Bacchanal Buffet   \n",
       "\n",
       "                                             categories  avg_stars  cool  \\\n",
       "0     ['Sandwiches', 'Buffets', 'Restaurants', 'Brea...        4.0     0   \n",
       "1     ['Sandwiches', 'Buffets', 'Restaurants', 'Brea...        4.0     0   \n",
       "2     ['Sandwiches', 'Buffets', 'Restaurants', 'Brea...        4.0     0   \n",
       "3     ['Sandwiches', 'Buffets', 'Restaurants', 'Brea...        4.0     0   \n",
       "4     ['Sandwiches', 'Buffets', 'Restaurants', 'Brea...        4.0     0   \n",
       "5     ['Sandwiches', 'Buffets', 'Restaurants', 'Brea...        4.0     0   \n",
       "6     ['Sandwiches', 'Buffets', 'Restaurants', 'Brea...        4.0     0   \n",
       "7     ['Sandwiches', 'Buffets', 'Restaurants', 'Brea...        4.0     0   \n",
       "8     ['Sandwiches', 'Buffets', 'Restaurants', 'Brea...        4.0     0   \n",
       "9     ['Sandwiches', 'Buffets', 'Restaurants', 'Brea...        4.0     0   \n",
       "10    ['Sandwiches', 'Buffets', 'Restaurants', 'Brea...        4.0     0   \n",
       "11    ['Sandwiches', 'Buffets', 'Restaurants', 'Brea...        4.0     0   \n",
       "12    ['Sandwiches', 'Buffets', 'Restaurants', 'Brea...        4.0     0   \n",
       "13    ['Sandwiches', 'Buffets', 'Restaurants', 'Brea...        4.0     0   \n",
       "14    ['Sandwiches', 'Buffets', 'Restaurants', 'Brea...        4.0     0   \n",
       "15    ['Sandwiches', 'Buffets', 'Restaurants', 'Brea...        4.0     0   \n",
       "16    ['Sandwiches', 'Buffets', 'Restaurants', 'Brea...        4.0     1   \n",
       "17    ['Sandwiches', 'Buffets', 'Restaurants', 'Brea...        4.0     0   \n",
       "18    ['Sandwiches', 'Buffets', 'Restaurants', 'Brea...        4.0     0   \n",
       "19    ['Sandwiches', 'Buffets', 'Restaurants', 'Brea...        4.0     0   \n",
       "20    ['Sandwiches', 'Buffets', 'Restaurants', 'Brea...        4.0     1   \n",
       "21    ['Sandwiches', 'Buffets', 'Restaurants', 'Brea...        4.0     0   \n",
       "22    ['Sandwiches', 'Buffets', 'Restaurants', 'Brea...        4.0     1   \n",
       "23    ['Sandwiches', 'Buffets', 'Restaurants', 'Brea...        4.0     0   \n",
       "24    ['Sandwiches', 'Buffets', 'Restaurants', 'Brea...        4.0     0   \n",
       "25    ['Sandwiches', 'Buffets', 'Restaurants', 'Brea...        4.0     0   \n",
       "26    ['Sandwiches', 'Buffets', 'Restaurants', 'Brea...        4.0     0   \n",
       "27    ['Sandwiches', 'Buffets', 'Restaurants', 'Brea...        4.0     1   \n",
       "28    ['Sandwiches', 'Buffets', 'Restaurants', 'Brea...        4.0     4   \n",
       "29    ['Sandwiches', 'Buffets', 'Restaurants', 'Brea...        4.0     0   \n",
       "...                                                 ...        ...   ...   \n",
       "4029  ['Sandwiches', 'Buffets', 'Restaurants', 'Brea...        4.0     0   \n",
       "4030  ['Sandwiches', 'Buffets', 'Restaurants', 'Brea...        4.0     0   \n",
       "4031  ['Sandwiches', 'Buffets', 'Restaurants', 'Brea...        4.0     0   \n",
       "4032  ['Sandwiches', 'Buffets', 'Restaurants', 'Brea...        4.0     0   \n",
       "4033  ['Sandwiches', 'Buffets', 'Restaurants', 'Brea...        4.0     0   \n",
       "4034  ['Sandwiches', 'Buffets', 'Restaurants', 'Brea...        4.0     3   \n",
       "4035  ['Sandwiches', 'Buffets', 'Restaurants', 'Brea...        4.0     0   \n",
       "4036  ['Sandwiches', 'Buffets', 'Restaurants', 'Brea...        4.0     2   \n",
       "4037  ['Sandwiches', 'Buffets', 'Restaurants', 'Brea...        4.0     1   \n",
       "4038  ['Sandwiches', 'Buffets', 'Restaurants', 'Brea...        4.0     0   \n",
       "4039  ['Sandwiches', 'Buffets', 'Restaurants', 'Brea...        4.0     0   \n",
       "4040  ['Sandwiches', 'Buffets', 'Restaurants', 'Brea...        4.0     0   \n",
       "4041  ['Sandwiches', 'Buffets', 'Restaurants', 'Brea...        4.0     0   \n",
       "4042  ['Sandwiches', 'Buffets', 'Restaurants', 'Brea...        4.0     0   \n",
       "4043  ['Sandwiches', 'Buffets', 'Restaurants', 'Brea...        4.0     2   \n",
       "4044  ['Sandwiches', 'Buffets', 'Restaurants', 'Brea...        4.0     0   \n",
       "4045  ['Sandwiches', 'Buffets', 'Restaurants', 'Brea...        4.0     0   \n",
       "4046  ['Sandwiches', 'Buffets', 'Restaurants', 'Brea...        4.0     0   \n",
       "4047  ['Sandwiches', 'Buffets', 'Restaurants', 'Brea...        4.0     1   \n",
       "4048  ['Sandwiches', 'Buffets', 'Restaurants', 'Brea...        4.0     0   \n",
       "4049  ['Sandwiches', 'Buffets', 'Restaurants', 'Brea...        4.0     0   \n",
       "4050  ['Sandwiches', 'Buffets', 'Restaurants', 'Brea...        4.0     0   \n",
       "4051  ['Sandwiches', 'Buffets', 'Restaurants', 'Brea...        4.0     1   \n",
       "4052  ['Sandwiches', 'Buffets', 'Restaurants', 'Brea...        4.0     0   \n",
       "4053  ['Sandwiches', 'Buffets', 'Restaurants', 'Brea...        4.0     0   \n",
       "4054  ['Sandwiches', 'Buffets', 'Restaurants', 'Brea...        4.0     0   \n",
       "4055  ['Sandwiches', 'Buffets', 'Restaurants', 'Brea...        4.0     0   \n",
       "4056  ['Sandwiches', 'Buffets', 'Restaurants', 'Brea...        4.0     1   \n",
       "4057  ['Sandwiches', 'Buffets', 'Restaurants', 'Brea...        4.0     1   \n",
       "4058  ['Sandwiches', 'Buffets', 'Restaurants', 'Brea...        4.0     1   \n",
       "\n",
       "            date  funny               review_id  stars  \\\n",
       "0     2015-02-25      0  pWnR3FNqTq1AoaZVj6cayw      3   \n",
       "1     2017-07-02      0  Xci8QJaDOB7OazJIP9U0Cw      5   \n",
       "2     2015-12-29      0  IZO6o6l-T8VKH-4eTzJNzw      3   \n",
       "3     2016-03-19      0  KNYBYYO0Iq1QEsP4noql5g      4   \n",
       "4     2015-10-14      0  9SGHR-0E37W9rC56uJeFPA      5   \n",
       "5     2015-07-20      0  EXZZw6XfEG1OwBre0L2daQ      5   \n",
       "6     2016-01-29      0  sFnI-FJQTAS1oKBKqCBhkg      4   \n",
       "7     2016-04-07      0  BQDV2B8hQZkmKjjViZzP8w      1   \n",
       "8     2016-12-30      0  w0clsHBC5Z6cZkM9WhdY4Q      2   \n",
       "9     2017-04-17      0  Cvu2u-qIT1VNMywoV21ziA      5   \n",
       "10    2017-11-21      0  HwslccNX5sAKrw_rU7h5BQ      3   \n",
       "11    2015-04-04      0  gOhwEO6XCXmXk0E7aIwklw      3   \n",
       "12    2015-08-30      0  t63ssFVnv2ZBL9lx9UnzqA      5   \n",
       "13    2016-12-04      1  as-Tsg83PKoXzREJmI4gUQ      3   \n",
       "14    2015-07-13      0  VsKdP0P31P9aPMcHKTi2gA      5   \n",
       "15    2017-07-01      0  Zy45ehOLmbOfv8OVpaJzGw      5   \n",
       "16    2016-12-11      1  ZETwl_l5TVUTUemsouYJ6Q      5   \n",
       "17    2017-08-06      1  0jb9KV2ESl0W6mHrYk02rw      2   \n",
       "18    2017-11-20      0  TIDiONXhflr4qCZXBfFMtA      1   \n",
       "19    2016-08-16      0  N6JbutDXjO2jKu_9P8nYWg      2   \n",
       "20    2016-06-26      1  Q9wx4WcOeRRrN1FMD4MMeg      4   \n",
       "21    2015-02-28      0  Z7THd6DVj_vwJugom08zTw      4   \n",
       "22    2017-05-31      0  1WRuzYwsnjMlcx2sBCJ3Pw      4   \n",
       "23    2017-07-03      0  jOQSuLlaU2KOGHIDVvNeNQ      4   \n",
       "24    2017-03-22      0  p1IkUuRTFOnI3I27b1Sl1w      4   \n",
       "25    2015-12-29      0  oC4wIGKFjU0DSc7WFsV9Nw      1   \n",
       "26    2017-11-25      0  4j3Poe0yXiryR0vZbS8QbQ      1   \n",
       "27    2015-05-16      2  cANFZwwu92d26GLsNNmcsg      3   \n",
       "28    2016-10-07      3  25e3treYkn23-6UiniSOAA      4   \n",
       "29    2015-08-13      0  T8dHL8iBqhNoAl6sT8QDaA      3   \n",
       "...          ...    ...                     ...    ...   \n",
       "4029  2017-03-13      0  _-tAHyiQdTBmCMAeHvsHfw      2   \n",
       "4030  2017-09-05      0  I1usaP9D4LAUprOuyzyuIg      3   \n",
       "4031  2015-01-28      0  gVaMlcxeC63Kp--3ae90CA      5   \n",
       "4032  2017-01-09      0  6TeUT58Jx2F9PQbegNAI7Q      3   \n",
       "4033  2015-11-22      0  suNcxa_TNxsfKZ7Ed-BcPA      5   \n",
       "4034  2017-08-08      0  u_92ULrSYU_LixKlMSNJ9Q      5   \n",
       "4035  2015-10-20      0  UrLDVRdXhp-3s4uj9APINQ      2   \n",
       "4036  2016-03-23      2  tIoZ0r51KMqNCl5KXR00zQ      5   \n",
       "4037  2015-07-30      1  zivCNJRvLEjoZgoWxMuGUA      5   \n",
       "4038  2016-02-23      0  jAlJ1ebwfPMHpAdkpDabCQ      5   \n",
       "4039  2017-12-05      0  rOHqCn-6r0Zf8ltWMrDKTQ      3   \n",
       "4040  2016-06-09      0  rG1pGVHdgiGlJLk2acrBMQ      5   \n",
       "4041  2017-06-07      0  knnQfM1DUqgtPpH-rHWNUg      3   \n",
       "4042  2016-09-05      0  XM-T7OUI1EGxDeiUcckWyg      1   \n",
       "4043  2016-03-03      3  BuvyHb-agvzanv7jparGQw      3   \n",
       "4044  2017-08-16      0  YtVK7JafZ5uzU-YP_2K7VA      5   \n",
       "4045  2015-06-15      0  H73DdxnLdW6B1rF3VqYH3A      2   \n",
       "4046  2017-12-01      0  Fxz85rxv4qPfNrtB2fMHHg      5   \n",
       "4047  2015-09-19      0  CjTbh5Nmi0lBuKATo6HZbQ      5   \n",
       "4048  2017-01-25      0  pKBCvlZDYFP6WpV4Zud34A      3   \n",
       "4049  2017-02-28      0  CDdZrtVWpzpwWhpOIrkQDQ      4   \n",
       "4050  2015-07-16      0  COWPZW3lQ75iHUoqXypTyQ      5   \n",
       "4051  2017-12-10      0  YLXpSz1Vd1ZVTqTNK1A-RQ      5   \n",
       "4052  2016-12-26      0  4kJJoj3s7xVlX6LsyQIcOw      1   \n",
       "4053  2017-07-31      0  Pgsk3FRut9usu_e84e0dhg      5   \n",
       "4054  2016-01-30      0  FVFfkHNmbhMLH1kpt7uaug      5   \n",
       "4055  2016-01-04      0  XStPpFKcrVblgHgBjcjreA      3   \n",
       "4056  2016-11-24      1  8Py21eTMB0wKMPZDgowEUQ      4   \n",
       "4057  2015-03-17      0  jdvrXTBGXyk9WUwkmAZVQg      4   \n",
       "4058  2016-08-11      0  wk0y--xK25mGKj-yPgMBbw      5   \n",
       "\n",
       "                                                   text  useful  \\\n",
       "0     Date & Time: Tuesday, 2/24/15 @ 2pm\\n\\nThe buf...       0   \n",
       "1     I'm staying at Caesar's Palace for 4th of July...       0   \n",
       "2     Great buffet and beautiful food presentation. ...       0   \n",
       "3     By far the best buffet in Vegas!! A must stop,...       2   \n",
       "4     Wholly schneikeis!   This was simply the best ...       0   \n",
       "5     My husband and I ate here back in March on a S...       0   \n",
       "6     40 bucks for lunch 50 for dinner. Be prepared ...       0   \n",
       "7     Worst service ever, estevan, took forever to c...       0   \n",
       "8     For the price we paid for our family , I would...       0   \n",
       "9     Really loved this place! We heard great things...       0   \n",
       "10    Very long wait. Once you pay you still have to...       0   \n",
       "11    Was great the first time I had it.  It seems a...       0   \n",
       "12    Bacchanal is so good! The quality of the food ...       0   \n",
       "13    As the rumored \"Best Buffet\" in Las Vegas, the...       0   \n",
       "14    We usually do 1 buffet per trip to Vegas. This...       0   \n",
       "15    Everything I ate was delicious, dim sum, chick...       0   \n",
       "16    AMAZINGGGG!!!! You have to go here if you are ...       1   \n",
       "17    Not sure what the hype is about here. I have d...       0   \n",
       "18    The worst buffet I have ever had. The worst th...       0   \n",
       "19    This place has gone downhill over the years tr...       0   \n",
       "20    Starting off with the good...huge selection of...       1   \n",
       "21    Great buffet for seafood lovers! Oysters on th...       0   \n",
       "22    Heard lines were pretty long here and we were ...       1   \n",
       "23    I've been here about 4 times now and I feel li...       1   \n",
       "24    Didn't realize the wife and I been here twice....       0   \n",
       "25    I got a ticket asking me to come back after 6 ...       1   \n",
       "26    I am honestly giving this Buffet a 1 star just...       0   \n",
       "27    This is based on the Mother's Day dinner menu....       2   \n",
       "28    Buffet Bliss!\\n\\nI came here with the recommen...       6   \n",
       "29    Food was delicious.  Had a little something fo...       1   \n",
       "...                                                 ...     ...   \n",
       "4029  As far as buffets go, this one was good. That'...       0   \n",
       "4030  I could keep this really short and it would ge...       0   \n",
       "4031  This place is nothing short of amazing. This i...       0   \n",
       "4032  Definitely the largest buffet I have every bee...       1   \n",
       "4033  Best buffet I've ever been to... unlimited mim...       0   \n",
       "4034  Hands down the best buffet I've been to! There...       4   \n",
       "4035  Very expensive and I think it's a lot of hype ...       0   \n",
       "4036  After much researching about which buffet to t...       2   \n",
       "4037  I'm going to preface this with, if you want to...       3   \n",
       "4038  ALL YOU CAN EAT, PERFECTLY SLICED CRAB LEGS WI...       0   \n",
       "4039  Big disappointment.  I read plenty of reviews ...       0   \n",
       "4040  A lot of the food was really delicious. My fav...       0   \n",
       "4041  Pro: Alot of food\\nCon: Long wait after wait a...       0   \n",
       "4042  Overrated! After hearing things like \"best buf...       0   \n",
       "4043  At a destination for tourists, there's sure to...       2   \n",
       "4044  Best Gelato in Vegas!!\\nAnd all the food is am...       0   \n",
       "4045  Massively disappointing. Except for the seafoo...       0   \n",
       "4046  On vacation in Las Vegas, NV staying at Caesar...       1   \n",
       "4047  My favorite buffet in all of Vegas for dinner....       3   \n",
       "4048  Went here with my girlfriend and spent $114 fo...       0   \n",
       "4049  For $55/person, I'm not totally convinced it's...       0   \n",
       "4050  go there 10 mins before dinner starts, pay the...       0   \n",
       "4051  Patty was an excellent server. All good was fr...       1   \n",
       "4052  The buffet for holiday the price is up, but th...       0   \n",
       "4053  This place is always on those \"Top Vegas Buffe...       0   \n",
       "4054  Every once in a while when we come and visit V...       0   \n",
       "4055  I feel like this buffet is a bit overrated... ...       0   \n",
       "4056  Arrive before 11 to avoid the crowd.\\nWe walke...       1   \n",
       "4057  I have never been to another Vegas buffet so I...       2   \n",
       "4058  Definitely the BEST Buffet in Vegas!!! Tip: Tr...       2   \n",
       "\n",
       "                     user_id  favorable  \n",
       "0     RFIZhrka0gCpiL62M5E93g      False  \n",
       "1     J90_7u_8vPYa03GMohNxAA       True  \n",
       "2     KGGA28eimhhOgHmSfyhEgw      False  \n",
       "3     gJGXoQ6UzqK-cWVO8MnGHA      False  \n",
       "4     ej7th1TBk_WA_y4GU0n_iw       True  \n",
       "5     pIzyC-oPzQccanodA2ckWQ       True  \n",
       "6     i25irB9ppeha7IXK1HcM2g      False  \n",
       "7     3H3yQmyzGuQ0ToooAp1uEA      False  \n",
       "8     eOeYJk4b7R9RjSvb4RZj8A      False  \n",
       "9     i05OLRVJCeN3ZD1dIM2mrQ       True  \n",
       "10    vI1b3YI2NYYQzxKkhPx-kg      False  \n",
       "11    CBaAgoD4aijYl-mQy7Wi9w      False  \n",
       "12    BGypylh2KjIr8GebzSU3fg       True  \n",
       "13    XrdEvB5ZuMwZN9J4aI55FA      False  \n",
       "14    6YYpJ59jfFCUHkGOpu2NTA       True  \n",
       "15    tj4f7dbf803UjDejrs7eiQ       True  \n",
       "16    HYJYLFock-gXhBE2Wln5zg       True  \n",
       "17    kEGXZcG2i4IcE3A_FdMI_Q      False  \n",
       "18    RQhAok-F4jGkBzC4ZTxNgw      False  \n",
       "19    jdiRcAMTA-dROFn4VBOPdQ      False  \n",
       "20    nc0Tz2DEKEcbuNnwre_igA      False  \n",
       "21    6N1BsH8fvJibb0OPltwdpg      False  \n",
       "22    3RTesI_MAwct13LWm4rhLw      False  \n",
       "23    ZajIvvSDcS7f1gsUcvJYiA      False  \n",
       "24    V78AWd95_6_gEr8zq9z5AA      False  \n",
       "25    _QZbPy0J-OZ6Tux0q6RWEQ      False  \n",
       "26    MpMcjmLeCF1ODE13FPkjoA      False  \n",
       "27    yAzOaJtPSuiayL-oDSaT3w      False  \n",
       "28    dcry6TioDEKJCSsRFq4PXw      False  \n",
       "29    5OwYOdoQFrPkVG4QeoODFw      False  \n",
       "...                      ...        ...  \n",
       "4029  j5PYLJ_JFpADEI2Ec-v7Ew      False  \n",
       "4030  c5kZzOnWFOOsJWj5s6L36A      False  \n",
       "4031  wwSdeRlg0VA5Zd07DNk_5A       True  \n",
       "4032  PlwxTapFNdr041N67MClvw      False  \n",
       "4033  0THbB3hQc4R2sSUnyyH3qw       True  \n",
       "4034  Il5rEF1q73uT-kzGoXIy_w       True  \n",
       "4035  gde1n0XcBZUqKRhsa1Slaw      False  \n",
       "4036  XfyFuYsQMOzskexwu6Kgow       True  \n",
       "4037  2hTp0sjO9ugflayPIUut3A       True  \n",
       "4038  0FDaxGK8R5O2TCdHYR8Ppg       True  \n",
       "4039  VbpUN4KnH6SNsX2NkBmxEg      False  \n",
       "4040  -_hiAMuWv43fAwDgJdg65w       True  \n",
       "4041  3cHR8o8sh32YxHGwm-OkqA      False  \n",
       "4042  P8otN2q8dzZRmcTrPzInSQ      False  \n",
       "4043  HEBGcqMnSWyOHgDCzaeP-A      False  \n",
       "4044  JCGnDEs7L7U0zNJrLbrrzw       True  \n",
       "4045  5qcxOjI1ATv7SGviRM1wtg      False  \n",
       "4046  8z4esMxnrIJFL_7MSjQksA       True  \n",
       "4047  _JwxuLa5Nf4GW-bLQYpdaA       True  \n",
       "4048  q_2JIsgARvvHAirn4ZABQw      False  \n",
       "4049  t6uAOJHnui8zl2-PJ9m_Jw      False  \n",
       "4050  HxiPjEsicsdChnARYjZdnw       True  \n",
       "4051  L5_8oviH2I6ltKqH517unA       True  \n",
       "4052  3q6QvACzuo3t1M5d62CX4Q      False  \n",
       "4053  mLPNZKUoogj71t5hEqHU8A       True  \n",
       "4054  mKLystZrkmpO0Rdf36tOJA       True  \n",
       "4055  ha5jq3G0RMr2wQ0AGnyG4Q      False  \n",
       "4056  x05NsVRuwyiklsOrrWI0tg      False  \n",
       "4057  NPi15vfyZ-Xeqgr0BT_yOA      False  \n",
       "4058  V-eBx19Yx9F1BtmuM3qTtQ       True  \n",
       "\n",
       "[4059 rows x 14 columns]"
      ]
     },
     "execution_count": 30,
     "metadata": {},
     "output_type": "execute_result"
    }
   ],
   "source": [
    "# Find the business who got most reviews, get your filtered df, name it df_top_restaurant\n",
    "most_reviewed_restaurant = df['business_id'].value_counts().index[0]\n",
    "df_top_restaurant = df[df['business_id'] == most_reviewed_restaurant].copy().reset_index()\n",
    "df_top_restaurant"
   ]
  },
  {
   "cell_type": "markdown",
   "metadata": {},
   "source": [
    "Load restaurant profile information from the business dataset"
   ]
  },
  {
   "cell_type": "code",
   "execution_count": 31,
   "metadata": {},
   "outputs": [
    {
     "data": {
      "text/html": [
       "<div>\n",
       "<style scoped>\n",
       "    .dataframe tbody tr th:only-of-type {\n",
       "        vertical-align: middle;\n",
       "    }\n",
       "\n",
       "    .dataframe tbody tr th {\n",
       "        vertical-align: top;\n",
       "    }\n",
       "\n",
       "    .dataframe thead th {\n",
       "        text-align: right;\n",
       "    }\n",
       "</style>\n",
       "<table border=\"1\" class=\"dataframe\">\n",
       "  <thead>\n",
       "    <tr style=\"text-align: right;\">\n",
       "      <th></th>\n",
       "      <th>address</th>\n",
       "      <th>attributes</th>\n",
       "      <th>business_id</th>\n",
       "      <th>categories</th>\n",
       "      <th>city</th>\n",
       "      <th>hours</th>\n",
       "      <th>is_open</th>\n",
       "      <th>latitude</th>\n",
       "      <th>longitude</th>\n",
       "      <th>name</th>\n",
       "      <th>neighborhood</th>\n",
       "      <th>postal_code</th>\n",
       "      <th>review_count</th>\n",
       "      <th>stars</th>\n",
       "      <th>state</th>\n",
       "    </tr>\n",
       "  </thead>\n",
       "  <tbody>\n",
       "    <tr>\n",
       "      <th>119907</th>\n",
       "      <td>3570 S Las Vegas Blvd</td>\n",
       "      <td>{'RestaurantsTableService': True, 'GoodForMeal...</td>\n",
       "      <td>RESDUcs7fIiihp38-d6_6g</td>\n",
       "      <td>[Sandwiches, Buffets, Restaurants, Breakfast &amp;...</td>\n",
       "      <td>Las Vegas</td>\n",
       "      <td>{'Monday': '7:30-22:00', 'Tuesday': '7:30-22:0...</td>\n",
       "      <td>1</td>\n",
       "      <td>36.116113</td>\n",
       "      <td>-115.176222</td>\n",
       "      <td>Bacchanal Buffet</td>\n",
       "      <td>The Strip</td>\n",
       "      <td>89109</td>\n",
       "      <td>7009</td>\n",
       "      <td>4.0</td>\n",
       "      <td>NV</td>\n",
       "    </tr>\n",
       "  </tbody>\n",
       "</table>\n",
       "</div>"
      ],
      "text/plain": [
       "                      address  \\\n",
       "119907  3570 S Las Vegas Blvd   \n",
       "\n",
       "                                               attributes  \\\n",
       "119907  {'RestaurantsTableService': True, 'GoodForMeal...   \n",
       "\n",
       "                   business_id  \\\n",
       "119907  RESDUcs7fIiihp38-d6_6g   \n",
       "\n",
       "                                               categories       city  \\\n",
       "119907  [Sandwiches, Buffets, Restaurants, Breakfast &...  Las Vegas   \n",
       "\n",
       "                                                    hours  is_open   latitude  \\\n",
       "119907  {'Monday': '7:30-22:00', 'Tuesday': '7:30-22:0...        1  36.116113   \n",
       "\n",
       "         longitude              name neighborhood postal_code  review_count  \\\n",
       "119907 -115.176222  Bacchanal Buffet    The Strip       89109          7009   \n",
       "\n",
       "        stars state  \n",
       "119907    4.0    NV  "
      ]
     },
     "execution_count": 31,
     "metadata": {},
     "output_type": "execute_result"
    }
   ],
   "source": [
    "# Load business dataset \n",
    "# Take a look at the most reviewed restaurant's profile \n",
    "import json\n",
    "import pandas as pd\n",
    "\n",
    "business_file ='/Users/yaru/Downloads/dataset/business.json'\n",
    "with open(business_file) as f:\n",
    "    df_business = pd.DataFrame(json.loads(line) for line in f)\n",
    "\n",
    "df_business[df_business['business_id'] == most_reviewed_restaurant]"
   ]
  },
  {
   "cell_type": "markdown",
   "metadata": {},
   "source": [
    "### Vectorize the text feature"
   ]
  },
  {
   "cell_type": "code",
   "execution_count": 32,
   "metadata": {},
   "outputs": [
    {
     "data": {
      "text/plain": [
       "(dtype('O'), (4059,))"
      ]
     },
     "execution_count": 32,
     "metadata": {},
     "output_type": "execute_result"
    }
   ],
   "source": [
    "# Take the values of the column that contains review text data, save to a variable named \"documents_top_restaurant\"\n",
    "documents_top_restaurant = df_top_restaurant['text'].values\n",
    "documents_top_restaurant.dtype, documents_top_restaurant.shape"
   ]
  },
  {
   "cell_type": "markdown",
   "metadata": {},
   "source": [
    "### Define target variable (for later classification use)"
   ]
  },
  {
   "cell_type": "markdown",
   "metadata": {},
   "source": [
    "#### Again, use perfect (5 stars) and imperfect (1-4 stars) rating"
   ]
  },
  {
   "cell_type": "code",
   "execution_count": 33,
   "metadata": {},
   "outputs": [
    {
     "data": {
      "text/plain": [
       "array([0, 1, 0, ..., 0, 0, 1])"
      ]
     },
     "execution_count": 33,
     "metadata": {},
     "output_type": "execute_result"
    }
   ],
   "source": [
    "df_top_restaurant['favorable'] = (df_top_restaurant['stars'] > 4)\n",
    "target_top_restaurant = df_top_restaurant['favorable'].values.astype(int)\n",
    "target_top_restaurant"
   ]
  },
  {
   "cell_type": "markdown",
   "metadata": {},
   "source": [
    "#### Check the statistic of the target variable"
   ]
  },
  {
   "cell_type": "code",
   "execution_count": 34,
   "metadata": {},
   "outputs": [
    {
     "data": {
      "text/plain": [
       "(0.3855629465385563, 0.4867280152149275)"
      ]
     },
     "execution_count": 34,
     "metadata": {},
     "output_type": "execute_result"
    }
   ],
   "source": [
    "target_top_restaurant.mean(), target_top_restaurant.std()"
   ]
  },
  {
   "cell_type": "markdown",
   "metadata": {},
   "source": [
    "### Create training dataset and test dataset"
   ]
  },
  {
   "cell_type": "code",
   "execution_count": 35,
   "metadata": {},
   "outputs": [],
   "source": [
    "from sklearn.cross_validation import train_test_split"
   ]
  },
  {
   "cell_type": "code",
   "execution_count": 36,
   "metadata": {},
   "outputs": [],
   "source": [
    "# documents_top_restaurant is your X, target_top_restaurant is your y\n",
    "# Now split the data to training set and test set\n",
    "# Now your data is smaller, you can use a typical \"test_size\", e.g. 0.3-0.7\n",
    "X_train, X_test, y_train, y_test = train_test_split(\n",
    "    documents_top_restaurant,\n",
    "    target_top_restaurant,\n",
    "    test_size = 0.4,\n",
    "    random_state = 42\n",
    ")"
   ]
  },
  {
   "cell_type": "markdown",
   "metadata": {},
   "source": [
    "### Get NLP representation of the documents"
   ]
  },
  {
   "cell_type": "code",
   "execution_count": 37,
   "metadata": {},
   "outputs": [],
   "source": [
    "from sklearn.feature_extraction.text import TfidfVectorizer"
   ]
  },
  {
   "cell_type": "code",
   "execution_count": 38,
   "metadata": {},
   "outputs": [],
   "source": [
    "# Create TfidfVectorizer, and name it vectorizer\n",
    "vectorizer = TfidfVectorizer(stop_words='english', max_features=1000)"
   ]
  },
  {
   "cell_type": "code",
   "execution_count": 39,
   "metadata": {},
   "outputs": [
    {
     "data": {
      "text/plain": [
       "(2435, 1000)"
      ]
     },
     "execution_count": 39,
     "metadata": {},
     "output_type": "execute_result"
    }
   ],
   "source": [
    "# Train the model with your training data\n",
    "vector_train = vectorizer.fit_transform(X_train).toarray()\n",
    "vector_train.shape"
   ]
  },
  {
   "cell_type": "code",
   "execution_count": 40,
   "metadata": {},
   "outputs": [],
   "source": [
    "# Get the vocab of your tfidf\n",
    "words = vectorizer.get_feature_names()"
   ]
  },
  {
   "cell_type": "code",
   "execution_count": 41,
   "metadata": {},
   "outputs": [],
   "source": [
    "# Use the trained model to transform the test data\n",
    "vector_test = vectorizer.transform(X_test).toarray()"
   ]
  },
  {
   "cell_type": "code",
   "execution_count": 42,
   "metadata": {},
   "outputs": [],
   "source": [
    "# Use the trained model to transform all the data\n",
    "vector_documents_top_restaurant = vectorizer.transform(documents_top_restaurant).toarray()"
   ]
  },
  {
   "cell_type": "markdown",
   "metadata": {},
   "source": [
    "### Cluster reviews with KMeans"
   ]
  },
  {
   "cell_type": "markdown",
   "metadata": {},
   "source": [
    "#### Fit k-means clustering on the training vectors and make predictions on all data"
   ]
  },
  {
   "cell_type": "code",
   "execution_count": 43,
   "metadata": {},
   "outputs": [
    {
     "data": {
      "text/plain": [
       "KMeans(algorithm='auto', copy_x=True, init='k-means++', max_iter=300,\n",
       "    n_clusters=5, n_init=10, n_jobs=1, precompute_distances='auto',\n",
       "    random_state=None, tol=0.0001, verbose=0)"
      ]
     },
     "execution_count": 43,
     "metadata": {},
     "output_type": "execute_result"
    }
   ],
   "source": [
    "from sklearn.cluster import KMeans\n",
    "\n",
    "kmeans = KMeans(n_clusters = 5)\n",
    "\n",
    "kmeans.fit(vector_train)"
   ]
  },
  {
   "cell_type": "markdown",
   "metadata": {},
   "source": [
    "#### Make predictions on all your data"
   ]
  },
  {
   "cell_type": "code",
   "execution_count": 44,
   "metadata": {},
   "outputs": [],
   "source": [
    "assigned_cluster = kmeans.predict(vector_documents_top_restaurant)"
   ]
  },
  {
   "cell_type": "markdown",
   "metadata": {},
   "source": [
    "#### Inspect the centroids"
   ]
  },
  {
   "cell_type": "code",
   "execution_count": 45,
   "metadata": {},
   "outputs": [
    {
     "name": "stdout",
     "output_type": "stream",
     "text": [
      "Cluster centers:\n",
      "[[0.00275671 0.00523989 0.00258222 ... 0.0096121  0.0024632  0.00354609]\n",
      " [0.00293018 0.01812671 0.00329069 ... 0.01262953 0.00153684 0.00153858]\n",
      " [0.00511702 0.00805971 0.00328207 ... 0.00457201 0.00228777 0.0028822 ]\n",
      " [0.00155655 0.00140009 0.00073768 ... 0.00882744 0.00110385 0.00630264]\n",
      " [0.00582405 0.01039889 0.00285412 ... 0.00887689 0.00285915 0.00445073]]\n"
     ]
    }
   ],
   "source": [
    "print('Cluster centers:')\n",
    "print(kmeans.cluster_centers_)"
   ]
  },
  {
   "cell_type": "markdown",
   "metadata": {},
   "source": [
    "#### Find the top 10 features for each cluster."
   ]
  },
  {
   "cell_type": "code",
   "execution_count": 46,
   "metadata": {},
   "outputs": [],
   "source": [
    "n_feat = 10\n",
    "top_centroids = kmeans.cluster_centers_.argsort()[:,-1:-n_feat:-1]"
   ]
  },
  {
   "cell_type": "code",
   "execution_count": 47,
   "metadata": {},
   "outputs": [
    {
     "name": "stdout",
     "output_type": "stream",
     "text": [
      "Top features for each cluster:\n",
      "0: crab, legs, good, buffet, prime, food, rib, king, like\n",
      "1: line, wait, time, food, long, buffet, hour, hours, got\n",
      "2: food, good, buffet, place, service, price, great, worth, quality\n",
      "3: best, buffet, vegas, great, food, las, buffets, selection, worth\n",
      "4: buffet, seafood, station, section, food, dessert, asian, good, vegas\n"
     ]
    }
   ],
   "source": [
    "print('Top features for each cluster:')\n",
    "for num, centroid in enumerate(top_centroids):\n",
    "    print('%d: %s' %(num, ', '.join(words[i] for i in centroid)))"
   ]
  },
  {
   "cell_type": "markdown",
   "metadata": {},
   "source": [
    "#### Print out the rating and review of a random sample of the reviews assigned to each cluster to get a sense of the cluster."
   ]
  },
  {
   "cell_type": "code",
   "execution_count": 48,
   "metadata": {},
   "outputs": [
    {
     "data": {
      "text/plain": [
       "array([0, 1, 2, 3, 4], dtype=int32)"
      ]
     },
     "execution_count": 48,
     "metadata": {},
     "output_type": "execute_result"
    }
   ],
   "source": [
    "np.unique(assigned_cluster)"
   ]
  },
  {
   "cell_type": "code",
   "execution_count": 49,
   "metadata": {},
   "outputs": [
    {
     "name": "stdout",
     "output_type": "stream",
     "text": [
      "==========\n",
      "Cluster 0:\n",
      "  3 - \n",
      "came sunday for brunch. it said $49 but we were a group of 9 so after gratuity and tax its $63 per person. kind of pricey and it did n not include mimosas so we paid extra $5 to add on for everyone. we waited about an hour so by the time we sat we were hungry! lol.\n",
      "\n",
      "ceviche was delicious and one of the best things from the buffet. I ate lot of crab legs to make up for the $68 price tag. I just wish there were warm ones. the \"best things\" listed we tried wasn't that great. all the dessert sample were good and the juice bar area was cute and fresh!\n",
      "\n",
      "there is a two-hour limit for buffet. chose your food wisely haha!\n",
      "  3 - \n",
      "I mean it's GOOD, but it's not life changing or anything.   The wait is obnoxious, someone taking your picture as you walk in is also obnoxious, the lines to get to the food are obnoxious, and the way the whole buffet is spread out is obnoxious.  \n",
      "\n",
      "That said, the pork belly, crab legs, dim sum, and prime rib were all excellent.\n",
      "\n",
      "==========\n",
      "Cluster 1:\n",
      "  3 - \n",
      "It's really not worth the wait. The food is ok. My family opt paying the additional $30 to get in front of the line which comes out to $85 per person. The wait was 2 hours. There was no way we were standing in line for 2 hours. The prime rib was really chewy, the crab legs had minimal meat, the carnasada tacos was also chewy, and most of the food had too much salt. The service was very slow. We had to put our old plates on another table because they were not clearing it. I can't believe people wait over two hours for this. The pros were the desserts. There were plenty to choose from. If u are looking for a good seafood buffet, avoid this place. The crab claws are not good quality. This place is only ok.\n",
      "  5 - \n",
      "In all honesty, this was the best buffet I've ever been to in my life. The variety is endless especially because they have dishes from all types of cultures and different cuisines. The best part about it all was the fact that the foods they incorporated from different cultures such as my own (Chinese) tasted exactly the way it would've if you would have gotten it from an actual restaurant that dedicated it's food to that culture. \n",
      "\n",
      "Me and my friends went here on a Sunday afternoon thinking it would be extremely packed and busy, but luckily to our surprise, it wasn't at all. We were all prepared to wait over an hour to eat even though we were all extremely hungry but figured with all the buzz bout how good it is that it would be worth the wait. They have a pretty efficient system in which you enter your name, phone number, and the size of your party into an iPad that places you in the wait list. We confirmed with the attendant there and she told us it would be about a 30 minute wait, which isn't bad at all considering we were prepared to wait even longer. However, we only ended up waiting 10-15 minutes!!\n",
      "**I do believe they have a separate package deal in which you can skip over the line if you pay an additional to the buffet meal price (around $50)**\n",
      "\n",
      "My favorites were the great selection of meats, the dim sum, seafood, and the endless variety of desserts.\n",
      "\n",
      "Overall, even though it's pricey, I think it's worth the try if you're ever in Vegas. The price definitely is worth it and cheaper than you think if you actually eat things like prime rib and snow crab legs because those alone at an actual restaurant as a meal would already equate to the price you pay if not over that.\n",
      "\n",
      "==========\n",
      "Cluster 2:\n",
      "  1 - \n",
      "We fell for the hype.  The lines at the dinner hour were very long compared to all of the other restaurants in the area.  Definitely not worth the price.\n",
      "  5 - \n",
      "Great food!! Mark, our server, did a great job!! He made sure drinks were flowing and that we had all that we needed!\n",
      "\n",
      "==========\n",
      "Cluster 3:\n",
      "  5 - \n",
      "This is still the best buffet in town.  It has gone down a bit since it first opened but it is another level better than Bellagio or Wynn or Wicked Spoon.  If you only had one Vegas buffet, this would be the one you have to try.\n",
      "  5 - \n",
      "Me and my boyfriends favorite buffet in Vegas. Despite how long the line can be and how pricey it may be, its worth every minute and penny. We always come here for different occasions and it never disappoints us :)\n",
      "\n",
      "==========\n",
      "Cluster 4:\n",
      "  5 - \n",
      "I'm staying at Caesar's Palace for 4th of July weekend and today was my very first time visiting the long anticipated Bacchanal Buffet. I have to admit, with all the hype and 5 star positive reviews I have heard of this buffet (from friends, peers and other reviews) there was a heck of a lot to live up to. The result? Two thumbs up of approval. Absolutely AMAZING.\n",
      "Upon entrance, I was blown away by the decor. Stunning. The restaurant utilizes glassware for much of their decor, which made for contemporary, yet comfortable ambiance, garnished with an array of the most appetizing dishes I have ever seen at a buffet - and I have been to many around the USA, especially buffets in Las Vegas.\n",
      "I sampled everything. Starting with the Chinese food to the Mexican Sope (stuffed with zucchini flower and cheese) these were incredible - I could have eaten THREE. Next was the Wagyu Beef, Brisket, and the Suckling Pig - not fatty, full of meat, skin was cripsy - perfectly done and the chef on the meat station was a hoot! Ended the meal with an awesome selection of desserts. The dessert station - my favorite - where do I even begin? (salivate salivate) Most of the buffets in Vegas I've eaten at are overly sweet and taste like they've come out of a box. The desserts here are spot on. Gelato and Ice Cream selection is excellent. Some of the best ice creams I have ever tasted - lemon basil sorbet- heart heart. Rice pudding was refreshing and tart. The coconut macroons, Good Lord. For the holiday weekend they even decorated some of the desserts with little flags - super patriotic and thoughtful.\n",
      "Overall, I give this buffet 5 stars, A+++. Service was spot on as well, Super attentive. \n",
      "Great attention to detail. \n",
      "If you want a great meal, great dessert, and great service hit the Bacchanal. My only gripe was that the wait was long to get in, but 100% worth it.\n",
      "  5 - \n",
      "The only reason I enjoy going to Las Vegas is because of the food, and of course this means buffets.  The Bacchanal Buffet is said to be the \"best buffet in Vegas\" and it better be if they're going to charge $65+ per person. I'm going to go into a lot of detail about the entire experience because there is more than food to this review.\n",
      "\n",
      "Starting with the set-up of the restaurant, it is split up into different sections. Next to the entrance, there are the crab legs and shrimp cocktail, basically all the seafood. Next, is the American food, mashed potatoes as well as mac & cheese: comfort food galore. They have a Mexican section w/ horchata and pozole. Moving to the back of the buffet is the Italian section, and finally the Asian one with sushi, miso soup, etc. My favorite section is the dessert section, they have a crepe maker and this is my favorite part of the entire buffet. The first and last thing I get whenever I come here is a nutella crepe with homemade whipped creme, MY FAVORITE.\n",
      "\n",
      "The food is exceptional. All the bowls that the food are served in are placed over heaters, so the hot food stays hot and fresh. I love the dessert section, gelato, chocolate covered strawberries, I could stay here all day. If you're feeling fancy and hungry, try this place and you will definitely be coming back for more.\n",
      "\n"
     ]
    },
    {
     "name": "stderr",
     "output_type": "stream",
     "text": [
      "/Users/yaru/anaconda3/lib/python3.6/site-packages/ipykernel_launcher.py:7: DeprecationWarning: \n",
      ".ix is deprecated. Please use\n",
      ".loc for label based indexing or\n",
      ".iloc for positional indexing\n",
      "\n",
      "See the documentation here:\n",
      "http://pandas.pydata.org/pandas-docs/stable/indexing.html#ix-indexer-is-deprecated\n",
      "  import sys\n"
     ]
    }
   ],
   "source": [
    "for i in range(kmeans.n_clusters):\n",
    "    cluster = np.arange(0,vector_documents_top_restaurant.shape[0])[assigned_cluster == i]\n",
    "    sample_reviews = np.random.choice(cluster, 2, replace=False)\n",
    "    print('='*10)\n",
    "    print('Cluster %d:' %i)\n",
    "    for review_index in sample_reviews:\n",
    "        print('  %s - ' %df_top_restaurant.ix[review_index]['stars'],)\n",
    "        print('%s' %df_top_restaurant.ix[review_index]['text'])\n",
    "    print()"
   ]
  },
  {
   "cell_type": "markdown",
   "metadata": {},
   "source": [
    "## Use PCA to reduce dimensionality"
   ]
  },
  {
   "cell_type": "markdown",
   "metadata": {},
   "source": [
    "### Stardardize features"
   ]
  },
  {
   "cell_type": "code",
   "execution_count": 50,
   "metadata": {},
   "outputs": [],
   "source": [
    "from sklearn.preprocessing import StandardScaler\n",
    "\n",
    "scaler = StandardScaler()\n",
    "X_train_scaled = scaler.fit_transform(vector_train)\n",
    "X_test_scaled = scaler.transform(vector_test)"
   ]
  },
  {
   "cell_type": "markdown",
   "metadata": {},
   "source": [
    "### Use PCA to transform data (train and test) and get princial components"
   ]
  },
  {
   "cell_type": "code",
   "execution_count": 51,
   "metadata": {},
   "outputs": [],
   "source": [
    "from sklearn.decomposition import PCA\n",
    "\n",
    "# Let's pick a n_components\n",
    "n_components = 50\n",
    "pca = PCA(n_components)\n",
    "\n",
    "X_train_pca = pca.fit_transform(X_train_scaled)\n",
    "X_test_pca = pca.transform(X_test_scaled)"
   ]
  },
  {
   "cell_type": "code",
   "execution_count": 52,
   "metadata": {},
   "outputs": [
    {
     "data": {
      "text/plain": [
       "((2435, 50), (1624, 50))"
      ]
     },
     "execution_count": 52,
     "metadata": {},
     "output_type": "execute_result"
    }
   ],
   "source": [
    "X_train_pca.shape, X_test_pca.shape"
   ]
  },
  {
   "cell_type": "markdown",
   "metadata": {},
   "source": [
    "### See how much (and how much percentage of) variance the principal components explain"
   ]
  },
  {
   "cell_type": "code",
   "execution_count": 53,
   "metadata": {},
   "outputs": [
    {
     "data": {
      "text/plain": [
       "(50, 1000)"
      ]
     },
     "execution_count": 53,
     "metadata": {},
     "output_type": "execute_result"
    }
   ],
   "source": [
    "pca.components_.shape"
   ]
  },
  {
   "cell_type": "code",
   "execution_count": 54,
   "metadata": {},
   "outputs": [
    {
     "name": "stdout",
     "output_type": "stream",
     "text": [
      "[8.43254548 6.55346435 4.37463374 4.13038076 3.77419075 3.50653683\n",
      " 3.41229934 3.26090172 3.23232105 3.09635123 3.05504315 2.98542381\n",
      " 2.90704262 2.85522949 2.84904505 2.79261396 2.77284587 2.7272591\n",
      " 2.69346439 2.6648918 ]\n",
      "[0.00842908 0.00655077 0.00437284 0.00412868 0.00377264 0.0035051\n",
      " 0.0034109  0.00325956 0.00323099 0.00309508 0.00305379 0.0029842\n",
      " 0.00290585 0.00285406 0.00284788 0.00279147 0.00277171 0.00272614\n",
      " 0.00269236 0.0026638 ]\n"
     ]
    }
   ],
   "source": [
    "print(pca.explained_variance_[:20])\n",
    "print(pca.explained_variance_ratio_[:20])"
   ]
  },
  {
   "cell_type": "markdown",
   "metadata": {},
   "source": [
    "### Viz: plot proportion of variance explained with top principal components\n",
    "\n",
    "For clear display, you may start with plotting <=20 principal components"
   ]
  },
  {
   "cell_type": "code",
   "execution_count": 55,
   "metadata": {},
   "outputs": [
    {
     "data": {
      "text/plain": [
       "Text(0,0.5,'Proportion of variance explained')"
      ]
     },
     "execution_count": 55,
     "metadata": {},
     "output_type": "execute_result"
    },
    {
     "data": {
      "image/png": "[encoded data removed]",
      "text/plain": [
       "<matplotlib.figure.Figure at 0x113f06630>"
      ]
     },
     "metadata": {},
     "output_type": "display_data"
    }
   ],
   "source": [
    "n_col_to_display = 20\n",
    "pca_range = np.arange(n_col_to_display)+1\n",
    "pca_names = ['PCA_%s' % i for i in pca_range]\n",
    "plt.figure(figsize=(10,10))\n",
    "plt.bar(pca_range, pca.explained_variance_ratio_[:n_col_to_display],align='center')\n",
    "xticks = plt.xticks(pca_range, pca_names, rotation =90)\n",
    "plt.ylabel('Proportion of variance explained')"
   ]
  },
  {
   "cell_type": "markdown",
   "metadata": {},
   "source": [
    "## Classifying positive/negative review with PCA preprocessing"
   ]
  },
  {
   "cell_type": "markdown",
   "metadata": {},
   "source": [
    "### Logistic Regression Classifier\n",
    "#### Use standardized tf-idf vectors as features"
   ]
  },
  {
   "cell_type": "code",
   "execution_count": 56,
   "metadata": {},
   "outputs": [
    {
     "data": {
      "text/plain": [
       "LogisticRegression(C=1.0, class_weight=None, dual=False, fit_intercept=True,\n",
       "          intercept_scaling=1, max_iter=100, multi_class='ovr', n_jobs=1,\n",
       "          penalty='l2', random_state=None, solver='liblinear', tol=0.0001,\n",
       "          verbose=0, warm_start=False)"
      ]
     },
     "execution_count": 56,
     "metadata": {},
     "output_type": "execute_result"
    }
   ],
   "source": [
    "# Build a Logistic Regression Classifier, train with standardized tf-idf vectors\n",
    "\n",
    "from sklearn.linear_model import LogisticRegression\n",
    "\n",
    "model_lr = LogisticRegression()\n",
    "model_lr.fit(X_train_scaled, y_train)"
   ]
  },
  {
   "cell_type": "code",
   "execution_count": 57,
   "metadata": {},
   "outputs": [
    {
     "data": {
      "text/plain": [
       "(2435, 1000)"
      ]
     },
     "execution_count": 57,
     "metadata": {},
     "output_type": "execute_result"
    }
   ],
   "source": [
    "X_train_scaled.shape"
   ]
  },
  {
   "cell_type": "code",
   "execution_count": 58,
   "metadata": {},
   "outputs": [
    {
     "data": {
      "text/plain": [
       "0.9971252566735113"
      ]
     },
     "execution_count": 58,
     "metadata": {},
     "output_type": "execute_result"
    }
   ],
   "source": [
    "# Get score for training set\n",
    "model_lr.score(X_train_scaled, y_train)"
   ]
  },
  {
   "cell_type": "code",
   "execution_count": 59,
   "metadata": {
    "scrolled": true
   },
   "outputs": [
    {
     "data": {
      "text/plain": [
       "0.7112068965517241"
      ]
     },
     "execution_count": 59,
     "metadata": {},
     "output_type": "execute_result"
    }
   ],
   "source": [
    "# Get score for test set\n",
    "model_lr.score(X_test_scaled, y_test)"
   ]
  },
  {
   "cell_type": "markdown",
   "metadata": {},
   "source": [
    "#### Use (Stardardized + PCA) tf-idf vectors as features"
   ]
  },
  {
   "cell_type": "code",
   "execution_count": 60,
   "metadata": {},
   "outputs": [
    {
     "data": {
      "text/plain": [
       "LogisticRegression(C=1.0, class_weight=None, dual=False, fit_intercept=True,\n",
       "          intercept_scaling=1, max_iter=100, multi_class='ovr', n_jobs=1,\n",
       "          penalty='l2', random_state=None, solver='liblinear', tol=0.0001,\n",
       "          verbose=0, warm_start=False)"
      ]
     },
     "execution_count": 60,
     "metadata": {},
     "output_type": "execute_result"
    }
   ],
   "source": [
    "# Build a Logistic Regression Classifier, train with PCA tranformed X\n",
    "\n",
    "from sklearn.linear_model import LogisticRegression\n",
    "\n",
    "model_lr = LogisticRegression()\n",
    "model_lr.fit(X_train_pca, y_train)"
   ]
  },
  {
   "cell_type": "code",
   "execution_count": 61,
   "metadata": {},
   "outputs": [
    {
     "data": {
      "text/plain": [
       "0.7860369609856263"
      ]
     },
     "execution_count": 61,
     "metadata": {},
     "output_type": "execute_result"
    }
   ],
   "source": [
    "# Get score for training set\n",
    "model_lr.score(X_train_pca, y_train)"
   ]
  },
  {
   "cell_type": "code",
   "execution_count": 62,
   "metadata": {},
   "outputs": [
    {
     "data": {
      "text/plain": [
       "0.7875615763546798"
      ]
     },
     "execution_count": 62,
     "metadata": {},
     "output_type": "execute_result"
    }
   ],
   "source": [
    "# Get score for test set, REMEMBER to use PCA-transformed X!\n",
    "model_lr.score(X_test_pca, y_test)"
   ]
  },
  {
   "cell_type": "markdown",
   "metadata": {},
   "source": [
    "PCA preprocessing performed a better test score than non-PCA preprocessing, but a worse training score than non-PCA preprocessing. Compared the trainging and test scores, we found PCA preprocessing performed better in this dataset, while non-PCA preprocessing showed overfitting in this dataset due to too many featured included in the model."
   ]
  },
  {
   "cell_type": "markdown",
   "metadata": {},
   "source": [
    "#### Plot the coefficients against principal components"
   ]
  },
  {
   "cell_type": "code",
   "execution_count": 63,
   "metadata": {},
   "outputs": [
    {
     "data": {
      "text/html": [
       "<div>\n",
       "<style scoped>\n",
       "    .dataframe tbody tr th:only-of-type {\n",
       "        vertical-align: middle;\n",
       "    }\n",
       "\n",
       "    .dataframe tbody tr th {\n",
       "        vertical-align: top;\n",
       "    }\n",
       "\n",
       "    .dataframe thead th {\n",
       "        text-align: right;\n",
       "    }\n",
       "</style>\n",
       "<table border=\"1\" class=\"dataframe\">\n",
       "  <thead>\n",
       "    <tr style=\"text-align: right;\">\n",
       "      <th></th>\n",
       "      <th>0</th>\n",
       "      <th>1</th>\n",
       "    </tr>\n",
       "  </thead>\n",
       "  <tbody>\n",
       "    <tr>\n",
       "      <th>6</th>\n",
       "      <td>pc_6</td>\n",
       "      <td>0.224356</td>\n",
       "    </tr>\n",
       "    <tr>\n",
       "      <th>5</th>\n",
       "      <td>pc_5</td>\n",
       "      <td>0.185946</td>\n",
       "    </tr>\n",
       "    <tr>\n",
       "      <th>32</th>\n",
       "      <td>pc_32</td>\n",
       "      <td>0.118948</td>\n",
       "    </tr>\n",
       "    <tr>\n",
       "      <th>20</th>\n",
       "      <td>pc_20</td>\n",
       "      <td>0.068761</td>\n",
       "    </tr>\n",
       "    <tr>\n",
       "      <th>38</th>\n",
       "      <td>pc_38</td>\n",
       "      <td>0.061703</td>\n",
       "    </tr>\n",
       "    <tr>\n",
       "      <th>10</th>\n",
       "      <td>pc_10</td>\n",
       "      <td>0.059953</td>\n",
       "    </tr>\n",
       "    <tr>\n",
       "      <th>23</th>\n",
       "      <td>pc_23</td>\n",
       "      <td>0.059659</td>\n",
       "    </tr>\n",
       "    <tr>\n",
       "      <th>11</th>\n",
       "      <td>pc_11</td>\n",
       "      <td>0.054803</td>\n",
       "    </tr>\n",
       "    <tr>\n",
       "      <th>36</th>\n",
       "      <td>pc_36</td>\n",
       "      <td>0.049036</td>\n",
       "    </tr>\n",
       "    <tr>\n",
       "      <th>9</th>\n",
       "      <td>pc_9</td>\n",
       "      <td>0.044148</td>\n",
       "    </tr>\n",
       "    <tr>\n",
       "      <th>19</th>\n",
       "      <td>pc_19</td>\n",
       "      <td>0.032095</td>\n",
       "    </tr>\n",
       "    <tr>\n",
       "      <th>13</th>\n",
       "      <td>pc_13</td>\n",
       "      <td>0.024740</td>\n",
       "    </tr>\n",
       "    <tr>\n",
       "      <th>12</th>\n",
       "      <td>pc_12</td>\n",
       "      <td>0.023919</td>\n",
       "    </tr>\n",
       "    <tr>\n",
       "      <th>49</th>\n",
       "      <td>pc_49</td>\n",
       "      <td>0.020361</td>\n",
       "    </tr>\n",
       "    <tr>\n",
       "      <th>15</th>\n",
       "      <td>pc_15</td>\n",
       "      <td>0.020068</td>\n",
       "    </tr>\n",
       "    <tr>\n",
       "      <th>22</th>\n",
       "      <td>pc_22</td>\n",
       "      <td>0.013491</td>\n",
       "    </tr>\n",
       "    <tr>\n",
       "      <th>34</th>\n",
       "      <td>pc_34</td>\n",
       "      <td>0.011337</td>\n",
       "    </tr>\n",
       "    <tr>\n",
       "      <th>16</th>\n",
       "      <td>pc_16</td>\n",
       "      <td>0.009459</td>\n",
       "    </tr>\n",
       "    <tr>\n",
       "      <th>41</th>\n",
       "      <td>pc_41</td>\n",
       "      <td>0.007282</td>\n",
       "    </tr>\n",
       "    <tr>\n",
       "      <th>35</th>\n",
       "      <td>pc_35</td>\n",
       "      <td>0.007214</td>\n",
       "    </tr>\n",
       "    <tr>\n",
       "      <th>25</th>\n",
       "      <td>pc_25</td>\n",
       "      <td>0.001630</td>\n",
       "    </tr>\n",
       "    <tr>\n",
       "      <th>26</th>\n",
       "      <td>pc_26</td>\n",
       "      <td>-0.000810</td>\n",
       "    </tr>\n",
       "    <tr>\n",
       "      <th>48</th>\n",
       "      <td>pc_48</td>\n",
       "      <td>-0.002416</td>\n",
       "    </tr>\n",
       "    <tr>\n",
       "      <th>44</th>\n",
       "      <td>pc_44</td>\n",
       "      <td>-0.003214</td>\n",
       "    </tr>\n",
       "    <tr>\n",
       "      <th>40</th>\n",
       "      <td>pc_40</td>\n",
       "      <td>-0.003534</td>\n",
       "    </tr>\n",
       "    <tr>\n",
       "      <th>4</th>\n",
       "      <td>pc_4</td>\n",
       "      <td>-0.006490</td>\n",
       "    </tr>\n",
       "    <tr>\n",
       "      <th>30</th>\n",
       "      <td>pc_30</td>\n",
       "      <td>-0.006847</td>\n",
       "    </tr>\n",
       "    <tr>\n",
       "      <th>43</th>\n",
       "      <td>pc_43</td>\n",
       "      <td>-0.007399</td>\n",
       "    </tr>\n",
       "    <tr>\n",
       "      <th>17</th>\n",
       "      <td>pc_17</td>\n",
       "      <td>-0.007937</td>\n",
       "    </tr>\n",
       "    <tr>\n",
       "      <th>45</th>\n",
       "      <td>pc_45</td>\n",
       "      <td>-0.010222</td>\n",
       "    </tr>\n",
       "    <tr>\n",
       "      <th>29</th>\n",
       "      <td>pc_29</td>\n",
       "      <td>-0.012977</td>\n",
       "    </tr>\n",
       "    <tr>\n",
       "      <th>39</th>\n",
       "      <td>pc_39</td>\n",
       "      <td>-0.025044</td>\n",
       "    </tr>\n",
       "    <tr>\n",
       "      <th>46</th>\n",
       "      <td>pc_46</td>\n",
       "      <td>-0.028368</td>\n",
       "    </tr>\n",
       "    <tr>\n",
       "      <th>24</th>\n",
       "      <td>pc_24</td>\n",
       "      <td>-0.032012</td>\n",
       "    </tr>\n",
       "    <tr>\n",
       "      <th>28</th>\n",
       "      <td>pc_28</td>\n",
       "      <td>-0.037497</td>\n",
       "    </tr>\n",
       "    <tr>\n",
       "      <th>0</th>\n",
       "      <td>pc_0</td>\n",
       "      <td>-0.041651</td>\n",
       "    </tr>\n",
       "    <tr>\n",
       "      <th>21</th>\n",
       "      <td>pc_21</td>\n",
       "      <td>-0.043766</td>\n",
       "    </tr>\n",
       "    <tr>\n",
       "      <th>37</th>\n",
       "      <td>pc_37</td>\n",
       "      <td>-0.046551</td>\n",
       "    </tr>\n",
       "    <tr>\n",
       "      <th>47</th>\n",
       "      <td>pc_47</td>\n",
       "      <td>-0.053652</td>\n",
       "    </tr>\n",
       "    <tr>\n",
       "      <th>18</th>\n",
       "      <td>pc_18</td>\n",
       "      <td>-0.055046</td>\n",
       "    </tr>\n",
       "    <tr>\n",
       "      <th>33</th>\n",
       "      <td>pc_33</td>\n",
       "      <td>-0.074025</td>\n",
       "    </tr>\n",
       "    <tr>\n",
       "      <th>31</th>\n",
       "      <td>pc_31</td>\n",
       "      <td>-0.087900</td>\n",
       "    </tr>\n",
       "    <tr>\n",
       "      <th>27</th>\n",
       "      <td>pc_27</td>\n",
       "      <td>-0.092017</td>\n",
       "    </tr>\n",
       "    <tr>\n",
       "      <th>14</th>\n",
       "      <td>pc_14</td>\n",
       "      <td>-0.093344</td>\n",
       "    </tr>\n",
       "    <tr>\n",
       "      <th>42</th>\n",
       "      <td>pc_42</td>\n",
       "      <td>-0.106717</td>\n",
       "    </tr>\n",
       "    <tr>\n",
       "      <th>3</th>\n",
       "      <td>pc_3</td>\n",
       "      <td>-0.139299</td>\n",
       "    </tr>\n",
       "    <tr>\n",
       "      <th>7</th>\n",
       "      <td>pc_7</td>\n",
       "      <td>-0.186856</td>\n",
       "    </tr>\n",
       "    <tr>\n",
       "      <th>1</th>\n",
       "      <td>pc_1</td>\n",
       "      <td>-0.346716</td>\n",
       "    </tr>\n",
       "    <tr>\n",
       "      <th>8</th>\n",
       "      <td>pc_8</td>\n",
       "      <td>-0.442353</td>\n",
       "    </tr>\n",
       "    <tr>\n",
       "      <th>2</th>\n",
       "      <td>pc_2</td>\n",
       "      <td>-0.599633</td>\n",
       "    </tr>\n",
       "  </tbody>\n",
       "</table>\n",
       "</div>"
      ],
      "text/plain": [
       "        0         1\n",
       "6    pc_6  0.224356\n",
       "5    pc_5  0.185946\n",
       "32  pc_32  0.118948\n",
       "20  pc_20  0.068761\n",
       "38  pc_38  0.061703\n",
       "10  pc_10  0.059953\n",
       "23  pc_23  0.059659\n",
       "11  pc_11  0.054803\n",
       "36  pc_36  0.049036\n",
       "9    pc_9  0.044148\n",
       "19  pc_19  0.032095\n",
       "13  pc_13  0.024740\n",
       "12  pc_12  0.023919\n",
       "49  pc_49  0.020361\n",
       "15  pc_15  0.020068\n",
       "22  pc_22  0.013491\n",
       "34  pc_34  0.011337\n",
       "16  pc_16  0.009459\n",
       "41  pc_41  0.007282\n",
       "35  pc_35  0.007214\n",
       "25  pc_25  0.001630\n",
       "26  pc_26 -0.000810\n",
       "48  pc_48 -0.002416\n",
       "44  pc_44 -0.003214\n",
       "40  pc_40 -0.003534\n",
       "4    pc_4 -0.006490\n",
       "30  pc_30 -0.006847\n",
       "43  pc_43 -0.007399\n",
       "17  pc_17 -0.007937\n",
       "45  pc_45 -0.010222\n",
       "29  pc_29 -0.012977\n",
       "39  pc_39 -0.025044\n",
       "46  pc_46 -0.028368\n",
       "24  pc_24 -0.032012\n",
       "28  pc_28 -0.037497\n",
       "0    pc_0 -0.041651\n",
       "21  pc_21 -0.043766\n",
       "37  pc_37 -0.046551\n",
       "47  pc_47 -0.053652\n",
       "18  pc_18 -0.055046\n",
       "33  pc_33 -0.074025\n",
       "31  pc_31 -0.087900\n",
       "27  pc_27 -0.092017\n",
       "14  pc_14 -0.093344\n",
       "42  pc_42 -0.106717\n",
       "3    pc_3 -0.139299\n",
       "7    pc_7 -0.186856\n",
       "1    pc_1 -0.346716\n",
       "8    pc_8 -0.442353\n",
       "2    pc_2 -0.599633"
      ]
     },
     "execution_count": 63,
     "metadata": {},
     "output_type": "execute_result"
    }
   ],
   "source": [
    "pca_range = np.arange(pca.n_components)\n",
    "pca_names = ['pc_%s' % i for i in pca_range]\n",
    "df_coeff = pd.DataFrame(list(zip(pca_names, model_lr.coef_.flatten()))).sort_values(by=[1],ascending=False)\n",
    "df_coeff"
   ]
  },
  {
   "cell_type": "code",
   "execution_count": 64,
   "metadata": {},
   "outputs": [
    {
     "data": {
      "image/png": "[encoded data removed]",
      "text/plain": [
       "<matplotlib.figure.Figure at 0x11aa326a0>"
      ]
     },
     "metadata": {},
     "output_type": "display_data"
    }
   ],
   "source": [
    "fig, ax = plt.subplots(figsize=(10,10))\n",
    "ax.barh(pca_range, df_coeff[1],align='center',color='blue')\n",
    "ax.set_yticks(pca_range)\n",
    "ax.set_yticklabels(df_coeff[0])\n",
    "ax.invert_yaxis() \n",
    "ax.set_xlabel('Coefficients of principal components')\n",
    "plt.show()"
   ]
  },
  {
   "cell_type": "markdown",
   "metadata": {},
   "source": [
    "### Random Forest Classifier\n",
    "#### Use standardized tf-idf vectors as features"
   ]
  },
  {
   "cell_type": "code",
   "execution_count": 65,
   "metadata": {},
   "outputs": [
    {
     "data": {
      "text/plain": [
       "RandomForestClassifier(bootstrap=True, class_weight=None, criterion='gini',\n",
       "            max_depth=20, max_features='auto', max_leaf_nodes=None,\n",
       "            min_impurity_decrease=0.0, min_impurity_split=None,\n",
       "            min_samples_leaf=5, min_samples_split=2,\n",
       "            min_weight_fraction_leaf=0.0, n_estimators=200, n_jobs=1,\n",
       "            oob_score=False, random_state=42, verbose=0, warm_start=False)"
      ]
     },
     "execution_count": 65,
     "metadata": {},
     "output_type": "execute_result"
    }
   ],
   "source": [
    "# Build a Random Forest Classifier\n",
    "\n",
    "from sklearn.ensemble import RandomForestClassifier\n",
    "\n",
    "model_rf = RandomForestClassifier(max_features = 'auto',\n",
    "                                  max_depth = 20,\n",
    "                                  n_estimators = 200,\n",
    "                                  min_samples_split = 2,\n",
    "                                  min_samples_leaf = 5,\n",
    "                                  random_state = 42)\n",
    "model_rf.fit(X_train_scaled, y_train)"
   ]
  },
  {
   "cell_type": "code",
   "execution_count": 66,
   "metadata": {},
   "outputs": [
    {
     "data": {
      "text/plain": [
       "0.8595482546201232"
      ]
     },
     "execution_count": 66,
     "metadata": {},
     "output_type": "execute_result"
    }
   ],
   "source": [
    "# Get score for training set\n",
    "model_rf.score(X_train_scaled, y_train)"
   ]
  },
  {
   "cell_type": "code",
   "execution_count": 67,
   "metadata": {
    "scrolled": true
   },
   "outputs": [
    {
     "data": {
      "text/plain": [
       "0.7327586206896551"
      ]
     },
     "execution_count": 67,
     "metadata": {},
     "output_type": "execute_result"
    }
   ],
   "source": [
    "# Get score for test set\n",
    "model_rf.score(X_test_scaled, y_test)"
   ]
  },
  {
   "cell_type": "markdown",
   "metadata": {},
   "source": [
    "#### Use (Stardardized + PCA) tf-idf vectors as features"
   ]
  },
  {
   "cell_type": "code",
   "execution_count": 68,
   "metadata": {},
   "outputs": [
    {
     "data": {
      "text/plain": [
       "RandomForestClassifier(bootstrap=True, class_weight=None, criterion='gini',\n",
       "            max_depth=20, max_features='auto', max_leaf_nodes=None,\n",
       "            min_impurity_decrease=0.0, min_impurity_split=None,\n",
       "            min_samples_leaf=5, min_samples_split=2,\n",
       "            min_weight_fraction_leaf=0.0, n_estimators=200, n_jobs=1,\n",
       "            oob_score=False, random_state=42, verbose=0, warm_start=False)"
      ]
     },
     "execution_count": 68,
     "metadata": {},
     "output_type": "execute_result"
    }
   ],
   "source": [
    "# Build a Random Forest Classifier\n",
    "\n",
    "from sklearn.ensemble import RandomForestClassifier\n",
    "\n",
    "model_rf = RandomForestClassifier(max_features = 'auto',\n",
    "                                  max_depth = 20,\n",
    "                                  n_estimators = 200,\n",
    "                                  min_samples_split = 2,\n",
    "                                  min_samples_leaf = 5,\n",
    "                                  random_state = 42)\n",
    "model_rf.fit(X_train_pca, y_train)"
   ]
  },
  {
   "cell_type": "code",
   "execution_count": 69,
   "metadata": {},
   "outputs": [
    {
     "data": {
      "text/plain": [
       "0.9691991786447639"
      ]
     },
     "execution_count": 69,
     "metadata": {},
     "output_type": "execute_result"
    }
   ],
   "source": [
    "# Get score for training set\n",
    "model_rf.score(X_train_pca, y_train)"
   ]
  },
  {
   "cell_type": "code",
   "execution_count": 70,
   "metadata": {},
   "outputs": [
    {
     "data": {
      "text/plain": [
       "0.7616995073891626"
      ]
     },
     "execution_count": 70,
     "metadata": {},
     "output_type": "execute_result"
    }
   ],
   "source": [
    "# Get score for test set, REMEMBER to use PCA-transformed X!\n",
    "model_rf.score(X_test_pca, y_test)"
   ]
  },
  {
   "cell_type": "markdown",
   "metadata": {},
   "source": [
    "PCA preprocessing performed a better traing and test scores than non-PCA preprocessing based on the same random forest model. Compared the trainging and test scores, we found both PCA and non-PCA preprocessing performed better in training dataset than test dataset, which means overfitting in this dataset, especially the PCA preprocessing. Thus, we change the parameters in the random forest model for PCA preprocessing as following."
   ]
  },
  {
   "cell_type": "code",
   "execution_count": 71,
   "metadata": {},
   "outputs": [
    {
     "data": {
      "text/plain": [
       "RandomForestClassifier(bootstrap=True, class_weight=None, criterion='gini',\n",
       "            max_depth=10, max_features='auto', max_leaf_nodes=None,\n",
       "            min_impurity_decrease=0.0, min_impurity_split=None,\n",
       "            min_samples_leaf=20, min_samples_split=2,\n",
       "            min_weight_fraction_leaf=0.0, n_estimators=200, n_jobs=1,\n",
       "            oob_score=False, random_state=42, verbose=0, warm_start=False)"
      ]
     },
     "execution_count": 71,
     "metadata": {},
     "output_type": "execute_result"
    }
   ],
   "source": [
    "# Build a Random Forest Classifier\n",
    "\n",
    "from sklearn.ensemble import RandomForestClassifier\n",
    "\n",
    "model_rf = RandomForestClassifier(max_features = 'auto',\n",
    "                                  max_depth = 10,\n",
    "                                  n_estimators = 200,\n",
    "                                  min_samples_split = 2,\n",
    "                                  min_samples_leaf = 20,\n",
    "                                  random_state = 42)\n",
    "model_rf.fit(X_train_pca, y_train)"
   ]
  },
  {
   "cell_type": "code",
   "execution_count": 72,
   "metadata": {},
   "outputs": [
    {
     "data": {
      "text/plain": [
       "0.848870636550308"
      ]
     },
     "execution_count": 72,
     "metadata": {},
     "output_type": "execute_result"
    }
   ],
   "source": [
    "# Get score for training set\n",
    "model_rf.score(X_train_pca, y_train)"
   ]
  },
  {
   "cell_type": "code",
   "execution_count": 73,
   "metadata": {},
   "outputs": [
    {
     "data": {
      "text/plain": [
       "0.7518472906403941"
      ]
     },
     "execution_count": 73,
     "metadata": {},
     "output_type": "execute_result"
    }
   ],
   "source": [
    "# Get score for test set, REMEMBER to use PCA-transformed X!\n",
    "model_rf.score(X_test_pca, y_test)"
   ]
  },
  {
   "cell_type": "markdown",
   "metadata": {},
   "source": [
    "#### Plot the feature importances against principal components"
   ]
  },
  {
   "cell_type": "code",
   "execution_count": 74,
   "metadata": {},
   "outputs": [
    {
     "data": {
      "text/html": [
       "<div>\n",
       "<style scoped>\n",
       "    .dataframe tbody tr th:only-of-type {\n",
       "        vertical-align: middle;\n",
       "    }\n",
       "\n",
       "    .dataframe tbody tr th {\n",
       "        vertical-align: top;\n",
       "    }\n",
       "\n",
       "    .dataframe thead th {\n",
       "        text-align: right;\n",
       "    }\n",
       "</style>\n",
       "<table border=\"1\" class=\"dataframe\">\n",
       "  <thead>\n",
       "    <tr style=\"text-align: right;\">\n",
       "      <th></th>\n",
       "      <th>0</th>\n",
       "      <th>1</th>\n",
       "    </tr>\n",
       "  </thead>\n",
       "  <tbody>\n",
       "    <tr>\n",
       "      <th>2</th>\n",
       "      <td>pc_2</td>\n",
       "      <td>0.232168</td>\n",
       "    </tr>\n",
       "    <tr>\n",
       "      <th>8</th>\n",
       "      <td>pc_8</td>\n",
       "      <td>0.131379</td>\n",
       "    </tr>\n",
       "    <tr>\n",
       "      <th>1</th>\n",
       "      <td>pc_1</td>\n",
       "      <td>0.130620</td>\n",
       "    </tr>\n",
       "    <tr>\n",
       "      <th>5</th>\n",
       "      <td>pc_5</td>\n",
       "      <td>0.036194</td>\n",
       "    </tr>\n",
       "    <tr>\n",
       "      <th>6</th>\n",
       "      <td>pc_6</td>\n",
       "      <td>0.035752</td>\n",
       "    </tr>\n",
       "    <tr>\n",
       "      <th>7</th>\n",
       "      <td>pc_7</td>\n",
       "      <td>0.029119</td>\n",
       "    </tr>\n",
       "    <tr>\n",
       "      <th>3</th>\n",
       "      <td>pc_3</td>\n",
       "      <td>0.018742</td>\n",
       "    </tr>\n",
       "    <tr>\n",
       "      <th>0</th>\n",
       "      <td>pc_0</td>\n",
       "      <td>0.016388</td>\n",
       "    </tr>\n",
       "    <tr>\n",
       "      <th>38</th>\n",
       "      <td>pc_38</td>\n",
       "      <td>0.011645</td>\n",
       "    </tr>\n",
       "    <tr>\n",
       "      <th>42</th>\n",
       "      <td>pc_42</td>\n",
       "      <td>0.011600</td>\n",
       "    </tr>\n",
       "    <tr>\n",
       "      <th>24</th>\n",
       "      <td>pc_24</td>\n",
       "      <td>0.011575</td>\n",
       "    </tr>\n",
       "    <tr>\n",
       "      <th>14</th>\n",
       "      <td>pc_14</td>\n",
       "      <td>0.011532</td>\n",
       "    </tr>\n",
       "    <tr>\n",
       "      <th>32</th>\n",
       "      <td>pc_32</td>\n",
       "      <td>0.011340</td>\n",
       "    </tr>\n",
       "    <tr>\n",
       "      <th>9</th>\n",
       "      <td>pc_9</td>\n",
       "      <td>0.011077</td>\n",
       "    </tr>\n",
       "    <tr>\n",
       "      <th>20</th>\n",
       "      <td>pc_20</td>\n",
       "      <td>0.010933</td>\n",
       "    </tr>\n",
       "    <tr>\n",
       "      <th>15</th>\n",
       "      <td>pc_15</td>\n",
       "      <td>0.010251</td>\n",
       "    </tr>\n",
       "    <tr>\n",
       "      <th>30</th>\n",
       "      <td>pc_30</td>\n",
       "      <td>0.010186</td>\n",
       "    </tr>\n",
       "    <tr>\n",
       "      <th>31</th>\n",
       "      <td>pc_31</td>\n",
       "      <td>0.010119</td>\n",
       "    </tr>\n",
       "    <tr>\n",
       "      <th>12</th>\n",
       "      <td>pc_12</td>\n",
       "      <td>0.010035</td>\n",
       "    </tr>\n",
       "    <tr>\n",
       "      <th>23</th>\n",
       "      <td>pc_23</td>\n",
       "      <td>0.009897</td>\n",
       "    </tr>\n",
       "    <tr>\n",
       "      <th>11</th>\n",
       "      <td>pc_11</td>\n",
       "      <td>0.009752</td>\n",
       "    </tr>\n",
       "    <tr>\n",
       "      <th>21</th>\n",
       "      <td>pc_21</td>\n",
       "      <td>0.009724</td>\n",
       "    </tr>\n",
       "    <tr>\n",
       "      <th>13</th>\n",
       "      <td>pc_13</td>\n",
       "      <td>0.009489</td>\n",
       "    </tr>\n",
       "    <tr>\n",
       "      <th>19</th>\n",
       "      <td>pc_19</td>\n",
       "      <td>0.009245</td>\n",
       "    </tr>\n",
       "    <tr>\n",
       "      <th>48</th>\n",
       "      <td>pc_48</td>\n",
       "      <td>0.009094</td>\n",
       "    </tr>\n",
       "    <tr>\n",
       "      <th>17</th>\n",
       "      <td>pc_17</td>\n",
       "      <td>0.009081</td>\n",
       "    </tr>\n",
       "    <tr>\n",
       "      <th>43</th>\n",
       "      <td>pc_43</td>\n",
       "      <td>0.009006</td>\n",
       "    </tr>\n",
       "    <tr>\n",
       "      <th>10</th>\n",
       "      <td>pc_10</td>\n",
       "      <td>0.008785</td>\n",
       "    </tr>\n",
       "    <tr>\n",
       "      <th>22</th>\n",
       "      <td>pc_22</td>\n",
       "      <td>0.008623</td>\n",
       "    </tr>\n",
       "    <tr>\n",
       "      <th>16</th>\n",
       "      <td>pc_16</td>\n",
       "      <td>0.008462</td>\n",
       "    </tr>\n",
       "    <tr>\n",
       "      <th>35</th>\n",
       "      <td>pc_35</td>\n",
       "      <td>0.008349</td>\n",
       "    </tr>\n",
       "    <tr>\n",
       "      <th>27</th>\n",
       "      <td>pc_27</td>\n",
       "      <td>0.008322</td>\n",
       "    </tr>\n",
       "    <tr>\n",
       "      <th>4</th>\n",
       "      <td>pc_4</td>\n",
       "      <td>0.008297</td>\n",
       "    </tr>\n",
       "    <tr>\n",
       "      <th>47</th>\n",
       "      <td>pc_47</td>\n",
       "      <td>0.008223</td>\n",
       "    </tr>\n",
       "    <tr>\n",
       "      <th>33</th>\n",
       "      <td>pc_33</td>\n",
       "      <td>0.008127</td>\n",
       "    </tr>\n",
       "    <tr>\n",
       "      <th>26</th>\n",
       "      <td>pc_26</td>\n",
       "      <td>0.007776</td>\n",
       "    </tr>\n",
       "    <tr>\n",
       "      <th>36</th>\n",
       "      <td>pc_36</td>\n",
       "      <td>0.007757</td>\n",
       "    </tr>\n",
       "    <tr>\n",
       "      <th>40</th>\n",
       "      <td>pc_40</td>\n",
       "      <td>0.007439</td>\n",
       "    </tr>\n",
       "    <tr>\n",
       "      <th>49</th>\n",
       "      <td>pc_49</td>\n",
       "      <td>0.007411</td>\n",
       "    </tr>\n",
       "    <tr>\n",
       "      <th>39</th>\n",
       "      <td>pc_39</td>\n",
       "      <td>0.007320</td>\n",
       "    </tr>\n",
       "    <tr>\n",
       "      <th>44</th>\n",
       "      <td>pc_44</td>\n",
       "      <td>0.007218</td>\n",
       "    </tr>\n",
       "    <tr>\n",
       "      <th>45</th>\n",
       "      <td>pc_45</td>\n",
       "      <td>0.007160</td>\n",
       "    </tr>\n",
       "    <tr>\n",
       "      <th>25</th>\n",
       "      <td>pc_25</td>\n",
       "      <td>0.007155</td>\n",
       "    </tr>\n",
       "    <tr>\n",
       "      <th>34</th>\n",
       "      <td>pc_34</td>\n",
       "      <td>0.007097</td>\n",
       "    </tr>\n",
       "    <tr>\n",
       "      <th>46</th>\n",
       "      <td>pc_46</td>\n",
       "      <td>0.007056</td>\n",
       "    </tr>\n",
       "    <tr>\n",
       "      <th>37</th>\n",
       "      <td>pc_37</td>\n",
       "      <td>0.007021</td>\n",
       "    </tr>\n",
       "    <tr>\n",
       "      <th>29</th>\n",
       "      <td>pc_29</td>\n",
       "      <td>0.006703</td>\n",
       "    </tr>\n",
       "    <tr>\n",
       "      <th>41</th>\n",
       "      <td>pc_41</td>\n",
       "      <td>0.006646</td>\n",
       "    </tr>\n",
       "    <tr>\n",
       "      <th>28</th>\n",
       "      <td>pc_28</td>\n",
       "      <td>0.006570</td>\n",
       "    </tr>\n",
       "    <tr>\n",
       "      <th>18</th>\n",
       "      <td>pc_18</td>\n",
       "      <td>0.006536</td>\n",
       "    </tr>\n",
       "  </tbody>\n",
       "</table>\n",
       "</div>"
      ],
      "text/plain": [
       "        0         1\n",
       "2    pc_2  0.232168\n",
       "8    pc_8  0.131379\n",
       "1    pc_1  0.130620\n",
       "5    pc_5  0.036194\n",
       "6    pc_6  0.035752\n",
       "7    pc_7  0.029119\n",
       "3    pc_3  0.018742\n",
       "0    pc_0  0.016388\n",
       "38  pc_38  0.011645\n",
       "42  pc_42  0.011600\n",
       "24  pc_24  0.011575\n",
       "14  pc_14  0.011532\n",
       "32  pc_32  0.011340\n",
       "9    pc_9  0.011077\n",
       "20  pc_20  0.010933\n",
       "15  pc_15  0.010251\n",
       "30  pc_30  0.010186\n",
       "31  pc_31  0.010119\n",
       "12  pc_12  0.010035\n",
       "23  pc_23  0.009897\n",
       "11  pc_11  0.009752\n",
       "21  pc_21  0.009724\n",
       "13  pc_13  0.009489\n",
       "19  pc_19  0.009245\n",
       "48  pc_48  0.009094\n",
       "17  pc_17  0.009081\n",
       "43  pc_43  0.009006\n",
       "10  pc_10  0.008785\n",
       "22  pc_22  0.008623\n",
       "16  pc_16  0.008462\n",
       "35  pc_35  0.008349\n",
       "27  pc_27  0.008322\n",
       "4    pc_4  0.008297\n",
       "47  pc_47  0.008223\n",
       "33  pc_33  0.008127\n",
       "26  pc_26  0.007776\n",
       "36  pc_36  0.007757\n",
       "40  pc_40  0.007439\n",
       "49  pc_49  0.007411\n",
       "39  pc_39  0.007320\n",
       "44  pc_44  0.007218\n",
       "45  pc_45  0.007160\n",
       "25  pc_25  0.007155\n",
       "34  pc_34  0.007097\n",
       "46  pc_46  0.007056\n",
       "37  pc_37  0.007021\n",
       "29  pc_29  0.006703\n",
       "41  pc_41  0.006646\n",
       "28  pc_28  0.006570\n",
       "18  pc_18  0.006536"
      ]
     },
     "execution_count": 74,
     "metadata": {},
     "output_type": "execute_result"
    }
   ],
   "source": [
    "pca_range = np.arange(pca.n_components)\n",
    "pca_names = ['pc_%s' % i for i in pca_range]\n",
    "df_feat_imp = pd.DataFrame(list(zip(pca_names, model_rf.feature_importances_))).sort_values(by=[1],ascending=False)\n",
    "df_feat_imp"
   ]
  },
  {
   "cell_type": "code",
   "execution_count": 75,
   "metadata": {},
   "outputs": [
    {
     "data": {
      "image/png": "[encoded data removed]",
      "text/plain": [
       "<matplotlib.figure.Figure at 0x11b7432e8>"
      ]
     },
     "metadata": {},
     "output_type": "display_data"
    }
   ],
   "source": [
    "fig, ax = plt.subplots(figsize=(10,10))\n",
    "ax.barh(pca_range, df_feat_imp[1],align='center',color='blue')\n",
    "ax.set_yticks(pca_range)\n",
    "ax.set_yticklabels(df_feat_imp[0])\n",
    "ax.invert_yaxis() \n",
    "ax.set_xlabel('Feature importances of principal components')\n",
    "plt.show()"
   ]
  },
  {
   "cell_type": "markdown",
   "metadata": {},
   "source": [
    "### Cluster restaurants from their category information\n",
    "Hint: a business may have mutiple categories, e.g. a restaurant can have both \"Restaurants\" and \"Korean\""
   ]
  },
  {
   "cell_type": "code",
   "execution_count": 4,
   "metadata": {
    "scrolled": true
   },
   "outputs": [
    {
     "data": {
      "text/plain": [
       "(dtype('O'), (4832,))"
      ]
     },
     "execution_count": 4,
     "metadata": {},
     "output_type": "execute_result"
    }
   ],
   "source": [
    "# get all the restaurants data with unique business_id from business data\n",
    "# take the values of the column that contains categories text data\n",
    "df_categories = df.drop_duplicates(['business_id'])\n",
    "doc_categories = df_categories['categories'].values\n",
    "doc_categories.dtype, doc_categories.shape"
   ]
  },
  {
   "cell_type": "code",
   "execution_count": 5,
   "metadata": {},
   "outputs": [
    {
     "name": "stderr",
     "output_type": "stream",
     "text": [
      "/Users/yaru/anaconda3/lib/python3.6/site-packages/sklearn/cross_validation.py:41: DeprecationWarning: This module was deprecated in version 0.18 in favor of the model_selection module into which all the refactored classes and functions are moved. Also note that the interface of the new CV iterators are different from that of this module. This module will be removed in 0.20.\n",
      "  \"This module will be removed in 0.20.\", DeprecationWarning)\n"
     ]
    }
   ],
   "source": [
    "restaurants = df_categories['business_id'].values\n",
    "# split into train and test data\n",
    "from sklearn.cross_validation import train_test_split\n",
    "categories_train, categories_test, target_train, target_test = train_test_split(\n",
    "    doc_categories,\n",
    "    restaurants,\n",
    "    test_size = 0.4,\n",
    "    random_state = 42\n",
    ")"
   ]
  },
  {
   "cell_type": "code",
   "execution_count": 6,
   "metadata": {},
   "outputs": [
    {
     "data": {
      "text/plain": [
       "((2899, 389), (4832, 389))"
      ]
     },
     "execution_count": 6,
     "metadata": {},
     "output_type": "execute_result"
    }
   ],
   "source": [
    "# NLP\n",
    "from sklearn.feature_extraction.text import TfidfVectorizer\n",
    "\n",
    "vectorizer = TfidfVectorizer(stop_words = 'english', max_features = 1000)\n",
    "vector_categories_train = vectorizer.fit_transform(categories_train).toarray()\n",
    "vector_doc_categories = vectorizer.transform(doc_categories).toarray()\n",
    "vector_categories_train.shape, vector_doc_categories.shape"
   ]
  },
  {
   "cell_type": "code",
   "execution_count": 7,
   "metadata": {},
   "outputs": [
    {
     "data": {
      "text/plain": [
       "KMeans(algorithm='auto', copy_x=True, init='k-means++', max_iter=300,\n",
       "    n_clusters=10, n_init=10, n_jobs=1, precompute_distances='auto',\n",
       "    random_state=None, tol=0.0001, verbose=0)"
      ]
     },
     "execution_count": 7,
     "metadata": {},
     "output_type": "execute_result"
    }
   ],
   "source": [
    "# cluster restaurants with KMeans\n",
    "from sklearn.cluster import KMeans\n",
    "kmeans = KMeans(n_clusters = 10)\n",
    "kmeans.fit(vector_categories_train)"
   ]
  },
  {
   "cell_type": "code",
   "execution_count": 8,
   "metadata": {},
   "outputs": [],
   "source": [
    "# make predictionon all categories data\n",
    "assigened_cluster = kmeans.predict(vector_doc_categories)"
   ]
  },
  {
   "cell_type": "code",
   "execution_count": 9,
   "metadata": {
    "scrolled": true
   },
   "outputs": [
    {
     "name": "stdout",
     "output_type": "stream",
     "text": [
      "cluster centers:\n",
      "[[-2.27682456e-18 -1.51788304e-18 -1.08420217e-19 ... -1.89735380e-19\n",
      "  -5.63785130e-18 -5.20417043e-18]\n",
      " [ 1.90389962e-03  3.00197146e-03  4.05642193e-04 ...  5.93749491e-04\n",
      "   3.71890084e-03  1.58120852e-02]\n",
      " [ 1.08420217e-18  3.46944695e-18 -1.08420217e-19 ... -1.89735380e-19\n",
      "   4.63804354e-03  1.21430643e-17]\n",
      " ...\n",
      " [ 1.19262239e-18  4.55364912e-18 -1.08420217e-19 ... -1.62630326e-19\n",
      "   3.74863257e-03  1.64798730e-17]\n",
      " [ 1.19262239e-18  4.55364912e-18 -1.08420217e-19 ... -1.62630326e-19\n",
      "  -5.63785130e-18  1.64798730e-17]\n",
      " [ 9.75781955e-19  1.95156391e-18 -1.08420217e-19 ... -1.89735380e-19\n",
      "   3.79571093e-03  6.07153217e-18]]\n"
     ]
    }
   ],
   "source": [
    "# cluster centroids\n",
    "print('cluster centers:')\n",
    "print(kmeans.cluster_centers_)"
   ]
  }
 ],
 "metadata": {
  "anaconda-cloud": {},
  "kernelspec": {
   "display_name": "Python 3",
   "language": "python",
   "name": "python3"
  },
  "language_info": {
   "codemirror_mode": {
    "name": "ipython",
    "version": 3
   },
   "file_extension": ".py",
   "mimetype": "text/x-python",
   "name": "python",
   "nbconvert_exporter": "python",
   "pygments_lexer": "ipython3",
   "version": "3.6.4"
  }
 },
 "nbformat": 4,
 "nbformat_minor": 1
}

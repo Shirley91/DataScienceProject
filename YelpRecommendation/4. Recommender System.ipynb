{
 "cells": [
  {
   "cell_type": "markdown",
   "metadata": {},
   "source": [
    "# Yelp Data Challenge - Restaurant Recommender"
   ]
  },
  {
   "cell_type": "code",
   "execution_count": 1,
   "metadata": {},
   "outputs": [],
   "source": [
    "import pandas as pd\n",
    "import numpy as np\n",
    "import matplotlib.pyplot as plt\n",
    "% matplotlib inline\n",
    "plt.style.use(\"ggplot\")"
   ]
  },
  {
   "cell_type": "code",
   "execution_count": 2,
   "metadata": {},
   "outputs": [],
   "source": [
    "df = pd.read_csv('/Users/yaru/Downloads/dataset/last_2_years_restaurant_reviews.csv')"
   ]
  },
  {
   "cell_type": "code",
   "execution_count": 3,
   "metadata": {
    "scrolled": true
   },
   "outputs": [
    {
     "data": {
      "text/html": [
       "<div>\n",
       "<style scoped>\n",
       "    .dataframe tbody tr th:only-of-type {\n",
       "        vertical-align: middle;\n",
       "    }\n",
       "\n",
       "    .dataframe tbody tr th {\n",
       "        vertical-align: top;\n",
       "    }\n",
       "\n",
       "    .dataframe thead th {\n",
       "        text-align: right;\n",
       "    }\n",
       "</style>\n",
       "<table border=\"1\" class=\"dataframe\">\n",
       "  <thead>\n",
       "    <tr style=\"text-align: right;\">\n",
       "      <th></th>\n",
       "      <th>business_id</th>\n",
       "      <th>name</th>\n",
       "      <th>categories</th>\n",
       "      <th>avg_stars</th>\n",
       "      <th>cool</th>\n",
       "      <th>date</th>\n",
       "      <th>funny</th>\n",
       "      <th>review_id</th>\n",
       "      <th>stars</th>\n",
       "      <th>text</th>\n",
       "      <th>useful</th>\n",
       "      <th>user_id</th>\n",
       "    </tr>\n",
       "  </thead>\n",
       "  <tbody>\n",
       "    <tr>\n",
       "      <th>0</th>\n",
       "      <td>--9e1ONYQuAa-CB_Rrw7Tw</td>\n",
       "      <td>Delmonico Steakhouse</td>\n",
       "      <td>['Cajun/Creole', 'Steakhouses', 'Restaurants']</td>\n",
       "      <td>4.0</td>\n",
       "      <td>0</td>\n",
       "      <td>2016-03-31</td>\n",
       "      <td>0</td>\n",
       "      <td>6SgvNWJltnZhW7duJgZ42w</td>\n",
       "      <td>5</td>\n",
       "      <td>This is mine and my fiancé's favorite steakhou...</td>\n",
       "      <td>0</td>\n",
       "      <td>oFyOUOeGTRZhFPF9uTqrTQ</td>\n",
       "    </tr>\n",
       "    <tr>\n",
       "      <th>1</th>\n",
       "      <td>--9e1ONYQuAa-CB_Rrw7Tw</td>\n",
       "      <td>Delmonico Steakhouse</td>\n",
       "      <td>['Cajun/Creole', 'Steakhouses', 'Restaurants']</td>\n",
       "      <td>4.0</td>\n",
       "      <td>0</td>\n",
       "      <td>2015-06-29</td>\n",
       "      <td>0</td>\n",
       "      <td>iwx6s6yQxc7yjS7NFANZig</td>\n",
       "      <td>4</td>\n",
       "      <td>Nice atmosphere and wonderful service. I had t...</td>\n",
       "      <td>0</td>\n",
       "      <td>2aeNFntqY2QDZLADNo8iQQ</td>\n",
       "    </tr>\n",
       "    <tr>\n",
       "      <th>2</th>\n",
       "      <td>--9e1ONYQuAa-CB_Rrw7Tw</td>\n",
       "      <td>Delmonico Steakhouse</td>\n",
       "      <td>['Cajun/Creole', 'Steakhouses', 'Restaurants']</td>\n",
       "      <td>4.0</td>\n",
       "      <td>0</td>\n",
       "      <td>2015-03-16</td>\n",
       "      <td>0</td>\n",
       "      <td>UVUMu_bELdA56Ryfbur-DA</td>\n",
       "      <td>5</td>\n",
       "      <td>Every year a group of us (we had 6 this year) ...</td>\n",
       "      <td>1</td>\n",
       "      <td>gmPP4YFrgYsYQqPYokMgFA</td>\n",
       "    </tr>\n",
       "    <tr>\n",
       "      <th>3</th>\n",
       "      <td>--9e1ONYQuAa-CB_Rrw7Tw</td>\n",
       "      <td>Delmonico Steakhouse</td>\n",
       "      <td>['Cajun/Creole', 'Steakhouses', 'Restaurants']</td>\n",
       "      <td>4.0</td>\n",
       "      <td>0</td>\n",
       "      <td>2016-02-10</td>\n",
       "      <td>0</td>\n",
       "      <td>UxFpgng8dPMWOj99653k5Q</td>\n",
       "      <td>5</td>\n",
       "      <td>Truly Fantastic!  Best Steak ever. Service was...</td>\n",
       "      <td>0</td>\n",
       "      <td>aVOGlN9fZ-BXcbtj6dbf0g</td>\n",
       "    </tr>\n",
       "    <tr>\n",
       "      <th>4</th>\n",
       "      <td>--9e1ONYQuAa-CB_Rrw7Tw</td>\n",
       "      <td>Delmonico Steakhouse</td>\n",
       "      <td>['Cajun/Creole', 'Steakhouses', 'Restaurants']</td>\n",
       "      <td>4.0</td>\n",
       "      <td>0</td>\n",
       "      <td>2017-02-14</td>\n",
       "      <td>0</td>\n",
       "      <td>Xp3ppynEvVu1KxDHQ3ae8w</td>\n",
       "      <td>5</td>\n",
       "      <td>Delmonico Steakhouse is a steakhouse owned by ...</td>\n",
       "      <td>0</td>\n",
       "      <td>KC8H7qTZVPIEnanw9fG43g</td>\n",
       "    </tr>\n",
       "  </tbody>\n",
       "</table>\n",
       "</div>"
      ],
      "text/plain": [
       "              business_id                  name  \\\n",
       "0  --9e1ONYQuAa-CB_Rrw7Tw  Delmonico Steakhouse   \n",
       "1  --9e1ONYQuAa-CB_Rrw7Tw  Delmonico Steakhouse   \n",
       "2  --9e1ONYQuAa-CB_Rrw7Tw  Delmonico Steakhouse   \n",
       "3  --9e1ONYQuAa-CB_Rrw7Tw  Delmonico Steakhouse   \n",
       "4  --9e1ONYQuAa-CB_Rrw7Tw  Delmonico Steakhouse   \n",
       "\n",
       "                                       categories  avg_stars  cool  \\\n",
       "0  ['Cajun/Creole', 'Steakhouses', 'Restaurants']        4.0     0   \n",
       "1  ['Cajun/Creole', 'Steakhouses', 'Restaurants']        4.0     0   \n",
       "2  ['Cajun/Creole', 'Steakhouses', 'Restaurants']        4.0     0   \n",
       "3  ['Cajun/Creole', 'Steakhouses', 'Restaurants']        4.0     0   \n",
       "4  ['Cajun/Creole', 'Steakhouses', 'Restaurants']        4.0     0   \n",
       "\n",
       "         date  funny               review_id  stars  \\\n",
       "0  2016-03-31      0  6SgvNWJltnZhW7duJgZ42w      5   \n",
       "1  2015-06-29      0  iwx6s6yQxc7yjS7NFANZig      4   \n",
       "2  2015-03-16      0  UVUMu_bELdA56Ryfbur-DA      5   \n",
       "3  2016-02-10      0  UxFpgng8dPMWOj99653k5Q      5   \n",
       "4  2017-02-14      0  Xp3ppynEvVu1KxDHQ3ae8w      5   \n",
       "\n",
       "                                                text  useful  \\\n",
       "0  This is mine and my fiancé's favorite steakhou...       0   \n",
       "1  Nice atmosphere and wonderful service. I had t...       0   \n",
       "2  Every year a group of us (we had 6 this year) ...       1   \n",
       "3  Truly Fantastic!  Best Steak ever. Service was...       0   \n",
       "4  Delmonico Steakhouse is a steakhouse owned by ...       0   \n",
       "\n",
       "                  user_id  \n",
       "0  oFyOUOeGTRZhFPF9uTqrTQ  \n",
       "1  2aeNFntqY2QDZLADNo8iQQ  \n",
       "2  gmPP4YFrgYsYQqPYokMgFA  \n",
       "3  aVOGlN9fZ-BXcbtj6dbf0g  \n",
       "4  KC8H7qTZVPIEnanw9fG43g  "
      ]
     },
     "execution_count": 3,
     "metadata": {},
     "output_type": "execute_result"
    }
   ],
   "source": [
    "df.head()"
   ]
  },
  {
   "cell_type": "markdown",
   "metadata": {},
   "source": [
    "## Clean data and get rating data "
   ]
  },
  {
   "cell_type": "markdown",
   "metadata": {},
   "source": [
    "#### Select relevant columns in the original dataframe"
   ]
  },
  {
   "cell_type": "code",
   "execution_count": 4,
   "metadata": {},
   "outputs": [],
   "source": [
    "# Get business_id, user_id, stars for recommender\n",
    "df_stars = df[['business_id','user_id','stars']]"
   ]
  },
  {
   "cell_type": "code",
   "execution_count": 5,
   "metadata": {},
   "outputs": [
    {
     "data": {
      "text/plain": [
       "(4832, 227241)"
      ]
     },
     "execution_count": 5,
     "metadata": {},
     "output_type": "execute_result"
    }
   ],
   "source": [
    "# number of unique business_id and user_id\n",
    "df_stars['business_id'].nunique(), df_stars['user_id'].nunique()"
   ]
  },
  {
   "cell_type": "code",
   "execution_count": 8,
   "metadata": {},
   "outputs": [
    {
     "name": "stdout",
     "output_type": "stream",
     "text": [
      "stars\n",
      "1     65552\n",
      "2     42843\n",
      "3     57420\n",
      "4    110642\n",
      "5    239295\n",
      "dtype: int64\n"
     ]
    }
   ],
   "source": [
    "# Stars counts\n",
    "df_stars_count = df_stars.groupby('stars').size()\n",
    "print(df_stars_count)"
   ]
  },
  {
   "cell_type": "code",
   "execution_count": 9,
   "metadata": {},
   "outputs": [
    {
     "name": "stdout",
     "output_type": "stream",
     "text": [
      "user_id\n",
      "---1lKK3aKOuomHnwAkAow     5\n",
      "---udAKDsn0yQXmzbWQNSw     2\n",
      "--0sXNBv6IizZXuV-nl0Aw     1\n",
      "--2bpE5vyR-2hAP7sZZ4lA     1\n",
      "--2vR0DIsmQ6WfcSzKWigw     4\n",
      "--3WaS23LcIXtxyFULJHTA     3\n",
      "--4uW4yJiRT2oXMYkCPq1Q     1\n",
      "--56mD0sm1eOogphi2FFLw     2\n",
      "--66hzx80CeVZcrm4AKJtQ     1\n",
      "--6u02ZqjZRnwtX3t9bZtQ     1\n",
      "--7oh57FmI8_IHX0Q4n-Wg     2\n",
      "--8ELb8W1afbyP21EZStPg     1\n",
      "--9yZb1OLNN18HyDXgZrJA     1\n",
      "--A4pFATzQJx9n4l1IAC3A     1\n",
      "--AujbGl6SYRaY8SFVNHXA     2\n",
      "--CIuK7sUpaNzalLAlHJKA     2\n",
      "--DxiDMQgN08E5gTM0aj7Q     1\n",
      "--EeOyjMPIklMo8fN2GdWQ     1\n",
      "--FL8jpOVyPYGpyRN007vg     1\n",
      "--IFH_sbTkfXxbXO4nSEyQ     3\n",
      "--J3HPoNe-IJ0xE10Z_sDg     1\n",
      "--LUapetRSkZpFZ2d-MXLQ     9\n",
      "--Lm6zODOhH_9bLtRQfz4w     1\n",
      "--MO0Mi5MlB9A-59HYcteA     1\n",
      "--PJ1FuEoTEo-3Cxf_izRg     2\n",
      "--QdTWzjRUHa_OkQw-ug8g     1\n",
      "--RRf-2d2CKi3yGQ9QqrsQ     1\n",
      "--RlSfc-QmcHFGHyX6aVjA    10\n",
      "--VFHSTk6Hd3U6D1jYPXAw     1\n",
      "--W0Zo_aIlD-7JzfHI4IqQ     1\n",
      "                          ..\n",
      "zzPMQhJ8_ImffFr3vU-irg     1\n",
      "zzPebwK0-dhDo7eSZDRKJg     1\n",
      "zzPyix8usTt0_w0uy7a4sg     1\n",
      "zzQ_Q8jC2X5lpRb8dcpovw     2\n",
      "zzQaykmAnVqfjOxm_XlHhg     1\n",
      "zzRsxXA2tQNmWex66mdVhA     3\n",
      "zzUEa4doDSxQfzDUYkopJA     1\n",
      "zzUHxSV5k4oNoambj1dzTA     2\n",
      "zzVUc2funSKmaIcJtiRIIQ     1\n",
      "zzWBpLt0O8gf3Llw-aa7ag     1\n",
      "zzYF64kl9es4c16fv68OIQ     1\n",
      "zz_JmbEltGnJTocrW84xTw     1\n",
      "zzaq5Fn1U2Feut3dGxidNg     6\n",
      "zzb5pUe4mBvyS3ZdpH1G_w     1\n",
      "zzbBAfbQxGTaHhyVVB4rZg     2\n",
      "zzcbSDDNukBPow9ztMpQ3A     1\n",
      "zzchaUFyh1POp24Y5muYEQ     1\n",
      "zzhB7A-ZQfaJ8KJhAvf_rA     1\n",
      "zzj2TtQg8LIpz9hMK1gQEQ     1\n",
      "zzj74VjKoo0wud-wdFtf-Q     1\n",
      "zzlt7bnzpb8Z2aqQ0q2Ikg     1\n",
      "zzmOO3R--Yo59kI5_6In8A     2\n",
      "zzqHCOI0T71WcOWXOcCTJA     1\n",
      "zzqKFafizTSmzY6v2rzhcg     1\n",
      "zzrZ8gFESj5pe-SFZ-h0lw     2\n",
      "zzsN-eybXFjD2U_qQ2YHBg     1\n",
      "zzvV3l9IqTRX7Db8nxThbA     2\n",
      "zzvqVZTYs5VKxPc-IkRQ4A     1\n",
      "zzxZoMmjbUjXcWZzrE3PIw     1\n",
      "zzzPVqSxSvjzlLR3Q7wsUw     1\n",
      "Length: 227241, dtype: int64\n"
     ]
    }
   ],
   "source": [
    "# User comments counts\n",
    "df_user_count = df_stars.groupby('user_id').size()\n",
    "print(df_user_count )"
   ]
  },
  {
   "cell_type": "code",
   "execution_count": 13,
   "metadata": {},
   "outputs": [
    {
     "data": {
      "image/png": "[encoded data removed]",
      "text/plain": [
       "<matplotlib.figure.Figure at 0x11792a4a8>"
      ]
     },
     "metadata": {},
     "output_type": "display_data"
    }
   ],
   "source": [
    "# Visualization of df_user_count\n",
    "df_user_count.apply(np.log).hist()\n",
    "plt.show()"
   ]
  },
  {
   "cell_type": "code",
   "execution_count": 14,
   "metadata": {},
   "outputs": [
    {
     "data": {
      "text/plain": [
       "14675"
      ]
     },
     "execution_count": 14,
     "metadata": {},
     "output_type": "execute_result"
    }
   ],
   "source": [
    "# users comments over 5 times\n",
    "df_users = df_user_count[df_user_count > 5]\n",
    "df_users.count()"
   ]
  },
  {
   "cell_type": "code",
   "execution_count": 15,
   "metadata": {},
   "outputs": [
    {
     "data": {
      "text/plain": [
       "187598"
      ]
     },
     "execution_count": 15,
     "metadata": {},
     "output_type": "execute_result"
    }
   ],
   "source": [
    "# sum of all comments\n",
    "df_users.sum()"
   ]
  },
  {
   "cell_type": "code",
   "execution_count": 16,
   "metadata": {
    "scrolled": true
   },
   "outputs": [
    {
     "data": {
      "text/plain": [
       "Index(['--LUapetRSkZpFZ2d-MXLQ', '--RlSfc-QmcHFGHyX6aVjA',\n",
       "       '--ZNfWKj1VyVElRx6-g1fg', '-00kdEIhCt-ODaV4BS-EAg',\n",
       "       '-05XqtNjcBq19vh2CVJN8g', '-0CYm85fllm43U7UQOe82w',\n",
       "       '-0Hf2jiBo7hJdxYW0Y6PKQ', '-0lFv3aQ5XI9VdiDwsL2vA',\n",
       "       '-16aKjco1c0RJ7c4U-q_Kw', '-191gKrqDzXGUrpl7npkXw',\n",
       "       ...\n",
       "       'zxWMgav2dk1BLGw0HA_KZQ', 'zxmIKyEX89aY0QLC1JJksA',\n",
       "       'zy1CuLKzsy4WTggLOmRv5Q', 'zyJWc8oW8JpPg2xXMQsnAA',\n",
       "       'zyMB50UtmEuQf-1VUKxZxQ', 'zyVe-VJfVPTzUHNDn4reBw',\n",
       "       'zz9rIM0FmlWYvAzr6dGwVQ', 'zzHSF3oCjXqgsYuVJPgdvw',\n",
       "       'zzMJLd3cWBM6HT8eMbOGbA', 'zzaq5Fn1U2Feut3dGxidNg'],\n",
       "      dtype='object', name='user_id', length=14675)"
      ]
     },
     "execution_count": 16,
     "metadata": {},
     "output_type": "execute_result"
    }
   ],
   "source": [
    "# index of df_users\n",
    "df_users.index"
   ]
  },
  {
   "cell_type": "code",
   "execution_count": 21,
   "metadata": {
    "scrolled": false
   },
   "outputs": [
    {
     "data": {
      "text/html": [
       "<div>\n",
       "<style scoped>\n",
       "    .dataframe tbody tr th:only-of-type {\n",
       "        vertical-align: middle;\n",
       "    }\n",
       "\n",
       "    .dataframe tbody tr th {\n",
       "        vertical-align: top;\n",
       "    }\n",
       "\n",
       "    .dataframe thead th {\n",
       "        text-align: right;\n",
       "    }\n",
       "</style>\n",
       "<table border=\"1\" class=\"dataframe\">\n",
       "  <thead>\n",
       "    <tr style=\"text-align: right;\">\n",
       "      <th></th>\n",
       "      <th>user_id</th>\n",
       "      <th>business_id</th>\n",
       "      <th>stars</th>\n",
       "    </tr>\n",
       "  </thead>\n",
       "  <tbody>\n",
       "    <tr>\n",
       "      <th>0</th>\n",
       "      <td>--LUapetRSkZpFZ2d-MXLQ</td>\n",
       "      <td>0EgYXYjt2XJL4hlsKnzrcw</td>\n",
       "      <td>4</td>\n",
       "    </tr>\n",
       "    <tr>\n",
       "      <th>1</th>\n",
       "      <td>--LUapetRSkZpFZ2d-MXLQ</td>\n",
       "      <td>1aj4TG0eFq6NaPBKk6bK7Q</td>\n",
       "      <td>5</td>\n",
       "    </tr>\n",
       "    <tr>\n",
       "      <th>2</th>\n",
       "      <td>--LUapetRSkZpFZ2d-MXLQ</td>\n",
       "      <td>CoyeXg8FBsS_d20QzNIy-A</td>\n",
       "      <td>5</td>\n",
       "    </tr>\n",
       "    <tr>\n",
       "      <th>3</th>\n",
       "      <td>--LUapetRSkZpFZ2d-MXLQ</td>\n",
       "      <td>ItqPtxnayraXSlBS0EMOgg</td>\n",
       "      <td>5</td>\n",
       "    </tr>\n",
       "    <tr>\n",
       "      <th>4</th>\n",
       "      <td>--LUapetRSkZpFZ2d-MXLQ</td>\n",
       "      <td>PtwW1Hwme8Y0wy54zNr8Xw</td>\n",
       "      <td>5</td>\n",
       "    </tr>\n",
       "  </tbody>\n",
       "</table>\n",
       "</div>"
      ],
      "text/plain": [
       "                  user_id             business_id  stars\n",
       "0  --LUapetRSkZpFZ2d-MXLQ  0EgYXYjt2XJL4hlsKnzrcw      4\n",
       "1  --LUapetRSkZpFZ2d-MXLQ  1aj4TG0eFq6NaPBKk6bK7Q      5\n",
       "2  --LUapetRSkZpFZ2d-MXLQ  CoyeXg8FBsS_d20QzNIy-A      5\n",
       "3  --LUapetRSkZpFZ2d-MXLQ  ItqPtxnayraXSlBS0EMOgg      5\n",
       "4  --LUapetRSkZpFZ2d-MXLQ  PtwW1Hwme8Y0wy54zNr8Xw      5"
      ]
     },
     "execution_count": 21,
     "metadata": {},
     "output_type": "execute_result"
    }
   ],
   "source": [
    "# reorder df_users\n",
    "df_stars_cleaned = df_stars.set_index('user_id').loc[df_users.index].reset_index()\n",
    "df_stars_cleaned.head()"
   ]
  },
  {
   "cell_type": "markdown",
   "metadata": {},
   "source": [
    "#### Create utility matrix from records"
   ]
  },
  {
   "cell_type": "code",
   "execution_count": 22,
   "metadata": {},
   "outputs": [],
   "source": [
    "# create utility matrix, if missing, fill with zero\n",
    "df_utility = pd.pivot_table(data = df_stars_cleaned,\n",
    "                            values = 'stars',\n",
    "                            index = 'user_id',\n",
    "                            columns = 'business_id',\n",
    "                            fill_value = 0)\n",
    "df_utility.head()"
   ]
  },
  {
   "cell_type": "code",
   "execution_count": 26,
   "metadata": {
    "scrolled": true
   },
   "outputs": [
    {
     "name": "stdout",
     "output_type": "stream",
     "text": [
      "<class 'pandas.core.frame.DataFrame'>\n",
      "Index: 14675 entries, --LUapetRSkZpFZ2d-MXLQ to zzaq5Fn1U2Feut3dGxidNg\n",
      "Columns: 4558 entries, --9e1ONYQuAa-CB_Rrw7Tw to zwNC-Ow4eIMan2__bS9-rg\n",
      "dtypes: int64(4558)\n",
      "memory usage: 510.4+ MB\n"
     ]
    }
   ],
   "source": [
    "df_utility.info()"
   ]
  },
  {
   "cell_type": "markdown",
   "metadata": {},
   "source": [
    "## Item-Item similarity recommender"
   ]
  },
  {
   "cell_type": "markdown",
   "metadata": {
    "collapsed": true
   },
   "source": [
    "#### NMF"
   ]
  },
  {
   "cell_type": "code",
   "execution_count": 29,
   "metadata": {},
   "outputs": [],
   "source": [
    "from sklearn.decomposition import NMF\n",
    "\n",
    "def fit_nmf(M,k):\n",
    "    nmf = NMF(n_components=k) # initialize transformer \n",
    "    nmf.fit(M)\n",
    "    W = nmf.transform(M);# transform original matrix\n",
    "    H = nmf.components_; # transformation matrix V, components\n",
    "    err = nmf.reconstruction_err_\n",
    "    return W, H, err"
   ]
  },
  {
   "cell_type": "code",
   "execution_count": 66,
   "metadata": {},
   "outputs": [
    {
     "name": "stdout",
     "output_type": "stream",
     "text": [
      "1528.1902988316635\n",
      "(14675, 100) (100, 4558)\n"
     ]
    }
   ],
   "source": [
    "# decompose \n",
    "W, H, err = fit_nmf(df_utility, 100)\n",
    "print(err)\n",
    "print(W.shape,H.shape)"
   ]
  },
  {
   "cell_type": "code",
   "execution_count": 67,
   "metadata": {},
   "outputs": [
    {
     "name": "stdout",
     "output_type": "stream",
     "text": [
      "11.83250592868702\n",
      "2.9771009856435144\n"
     ]
    }
   ],
   "source": [
    "# reconstruct\n",
    "from scipy import sparse\n",
    "\n",
    "ratings_mat = sparse.csr_matrix(df_utility)\n",
    "ratings_mat_fitted = W.dot(H)\n",
    "errs = np.array((ratings_mat-ratings_mat_fitted).flatten()).squeeze()\n",
    "mask = np.array((ratings_mat.todense()).flatten()).squeeze()>0\n",
    "\n",
    "mse = np.mean(errs[mask]**2)\n",
    "average_abs_err = abs(errs[mask]).mean()\n",
    "print(mse)\n",
    "print(average_abs_err) # absolute error, approximate scale"
   ]
  },
  {
   "cell_type": "code",
   "execution_count": 68,
   "metadata": {},
   "outputs": [
    {
     "data": {
      "text/plain": [
       "[279, 4191, 4205, 2314, 4005, 2302, 1759, 46, 3067, 1882]"
      ]
     },
     "execution_count": 68,
     "metadata": {},
     "output_type": "execute_result"
    }
   ],
   "source": [
    "# get recommendations for one user\n",
    "user_id = 100\n",
    "n = 10\n",
    "\n",
    "pred_ratings = ratings_mat_fitted[user_id,:]\n",
    "item_index_sorted_by_pred_rating = list(np.argsort(pred_ratings))[::-1]\n",
    "\n",
    "items_rated_by_this_user = ratings_mat[user_id].nonzero()[1]\n",
    "\n",
    "unrated_items_by_pred_rating = [item for item in item_index_sorted_by_pred_rating\n",
    "                                if item not in items_rated_by_this_user]\n",
    "\n",
    "unrated_items_by_pred_rating[:n]"
   ]
  },
  {
   "cell_type": "code",
   "execution_count": 69,
   "metadata": {},
   "outputs": [
    {
     "name": "stdout",
     "output_type": "stream",
     "text": [
      "[(3, 3.1408218018033685), (3, 0.3745403866694805), (4, 0.2853529442018187), (4, 0.0577151772128735), (2, 0.14150822459728163), (4, 0.0061213857633677805), (4, 0.018903462761000453)]\n",
      "[[-0.1408218   2.62545961  3.71464706  3.94228482  1.85849178  3.99387861\n",
      "   3.98109654]]\n",
      "2.893811460085364\n"
     ]
    }
   ],
   "source": [
    "### check errors\n",
    "# truth\n",
    "ratings_true = ratings_mat[user_id, items_rated_by_this_user].todense()\n",
    "# prediction\n",
    "ratings_pred = pred_ratings[items_rated_by_this_user]\n",
    "print(list(zip(np.array(ratings_true).squeeze(),ratings_pred)))\n",
    "err_one_user = ratings_true-ratings_pred\n",
    "print(err_one_user)\n",
    "print(abs(err_one_user).mean())"
   ]
  },
  {
   "cell_type": "markdown",
   "metadata": {},
   "source": [
    "#### UVD/SVD"
   ]
  },
  {
   "cell_type": "code",
   "execution_count": 70,
   "metadata": {},
   "outputs": [],
   "source": [
    "from sklearn.decomposition import TruncatedSVD\n",
    "\n",
    "def fit_uvd(M,k):\n",
    "    # use TruncatedSVD to realize UVD\n",
    "    svd = TruncatedSVD(n_components=k, n_iter=10, random_state=0)\n",
    "    svd.fit(M)\n",
    "    V = svd.components_\n",
    "    U = svd.transform(M) # effectively, it's doing: U = M.dot(V.T)\n",
    "    return U,V, svd\n"
   ]
  },
  {
   "cell_type": "code",
   "execution_count": 71,
   "metadata": {},
   "outputs": [
    {
     "name": "stdout",
     "output_type": "stream",
     "text": [
      "(14675, 100) (100, 4558)\n"
     ]
    }
   ],
   "source": [
    "# decompose\n",
    "U,V,svd = fit_uvd(ratings_mat,100)\n",
    "\n",
    "print(U.shape, V.shape)"
   ]
  },
  {
   "cell_type": "code",
   "execution_count": 72,
   "metadata": {},
   "outputs": [
    {
     "name": "stdout",
     "output_type": "stream",
     "text": [
      "11.07980129515835\n",
      "2.918110774240558\n"
     ]
    }
   ],
   "source": [
    "# reconstruct\n",
    "from scipy import sparse\n",
    "\n",
    "ratings_mat = sparse.csr_matrix(df_utility)\n",
    "ratings_mat_fitted = U.dot(V) # U*V\n",
    "\n",
    "# calculate errs\n",
    "errs = np.array((ratings_mat-ratings_mat_fitted).flatten()).squeeze()\n",
    "mask = np.array((ratings_mat.todense()).flatten()).squeeze()>0\n",
    "\n",
    "mse = np.mean(errs[mask]**2)\n",
    "average_abs_err = abs(errs[mask]).mean()\n",
    "print(mse)\n",
    "print(average_abs_err)"
   ]
  },
  {
   "cell_type": "code",
   "execution_count": 73,
   "metadata": {},
   "outputs": [
    {
     "data": {
      "text/plain": [
       "[4191, 4205, 4005, 2285, 1455, 2314, 4426, 3070, 1704, 1169]"
      ]
     },
     "execution_count": 73,
     "metadata": {},
     "output_type": "execute_result"
    }
   ],
   "source": [
    "# get recommendations for one user\n",
    "user_id = 100\n",
    "n = 10\n",
    "\n",
    "pred_ratings = ratings_mat_fitted[user_id,:]\n",
    "item_index_sorted_by_pred_rating = list(np.argsort(pred_ratings))[::-1]\n",
    "\n",
    "items_rated_by_this_user = ratings_mat[user_id].nonzero()[1]\n",
    "\n",
    "unrated_items_by_pred_rating = [item for item in item_index_sorted_by_pred_rating\n",
    "                                if item not in items_rated_by_this_user]\n",
    "\n",
    "unrated_items_by_pred_rating[:n]"
   ]
  },
  {
   "cell_type": "code",
   "execution_count": 74,
   "metadata": {},
   "outputs": [
    {
     "name": "stdout",
     "output_type": "stream",
     "text": [
      "[(3, 1.4839635389207544), (3, 0.34783220226889633), (4, 0.5351493001127487), (4, 0.0756202176368395), (2, 0.19816111028525243), (4, 0.0193421314667938), (4, 0.07350116378458497)]\n",
      "[[1.51603646 2.6521678  3.4648507  3.92437978 1.80183889 3.98065787\n",
      "  3.92649884]]\n",
      "3.0380614765034473\n"
     ]
    }
   ],
   "source": [
    "### check errors\n",
    "# truth\n",
    "ratings_true = ratings_mat[user_id, items_rated_by_this_user].todense()\n",
    "# prediction\n",
    "ratings_pred = pred_ratings[items_rated_by_this_user]\n",
    "print(list(zip(np.array(ratings_true).squeeze(),ratings_pred)))\n",
    "err_one_user = ratings_true-ratings_pred\n",
    "print(err_one_user)\n",
    "print(abs(err_one_user).mean())"
   ]
  },
  {
   "cell_type": "markdown",
   "metadata": {},
   "source": [
    "#### GraphLab"
   ]
  },
  {
   "cell_type": "code",
   "execution_count": 7,
   "metadata": {},
   "outputs": [
    {
     "data": {
      "text/html": [
       "<div style=\"max-height:1000px;max-width:1500px;overflow:auto;\"><table frame=\"box\" rules=\"cols\">\n",
       "    <tr>\n",
       "        <th style=\"padding-left: 1em; padding-right: 1em; text-align: center\">business_id</th>\n",
       "        <th style=\"padding-left: 1em; padding-right: 1em; text-align: center\">user_id</th>\n",
       "        <th style=\"padding-left: 1em; padding-right: 1em; text-align: center\">stars</th>\n",
       "    </tr>\n",
       "    <tr>\n",
       "        <td style=\"padding-left: 1em; padding-right: 1em; text-align: center; vertical-align: top\">--9e1ONYQuAa-CB_Rrw7Tw</td>\n",
       "        <td style=\"padding-left: 1em; padding-right: 1em; text-align: center; vertical-align: top\">oFyOUOeGTRZhFPF9uTqrTQ</td>\n",
       "        <td style=\"padding-left: 1em; padding-right: 1em; text-align: center; vertical-align: top\">5</td>\n",
       "    </tr>\n",
       "    <tr>\n",
       "        <td style=\"padding-left: 1em; padding-right: 1em; text-align: center; vertical-align: top\">--9e1ONYQuAa-CB_Rrw7Tw</td>\n",
       "        <td style=\"padding-left: 1em; padding-right: 1em; text-align: center; vertical-align: top\">2aeNFntqY2QDZLADNo8iQQ</td>\n",
       "        <td style=\"padding-left: 1em; padding-right: 1em; text-align: center; vertical-align: top\">4</td>\n",
       "    </tr>\n",
       "    <tr>\n",
       "        <td style=\"padding-left: 1em; padding-right: 1em; text-align: center; vertical-align: top\">--9e1ONYQuAa-CB_Rrw7Tw</td>\n",
       "        <td style=\"padding-left: 1em; padding-right: 1em; text-align: center; vertical-align: top\">gmPP4YFrgYsYQqPYokMgFA</td>\n",
       "        <td style=\"padding-left: 1em; padding-right: 1em; text-align: center; vertical-align: top\">5</td>\n",
       "    </tr>\n",
       "    <tr>\n",
       "        <td style=\"padding-left: 1em; padding-right: 1em; text-align: center; vertical-align: top\">--9e1ONYQuAa-CB_Rrw7Tw</td>\n",
       "        <td style=\"padding-left: 1em; padding-right: 1em; text-align: center; vertical-align: top\">aVOGlN9fZ-BXcbtj6dbf0g</td>\n",
       "        <td style=\"padding-left: 1em; padding-right: 1em; text-align: center; vertical-align: top\">5</td>\n",
       "    </tr>\n",
       "    <tr>\n",
       "        <td style=\"padding-left: 1em; padding-right: 1em; text-align: center; vertical-align: top\">--9e1ONYQuAa-CB_Rrw7Tw</td>\n",
       "        <td style=\"padding-left: 1em; padding-right: 1em; text-align: center; vertical-align: top\">KC8H7qTZVPIEnanw9fG43g</td>\n",
       "        <td style=\"padding-left: 1em; padding-right: 1em; text-align: center; vertical-align: top\">5</td>\n",
       "    </tr>\n",
       "    <tr>\n",
       "        <td style=\"padding-left: 1em; padding-right: 1em; text-align: center; vertical-align: top\">--9e1ONYQuAa-CB_Rrw7Tw</td>\n",
       "        <td style=\"padding-left: 1em; padding-right: 1em; text-align: center; vertical-align: top\">3RTesI_MAwct13LWm4rhLw</td>\n",
       "        <td style=\"padding-left: 1em; padding-right: 1em; text-align: center; vertical-align: top\">4</td>\n",
       "    </tr>\n",
       "    <tr>\n",
       "        <td style=\"padding-left: 1em; padding-right: 1em; text-align: center; vertical-align: top\">--9e1ONYQuAa-CB_Rrw7Tw</td>\n",
       "        <td style=\"padding-left: 1em; padding-right: 1em; text-align: center; vertical-align: top\">EAOt1UQhJD0GG3l_jv7rWA</td>\n",
       "        <td style=\"padding-left: 1em; padding-right: 1em; text-align: center; vertical-align: top\">5</td>\n",
       "    </tr>\n",
       "    <tr>\n",
       "        <td style=\"padding-left: 1em; padding-right: 1em; text-align: center; vertical-align: top\">--9e1ONYQuAa-CB_Rrw7Tw</td>\n",
       "        <td style=\"padding-left: 1em; padding-right: 1em; text-align: center; vertical-align: top\">C6kw0Rny7jZAGjTj0MWA3Q</td>\n",
       "        <td style=\"padding-left: 1em; padding-right: 1em; text-align: center; vertical-align: top\">5</td>\n",
       "    </tr>\n",
       "    <tr>\n",
       "        <td style=\"padding-left: 1em; padding-right: 1em; text-align: center; vertical-align: top\">--9e1ONYQuAa-CB_Rrw7Tw</td>\n",
       "        <td style=\"padding-left: 1em; padding-right: 1em; text-align: center; vertical-align: top\">tTifjrXlRrUme-4c0UW9Bw</td>\n",
       "        <td style=\"padding-left: 1em; padding-right: 1em; text-align: center; vertical-align: top\">5</td>\n",
       "    </tr>\n",
       "    <tr>\n",
       "        <td style=\"padding-left: 1em; padding-right: 1em; text-align: center; vertical-align: top\">--9e1ONYQuAa-CB_Rrw7Tw</td>\n",
       "        <td style=\"padding-left: 1em; padding-right: 1em; text-align: center; vertical-align: top\">OtKA03ALQQ1CBhtaJod_Jw</td>\n",
       "        <td style=\"padding-left: 1em; padding-right: 1em; text-align: center; vertical-align: top\">2</td>\n",
       "    </tr>\n",
       "</table>\n",
       "[515752 rows x 3 columns]<br/>Note: Only the head of the SFrame is printed.<br/>You can use print_rows(num_rows=m, num_columns=n) to print more rows and columns.\n",
       "</div>"
      ],
      "text/plain": [
       "Columns:\n",
       "\tbusiness_id\tstr\n",
       "\tuser_id\tstr\n",
       "\tstars\tint\n",
       "\n",
       "Rows: 515752\n",
       "\n",
       "Data:\n",
       "+------------------------+------------------------+-------+\n",
       "|      business_id       |        user_id         | stars |\n",
       "+------------------------+------------------------+-------+\n",
       "| --9e1ONYQuAa-CB_Rrw7Tw | oFyOUOeGTRZhFPF9uTqrTQ |   5   |\n",
       "| --9e1ONYQuAa-CB_Rrw7Tw | 2aeNFntqY2QDZLADNo8iQQ |   4   |\n",
       "| --9e1ONYQuAa-CB_Rrw7Tw | gmPP4YFrgYsYQqPYokMgFA |   5   |\n",
       "| --9e1ONYQuAa-CB_Rrw7Tw | aVOGlN9fZ-BXcbtj6dbf0g |   5   |\n",
       "| --9e1ONYQuAa-CB_Rrw7Tw | KC8H7qTZVPIEnanw9fG43g |   5   |\n",
       "| --9e1ONYQuAa-CB_Rrw7Tw | 3RTesI_MAwct13LWm4rhLw |   4   |\n",
       "| --9e1ONYQuAa-CB_Rrw7Tw | EAOt1UQhJD0GG3l_jv7rWA |   5   |\n",
       "| --9e1ONYQuAa-CB_Rrw7Tw | C6kw0Rny7jZAGjTj0MWA3Q |   5   |\n",
       "| --9e1ONYQuAa-CB_Rrw7Tw | tTifjrXlRrUme-4c0UW9Bw |   5   |\n",
       "| --9e1ONYQuAa-CB_Rrw7Tw | OtKA03ALQQ1CBhtaJod_Jw |   2   |\n",
       "+------------------------+------------------------+-------+\n",
       "[515752 rows x 3 columns]\n",
       "Note: Only the head of the SFrame is printed.\n",
       "You can use print_rows(num_rows=m, num_columns=n) to print more rows and columns."
      ]
     },
     "execution_count": 7,
     "metadata": {},
     "output_type": "execute_result"
    }
   ],
   "source": [
    "import graphlab\n",
    "\n",
    "# create SFrame\n",
    "sf_stars = graphlab.SFrame(df_stars)\n",
    "sf_stars"
   ]
  },
  {
   "cell_type": "code",
   "execution_count": 8,
   "metadata": {},
   "outputs": [
    {
     "data": {
      "text/html": [
       "<pre>Recsys training: model = item_similarity</pre>"
      ],
      "text/plain": [
       "Recsys training: model = item_similarity"
      ]
     },
     "metadata": {},
     "output_type": "display_data"
    },
    {
     "data": {
      "text/html": [
       "<pre>Preparing data set.</pre>"
      ],
      "text/plain": [
       "Preparing data set."
      ]
     },
     "metadata": {},
     "output_type": "display_data"
    },
    {
     "data": {
      "text/html": [
       "<pre>    Data has 515752 observations with 227241 users and 4832 items.</pre>"
      ],
      "text/plain": [
       "    Data has 515752 observations with 227241 users and 4832 items."
      ]
     },
     "metadata": {},
     "output_type": "display_data"
    },
    {
     "data": {
      "text/html": [
       "<pre>    Data prepared in: 0.972724s</pre>"
      ],
      "text/plain": [
       "    Data prepared in: 0.972724s"
      ]
     },
     "metadata": {},
     "output_type": "display_data"
    },
    {
     "data": {
      "text/html": [
       "<pre>Training model from provided data.</pre>"
      ],
      "text/plain": [
       "Training model from provided data."
      ]
     },
     "metadata": {},
     "output_type": "display_data"
    },
    {
     "data": {
      "text/html": [
       "<pre>Gathering per-item and per-user statistics.</pre>"
      ],
      "text/plain": [
       "Gathering per-item and per-user statistics."
      ]
     },
     "metadata": {},
     "output_type": "display_data"
    },
    {
     "data": {
      "text/html": [
       "<pre>+--------------------------------+------------+</pre>"
      ],
      "text/plain": [
       "+--------------------------------+------------+"
      ]
     },
     "metadata": {},
     "output_type": "display_data"
    },
    {
     "data": {
      "text/html": [
       "<pre>| Elapsed Time (Item Statistics) | % Complete |</pre>"
      ],
      "text/plain": [
       "| Elapsed Time (Item Statistics) | % Complete |"
      ]
     },
     "metadata": {},
     "output_type": "display_data"
    },
    {
     "data": {
      "text/html": [
       "<pre>+--------------------------------+------------+</pre>"
      ],
      "text/plain": [
       "+--------------------------------+------------+"
      ]
     },
     "metadata": {},
     "output_type": "display_data"
    },
    {
     "data": {
      "text/html": [
       "<pre>| 13.556ms                       | 0.25       |</pre>"
      ],
      "text/plain": [
       "| 13.556ms                       | 0.25       |"
      ]
     },
     "metadata": {},
     "output_type": "display_data"
    },
    {
     "data": {
      "text/html": [
       "<pre>| 99.833ms                       | 100        |</pre>"
      ],
      "text/plain": [
       "| 99.833ms                       | 100        |"
      ]
     },
     "metadata": {},
     "output_type": "display_data"
    },
    {
     "data": {
      "text/html": [
       "<pre>+--------------------------------+------------+</pre>"
      ],
      "text/plain": [
       "+--------------------------------+------------+"
      ]
     },
     "metadata": {},
     "output_type": "display_data"
    },
    {
     "data": {
      "text/html": [
       "<pre>Setting up lookup tables.</pre>"
      ],
      "text/plain": [
       "Setting up lookup tables."
      ]
     },
     "metadata": {},
     "output_type": "display_data"
    },
    {
     "data": {
      "text/html": [
       "<pre>Processing data in one pass using dense lookup tables.</pre>"
      ],
      "text/plain": [
       "Processing data in one pass using dense lookup tables."
      ]
     },
     "metadata": {},
     "output_type": "display_data"
    },
    {
     "data": {
      "text/html": [
       "<pre>+-------------------------------------+------------------+-----------------+</pre>"
      ],
      "text/plain": [
       "+-------------------------------------+------------------+-----------------+"
      ]
     },
     "metadata": {},
     "output_type": "display_data"
    },
    {
     "data": {
      "text/html": [
       "<pre>| Elapsed Time (Constructing Lookups) | Total % Complete | Items Processed |</pre>"
      ],
      "text/plain": [
       "| Elapsed Time (Constructing Lookups) | Total % Complete | Items Processed |"
      ]
     },
     "metadata": {},
     "output_type": "display_data"
    },
    {
     "data": {
      "text/html": [
       "<pre>+-------------------------------------+------------------+-----------------+</pre>"
      ],
      "text/plain": [
       "+-------------------------------------+------------------+-----------------+"
      ]
     },
     "metadata": {},
     "output_type": "display_data"
    },
    {
     "data": {
      "text/html": [
       "<pre>| 231.015ms                           | 0                | 0               |</pre>"
      ],
      "text/plain": [
       "| 231.015ms                           | 0                | 0               |"
      ]
     },
     "metadata": {},
     "output_type": "display_data"
    },
    {
     "data": {
      "text/html": [
       "<pre>| 570.204ms                           | 100              | 4832            |</pre>"
      ],
      "text/plain": [
       "| 570.204ms                           | 100              | 4832            |"
      ]
     },
     "metadata": {},
     "output_type": "display_data"
    },
    {
     "data": {
      "text/html": [
       "<pre>+-------------------------------------+------------------+-----------------+</pre>"
      ],
      "text/plain": [
       "+-------------------------------------+------------------+-----------------+"
      ]
     },
     "metadata": {},
     "output_type": "display_data"
    },
    {
     "data": {
      "text/html": [
       "<pre>Finalizing lookup tables.</pre>"
      ],
      "text/plain": [
       "Finalizing lookup tables."
      ]
     },
     "metadata": {},
     "output_type": "display_data"
    },
    {
     "data": {
      "text/html": [
       "<pre>Generating candidate set for working with new users.</pre>"
      ],
      "text/plain": [
       "Generating candidate set for working with new users."
      ]
     },
     "metadata": {},
     "output_type": "display_data"
    },
    {
     "data": {
      "text/html": [
       "<pre>Finished training in 1.67782s</pre>"
      ],
      "text/plain": [
       "Finished training in 1.67782s"
      ]
     },
     "metadata": {},
     "output_type": "display_data"
    }
   ],
   "source": [
    "# item-item recommender\n",
    "item_item_rec = graphlab.recommender.item_similarity_recommender.create(sf_stars,\n",
    "                                                                        user_id = 'user_id',\n",
    "                                                                        item_id = 'business_id',\n",
    "                                                                        target = 'stars')"
   ]
  },
  {
   "cell_type": "code",
   "execution_count": 10,
   "metadata": {
    "scrolled": true
   },
   "outputs": [
    {
     "data": {
      "text/html": [
       "<div style=\"max-height:1000px;max-width:1500px;overflow:auto;\"><table frame=\"box\" rules=\"cols\">\n",
       "    <tr>\n",
       "        <th style=\"padding-left: 1em; padding-right: 1em; text-align: center\">user_id</th>\n",
       "        <th style=\"padding-left: 1em; padding-right: 1em; text-align: center\">business_id</th>\n",
       "        <th style=\"padding-left: 1em; padding-right: 1em; text-align: center\">score</th>\n",
       "        <th style=\"padding-left: 1em; padding-right: 1em; text-align: center\">rank</th>\n",
       "    </tr>\n",
       "    <tr>\n",
       "        <td style=\"padding-left: 1em; padding-right: 1em; text-align: center; vertical-align: top\">oFyOUOeGTRZhFPF9uTqrTQ</td>\n",
       "        <td style=\"padding-left: 1em; padding-right: 1em; text-align: center; vertical-align: top\">BhueLLvA0k9G1Lr0WeZX9w</td>\n",
       "        <td style=\"padding-left: 1em; padding-right: 1em; text-align: center; vertical-align: top\">0.0054555649453</td>\n",
       "        <td style=\"padding-left: 1em; padding-right: 1em; text-align: center; vertical-align: top\">1</td>\n",
       "    </tr>\n",
       "    <tr>\n",
       "        <td style=\"padding-left: 1em; padding-right: 1em; text-align: center; vertical-align: top\">oFyOUOeGTRZhFPF9uTqrTQ</td>\n",
       "        <td style=\"padding-left: 1em; padding-right: 1em; text-align: center; vertical-align: top\">4mb32UmQULqg7IMck28vog</td>\n",
       "        <td style=\"padding-left: 1em; padding-right: 1em; text-align: center; vertical-align: top\">0.00528274064368</td>\n",
       "        <td style=\"padding-left: 1em; padding-right: 1em; text-align: center; vertical-align: top\">2</td>\n",
       "    </tr>\n",
       "    <tr>\n",
       "        <td style=\"padding-left: 1em; padding-right: 1em; text-align: center; vertical-align: top\">oFyOUOeGTRZhFPF9uTqrTQ</td>\n",
       "        <td style=\"padding-left: 1em; padding-right: 1em; text-align: center; vertical-align: top\">6fz0hnNIVpLF5v2NqJfA9w</td>\n",
       "        <td style=\"padding-left: 1em; padding-right: 1em; text-align: center; vertical-align: top\">0.0052772303845</td>\n",
       "        <td style=\"padding-left: 1em; padding-right: 1em; text-align: center; vertical-align: top\">3</td>\n",
       "    </tr>\n",
       "    <tr>\n",
       "        <td style=\"padding-left: 1em; padding-right: 1em; text-align: center; vertical-align: top\">oFyOUOeGTRZhFPF9uTqrTQ</td>\n",
       "        <td style=\"padding-left: 1em; padding-right: 1em; text-align: center; vertical-align: top\">n8Zqqhff-2cxzWt_nwhU2Q</td>\n",
       "        <td style=\"padding-left: 1em; padding-right: 1em; text-align: center; vertical-align: top\">0.0052749184852</td>\n",
       "        <td style=\"padding-left: 1em; padding-right: 1em; text-align: center; vertical-align: top\">4</td>\n",
       "    </tr>\n",
       "    <tr>\n",
       "        <td style=\"padding-left: 1em; padding-right: 1em; text-align: center; vertical-align: top\">oFyOUOeGTRZhFPF9uTqrTQ</td>\n",
       "        <td style=\"padding-left: 1em; padding-right: 1em; text-align: center; vertical-align: top\">E0OKctOhZpUQgwUUBc_RwA</td>\n",
       "        <td style=\"padding-left: 1em; padding-right: 1em; text-align: center; vertical-align: top\">0.00481685044918</td>\n",
       "        <td style=\"padding-left: 1em; padding-right: 1em; text-align: center; vertical-align: top\">5</td>\n",
       "    </tr>\n",
       "    <tr>\n",
       "        <td style=\"padding-left: 1em; padding-right: 1em; text-align: center; vertical-align: top\">oFyOUOeGTRZhFPF9uTqrTQ</td>\n",
       "        <td style=\"padding-left: 1em; padding-right: 1em; text-align: center; vertical-align: top\">qqs7LP4TXAoOrSlaKRfz3A</td>\n",
       "        <td style=\"padding-left: 1em; padding-right: 1em; text-align: center; vertical-align: top\">0.00472867869316</td>\n",
       "        <td style=\"padding-left: 1em; padding-right: 1em; text-align: center; vertical-align: top\">6</td>\n",
       "    </tr>\n",
       "    <tr>\n",
       "        <td style=\"padding-left: 1em; padding-right: 1em; text-align: center; vertical-align: top\">oFyOUOeGTRZhFPF9uTqrTQ</td>\n",
       "        <td style=\"padding-left: 1em; padding-right: 1em; text-align: center; vertical-align: top\">uW6UHfONAmm8QttPkbMewQ</td>\n",
       "        <td style=\"padding-left: 1em; padding-right: 1em; text-align: center; vertical-align: top\">0.00414170736962</td>\n",
       "        <td style=\"padding-left: 1em; padding-right: 1em; text-align: center; vertical-align: top\">7</td>\n",
       "    </tr>\n",
       "    <tr>\n",
       "        <td style=\"padding-left: 1em; padding-right: 1em; text-align: center; vertical-align: top\">oFyOUOeGTRZhFPF9uTqrTQ</td>\n",
       "        <td style=\"padding-left: 1em; padding-right: 1em; text-align: center; vertical-align: top\">fW7SHgmidc32kHSoyLTM2A</td>\n",
       "        <td style=\"padding-left: 1em; padding-right: 1em; text-align: center; vertical-align: top\">0.00412292176105</td>\n",
       "        <td style=\"padding-left: 1em; padding-right: 1em; text-align: center; vertical-align: top\">8</td>\n",
       "    </tr>\n",
       "    <tr>\n",
       "        <td style=\"padding-left: 1em; padding-right: 1em; text-align: center; vertical-align: top\">oFyOUOeGTRZhFPF9uTqrTQ</td>\n",
       "        <td style=\"padding-left: 1em; padding-right: 1em; text-align: center; vertical-align: top\">agGJSdMTRrkA6VrYMbC-SQ</td>\n",
       "        <td style=\"padding-left: 1em; padding-right: 1em; text-align: center; vertical-align: top\">0.00408347236349</td>\n",
       "        <td style=\"padding-left: 1em; padding-right: 1em; text-align: center; vertical-align: top\">9</td>\n",
       "    </tr>\n",
       "    <tr>\n",
       "        <td style=\"padding-left: 1em; padding-right: 1em; text-align: center; vertical-align: top\">oFyOUOeGTRZhFPF9uTqrTQ</td>\n",
       "        <td style=\"padding-left: 1em; padding-right: 1em; text-align: center; vertical-align: top\">LpGCzgAKNSpzDNEUMVVtZA</td>\n",
       "        <td style=\"padding-left: 1em; padding-right: 1em; text-align: center; vertical-align: top\">0.00395040689631</td>\n",
       "        <td style=\"padding-left: 1em; padding-right: 1em; text-align: center; vertical-align: top\">10</td>\n",
       "    </tr>\n",
       "</table>\n",
       "[2272410 rows x 4 columns]<br/>Note: Only the head of the SFrame is printed.<br/>You can use print_rows(num_rows=m, num_columns=n) to print more rows and columns.\n",
       "</div>"
      ],
      "text/plain": [
       "Columns:\n",
       "\tuser_id\tstr\n",
       "\tbusiness_id\tstr\n",
       "\tscore\tfloat\n",
       "\trank\tint\n",
       "\n",
       "Rows: 2272410\n",
       "\n",
       "Data:\n",
       "+------------------------+------------------------+------------------+------+\n",
       "|        user_id         |      business_id       |      score       | rank |\n",
       "+------------------------+------------------------+------------------+------+\n",
       "| oFyOUOeGTRZhFPF9uTqrTQ | BhueLLvA0k9G1Lr0WeZX9w | 0.0054555649453  |  1   |\n",
       "| oFyOUOeGTRZhFPF9uTqrTQ | 4mb32UmQULqg7IMck28vog | 0.00528274064368 |  2   |\n",
       "| oFyOUOeGTRZhFPF9uTqrTQ | 6fz0hnNIVpLF5v2NqJfA9w | 0.0052772303845  |  3   |\n",
       "| oFyOUOeGTRZhFPF9uTqrTQ | n8Zqqhff-2cxzWt_nwhU2Q | 0.0052749184852  |  4   |\n",
       "| oFyOUOeGTRZhFPF9uTqrTQ | E0OKctOhZpUQgwUUBc_RwA | 0.00481685044918 |  5   |\n",
       "| oFyOUOeGTRZhFPF9uTqrTQ | qqs7LP4TXAoOrSlaKRfz3A | 0.00472867869316 |  6   |\n",
       "| oFyOUOeGTRZhFPF9uTqrTQ | uW6UHfONAmm8QttPkbMewQ | 0.00414170736962 |  7   |\n",
       "| oFyOUOeGTRZhFPF9uTqrTQ | fW7SHgmidc32kHSoyLTM2A | 0.00412292176105 |  8   |\n",
       "| oFyOUOeGTRZhFPF9uTqrTQ | agGJSdMTRrkA6VrYMbC-SQ | 0.00408347236349 |  9   |\n",
       "| oFyOUOeGTRZhFPF9uTqrTQ | LpGCzgAKNSpzDNEUMVVtZA | 0.00395040689631 |  10  |\n",
       "+------------------------+------------------------+------------------+------+\n",
       "[2272410 rows x 4 columns]\n",
       "Note: Only the head of the SFrame is printed.\n",
       "You can use print_rows(num_rows=m, num_columns=n) to print more rows and columns."
      ]
     },
     "execution_count": 10,
     "metadata": {},
     "output_type": "execute_result"
    }
   ],
   "source": [
    "item_item_rec_result = item_item_rec.recommend(k=10, verbose=False)\n",
    "item_item_rec_result"
   ]
  },
  {
   "cell_type": "markdown",
   "metadata": {},
   "source": [
    "## Other recommenders\n",
    "\n",
    "* Other features (have you noticed there are other features in the Yelp dataset, e.g. tips, etc.?)\n",
    "* Popularity-based\n",
    "* Content-based\n",
    "* Hybrid"
   ]
  },
  {
   "cell_type": "markdown",
   "metadata": {},
   "source": [
    "#### Content-based recommender"
   ]
  },
  {
   "cell_type": "code",
   "execution_count": 11,
   "metadata": {},
   "outputs": [
    {
     "data": {
      "text/html": [
       "<div>\n",
       "<style scoped>\n",
       "    .dataframe tbody tr th:only-of-type {\n",
       "        vertical-align: middle;\n",
       "    }\n",
       "\n",
       "    .dataframe tbody tr th {\n",
       "        vertical-align: top;\n",
       "    }\n",
       "\n",
       "    .dataframe thead th {\n",
       "        text-align: right;\n",
       "    }\n",
       "</style>\n",
       "<table border=\"1\" class=\"dataframe\">\n",
       "  <thead>\n",
       "    <tr style=\"text-align: right;\">\n",
       "      <th></th>\n",
       "      <th>avg_stars</th>\n",
       "      <th>cool</th>\n",
       "      <th>funny</th>\n",
       "      <th>stars</th>\n",
       "      <th>useful</th>\n",
       "    </tr>\n",
       "    <tr>\n",
       "      <th>business_id</th>\n",
       "      <th></th>\n",
       "      <th></th>\n",
       "      <th></th>\n",
       "      <th></th>\n",
       "      <th></th>\n",
       "    </tr>\n",
       "  </thead>\n",
       "  <tbody>\n",
       "    <tr>\n",
       "      <th>--9e1ONYQuAa-CB_Rrw7Tw</th>\n",
       "      <td>4.0</td>\n",
       "      <td>0.706263</td>\n",
       "      <td>0.578834</td>\n",
       "      <td>4.159827</td>\n",
       "      <td>1.010799</td>\n",
       "    </tr>\n",
       "    <tr>\n",
       "      <th>-1m9o3vGRA8IBPNvNqKLmA</th>\n",
       "      <td>4.5</td>\n",
       "      <td>1.000000</td>\n",
       "      <td>0.631579</td>\n",
       "      <td>4.736842</td>\n",
       "      <td>1.315789</td>\n",
       "    </tr>\n",
       "    <tr>\n",
       "      <th>-1vfRrlnNnNJ5boOVghMPA</th>\n",
       "      <td>3.0</td>\n",
       "      <td>0.428571</td>\n",
       "      <td>0.642857</td>\n",
       "      <td>3.000000</td>\n",
       "      <td>0.428571</td>\n",
       "    </tr>\n",
       "    <tr>\n",
       "      <th>-3zffZUHoY8bQjGfPSoBKQ</th>\n",
       "      <td>4.0</td>\n",
       "      <td>0.534483</td>\n",
       "      <td>0.454023</td>\n",
       "      <td>3.867816</td>\n",
       "      <td>1.091954</td>\n",
       "    </tr>\n",
       "    <tr>\n",
       "      <th>-8R_-EkGpUhBk55K9Dd4mg</th>\n",
       "      <td>3.5</td>\n",
       "      <td>0.761905</td>\n",
       "      <td>0.650794</td>\n",
       "      <td>3.841270</td>\n",
       "      <td>0.968254</td>\n",
       "    </tr>\n",
       "  </tbody>\n",
       "</table>\n",
       "</div>"
      ],
      "text/plain": [
       "                        avg_stars      cool     funny     stars    useful\n",
       "business_id                                                              \n",
       "--9e1ONYQuAa-CB_Rrw7Tw        4.0  0.706263  0.578834  4.159827  1.010799\n",
       "-1m9o3vGRA8IBPNvNqKLmA        4.5  1.000000  0.631579  4.736842  1.315789\n",
       "-1vfRrlnNnNJ5boOVghMPA        3.0  0.428571  0.642857  3.000000  0.428571\n",
       "-3zffZUHoY8bQjGfPSoBKQ        4.0  0.534483  0.454023  3.867816  1.091954\n",
       "-8R_-EkGpUhBk55K9Dd4mg        3.5  0.761905  0.650794  3.841270  0.968254"
      ]
     },
     "execution_count": 11,
     "metadata": {},
     "output_type": "execute_result"
    }
   ],
   "source": [
    "# get average of numerical features which grouped by business_id\n",
    "df_average = df.groupby(['business_id']).mean()\n",
    "df_average.head()"
   ]
  },
  {
   "cell_type": "code",
   "execution_count": 12,
   "metadata": {},
   "outputs": [
    {
     "data": {
      "text/plain": [
       "business_id\n",
       "--9e1ONYQuAa-CB_Rrw7Tw     [['Cajun/Creole', 'Steakhouses', 'Restaurants']]\n",
       "-1m9o3vGRA8IBPNvNqKLmA    [['African', 'Restaurants', 'Nightlife', 'Bars...\n",
       "-1vfRrlnNnNJ5boOVghMPA            [['Sushi Bars', 'Korean', 'Restaurants']]\n",
       "-3zffZUHoY8bQjGfPSoBKQ    [['Seafood', 'Bars', 'Nightlife', 'American (N...\n",
       "-8R_-EkGpUhBk55K9Dd4mg                            [['Thai', 'Restaurants']]\n",
       "Name: categories, dtype: object"
      ]
     },
     "execution_count": 12,
     "metadata": {},
     "output_type": "execute_result"
    }
   ],
   "source": [
    "# extract categorical features which grouped by business_id\n",
    "categories_feat = df.groupby(['business_id']).categories.apply(np.unique)\n",
    "categories_feat.head()"
   ]
  },
  {
   "cell_type": "code",
   "execution_count": 13,
   "metadata": {},
   "outputs": [],
   "source": [
    "# convert categorical data into string\n",
    "categories_feat = categories_feat.str.join('').apply(lambda x: x[1:-1])"
   ]
  },
  {
   "cell_type": "code",
   "execution_count": 14,
   "metadata": {},
   "outputs": [
    {
     "data": {
      "text/html": [
       "<div>\n",
       "<style scoped>\n",
       "    .dataframe tbody tr th:only-of-type {\n",
       "        vertical-align: middle;\n",
       "    }\n",
       "\n",
       "    .dataframe tbody tr th {\n",
       "        vertical-align: top;\n",
       "    }\n",
       "\n",
       "    .dataframe thead th {\n",
       "        text-align: right;\n",
       "    }\n",
       "</style>\n",
       "<table border=\"1\" class=\"dataframe\">\n",
       "  <thead>\n",
       "    <tr style=\"text-align: right;\">\n",
       "      <th></th>\n",
       "      <th>acai</th>\n",
       "      <th>active</th>\n",
       "      <th>activities</th>\n",
       "      <th>acupuncture</th>\n",
       "      <th>adoption</th>\n",
       "      <th>adult</th>\n",
       "      <th>afghan</th>\n",
       "      <th>african</th>\n",
       "      <th>air</th>\n",
       "      <th>aircraft</th>\n",
       "      <th>...</th>\n",
       "      <th>window</th>\n",
       "      <th>windshield</th>\n",
       "      <th>wine</th>\n",
       "      <th>wineries</th>\n",
       "      <th>wings</th>\n",
       "      <th>women</th>\n",
       "      <th>wraps</th>\n",
       "      <th>yoga</th>\n",
       "      <th>yogurt</th>\n",
       "      <th>yourself</th>\n",
       "    </tr>\n",
       "    <tr>\n",
       "      <th>business_id</th>\n",
       "      <th></th>\n",
       "      <th></th>\n",
       "      <th></th>\n",
       "      <th></th>\n",
       "      <th></th>\n",
       "      <th></th>\n",
       "      <th></th>\n",
       "      <th></th>\n",
       "      <th></th>\n",
       "      <th></th>\n",
       "      <th></th>\n",
       "      <th></th>\n",
       "      <th></th>\n",
       "      <th></th>\n",
       "      <th></th>\n",
       "      <th></th>\n",
       "      <th></th>\n",
       "      <th></th>\n",
       "      <th></th>\n",
       "      <th></th>\n",
       "      <th></th>\n",
       "    </tr>\n",
       "  </thead>\n",
       "  <tbody>\n",
       "    <tr>\n",
       "      <th>--9e1ONYQuAa-CB_Rrw7Tw</th>\n",
       "      <td>0</td>\n",
       "      <td>0</td>\n",
       "      <td>0</td>\n",
       "      <td>0</td>\n",
       "      <td>0</td>\n",
       "      <td>0</td>\n",
       "      <td>0</td>\n",
       "      <td>0</td>\n",
       "      <td>0</td>\n",
       "      <td>0</td>\n",
       "      <td>...</td>\n",
       "      <td>0</td>\n",
       "      <td>0</td>\n",
       "      <td>0</td>\n",
       "      <td>0</td>\n",
       "      <td>0</td>\n",
       "      <td>0</td>\n",
       "      <td>0</td>\n",
       "      <td>0</td>\n",
       "      <td>0</td>\n",
       "      <td>0</td>\n",
       "    </tr>\n",
       "    <tr>\n",
       "      <th>-1m9o3vGRA8IBPNvNqKLmA</th>\n",
       "      <td>0</td>\n",
       "      <td>0</td>\n",
       "      <td>0</td>\n",
       "      <td>0</td>\n",
       "      <td>0</td>\n",
       "      <td>0</td>\n",
       "      <td>0</td>\n",
       "      <td>1</td>\n",
       "      <td>0</td>\n",
       "      <td>0</td>\n",
       "      <td>...</td>\n",
       "      <td>0</td>\n",
       "      <td>0</td>\n",
       "      <td>0</td>\n",
       "      <td>0</td>\n",
       "      <td>0</td>\n",
       "      <td>0</td>\n",
       "      <td>0</td>\n",
       "      <td>0</td>\n",
       "      <td>0</td>\n",
       "      <td>0</td>\n",
       "    </tr>\n",
       "    <tr>\n",
       "      <th>-1vfRrlnNnNJ5boOVghMPA</th>\n",
       "      <td>0</td>\n",
       "      <td>0</td>\n",
       "      <td>0</td>\n",
       "      <td>0</td>\n",
       "      <td>0</td>\n",
       "      <td>0</td>\n",
       "      <td>0</td>\n",
       "      <td>0</td>\n",
       "      <td>0</td>\n",
       "      <td>0</td>\n",
       "      <td>...</td>\n",
       "      <td>0</td>\n",
       "      <td>0</td>\n",
       "      <td>0</td>\n",
       "      <td>0</td>\n",
       "      <td>0</td>\n",
       "      <td>0</td>\n",
       "      <td>0</td>\n",
       "      <td>0</td>\n",
       "      <td>0</td>\n",
       "      <td>0</td>\n",
       "    </tr>\n",
       "    <tr>\n",
       "      <th>-3zffZUHoY8bQjGfPSoBKQ</th>\n",
       "      <td>0</td>\n",
       "      <td>0</td>\n",
       "      <td>0</td>\n",
       "      <td>0</td>\n",
       "      <td>0</td>\n",
       "      <td>0</td>\n",
       "      <td>0</td>\n",
       "      <td>0</td>\n",
       "      <td>0</td>\n",
       "      <td>0</td>\n",
       "      <td>...</td>\n",
       "      <td>0</td>\n",
       "      <td>0</td>\n",
       "      <td>0</td>\n",
       "      <td>0</td>\n",
       "      <td>0</td>\n",
       "      <td>0</td>\n",
       "      <td>0</td>\n",
       "      <td>0</td>\n",
       "      <td>0</td>\n",
       "      <td>0</td>\n",
       "    </tr>\n",
       "    <tr>\n",
       "      <th>-8R_-EkGpUhBk55K9Dd4mg</th>\n",
       "      <td>0</td>\n",
       "      <td>0</td>\n",
       "      <td>0</td>\n",
       "      <td>0</td>\n",
       "      <td>0</td>\n",
       "      <td>0</td>\n",
       "      <td>0</td>\n",
       "      <td>0</td>\n",
       "      <td>0</td>\n",
       "      <td>0</td>\n",
       "      <td>...</td>\n",
       "      <td>0</td>\n",
       "      <td>0</td>\n",
       "      <td>0</td>\n",
       "      <td>0</td>\n",
       "      <td>0</td>\n",
       "      <td>0</td>\n",
       "      <td>0</td>\n",
       "      <td>0</td>\n",
       "      <td>0</td>\n",
       "      <td>0</td>\n",
       "    </tr>\n",
       "  </tbody>\n",
       "</table>\n",
       "<p>5 rows × 469 columns</p>\n",
       "</div>"
      ],
      "text/plain": [
       "                        acai  active  activities  acupuncture  adoption  \\\n",
       "business_id                                                               \n",
       "--9e1ONYQuAa-CB_Rrw7Tw     0       0           0            0         0   \n",
       "-1m9o3vGRA8IBPNvNqKLmA     0       0           0            0         0   \n",
       "-1vfRrlnNnNJ5boOVghMPA     0       0           0            0         0   \n",
       "-3zffZUHoY8bQjGfPSoBKQ     0       0           0            0         0   \n",
       "-8R_-EkGpUhBk55K9Dd4mg     0       0           0            0         0   \n",
       "\n",
       "                        adult  afghan  african  air  aircraft    ...     \\\n",
       "business_id                                                      ...      \n",
       "--9e1ONYQuAa-CB_Rrw7Tw      0       0        0    0         0    ...      \n",
       "-1m9o3vGRA8IBPNvNqKLmA      0       0        1    0         0    ...      \n",
       "-1vfRrlnNnNJ5boOVghMPA      0       0        0    0         0    ...      \n",
       "-3zffZUHoY8bQjGfPSoBKQ      0       0        0    0         0    ...      \n",
       "-8R_-EkGpUhBk55K9Dd4mg      0       0        0    0         0    ...      \n",
       "\n",
       "                        window  windshield  wine  wineries  wings  women  \\\n",
       "business_id                                                                \n",
       "--9e1ONYQuAa-CB_Rrw7Tw       0           0     0         0      0      0   \n",
       "-1m9o3vGRA8IBPNvNqKLmA       0           0     0         0      0      0   \n",
       "-1vfRrlnNnNJ5boOVghMPA       0           0     0         0      0      0   \n",
       "-3zffZUHoY8bQjGfPSoBKQ       0           0     0         0      0      0   \n",
       "-8R_-EkGpUhBk55K9Dd4mg       0           0     0         0      0      0   \n",
       "\n",
       "                        wraps  yoga  yogurt  yourself  \n",
       "business_id                                            \n",
       "--9e1ONYQuAa-CB_Rrw7Tw      0     0       0         0  \n",
       "-1m9o3vGRA8IBPNvNqKLmA      0     0       0         0  \n",
       "-1vfRrlnNnNJ5boOVghMPA      0     0       0         0  \n",
       "-3zffZUHoY8bQjGfPSoBKQ      0     0       0         0  \n",
       "-8R_-EkGpUhBk55K9Dd4mg      0     0       0         0  \n",
       "\n",
       "[5 rows x 469 columns]"
      ]
     },
     "execution_count": 14,
     "metadata": {},
     "output_type": "execute_result"
    }
   ],
   "source": [
    "# business_id, categories table\n",
    "from sklearn.feature_extraction.text import CountVectorizer\n",
    "\n",
    "vectorizer = CountVectorizer()\n",
    "categories_mat = vectorizer.fit_transform(categories_feat).toarray()\n",
    "categories = vectorizer.get_feature_names()\n",
    "df_categories = pd.DataFrame(categories_mat,\n",
    "                             columns=categories, \n",
    "                             index=categories_feat.index)\n",
    "df_categories.head()"
   ]
  },
  {
   "cell_type": "code",
   "execution_count": 15,
   "metadata": {},
   "outputs": [
    {
     "name": "stdout",
     "output_type": "stream",
     "text": [
      "0.9932442795155608\n"
     ]
    },
    {
     "data": {
      "text/html": [
       "<div>\n",
       "<style scoped>\n",
       "    .dataframe tbody tr th:only-of-type {\n",
       "        vertical-align: middle;\n",
       "    }\n",
       "\n",
       "    .dataframe tbody tr th {\n",
       "        vertical-align: top;\n",
       "    }\n",
       "\n",
       "    .dataframe thead th {\n",
       "        text-align: right;\n",
       "    }\n",
       "</style>\n",
       "<table border=\"1\" class=\"dataframe\">\n",
       "  <thead>\n",
       "    <tr style=\"text-align: right;\">\n",
       "      <th></th>\n",
       "      <th>0</th>\n",
       "      <th>1</th>\n",
       "      <th>2</th>\n",
       "      <th>3</th>\n",
       "      <th>4</th>\n",
       "      <th>5</th>\n",
       "      <th>6</th>\n",
       "      <th>7</th>\n",
       "      <th>8</th>\n",
       "      <th>9</th>\n",
       "      <th>...</th>\n",
       "      <th>190</th>\n",
       "      <th>191</th>\n",
       "      <th>192</th>\n",
       "      <th>193</th>\n",
       "      <th>194</th>\n",
       "      <th>195</th>\n",
       "      <th>196</th>\n",
       "      <th>197</th>\n",
       "      <th>198</th>\n",
       "      <th>199</th>\n",
       "    </tr>\n",
       "    <tr>\n",
       "      <th>business_id</th>\n",
       "      <th></th>\n",
       "      <th></th>\n",
       "      <th></th>\n",
       "      <th></th>\n",
       "      <th></th>\n",
       "      <th></th>\n",
       "      <th></th>\n",
       "      <th></th>\n",
       "      <th></th>\n",
       "      <th></th>\n",
       "      <th></th>\n",
       "      <th></th>\n",
       "      <th></th>\n",
       "      <th></th>\n",
       "      <th></th>\n",
       "      <th></th>\n",
       "      <th></th>\n",
       "      <th></th>\n",
       "      <th></th>\n",
       "      <th></th>\n",
       "      <th></th>\n",
       "    </tr>\n",
       "  </thead>\n",
       "  <tbody>\n",
       "    <tr>\n",
       "      <th>--9e1ONYQuAa-CB_Rrw7Tw</th>\n",
       "      <td>0.729615</td>\n",
       "      <td>0.048135</td>\n",
       "      <td>-0.449471</td>\n",
       "      <td>-0.432830</td>\n",
       "      <td>0.022885</td>\n",
       "      <td>0.025200</td>\n",
       "      <td>-0.039898</td>\n",
       "      <td>0.102605</td>\n",
       "      <td>-0.032402</td>\n",
       "      <td>0.011706</td>\n",
       "      <td>...</td>\n",
       "      <td>0.000141</td>\n",
       "      <td>0.001765</td>\n",
       "      <td>-0.001119</td>\n",
       "      <td>-0.008800</td>\n",
       "      <td>-0.005697</td>\n",
       "      <td>-0.003914</td>\n",
       "      <td>0.001520</td>\n",
       "      <td>-0.000086</td>\n",
       "      <td>0.002842</td>\n",
       "      <td>0.005535</td>\n",
       "    </tr>\n",
       "    <tr>\n",
       "      <th>-1m9o3vGRA8IBPNvNqKLmA</th>\n",
       "      <td>1.831809</td>\n",
       "      <td>2.004849</td>\n",
       "      <td>0.609203</td>\n",
       "      <td>0.020579</td>\n",
       "      <td>-0.122700</td>\n",
       "      <td>-0.175145</td>\n",
       "      <td>-0.134979</td>\n",
       "      <td>0.163103</td>\n",
       "      <td>0.125498</td>\n",
       "      <td>0.455544</td>\n",
       "      <td>...</td>\n",
       "      <td>-0.004700</td>\n",
       "      <td>-0.021610</td>\n",
       "      <td>-0.002723</td>\n",
       "      <td>-0.012753</td>\n",
       "      <td>-0.003652</td>\n",
       "      <td>-0.008445</td>\n",
       "      <td>-0.016358</td>\n",
       "      <td>0.008700</td>\n",
       "      <td>0.016851</td>\n",
       "      <td>0.010258</td>\n",
       "    </tr>\n",
       "    <tr>\n",
       "      <th>-1vfRrlnNnNJ5boOVghMPA</th>\n",
       "      <td>1.019308</td>\n",
       "      <td>0.614910</td>\n",
       "      <td>0.163117</td>\n",
       "      <td>-0.705667</td>\n",
       "      <td>-0.085955</td>\n",
       "      <td>0.128802</td>\n",
       "      <td>-0.061715</td>\n",
       "      <td>0.102017</td>\n",
       "      <td>-0.243518</td>\n",
       "      <td>0.017059</td>\n",
       "      <td>...</td>\n",
       "      <td>-0.000953</td>\n",
       "      <td>-0.003705</td>\n",
       "      <td>0.001133</td>\n",
       "      <td>-0.001210</td>\n",
       "      <td>0.000485</td>\n",
       "      <td>0.000110</td>\n",
       "      <td>0.004121</td>\n",
       "      <td>0.003660</td>\n",
       "      <td>0.002958</td>\n",
       "      <td>0.002375</td>\n",
       "    </tr>\n",
       "    <tr>\n",
       "      <th>-3zffZUHoY8bQjGfPSoBKQ</th>\n",
       "      <td>1.496075</td>\n",
       "      <td>1.358226</td>\n",
       "      <td>0.002296</td>\n",
       "      <td>0.196015</td>\n",
       "      <td>-0.049401</td>\n",
       "      <td>-0.190597</td>\n",
       "      <td>-0.146616</td>\n",
       "      <td>0.268089</td>\n",
       "      <td>0.145952</td>\n",
       "      <td>0.445564</td>\n",
       "      <td>...</td>\n",
       "      <td>-0.003396</td>\n",
       "      <td>0.002212</td>\n",
       "      <td>0.001251</td>\n",
       "      <td>0.001392</td>\n",
       "      <td>0.001001</td>\n",
       "      <td>-0.001119</td>\n",
       "      <td>-0.000971</td>\n",
       "      <td>0.002065</td>\n",
       "      <td>-0.001680</td>\n",
       "      <td>0.000885</td>\n",
       "    </tr>\n",
       "    <tr>\n",
       "      <th>-8R_-EkGpUhBk55K9Dd4mg</th>\n",
       "      <td>0.706684</td>\n",
       "      <td>0.010360</td>\n",
       "      <td>-0.445351</td>\n",
       "      <td>-0.452623</td>\n",
       "      <td>0.015391</td>\n",
       "      <td>0.054762</td>\n",
       "      <td>-0.038082</td>\n",
       "      <td>0.113284</td>\n",
       "      <td>-0.048356</td>\n",
       "      <td>0.015583</td>\n",
       "      <td>...</td>\n",
       "      <td>-0.000378</td>\n",
       "      <td>0.001176</td>\n",
       "      <td>0.001301</td>\n",
       "      <td>-0.000850</td>\n",
       "      <td>0.000003</td>\n",
       "      <td>-0.010512</td>\n",
       "      <td>-0.005941</td>\n",
       "      <td>0.003810</td>\n",
       "      <td>0.003871</td>\n",
       "      <td>-0.001761</td>\n",
       "    </tr>\n",
       "  </tbody>\n",
       "</table>\n",
       "<p>5 rows × 200 columns</p>\n",
       "</div>"
      ],
      "text/plain": [
       "                             0         1         2         3         4    \\\n",
       "business_id                                                                \n",
       "--9e1ONYQuAa-CB_Rrw7Tw  0.729615  0.048135 -0.449471 -0.432830  0.022885   \n",
       "-1m9o3vGRA8IBPNvNqKLmA  1.831809  2.004849  0.609203  0.020579 -0.122700   \n",
       "-1vfRrlnNnNJ5boOVghMPA  1.019308  0.614910  0.163117 -0.705667 -0.085955   \n",
       "-3zffZUHoY8bQjGfPSoBKQ  1.496075  1.358226  0.002296  0.196015 -0.049401   \n",
       "-8R_-EkGpUhBk55K9Dd4mg  0.706684  0.010360 -0.445351 -0.452623  0.015391   \n",
       "\n",
       "                             5         6         7         8         9    \\\n",
       "business_id                                                                \n",
       "--9e1ONYQuAa-CB_Rrw7Tw  0.025200 -0.039898  0.102605 -0.032402  0.011706   \n",
       "-1m9o3vGRA8IBPNvNqKLmA -0.175145 -0.134979  0.163103  0.125498  0.455544   \n",
       "-1vfRrlnNnNJ5boOVghMPA  0.128802 -0.061715  0.102017 -0.243518  0.017059   \n",
       "-3zffZUHoY8bQjGfPSoBKQ -0.190597 -0.146616  0.268089  0.145952  0.445564   \n",
       "-8R_-EkGpUhBk55K9Dd4mg  0.054762 -0.038082  0.113284 -0.048356  0.015583   \n",
       "\n",
       "                          ...          190       191       192       193  \\\n",
       "business_id               ...                                              \n",
       "--9e1ONYQuAa-CB_Rrw7Tw    ...     0.000141  0.001765 -0.001119 -0.008800   \n",
       "-1m9o3vGRA8IBPNvNqKLmA    ...    -0.004700 -0.021610 -0.002723 -0.012753   \n",
       "-1vfRrlnNnNJ5boOVghMPA    ...    -0.000953 -0.003705  0.001133 -0.001210   \n",
       "-3zffZUHoY8bQjGfPSoBKQ    ...    -0.003396  0.002212  0.001251  0.001392   \n",
       "-8R_-EkGpUhBk55K9Dd4mg    ...    -0.000378  0.001176  0.001301 -0.000850   \n",
       "\n",
       "                             194       195       196       197       198  \\\n",
       "business_id                                                                \n",
       "--9e1ONYQuAa-CB_Rrw7Tw -0.005697 -0.003914  0.001520 -0.000086  0.002842   \n",
       "-1m9o3vGRA8IBPNvNqKLmA -0.003652 -0.008445 -0.016358  0.008700  0.016851   \n",
       "-1vfRrlnNnNJ5boOVghMPA  0.000485  0.000110  0.004121  0.003660  0.002958   \n",
       "-3zffZUHoY8bQjGfPSoBKQ  0.001001 -0.001119 -0.000971  0.002065 -0.001680   \n",
       "-8R_-EkGpUhBk55K9Dd4mg  0.000003 -0.010512 -0.005941  0.003810  0.003871   \n",
       "\n",
       "                             199  \n",
       "business_id                       \n",
       "--9e1ONYQuAa-CB_Rrw7Tw  0.005535  \n",
       "-1m9o3vGRA8IBPNvNqKLmA  0.010258  \n",
       "-1vfRrlnNnNJ5boOVghMPA  0.002375  \n",
       "-3zffZUHoY8bQjGfPSoBKQ  0.000885  \n",
       "-8R_-EkGpUhBk55K9Dd4mg -0.001761  \n",
       "\n",
       "[5 rows x 200 columns]"
      ]
     },
     "execution_count": 15,
     "metadata": {},
     "output_type": "execute_result"
    }
   ],
   "source": [
    "# use svd to reduce dimension\n",
    "from sklearn.decomposition import TruncatedSVD\n",
    "svd = TruncatedSVD(n_components=200,\n",
    "                   random_state=42)\n",
    "\n",
    "svd.fit(categories_mat)\n",
    "categories_svd = svd.transform(categories_mat)\n",
    "df_categories_svd = pd.DataFrame(categories_svd,\n",
    "                                 index=categories_feat.index)\n",
    "\n",
    "print(svd.explained_variance_ratio_.sum()) # total variance explained\n",
    "df_categories_svd.head()"
   ]
  },
  {
   "cell_type": "code",
   "execution_count": 16,
   "metadata": {},
   "outputs": [
    {
     "name": "stdout",
     "output_type": "stream",
     "text": [
      "df_average :  (4832, 5)\n",
      "df_categories :  (4832, 469)\n",
      "df_categories_svd :  (4832, 200)\n"
     ]
    }
   ],
   "source": [
    "# display feature matrix dimension\n",
    "\n",
    "print 'df_average : ', df_average.shape\n",
    "print 'df_categories : ', df_categories.shape\n",
    "print 'df_categories_svd : ', df_categories_svd.shape"
   ]
  },
  {
   "cell_type": "code",
   "execution_count": 17,
   "metadata": {},
   "outputs": [
    {
     "name": "stdout",
     "output_type": "stream",
     "text": [
      "(4832, 205)\n"
     ]
    },
    {
     "data": {
      "text/html": [
       "<div>\n",
       "<style scoped>\n",
       "    .dataframe tbody tr th:only-of-type {\n",
       "        vertical-align: middle;\n",
       "    }\n",
       "\n",
       "    .dataframe tbody tr th {\n",
       "        vertical-align: top;\n",
       "    }\n",
       "\n",
       "    .dataframe thead th {\n",
       "        text-align: right;\n",
       "    }\n",
       "</style>\n",
       "<table border=\"1\" class=\"dataframe\">\n",
       "  <thead>\n",
       "    <tr style=\"text-align: right;\">\n",
       "      <th></th>\n",
       "      <th>avg_stars</th>\n",
       "      <th>cool</th>\n",
       "      <th>funny</th>\n",
       "      <th>stars</th>\n",
       "      <th>useful</th>\n",
       "      <th>0</th>\n",
       "      <th>1</th>\n",
       "      <th>2</th>\n",
       "      <th>3</th>\n",
       "      <th>4</th>\n",
       "      <th>...</th>\n",
       "      <th>190</th>\n",
       "      <th>191</th>\n",
       "      <th>192</th>\n",
       "      <th>193</th>\n",
       "      <th>194</th>\n",
       "      <th>195</th>\n",
       "      <th>196</th>\n",
       "      <th>197</th>\n",
       "      <th>198</th>\n",
       "      <th>199</th>\n",
       "    </tr>\n",
       "    <tr>\n",
       "      <th>business_id</th>\n",
       "      <th></th>\n",
       "      <th></th>\n",
       "      <th></th>\n",
       "      <th></th>\n",
       "      <th></th>\n",
       "      <th></th>\n",
       "      <th></th>\n",
       "      <th></th>\n",
       "      <th></th>\n",
       "      <th></th>\n",
       "      <th></th>\n",
       "      <th></th>\n",
       "      <th></th>\n",
       "      <th></th>\n",
       "      <th></th>\n",
       "      <th></th>\n",
       "      <th></th>\n",
       "      <th></th>\n",
       "      <th></th>\n",
       "      <th></th>\n",
       "      <th></th>\n",
       "    </tr>\n",
       "  </thead>\n",
       "  <tbody>\n",
       "    <tr>\n",
       "      <th>--9e1ONYQuAa-CB_Rrw7Tw</th>\n",
       "      <td>4.0</td>\n",
       "      <td>0.706263</td>\n",
       "      <td>0.578834</td>\n",
       "      <td>4.159827</td>\n",
       "      <td>1.010799</td>\n",
       "      <td>0.729615</td>\n",
       "      <td>0.048135</td>\n",
       "      <td>-0.449471</td>\n",
       "      <td>-0.432830</td>\n",
       "      <td>0.022885</td>\n",
       "      <td>...</td>\n",
       "      <td>0.000141</td>\n",
       "      <td>0.001765</td>\n",
       "      <td>-0.001119</td>\n",
       "      <td>-0.008800</td>\n",
       "      <td>-0.005697</td>\n",
       "      <td>-0.003914</td>\n",
       "      <td>0.001520</td>\n",
       "      <td>-0.000086</td>\n",
       "      <td>0.002842</td>\n",
       "      <td>0.005535</td>\n",
       "    </tr>\n",
       "    <tr>\n",
       "      <th>-1m9o3vGRA8IBPNvNqKLmA</th>\n",
       "      <td>4.5</td>\n",
       "      <td>1.000000</td>\n",
       "      <td>0.631579</td>\n",
       "      <td>4.736842</td>\n",
       "      <td>1.315789</td>\n",
       "      <td>1.831809</td>\n",
       "      <td>2.004849</td>\n",
       "      <td>0.609203</td>\n",
       "      <td>0.020579</td>\n",
       "      <td>-0.122700</td>\n",
       "      <td>...</td>\n",
       "      <td>-0.004700</td>\n",
       "      <td>-0.021610</td>\n",
       "      <td>-0.002723</td>\n",
       "      <td>-0.012753</td>\n",
       "      <td>-0.003652</td>\n",
       "      <td>-0.008445</td>\n",
       "      <td>-0.016358</td>\n",
       "      <td>0.008700</td>\n",
       "      <td>0.016851</td>\n",
       "      <td>0.010258</td>\n",
       "    </tr>\n",
       "    <tr>\n",
       "      <th>-1vfRrlnNnNJ5boOVghMPA</th>\n",
       "      <td>3.0</td>\n",
       "      <td>0.428571</td>\n",
       "      <td>0.642857</td>\n",
       "      <td>3.000000</td>\n",
       "      <td>0.428571</td>\n",
       "      <td>1.019308</td>\n",
       "      <td>0.614910</td>\n",
       "      <td>0.163117</td>\n",
       "      <td>-0.705667</td>\n",
       "      <td>-0.085955</td>\n",
       "      <td>...</td>\n",
       "      <td>-0.000953</td>\n",
       "      <td>-0.003705</td>\n",
       "      <td>0.001133</td>\n",
       "      <td>-0.001210</td>\n",
       "      <td>0.000485</td>\n",
       "      <td>0.000110</td>\n",
       "      <td>0.004121</td>\n",
       "      <td>0.003660</td>\n",
       "      <td>0.002958</td>\n",
       "      <td>0.002375</td>\n",
       "    </tr>\n",
       "    <tr>\n",
       "      <th>-3zffZUHoY8bQjGfPSoBKQ</th>\n",
       "      <td>4.0</td>\n",
       "      <td>0.534483</td>\n",
       "      <td>0.454023</td>\n",
       "      <td>3.867816</td>\n",
       "      <td>1.091954</td>\n",
       "      <td>1.496075</td>\n",
       "      <td>1.358226</td>\n",
       "      <td>0.002296</td>\n",
       "      <td>0.196015</td>\n",
       "      <td>-0.049401</td>\n",
       "      <td>...</td>\n",
       "      <td>-0.003396</td>\n",
       "      <td>0.002212</td>\n",
       "      <td>0.001251</td>\n",
       "      <td>0.001392</td>\n",
       "      <td>0.001001</td>\n",
       "      <td>-0.001119</td>\n",
       "      <td>-0.000971</td>\n",
       "      <td>0.002065</td>\n",
       "      <td>-0.001680</td>\n",
       "      <td>0.000885</td>\n",
       "    </tr>\n",
       "    <tr>\n",
       "      <th>-8R_-EkGpUhBk55K9Dd4mg</th>\n",
       "      <td>3.5</td>\n",
       "      <td>0.761905</td>\n",
       "      <td>0.650794</td>\n",
       "      <td>3.841270</td>\n",
       "      <td>0.968254</td>\n",
       "      <td>0.706684</td>\n",
       "      <td>0.010360</td>\n",
       "      <td>-0.445351</td>\n",
       "      <td>-0.452623</td>\n",
       "      <td>0.015391</td>\n",
       "      <td>...</td>\n",
       "      <td>-0.000378</td>\n",
       "      <td>0.001176</td>\n",
       "      <td>0.001301</td>\n",
       "      <td>-0.000850</td>\n",
       "      <td>0.000003</td>\n",
       "      <td>-0.010512</td>\n",
       "      <td>-0.005941</td>\n",
       "      <td>0.003810</td>\n",
       "      <td>0.003871</td>\n",
       "      <td>-0.001761</td>\n",
       "    </tr>\n",
       "  </tbody>\n",
       "</table>\n",
       "<p>5 rows × 205 columns</p>\n",
       "</div>"
      ],
      "text/plain": [
       "                        avg_stars      cool     funny     stars    useful  \\\n",
       "business_id                                                                 \n",
       "--9e1ONYQuAa-CB_Rrw7Tw        4.0  0.706263  0.578834  4.159827  1.010799   \n",
       "-1m9o3vGRA8IBPNvNqKLmA        4.5  1.000000  0.631579  4.736842  1.315789   \n",
       "-1vfRrlnNnNJ5boOVghMPA        3.0  0.428571  0.642857  3.000000  0.428571   \n",
       "-3zffZUHoY8bQjGfPSoBKQ        4.0  0.534483  0.454023  3.867816  1.091954   \n",
       "-8R_-EkGpUhBk55K9Dd4mg        3.5  0.761905  0.650794  3.841270  0.968254   \n",
       "\n",
       "                               0         1         2         3         4  \\\n",
       "business_id                                                                \n",
       "--9e1ONYQuAa-CB_Rrw7Tw  0.729615  0.048135 -0.449471 -0.432830  0.022885   \n",
       "-1m9o3vGRA8IBPNvNqKLmA  1.831809  2.004849  0.609203  0.020579 -0.122700   \n",
       "-1vfRrlnNnNJ5boOVghMPA  1.019308  0.614910  0.163117 -0.705667 -0.085955   \n",
       "-3zffZUHoY8bQjGfPSoBKQ  1.496075  1.358226  0.002296  0.196015 -0.049401   \n",
       "-8R_-EkGpUhBk55K9Dd4mg  0.706684  0.010360 -0.445351 -0.452623  0.015391   \n",
       "\n",
       "                          ...          190       191       192       193  \\\n",
       "business_id               ...                                              \n",
       "--9e1ONYQuAa-CB_Rrw7Tw    ...     0.000141  0.001765 -0.001119 -0.008800   \n",
       "-1m9o3vGRA8IBPNvNqKLmA    ...    -0.004700 -0.021610 -0.002723 -0.012753   \n",
       "-1vfRrlnNnNJ5boOVghMPA    ...    -0.000953 -0.003705  0.001133 -0.001210   \n",
       "-3zffZUHoY8bQjGfPSoBKQ    ...    -0.003396  0.002212  0.001251  0.001392   \n",
       "-8R_-EkGpUhBk55K9Dd4mg    ...    -0.000378  0.001176  0.001301 -0.000850   \n",
       "\n",
       "                             194       195       196       197       198  \\\n",
       "business_id                                                                \n",
       "--9e1ONYQuAa-CB_Rrw7Tw -0.005697 -0.003914  0.001520 -0.000086  0.002842   \n",
       "-1m9o3vGRA8IBPNvNqKLmA -0.003652 -0.008445 -0.016358  0.008700  0.016851   \n",
       "-1vfRrlnNnNJ5boOVghMPA  0.000485  0.000110  0.004121  0.003660  0.002958   \n",
       "-3zffZUHoY8bQjGfPSoBKQ  0.001001 -0.001119 -0.000971  0.002065 -0.001680   \n",
       "-8R_-EkGpUhBk55K9Dd4mg  0.000003 -0.010512 -0.005941  0.003810  0.003871   \n",
       "\n",
       "                             199  \n",
       "business_id                       \n",
       "--9e1ONYQuAa-CB_Rrw7Tw  0.005535  \n",
       "-1m9o3vGRA8IBPNvNqKLmA  0.010258  \n",
       "-1vfRrlnNnNJ5boOVghMPA  0.002375  \n",
       "-3zffZUHoY8bQjGfPSoBKQ  0.000885  \n",
       "-8R_-EkGpUhBk55K9Dd4mg -0.001761  \n",
       "\n",
       "[5 rows x 205 columns]"
      ]
     },
     "execution_count": 17,
     "metadata": {},
     "output_type": "execute_result"
    }
   ],
   "source": [
    "# join two to generate feature data for each business_id\n",
    "\n",
    "df_business = df_average.join(df_categories_svd)\n",
    "\n",
    "print df_business.shape\n",
    "df_business.head()"
   ]
  },
  {
   "cell_type": "code",
   "execution_count": 18,
   "metadata": {},
   "outputs": [],
   "source": [
    "# create SFrame for business data\n",
    "\n",
    "sf_business = graphlab.SFrame(df_business.reset_index())"
   ]
  },
  {
   "cell_type": "code",
   "execution_count": 20,
   "metadata": {
    "scrolled": true
   },
   "outputs": [
    {
     "name": "stdout",
     "output_type": "stream",
     "text": [
      "WARNING: The ItemContentRecommender model is still in beta.\n",
      "WARNING: This feature transformer is still in beta, and some interpretation rules may change in the future.\n",
      "('Applying transform:\\n', Class             : AutoVectorizer\n",
      "\n",
      "Model Fields\n",
      "------------\n",
      "Features          : ['avg_stars', 'cool', 'funny', 'stars', 'useful', '0', '1', '2', '3', '4', '5', '6', '7', '8', '9', '10', '11', '12', '13', '14', '15', '16', '17', '18', '19', '20', '21', '22', '23', '24', '25', '26', '27', '28', '29', '30', '31', '32', '33', '34', '35', '36', '37', '38', '39', '40', '41', '42', '43', '44', '45', '46', '47', '48', '49', '50', '51', '52', '53', '54', '55', '56', '57', '58', '59', '60', '61', '62', '63', '64', '65', '66', '67', '68', '69', '70', '71', '72', '73', '74', '75', '76', '77', '78', '79', '80', '81', '82', '83', '84', '85', '86', '87', '88', '89', '90', '91', '92', '93', '94', '95', '96', '97', '98', '99', '100', '101', '102', '103', '104', '105', '106', '107', '108', '109', '110', '111', '112', '113', '114', '115', '116', '117', '118', '119', '120', '121', '122', '123', '124', '125', '126', '127', '128', '129', '130', '131', '132', '133', '134', '135', '136', '137', '138', '139', '140', '141', '142', '143', '144', '145', '146', '147', '148', '149', '150', '151', '152', '153', '154', '155', '156', '157', '158', '159', '160', '161', '162', '163', '164', '165', '166', '167', '168', '169', '170', '171', '172', '173', '174', '175', '176', '177', '178', '179', '180', '181', '182', '183', '184', '185', '186', '187', '188', '189', '190', '191', '192', '193', '194', '195', '196', '197', '198', '199']\n",
      "Excluded Features : ['business_id']\n",
      "\n",
      "Column     Type   Interpretation  Transforms  Output Type\n",
      "---------  -----  --------------  ----------  -----------\n",
      "avg_stars  float  numerical       None        float      \n",
      "cool       float  numerical       None        float      \n",
      "funny      float  numerical       None        float      \n",
      "stars      float  numerical       None        float      \n",
      "useful     float  numerical       None        float      \n",
      "0          float  numerical       None        float      \n",
      "1          float  numerical       None        float      \n",
      "2          float  numerical       None        float      \n",
      "3          float  numerical       None        float      \n",
      "4          float  numerical       None        float      \n",
      "5          float  numerical       None        float      \n",
      "6          float  numerical       None        float      \n",
      "7          float  numerical       None        float      \n",
      "8          float  numerical       None        float      \n",
      "9          float  numerical       None        float      \n",
      "10         float  numerical       None        float      \n",
      "11         float  numerical       None        float      \n",
      "12         float  numerical       None        float      \n",
      "13         float  numerical       None        float      \n",
      "14         float  numerical       None        float      \n",
      "15         float  numerical       None        float      \n",
      "16         float  numerical       None        float      \n",
      "17         float  numerical       None        float      \n",
      "18         float  numerical       None        float      \n",
      "19         float  numerical       None        float      \n",
      "20         float  numerical       None        float      \n",
      "21         float  numerical       None        float      \n",
      "22         float  numerical       None        float      \n",
      "23         float  numerical       None        float      \n",
      "24         float  numerical       None        float      \n",
      "25         float  numerical       None        float      \n",
      "26         float  numerical       None        float      \n",
      "27         float  numerical       None        float      \n",
      "28         float  numerical       None        float      \n",
      "29         float  numerical       None        float      \n",
      "30         float  numerical       None        float      \n",
      "31         float  numerical       None        float      \n",
      "32         float  numerical       None        float      \n",
      "33         float  numerical       None        float      \n",
      "34         float  numerical       None        float      \n",
      "35         float  numerical       None        float      \n",
      "36         float  numerical       None        float      \n",
      "37         float  numerical       None        float      \n",
      "38         float  numerical       None        float      \n",
      "39         float  numerical       None        float      \n",
      "40         float  numerical       None        float      \n",
      "41         float  numerical       None        float      \n",
      "42         float  numerical       None        float      \n",
      "43         float  numerical       None        float      \n",
      "44         float  numerical       None        float      \n",
      "45         float  numerical       None        float      \n",
      "46         float  numerical       None        float      \n",
      "47         float  numerical       None        float      \n",
      "48         float  numerical       None        float      \n",
      "49         float  numerical       None        float      \n",
      "50         float  numerical       None        float      \n",
      "51         float  numerical       None        float      \n",
      "52         float  numerical       None        float      \n",
      "53         float  numerical       None        float      \n",
      "54         float  numerical       None        float      \n",
      "55         float  numerical       None        float      \n",
      "56         float  numerical       None        float      \n",
      "57         float  numerical       None        float      \n",
      "58         float  numerical       None        float      \n",
      "59         float  numerical       None        float      \n",
      "60         float  numerical       None        float      \n",
      "61         float  numerical       None        float      \n",
      "62         float  numerical       None        float      \n",
      "63         float  numerical       None        float      \n",
      "64         float  numerical       None        float      \n",
      "65         float  numerical       None        float      \n",
      "66         float  numerical       None        float      \n",
      "67         float  numerical       None        float      \n",
      "68         float  numerical       None        float      \n",
      "69         float  numerical       None        float      \n",
      "70         float  numerical       None        float      \n",
      "71         float  numerical       None        float      \n",
      "72         float  numerical       None        float      \n",
      "73         float  numerical       None        float      \n",
      "74         float  numerical       None        float      \n",
      "75         float  numerical       None        float      \n",
      "76         float  numerical       None        float      \n",
      "77         float  numerical       None        float      \n",
      "78         float  numerical       None        float      \n",
      "79         float  numerical       None        float      \n",
      "80         float  numerical       None        float      \n",
      "81         float  numerical       None        float      \n",
      "82         float  numerical       None        float      \n",
      "83         float  numerical       None        float      \n",
      "84         float  numerical       None        float      \n",
      "85         float  numerical       None        float      \n",
      "86         float  numerical       None        float      \n",
      "87         float  numerical       None        float      \n",
      "88         float  numerical       None        float      \n",
      "89         float  numerical       None        float      \n",
      "90         float  numerical       None        float      \n",
      "91         float  numerical       None        float      \n",
      "92         float  numerical       None        float      \n",
      "93         float  numerical       None        float      \n",
      "94         float  numerical       None        float      \n",
      "95         float  numerical       None        float      \n",
      "96         float  numerical       None        float      \n",
      "97         float  numerical       None        float      \n",
      "98         float  numerical       None        float      \n",
      "99         float  numerical       None        float      \n",
      "100        float  numerical       None        float      \n",
      "101        float  numerical       None        float      \n",
      "102        float  numerical       None        float      \n",
      "103        float  numerical       None        float      \n",
      "104        float  numerical       None        float      \n",
      "105        float  numerical       None        float      \n",
      "106        float  numerical       None        float      \n",
      "107        float  numerical       None        float      \n",
      "108        float  numerical       None        float      \n",
      "109        float  numerical       None        float      \n",
      "110        float  numerical       None        float      \n",
      "111        float  numerical       None        float      \n",
      "112        float  numerical       None        float      \n",
      "113        float  numerical       None        float      \n",
      "114        float  numerical       None        float      \n",
      "115        float  numerical       None        float      \n",
      "116        float  numerical       None        float      \n",
      "117        float  numerical       None        float      \n",
      "118        float  numerical       None        float      \n",
      "119        float  numerical       None        float      \n",
      "120        float  numerical       None        float      \n",
      "121        float  numerical       None        float      \n",
      "122        float  numerical       None        float      \n",
      "123        float  numerical       None        float      \n",
      "124        float  numerical       None        float      \n",
      "125        float  numerical       None        float      \n",
      "126        float  numerical       None        float      \n",
      "127        float  numerical       None        float      \n",
      "128        float  numerical       None        float      \n",
      "129        float  numerical       None        float      \n",
      "130        float  numerical       None        float      \n",
      "131        float  numerical       None        float      \n",
      "132        float  numerical       None        float      \n",
      "133        float  numerical       None        float      \n",
      "134        float  numerical       None        float      \n",
      "135        float  numerical       None        float      \n",
      "136        float  numerical       None        float      \n",
      "137        float  numerical       None        float      \n",
      "138        float  numerical       None        float      \n",
      "139        float  numerical       None        float      \n",
      "140        float  numerical       None        float      \n",
      "141        float  numerical       None        float      \n",
      "142        float  numerical       None        float      \n",
      "143        float  numerical       None        float      \n",
      "144        float  numerical       None        float      \n",
      "145        float  numerical       None        float      \n",
      "146        float  numerical       None        float      \n",
      "147        float  numerical       None        float      \n",
      "148        float  numerical       None        float      \n",
      "149        float  numerical       None        float      \n",
      "150        float  numerical       None        float      \n",
      "151        float  numerical       None        float      \n",
      "152        float  numerical       None        float      \n",
      "153        float  numerical       None        float      \n",
      "154        float  numerical       None        float      \n",
      "155        float  numerical       None        float      \n",
      "156        float  numerical       None        float      \n",
      "157        float  numerical       None        float      \n",
      "158        float  numerical       None        float      \n",
      "159        float  numerical       None        float      \n",
      "160        float  numerical       None        float      \n",
      "161        float  numerical       None        float      \n",
      "162        float  numerical       None        float      \n",
      "163        float  numerical       None        float      \n",
      "164        float  numerical       None        float      \n",
      "165        float  numerical       None        float      \n",
      "166        float  numerical       None        float      \n",
      "167        float  numerical       None        float      \n",
      "168        float  numerical       None        float      \n",
      "169        float  numerical       None        float      \n",
      "170        float  numerical       None        float      \n",
      "171        float  numerical       None        float      \n",
      "172        float  numerical       None        float      \n",
      "173        float  numerical       None        float      \n",
      "174        float  numerical       None        float      \n",
      "175        float  numerical       None        float      \n",
      "176        float  numerical       None        float      \n",
      "177        float  numerical       None        float      \n",
      "178        float  numerical       None        float      \n",
      "179        float  numerical       None        float      \n",
      "180        float  numerical       None        float      \n",
      "181        float  numerical       None        float      \n",
      "182        float  numerical       None        float      \n",
      "183        float  numerical       None        float      \n",
      "184        float  numerical       None        float      \n",
      "185        float  numerical       None        float      \n",
      "186        float  numerical       None        float      \n",
      "187        float  numerical       None        float      \n",
      "188        float  numerical       None        float      \n",
      "189        float  numerical       None        float      \n",
      "190        float  numerical       None        float      \n",
      "191        float  numerical       None        float      \n",
      "192        float  numerical       None        float      \n",
      "193        float  numerical       None        float      \n",
      "194        float  numerical       None        float      \n",
      "195        float  numerical       None        float      \n",
      "196        float  numerical       None        float      \n",
      "197        float  numerical       None        float      \n",
      "198        float  numerical       None        float      \n",
      "199        float  numerical       None        float      \n",
      "\n",
      ")\n"
     ]
    },
    {
     "data": {
      "text/html": [
       "<pre>Recsys training: model = item_content_recommender</pre>"
      ],
      "text/plain": [
       "Recsys training: model = item_content_recommender"
      ]
     },
     "metadata": {},
     "output_type": "display_data"
    },
    {
     "name": "stdout",
     "output_type": "stream",
     "text": [
      "Defaulting to brute force instead of ball tree because there are multiple distance components.\n"
     ]
    },
    {
     "data": {
      "text/html": [
       "<pre>Starting brute force nearest neighbors model training.</pre>"
      ],
      "text/plain": [
       "Starting brute force nearest neighbors model training."
      ]
     },
     "metadata": {},
     "output_type": "display_data"
    },
    {
     "data": {
      "text/html": [
       "<pre>Starting pairwise querying.</pre>"
      ],
      "text/plain": [
       "Starting pairwise querying."
      ]
     },
     "metadata": {},
     "output_type": "display_data"
    },
    {
     "data": {
      "text/html": [
       "<pre>+--------------+---------+-------------+--------------+</pre>"
      ],
      "text/plain": [
       "+--------------+---------+-------------+--------------+"
      ]
     },
     "metadata": {},
     "output_type": "display_data"
    },
    {
     "data": {
      "text/html": [
       "<pre>| Query points | # Pairs | % Complete. | Elapsed Time |</pre>"
      ],
      "text/plain": [
       "| Query points | # Pairs | % Complete. | Elapsed Time |"
      ]
     },
     "metadata": {},
     "output_type": "display_data"
    },
    {
     "data": {
      "text/html": [
       "<pre>+--------------+---------+-------------+--------------+</pre>"
      ],
      "text/plain": [
       "+--------------+---------+-------------+--------------+"
      ]
     },
     "metadata": {},
     "output_type": "display_data"
    },
    {
     "data": {
      "text/html": [
       "<pre>| 1            | 4832    | 0.0206954   | 346.973ms    |</pre>"
      ],
      "text/plain": [
       "| 1            | 4832    | 0.0206954   | 346.973ms    |"
      ]
     },
     "metadata": {},
     "output_type": "display_data"
    },
    {
     "data": {
      "text/html": [
       "<pre>| 47           | 227104  | 0.972682    | 1.35s        |</pre>"
      ],
      "text/plain": [
       "| 47           | 227104  | 0.972682    | 1.35s        |"
      ]
     },
     "metadata": {},
     "output_type": "display_data"
    },
    {
     "data": {
      "text/html": [
       "<pre>| 104          | 502528  | 2.15232     | 2.39s        |</pre>"
      ],
      "text/plain": [
       "| 104          | 502528  | 2.15232     | 2.39s        |"
      ]
     },
     "metadata": {},
     "output_type": "display_data"
    },
    {
     "data": {
      "text/html": [
       "<pre>| 145          | 700640  | 3.00083     | 3.46s        |</pre>"
      ],
      "text/plain": [
       "| 145          | 700640  | 3.00083     | 3.46s        |"
      ]
     },
     "metadata": {},
     "output_type": "display_data"
    },
    {
     "data": {
      "text/html": [
       "<pre>| 173          | 835936  | 3.5803      | 4.37s        |</pre>"
      ],
      "text/plain": [
       "| 173          | 835936  | 3.5803      | 4.37s        |"
      ]
     },
     "metadata": {},
     "output_type": "display_data"
    },
    {
     "data": {
      "text/html": [
       "<pre>| 212          | 1024384 | 4.38742     | 5.37s        |</pre>"
      ],
      "text/plain": [
       "| 212          | 1024384 | 4.38742     | 5.37s        |"
      ]
     },
     "metadata": {},
     "output_type": "display_data"
    },
    {
     "data": {
      "text/html": [
       "<pre>| 257          | 1241824 | 5.31871     | 6.38s        |</pre>"
      ],
      "text/plain": [
       "| 257          | 1241824 | 5.31871     | 6.38s        |"
      ]
     },
     "metadata": {},
     "output_type": "display_data"
    },
    {
     "data": {
      "text/html": [
       "<pre>| 306          | 1478592 | 6.33278     | 7.40s        |</pre>"
      ],
      "text/plain": [
       "| 306          | 1478592 | 6.33278     | 7.40s        |"
      ]
     },
     "metadata": {},
     "output_type": "display_data"
    },
    {
     "data": {
      "text/html": [
       "<pre>| 351          | 1696032 | 7.26407     | 8.46s        |</pre>"
      ],
      "text/plain": [
       "| 351          | 1696032 | 7.26407     | 8.46s        |"
      ]
     },
     "metadata": {},
     "output_type": "display_data"
    },
    {
     "data": {
      "text/html": [
       "<pre>| 382          | 1845824 | 7.90563     | 9.39s        |</pre>"
      ],
      "text/plain": [
       "| 382          | 1845824 | 7.90563     | 9.39s        |"
      ]
     },
     "metadata": {},
     "output_type": "display_data"
    },
    {
     "data": {
      "text/html": [
       "<pre>| 420          | 2029440 | 8.69205     | 10.41s       |</pre>"
      ],
      "text/plain": [
       "| 420          | 2029440 | 8.69205     | 10.41s       |"
      ]
     },
     "metadata": {},
     "output_type": "display_data"
    },
    {
     "data": {
      "text/html": [
       "<pre>| 458          | 2213056 | 9.47848     | 11.40s       |</pre>"
      ],
      "text/plain": [
       "| 458          | 2213056 | 9.47848     | 11.40s       |"
      ]
     },
     "metadata": {},
     "output_type": "display_data"
    },
    {
     "data": {
      "text/html": [
       "<pre>| 496          | 2396672 | 10.2649     | 12.40s       |</pre>"
      ],
      "text/plain": [
       "| 496          | 2396672 | 10.2649     | 12.40s       |"
      ]
     },
     "metadata": {},
     "output_type": "display_data"
    },
    {
     "data": {
      "text/html": [
       "<pre>| 535          | 2585120 | 11.072      | 13.43s       |</pre>"
      ],
      "text/plain": [
       "| 535          | 2585120 | 11.072      | 13.43s       |"
      ]
     },
     "metadata": {},
     "output_type": "display_data"
    },
    {
     "data": {
      "text/html": [
       "<pre>| 567          | 2739744 | 11.7343     | 14.38s       |</pre>"
      ],
      "text/plain": [
       "| 567          | 2739744 | 11.7343     | 14.38s       |"
      ]
     },
     "metadata": {},
     "output_type": "display_data"
    },
    {
     "data": {
      "text/html": [
       "<pre>| 597          | 2884704 | 12.3551     | 15.43s       |</pre>"
      ],
      "text/plain": [
       "| 597          | 2884704 | 12.3551     | 15.43s       |"
      ]
     },
     "metadata": {},
     "output_type": "display_data"
    },
    {
     "data": {
      "text/html": [
       "<pre>| 627          | 3029664 | 12.976      | 16.43s       |</pre>"
      ],
      "text/plain": [
       "| 627          | 3029664 | 12.976      | 16.43s       |"
      ]
     },
     "metadata": {},
     "output_type": "display_data"
    },
    {
     "data": {
      "text/html": [
       "<pre>| 667          | 3222944 | 13.8038     | 17.40s       |</pre>"
      ],
      "text/plain": [
       "| 667          | 3222944 | 13.8038     | 17.40s       |"
      ]
     },
     "metadata": {},
     "output_type": "display_data"
    },
    {
     "data": {
      "text/html": [
       "<pre>| 707          | 3416224 | 14.6316     | 18.45s       |</pre>"
      ],
      "text/plain": [
       "| 707          | 3416224 | 14.6316     | 18.45s       |"
      ]
     },
     "metadata": {},
     "output_type": "display_data"
    },
    {
     "data": {
      "text/html": [
       "<pre>| 729          | 3522528 | 15.0869     | 19.40s       |</pre>"
      ],
      "text/plain": [
       "| 729          | 3522528 | 15.0869     | 19.40s       |"
      ]
     },
     "metadata": {},
     "output_type": "display_data"
    },
    {
     "data": {
      "text/html": [
       "<pre>| 754          | 3643328 | 15.6043     | 20.44s       |</pre>"
      ],
      "text/plain": [
       "| 754          | 3643328 | 15.6043     | 20.44s       |"
      ]
     },
     "metadata": {},
     "output_type": "display_data"
    },
    {
     "data": {
      "text/html": [
       "<pre>| 780          | 3768960 | 16.1424     | 21.46s       |</pre>"
      ],
      "text/plain": [
       "| 780          | 3768960 | 16.1424     | 21.46s       |"
      ]
     },
     "metadata": {},
     "output_type": "display_data"
    },
    {
     "data": {
      "text/html": [
       "<pre>| 816          | 3942912 | 16.8874     | 22.43s       |</pre>"
      ],
      "text/plain": [
       "| 816          | 3942912 | 16.8874     | 22.43s       |"
      ]
     },
     "metadata": {},
     "output_type": "display_data"
    },
    {
     "data": {
      "text/html": [
       "<pre>| 851          | 4112032 | 17.6118     | 23.43s       |</pre>"
      ],
      "text/plain": [
       "| 851          | 4112032 | 17.6118     | 23.43s       |"
      ]
     },
     "metadata": {},
     "output_type": "display_data"
    },
    {
     "data": {
      "text/html": [
       "<pre>| 881          | 4256992 | 18.2326     | 24.45s       |</pre>"
      ],
      "text/plain": [
       "| 881          | 4256992 | 18.2326     | 24.45s       |"
      ]
     },
     "metadata": {},
     "output_type": "display_data"
    },
    {
     "data": {
      "text/html": [
       "<pre>| 906          | 4377792 | 18.75       | 25.46s       |</pre>"
      ],
      "text/plain": [
       "| 906          | 4377792 | 18.75       | 25.46s       |"
      ]
     },
     "metadata": {},
     "output_type": "display_data"
    },
    {
     "data": {
      "text/html": [
       "<pre>| 945          | 4566240 | 19.5571     | 26.44s       |</pre>"
      ],
      "text/plain": [
       "| 945          | 4566240 | 19.5571     | 26.44s       |"
      ]
     },
     "metadata": {},
     "output_type": "display_data"
    },
    {
     "data": {
      "text/html": [
       "<pre>| 975          | 4711200 | 20.178      | 27.47s       |</pre>"
      ],
      "text/plain": [
       "| 975          | 4711200 | 20.178      | 27.47s       |"
      ]
     },
     "metadata": {},
     "output_type": "display_data"
    },
    {
     "data": {
      "text/html": [
       "<pre>| 1007         | 4865824 | 20.8402     | 28.44s       |</pre>"
      ],
      "text/plain": [
       "| 1007         | 4865824 | 20.8402     | 28.44s       |"
      ]
     },
     "metadata": {},
     "output_type": "display_data"
    },
    {
     "data": {
      "text/html": [
       "<pre>| 1052         | 5083264 | 21.7715     | 29.47s       |</pre>"
      ],
      "text/plain": [
       "| 1052         | 5083264 | 21.7715     | 29.47s       |"
      ]
     },
     "metadata": {},
     "output_type": "display_data"
    },
    {
     "data": {
      "text/html": [
       "<pre>| 1103         | 5329696 | 22.827      | 30.43s       |</pre>"
      ],
      "text/plain": [
       "| 1103         | 5329696 | 22.827      | 30.43s       |"
      ]
     },
     "metadata": {},
     "output_type": "display_data"
    },
    {
     "data": {
      "text/html": [
       "<pre>| 1163         | 5619616 | 24.0687     | 31.44s       |</pre>"
      ],
      "text/plain": [
       "| 1163         | 5619616 | 24.0687     | 31.44s       |"
      ]
     },
     "metadata": {},
     "output_type": "display_data"
    },
    {
     "data": {
      "text/html": [
       "<pre>| 1222         | 5904704 | 25.2897     | 32.47s       |</pre>"
      ],
      "text/plain": [
       "| 1222         | 5904704 | 25.2897     | 32.47s       |"
      ]
     },
     "metadata": {},
     "output_type": "display_data"
    },
    {
     "data": {
      "text/html": [
       "<pre>| 1279         | 6180128 | 26.4694     | 33.45s       |</pre>"
      ],
      "text/plain": [
       "| 1279         | 6180128 | 26.4694     | 33.45s       |"
      ]
     },
     "metadata": {},
     "output_type": "display_data"
    },
    {
     "data": {
      "text/html": [
       "<pre>| 1340         | 6474880 | 27.7318     | 34.46s       |</pre>"
      ],
      "text/plain": [
       "| 1340         | 6474880 | 27.7318     | 34.46s       |"
      ]
     },
     "metadata": {},
     "output_type": "display_data"
    },
    {
     "data": {
      "text/html": [
       "<pre>| 1399         | 6759968 | 28.9528     | 35.45s       |</pre>"
      ],
      "text/plain": [
       "| 1399         | 6759968 | 28.9528     | 35.45s       |"
      ]
     },
     "metadata": {},
     "output_type": "display_data"
    },
    {
     "data": {
      "text/html": [
       "<pre>| 1462         | 7064384 | 30.2566     | 36.47s       |</pre>"
      ],
      "text/plain": [
       "| 1462         | 7064384 | 30.2566     | 36.47s       |"
      ]
     },
     "metadata": {},
     "output_type": "display_data"
    },
    {
     "data": {
      "text/html": [
       "<pre>| 1520         | 7344640 | 31.457      | 37.46s       |</pre>"
      ],
      "text/plain": [
       "| 1520         | 7344640 | 31.457      | 37.46s       |"
      ]
     },
     "metadata": {},
     "output_type": "display_data"
    },
    {
     "data": {
      "text/html": [
       "<pre>| 1580         | 7634560 | 32.6987     | 38.46s       |</pre>"
      ],
      "text/plain": [
       "| 1580         | 7634560 | 32.6987     | 38.46s       |"
      ]
     },
     "metadata": {},
     "output_type": "display_data"
    },
    {
     "data": {
      "text/html": [
       "<pre>| 1634         | 7895488 | 33.8162     | 39.48s       |</pre>"
      ],
      "text/plain": [
       "| 1634         | 7895488 | 33.8162     | 39.48s       |"
      ]
     },
     "metadata": {},
     "output_type": "display_data"
    },
    {
     "data": {
      "text/html": [
       "<pre>| 1692         | 8175744 | 35.0166     | 40.47s       |</pre>"
      ],
      "text/plain": [
       "| 1692         | 8175744 | 35.0166     | 40.47s       |"
      ]
     },
     "metadata": {},
     "output_type": "display_data"
    },
    {
     "data": {
      "text/html": [
       "<pre>| 1748         | 8446336 | 36.1755     | 41.48s       |</pre>"
      ],
      "text/plain": [
       "| 1748         | 8446336 | 36.1755     | 41.48s       |"
      ]
     },
     "metadata": {},
     "output_type": "display_data"
    },
    {
     "data": {
      "text/html": [
       "<pre>| 1805         | 8721760 | 37.3551     | 42.52s       |</pre>"
      ],
      "text/plain": [
       "| 1805         | 8721760 | 37.3551     | 42.52s       |"
      ]
     },
     "metadata": {},
     "output_type": "display_data"
    },
    {
     "data": {
      "text/html": [
       "<pre>| 1842         | 8900544 | 38.1209     | 43.54s       |</pre>"
      ],
      "text/plain": [
       "| 1842         | 8900544 | 38.1209     | 43.54s       |"
      ]
     },
     "metadata": {},
     "output_type": "display_data"
    },
    {
     "data": {
      "text/html": [
       "<pre>| 1889         | 9127648 | 39.0935     | 44.48s       |</pre>"
      ],
      "text/plain": [
       "| 1889         | 9127648 | 39.0935     | 44.48s       |"
      ]
     },
     "metadata": {},
     "output_type": "display_data"
    },
    {
     "data": {
      "text/html": [
       "<pre>| 1954         | 9441728 | 40.4387     | 45.51s       |</pre>"
      ],
      "text/plain": [
       "| 1954         | 9441728 | 40.4387     | 45.51s       |"
      ]
     },
     "metadata": {},
     "output_type": "display_data"
    },
    {
     "data": {
      "text/html": [
       "<pre>| 2015         | 9736480 | 41.7012     | 46.52s       |</pre>"
      ],
      "text/plain": [
       "| 2015         | 9736480 | 41.7012     | 46.52s       |"
      ]
     },
     "metadata": {},
     "output_type": "display_data"
    },
    {
     "data": {
      "text/html": [
       "<pre>| 2059         | 9949088 | 42.6118     | 47.50s       |</pre>"
      ],
      "text/plain": [
       "| 2059         | 9949088 | 42.6118     | 47.50s       |"
      ]
     },
     "metadata": {},
     "output_type": "display_data"
    },
    {
     "data": {
      "text/html": [
       "<pre>| 2116         | 1e+07   | 43.7914     | 48.49s       |</pre>"
      ],
      "text/plain": [
       "| 2116         | 1e+07   | 43.7914     | 48.49s       |"
      ]
     },
     "metadata": {},
     "output_type": "display_data"
    },
    {
     "data": {
      "text/html": [
       "<pre>| 2178         | 1.1e+07 | 45.0745     | 49.52s       |</pre>"
      ],
      "text/plain": [
       "| 2178         | 1.1e+07 | 45.0745     | 49.52s       |"
      ]
     },
     "metadata": {},
     "output_type": "display_data"
    },
    {
     "data": {
      "text/html": [
       "<pre>| 2234         | 1.1e+07 | 46.2334     | 50.50s       |</pre>"
      ],
      "text/plain": [
       "| 2234         | 1.1e+07 | 46.2334     | 50.50s       |"
      ]
     },
     "metadata": {},
     "output_type": "display_data"
    },
    {
     "data": {
      "text/html": [
       "<pre>| 2288         | 1.1e+07 | 47.351      | 51.50s       |</pre>"
      ],
      "text/plain": [
       "| 2288         | 1.1e+07 | 47.351      | 51.50s       |"
      ]
     },
     "metadata": {},
     "output_type": "display_data"
    },
    {
     "data": {
      "text/html": [
       "<pre>| 2348         | 1.1e+07 | 48.5927     | 52.51s       |</pre>"
      ],
      "text/plain": [
       "| 2348         | 1.1e+07 | 48.5927     | 52.51s       |"
      ]
     },
     "metadata": {},
     "output_type": "display_data"
    },
    {
     "data": {
      "text/html": [
       "<pre>| 2407         | 1.2e+07 | 49.8137     | 53.54s       |</pre>"
      ],
      "text/plain": [
       "| 2407         | 1.2e+07 | 49.8137     | 53.54s       |"
      ]
     },
     "metadata": {},
     "output_type": "display_data"
    },
    {
     "data": {
      "text/html": [
       "<pre>| 2471         | 1.2e+07 | 51.1382     | 54.56s       |</pre>"
      ],
      "text/plain": [
       "| 2471         | 1.2e+07 | 51.1382     | 54.56s       |"
      ]
     },
     "metadata": {},
     "output_type": "display_data"
    },
    {
     "data": {
      "text/html": [
       "<pre>| 2531         | 1.2e+07 | 52.38       | 55.51s       |</pre>"
      ],
      "text/plain": [
       "| 2531         | 1.2e+07 | 52.38       | 55.51s       |"
      ]
     },
     "metadata": {},
     "output_type": "display_data"
    },
    {
     "data": {
      "text/html": [
       "<pre>| 2590         | 1.3e+07 | 53.601      | 56.52s       |</pre>"
      ],
      "text/plain": [
       "| 2590         | 1.3e+07 | 53.601      | 56.52s       |"
      ]
     },
     "metadata": {},
     "output_type": "display_data"
    },
    {
     "data": {
      "text/html": [
       "<pre>| 2649         | 1.3e+07 | 54.822      | 57.54s       |</pre>"
      ],
      "text/plain": [
       "| 2649         | 1.3e+07 | 54.822      | 57.54s       |"
      ]
     },
     "metadata": {},
     "output_type": "display_data"
    },
    {
     "data": {
      "text/html": [
       "<pre>| 2703         | 1.3e+07 | 55.9396     | 58.58s       |</pre>"
      ],
      "text/plain": [
       "| 2703         | 1.3e+07 | 55.9396     | 58.58s       |"
      ]
     },
     "metadata": {},
     "output_type": "display_data"
    },
    {
     "data": {
      "text/html": [
       "<pre>| 2743         | 1.3e+07 | 56.7674     | 59.55s       |</pre>"
      ],
      "text/plain": [
       "| 2743         | 1.3e+07 | 56.7674     | 59.55s       |"
      ]
     },
     "metadata": {},
     "output_type": "display_data"
    },
    {
     "data": {
      "text/html": [
       "<pre>| 2783         | 1.3e+07 | 57.5952     | 1m 0s        |</pre>"
      ],
      "text/plain": [
       "| 2783         | 1.3e+07 | 57.5952     | 1m 0s        |"
      ]
     },
     "metadata": {},
     "output_type": "display_data"
    },
    {
     "data": {
      "text/html": [
       "<pre>| 2840         | 1.4e+07 | 58.7748     | 1m 1s        |</pre>"
      ],
      "text/plain": [
       "| 2840         | 1.4e+07 | 58.7748     | 1m 1s        |"
      ]
     },
     "metadata": {},
     "output_type": "display_data"
    },
    {
     "data": {
      "text/html": [
       "<pre>| 2901         | 1.4e+07 | 60.0373     | 1m 2s        |</pre>"
      ],
      "text/plain": [
       "| 2901         | 1.4e+07 | 60.0373     | 1m 2s        |"
      ]
     },
     "metadata": {},
     "output_type": "display_data"
    },
    {
     "data": {
      "text/html": [
       "<pre>| 2955         | 1.4e+07 | 61.1548     | 1m 3s        |</pre>"
      ],
      "text/plain": [
       "| 2955         | 1.4e+07 | 61.1548     | 1m 3s        |"
      ]
     },
     "metadata": {},
     "output_type": "display_data"
    },
    {
     "data": {
      "text/html": [
       "<pre>| 3011         | 1.5e+07 | 62.3137     | 1m 4s        |</pre>"
      ],
      "text/plain": [
       "| 3011         | 1.5e+07 | 62.3137     | 1m 4s        |"
      ]
     },
     "metadata": {},
     "output_type": "display_data"
    },
    {
     "data": {
      "text/html": [
       "<pre>| 3058         | 1.5e+07 | 63.2864     | 1m 5s        |</pre>"
      ],
      "text/plain": [
       "| 3058         | 1.5e+07 | 63.2864     | 1m 5s        |"
      ]
     },
     "metadata": {},
     "output_type": "display_data"
    },
    {
     "data": {
      "text/html": [
       "<pre>| 3100         | 1.5e+07 | 64.1556     | 1m 6s        |</pre>"
      ],
      "text/plain": [
       "| 3100         | 1.5e+07 | 64.1556     | 1m 6s        |"
      ]
     },
     "metadata": {},
     "output_type": "display_data"
    },
    {
     "data": {
      "text/html": [
       "<pre>| 3147         | 1.5e+07 | 65.1283     | 1m 7s        |</pre>"
      ],
      "text/plain": [
       "| 3147         | 1.5e+07 | 65.1283     | 1m 7s        |"
      ]
     },
     "metadata": {},
     "output_type": "display_data"
    },
    {
     "data": {
      "text/html": [
       "<pre>| 3192         | 1.5e+07 | 66.0596     | 1m 8s        |</pre>"
      ],
      "text/plain": [
       "| 3192         | 1.5e+07 | 66.0596     | 1m 8s        |"
      ]
     },
     "metadata": {},
     "output_type": "display_data"
    },
    {
     "data": {
      "text/html": [
       "<pre>| 3251         | 1.6e+07 | 67.2806     | 1m 9s        |</pre>"
      ],
      "text/plain": [
       "| 3251         | 1.6e+07 | 67.2806     | 1m 9s        |"
      ]
     },
     "metadata": {},
     "output_type": "display_data"
    },
    {
     "data": {
      "text/html": [
       "<pre>| 3310         | 1.6e+07 | 68.5017     | 1m 10s       |</pre>"
      ],
      "text/plain": [
       "| 3310         | 1.6e+07 | 68.5017     | 1m 10s       |"
      ]
     },
     "metadata": {},
     "output_type": "display_data"
    },
    {
     "data": {
      "text/html": [
       "<pre>| 3368         | 1.6e+07 | 69.702      | 1m 11s       |</pre>"
      ],
      "text/plain": [
       "| 3368         | 1.6e+07 | 69.702      | 1m 11s       |"
      ]
     },
     "metadata": {},
     "output_type": "display_data"
    },
    {
     "data": {
      "text/html": [
       "<pre>| 3425         | 1.7e+07 | 70.8816     | 1m 12s       |</pre>"
      ],
      "text/plain": [
       "| 3425         | 1.7e+07 | 70.8816     | 1m 12s       |"
      ]
     },
     "metadata": {},
     "output_type": "display_data"
    },
    {
     "data": {
      "text/html": [
       "<pre>| 3469         | 1.7e+07 | 71.7922     | 1m 13s       |</pre>"
      ],
      "text/plain": [
       "| 3469         | 1.7e+07 | 71.7922     | 1m 13s       |"
      ]
     },
     "metadata": {},
     "output_type": "display_data"
    },
    {
     "data": {
      "text/html": [
       "<pre>| 3492         | 1.7e+07 | 72.2682     | 1m 14s       |</pre>"
      ],
      "text/plain": [
       "| 3492         | 1.7e+07 | 72.2682     | 1m 14s       |"
      ]
     },
     "metadata": {},
     "output_type": "display_data"
    },
    {
     "data": {
      "text/html": [
       "<pre>| 3532         | 1.7e+07 | 73.096      | 1m 15s       |</pre>"
      ],
      "text/plain": [
       "| 3532         | 1.7e+07 | 73.096      | 1m 15s       |"
      ]
     },
     "metadata": {},
     "output_type": "display_data"
    },
    {
     "data": {
      "text/html": [
       "<pre>| 3570         | 1.7e+07 | 73.8825     | 1m 16s       |</pre>"
      ],
      "text/plain": [
       "| 3570         | 1.7e+07 | 73.8825     | 1m 16s       |"
      ]
     },
     "metadata": {},
     "output_type": "display_data"
    },
    {
     "data": {
      "text/html": [
       "<pre>| 3610         | 1.7e+07 | 74.7103     | 1m 17s       |</pre>"
      ],
      "text/plain": [
       "| 3610         | 1.7e+07 | 74.7103     | 1m 17s       |"
      ]
     },
     "metadata": {},
     "output_type": "display_data"
    },
    {
     "data": {
      "text/html": [
       "<pre>| 3659         | 1.8e+07 | 75.7243     | 1m 18s       |</pre>"
      ],
      "text/plain": [
       "| 3659         | 1.8e+07 | 75.7243     | 1m 18s       |"
      ]
     },
     "metadata": {},
     "output_type": "display_data"
    },
    {
     "data": {
      "text/html": [
       "<pre>| 3708         | 1.8e+07 | 76.7384     | 1m 19s       |</pre>"
      ],
      "text/plain": [
       "| 3708         | 1.8e+07 | 76.7384     | 1m 19s       |"
      ]
     },
     "metadata": {},
     "output_type": "display_data"
    },
    {
     "data": {
      "text/html": [
       "<pre>| 3771         | 1.8e+07 | 78.0422     | 1m 20s       |</pre>"
      ],
      "text/plain": [
       "| 3771         | 1.8e+07 | 78.0422     | 1m 20s       |"
      ]
     },
     "metadata": {},
     "output_type": "display_data"
    },
    {
     "data": {
      "text/html": [
       "<pre>| 3827         | 1.8e+07 | 79.2012     | 1m 21s       |</pre>"
      ],
      "text/plain": [
       "| 3827         | 1.8e+07 | 79.2012     | 1m 21s       |"
      ]
     },
     "metadata": {},
     "output_type": "display_data"
    },
    {
     "data": {
      "text/html": [
       "<pre>| 3883         | 1.9e+07 | 80.3601     | 1m 22s       |</pre>"
      ],
      "text/plain": [
       "| 3883         | 1.9e+07 | 80.3601     | 1m 22s       |"
      ]
     },
     "metadata": {},
     "output_type": "display_data"
    },
    {
     "data": {
      "text/html": [
       "<pre>| 3941         | 1.9e+07 | 81.5604     | 1m 23s       |</pre>"
      ],
      "text/plain": [
       "| 3941         | 1.9e+07 | 81.5604     | 1m 23s       |"
      ]
     },
     "metadata": {},
     "output_type": "display_data"
    },
    {
     "data": {
      "text/html": [
       "<pre>| 3996         | 1.9e+07 | 82.6987     | 1m 24s       |</pre>"
      ],
      "text/plain": [
       "| 3996         | 1.9e+07 | 82.6987     | 1m 24s       |"
      ]
     },
     "metadata": {},
     "output_type": "display_data"
    },
    {
     "data": {
      "text/html": [
       "<pre>| 4052         | 2e+07   | 83.8576     | 1m 25s       |</pre>"
      ],
      "text/plain": [
       "| 4052         | 2e+07   | 83.8576     | 1m 25s       |"
      ]
     },
     "metadata": {},
     "output_type": "display_data"
    },
    {
     "data": {
      "text/html": [
       "<pre>| 4113         | 2e+07   | 85.12       | 1m 26s       |</pre>"
      ],
      "text/plain": [
       "| 4113         | 2e+07   | 85.12       | 1m 26s       |"
      ]
     },
     "metadata": {},
     "output_type": "display_data"
    },
    {
     "data": {
      "text/html": [
       "<pre>| 4171         | 2e+07   | 86.3204     | 1m 27s       |</pre>"
      ],
      "text/plain": [
       "| 4171         | 2e+07   | 86.3204     | 1m 27s       |"
      ]
     },
     "metadata": {},
     "output_type": "display_data"
    },
    {
     "data": {
      "text/html": [
       "<pre>| 4229         | 2e+07   | 87.5207     | 1m 28s       |</pre>"
      ],
      "text/plain": [
       "| 4229         | 2e+07   | 87.5207     | 1m 28s       |"
      ]
     },
     "metadata": {},
     "output_type": "display_data"
    },
    {
     "data": {
      "text/html": [
       "<pre>| 4290         | 2.1e+07 | 88.7831     | 1m 29s       |</pre>"
      ],
      "text/plain": [
       "| 4290         | 2.1e+07 | 88.7831     | 1m 29s       |"
      ]
     },
     "metadata": {},
     "output_type": "display_data"
    },
    {
     "data": {
      "text/html": [
       "<pre>| 4348         | 2.1e+07 | 89.9834     | 1m 30s       |</pre>"
      ],
      "text/plain": [
       "| 4348         | 2.1e+07 | 89.9834     | 1m 30s       |"
      ]
     },
     "metadata": {},
     "output_type": "display_data"
    },
    {
     "data": {
      "text/html": [
       "<pre>| 4411         | 2.1e+07 | 91.2873     | 1m 31s       |</pre>"
      ],
      "text/plain": [
       "| 4411         | 2.1e+07 | 91.2873     | 1m 31s       |"
      ]
     },
     "metadata": {},
     "output_type": "display_data"
    },
    {
     "data": {
      "text/html": [
       "<pre>| 4471         | 2.2e+07 | 92.529      | 1m 32s       |</pre>"
      ],
      "text/plain": [
       "| 4471         | 2.2e+07 | 92.529      | 1m 32s       |"
      ]
     },
     "metadata": {},
     "output_type": "display_data"
    },
    {
     "data": {
      "text/html": [
       "<pre>| 4529         | 2.2e+07 | 93.7293     | 1m 33s       |</pre>"
      ],
      "text/plain": [
       "| 4529         | 2.2e+07 | 93.7293     | 1m 33s       |"
      ]
     },
     "metadata": {},
     "output_type": "display_data"
    },
    {
     "data": {
      "text/html": [
       "<pre>| 4588         | 2.2e+07 | 94.9503     | 1m 34s       |</pre>"
      ],
      "text/plain": [
       "| 4588         | 2.2e+07 | 94.9503     | 1m 34s       |"
      ]
     },
     "metadata": {},
     "output_type": "display_data"
    },
    {
     "data": {
      "text/html": [
       "<pre>| 4642         | 2.2e+07 | 96.0679     | 1m 35s       |</pre>"
      ],
      "text/plain": [
       "| 4642         | 2.2e+07 | 96.0679     | 1m 35s       |"
      ]
     },
     "metadata": {},
     "output_type": "display_data"
    },
    {
     "data": {
      "text/html": [
       "<pre>| 4695         | 2.3e+07 | 97.1647     | 1m 36s       |</pre>"
      ],
      "text/plain": [
       "| 4695         | 2.3e+07 | 97.1647     | 1m 36s       |"
      ]
     },
     "metadata": {},
     "output_type": "display_data"
    },
    {
     "data": {
      "text/html": [
       "<pre>| 4730         | 2.3e+07 | 97.8891     | 1m 37s       |</pre>"
      ],
      "text/plain": [
       "| 4730         | 2.3e+07 | 97.8891     | 1m 37s       |"
      ]
     },
     "metadata": {},
     "output_type": "display_data"
    },
    {
     "data": {
      "text/html": [
       "<pre>| 4784         | 2.3e+07 | 99.0066     | 1m 38s       |</pre>"
      ],
      "text/plain": [
       "| 4784         | 2.3e+07 | 99.0066     | 1m 38s       |"
      ]
     },
     "metadata": {},
     "output_type": "display_data"
    },
    {
     "data": {
      "text/html": [
       "<pre>| 4832         | 2.3e+07 | 100         | 1m 39s       |</pre>"
      ],
      "text/plain": [
       "| 4832         | 2.3e+07 | 100         | 1m 39s       |"
      ]
     },
     "metadata": {},
     "output_type": "display_data"
    },
    {
     "data": {
      "text/html": [
       "<pre>| Done         |         | 100         | 1m 39s       |</pre>"
      ],
      "text/plain": [
       "| Done         |         | 100         | 1m 39s       |"
      ]
     },
     "metadata": {},
     "output_type": "display_data"
    },
    {
     "data": {
      "text/html": [
       "<pre>+--------------+---------+-------------+--------------+</pre>"
      ],
      "text/plain": [
       "+--------------+---------+-------------+--------------+"
      ]
     },
     "metadata": {},
     "output_type": "display_data"
    },
    {
     "data": {
      "text/html": [
       "<pre>Preparing data set.</pre>"
      ],
      "text/plain": [
       "Preparing data set."
      ]
     },
     "metadata": {},
     "output_type": "display_data"
    },
    {
     "data": {
      "text/html": [
       "<pre>    Data has 0 observations with 0 users and 4832 items.</pre>"
      ],
      "text/plain": [
       "    Data has 0 observations with 0 users and 4832 items."
      ]
     },
     "metadata": {},
     "output_type": "display_data"
    },
    {
     "data": {
      "text/html": [
       "<pre>    Data prepared in: 1.41353s</pre>"
      ],
      "text/plain": [
       "    Data prepared in: 1.41353s"
      ]
     },
     "metadata": {},
     "output_type": "display_data"
    },
    {
     "data": {
      "text/html": [
       "<pre>Loading user-provided nearest items.</pre>"
      ],
      "text/plain": [
       "Loading user-provided nearest items."
      ]
     },
     "metadata": {},
     "output_type": "display_data"
    },
    {
     "data": {
      "text/html": [
       "<pre>Generating candidate set for working with new users.</pre>"
      ],
      "text/plain": [
       "Generating candidate set for working with new users."
      ]
     },
     "metadata": {},
     "output_type": "display_data"
    },
    {
     "data": {
      "text/html": [
       "<pre>Finished training in 0.054078s</pre>"
      ],
      "text/plain": [
       "Finished training in 0.054078s"
      ]
     },
     "metadata": {},
     "output_type": "display_data"
    }
   ],
   "source": [
    "# build content based recommender\n",
    "content_rec = graphlab.recommender.item_content_recommender.create(sf_business, 'business_id')"
   ]
  },
  {
   "cell_type": "code",
   "execution_count": 21,
   "metadata": {},
   "outputs": [
    {
     "data": {
      "text/html": [
       "<div style=\"max-height:1000px;max-width:1500px;overflow:auto;\"><table frame=\"box\" rules=\"cols\">\n",
       "    <tr>\n",
       "        <th style=\"padding-left: 1em; padding-right: 1em; text-align: center\">business_id</th>\n",
       "        <th style=\"padding-left: 1em; padding-right: 1em; text-align: center\">score</th>\n",
       "        <th style=\"padding-left: 1em; padding-right: 1em; text-align: center\">rank</th>\n",
       "    </tr>\n",
       "    <tr>\n",
       "        <td style=\"padding-left: 1em; padding-right: 1em; text-align: center; vertical-align: top\">TT658qQinO6MBHP9q7rJ8w</td>\n",
       "        <td style=\"padding-left: 1em; padding-right: 1em; text-align: center; vertical-align: top\">0.951566457748</td>\n",
       "        <td style=\"padding-left: 1em; padding-right: 1em; text-align: center; vertical-align: top\">1</td>\n",
       "    </tr>\n",
       "    <tr>\n",
       "        <td style=\"padding-left: 1em; padding-right: 1em; text-align: center; vertical-align: top\">uWECX6-Uq9n8v5ipk9R29A</td>\n",
       "        <td style=\"padding-left: 1em; padding-right: 1em; text-align: center; vertical-align: top\">0.950242936611</td>\n",
       "        <td style=\"padding-left: 1em; padding-right: 1em; text-align: center; vertical-align: top\">2</td>\n",
       "    </tr>\n",
       "    <tr>\n",
       "        <td style=\"padding-left: 1em; padding-right: 1em; text-align: center; vertical-align: top\">AT1bODcrWTKTRNZKRxO-cA</td>\n",
       "        <td style=\"padding-left: 1em; padding-right: 1em; text-align: center; vertical-align: top\">0.917819261551</td>\n",
       "        <td style=\"padding-left: 1em; padding-right: 1em; text-align: center; vertical-align: top\">3</td>\n",
       "    </tr>\n",
       "    <tr>\n",
       "        <td style=\"padding-left: 1em; padding-right: 1em; text-align: center; vertical-align: top\">zcScEL0WEdFkROcnz5379g</td>\n",
       "        <td style=\"padding-left: 1em; padding-right: 1em; text-align: center; vertical-align: top\">0.915316462517</td>\n",
       "        <td style=\"padding-left: 1em; padding-right: 1em; text-align: center; vertical-align: top\">4</td>\n",
       "    </tr>\n",
       "    <tr>\n",
       "        <td style=\"padding-left: 1em; padding-right: 1em; text-align: center; vertical-align: top\">p3YqOYELqXtLyHz9T49p_w</td>\n",
       "        <td style=\"padding-left: 1em; padding-right: 1em; text-align: center; vertical-align: top\">0.913488447666</td>\n",
       "        <td style=\"padding-left: 1em; padding-right: 1em; text-align: center; vertical-align: top\">5</td>\n",
       "    </tr>\n",
       "    <tr>\n",
       "        <td style=\"padding-left: 1em; padding-right: 1em; text-align: center; vertical-align: top\">5TY6bUT3bbl9aHItiIXXqw</td>\n",
       "        <td style=\"padding-left: 1em; padding-right: 1em; text-align: center; vertical-align: top\">0.911274850368</td>\n",
       "        <td style=\"padding-left: 1em; padding-right: 1em; text-align: center; vertical-align: top\">6</td>\n",
       "    </tr>\n",
       "    <tr>\n",
       "        <td style=\"padding-left: 1em; padding-right: 1em; text-align: center; vertical-align: top\">L2W0QLXIIR5MEmhQwZk-iA</td>\n",
       "        <td style=\"padding-left: 1em; padding-right: 1em; text-align: center; vertical-align: top\">0.910526871681</td>\n",
       "        <td style=\"padding-left: 1em; padding-right: 1em; text-align: center; vertical-align: top\">7</td>\n",
       "    </tr>\n",
       "    <tr>\n",
       "        <td style=\"padding-left: 1em; padding-right: 1em; text-align: center; vertical-align: top\">VPO8pBUwYz1u6GoG0d2U-Q</td>\n",
       "        <td style=\"padding-left: 1em; padding-right: 1em; text-align: center; vertical-align: top\">0.889103055</td>\n",
       "        <td style=\"padding-left: 1em; padding-right: 1em; text-align: center; vertical-align: top\">8</td>\n",
       "    </tr>\n",
       "    <tr>\n",
       "        <td style=\"padding-left: 1em; padding-right: 1em; text-align: center; vertical-align: top\">UNI1agsPX2k3eJSJVB91nw</td>\n",
       "        <td style=\"padding-left: 1em; padding-right: 1em; text-align: center; vertical-align: top\">0.889090418816</td>\n",
       "        <td style=\"padding-left: 1em; padding-right: 1em; text-align: center; vertical-align: top\">9</td>\n",
       "    </tr>\n",
       "    <tr>\n",
       "        <td style=\"padding-left: 1em; padding-right: 1em; text-align: center; vertical-align: top\">KXITXbKuE60WSUDs7NZVLQ</td>\n",
       "        <td style=\"padding-left: 1em; padding-right: 1em; text-align: center; vertical-align: top\">0.868394732475</td>\n",
       "        <td style=\"padding-left: 1em; padding-right: 1em; text-align: center; vertical-align: top\">10</td>\n",
       "    </tr>\n",
       "</table>\n",
       "[10 rows x 3 columns]<br/>\n",
       "</div>"
      ],
      "text/plain": [
       "Columns:\n",
       "\tbusiness_id\tstr\n",
       "\tscore\tfloat\n",
       "\trank\tint\n",
       "\n",
       "Rows: 10\n",
       "\n",
       "Data:\n",
       "+------------------------+----------------+------+\n",
       "|      business_id       |     score      | rank |\n",
       "+------------------------+----------------+------+\n",
       "| TT658qQinO6MBHP9q7rJ8w | 0.951566457748 |  1   |\n",
       "| uWECX6-Uq9n8v5ipk9R29A | 0.950242936611 |  2   |\n",
       "| AT1bODcrWTKTRNZKRxO-cA | 0.917819261551 |  3   |\n",
       "| zcScEL0WEdFkROcnz5379g | 0.915316462517 |  4   |\n",
       "| p3YqOYELqXtLyHz9T49p_w | 0.913488447666 |  5   |\n",
       "| 5TY6bUT3bbl9aHItiIXXqw | 0.911274850368 |  6   |\n",
       "| L2W0QLXIIR5MEmhQwZk-iA | 0.910526871681 |  7   |\n",
       "| VPO8pBUwYz1u6GoG0d2U-Q |  0.889103055   |  8   |\n",
       "| UNI1agsPX2k3eJSJVB91nw | 0.889090418816 |  9   |\n",
       "| KXITXbKuE60WSUDs7NZVLQ | 0.868394732475 |  10  |\n",
       "+------------------------+----------------+------+\n",
       "[10 rows x 3 columns]"
      ]
     },
     "execution_count": 21,
     "metadata": {},
     "output_type": "execute_result"
    }
   ],
   "source": [
    "# make recommendation for a single item/restaurant\n",
    "sample_item = [df_stars.iloc[0].business_id]\n",
    "content_rec.recommend_from_interactions(sample_item)"
   ]
  },
  {
   "cell_type": "code",
   "execution_count": 22,
   "metadata": {},
   "outputs": [
    {
     "data": {
      "text/html": [
       "<div>\n",
       "<style scoped>\n",
       "    .dataframe tbody tr th:only-of-type {\n",
       "        vertical-align: middle;\n",
       "    }\n",
       "\n",
       "    .dataframe tbody tr th {\n",
       "        vertical-align: top;\n",
       "    }\n",
       "\n",
       "    .dataframe thead th {\n",
       "        text-align: right;\n",
       "    }\n",
       "</style>\n",
       "<table border=\"1\" class=\"dataframe\">\n",
       "  <thead>\n",
       "    <tr style=\"text-align: right;\">\n",
       "      <th></th>\n",
       "      <th>business_id</th>\n",
       "      <th>similar</th>\n",
       "      <th>score</th>\n",
       "      <th>rank</th>\n",
       "    </tr>\n",
       "  </thead>\n",
       "  <tbody>\n",
       "    <tr>\n",
       "      <th>0</th>\n",
       "      <td>--9e1ONYQuAa-CB_Rrw7Tw</td>\n",
       "      <td>TT658qQinO6MBHP9q7rJ8w</td>\n",
       "      <td>0.951566</td>\n",
       "      <td>1</td>\n",
       "    </tr>\n",
       "    <tr>\n",
       "      <th>1</th>\n",
       "      <td>--9e1ONYQuAa-CB_Rrw7Tw</td>\n",
       "      <td>uWECX6-Uq9n8v5ipk9R29A</td>\n",
       "      <td>0.950243</td>\n",
       "      <td>2</td>\n",
       "    </tr>\n",
       "    <tr>\n",
       "      <th>2</th>\n",
       "      <td>--9e1ONYQuAa-CB_Rrw7Tw</td>\n",
       "      <td>AT1bODcrWTKTRNZKRxO-cA</td>\n",
       "      <td>0.917819</td>\n",
       "      <td>3</td>\n",
       "    </tr>\n",
       "    <tr>\n",
       "      <th>3</th>\n",
       "      <td>--9e1ONYQuAa-CB_Rrw7Tw</td>\n",
       "      <td>zcScEL0WEdFkROcnz5379g</td>\n",
       "      <td>0.915316</td>\n",
       "      <td>4</td>\n",
       "    </tr>\n",
       "    <tr>\n",
       "      <th>4</th>\n",
       "      <td>--9e1ONYQuAa-CB_Rrw7Tw</td>\n",
       "      <td>p3YqOYELqXtLyHz9T49p_w</td>\n",
       "      <td>0.913488</td>\n",
       "      <td>5</td>\n",
       "    </tr>\n",
       "    <tr>\n",
       "      <th>5</th>\n",
       "      <td>--9e1ONYQuAa-CB_Rrw7Tw</td>\n",
       "      <td>5TY6bUT3bbl9aHItiIXXqw</td>\n",
       "      <td>0.911275</td>\n",
       "      <td>6</td>\n",
       "    </tr>\n",
       "    <tr>\n",
       "      <th>6</th>\n",
       "      <td>--9e1ONYQuAa-CB_Rrw7Tw</td>\n",
       "      <td>L2W0QLXIIR5MEmhQwZk-iA</td>\n",
       "      <td>0.910527</td>\n",
       "      <td>7</td>\n",
       "    </tr>\n",
       "    <tr>\n",
       "      <th>7</th>\n",
       "      <td>--9e1ONYQuAa-CB_Rrw7Tw</td>\n",
       "      <td>VPO8pBUwYz1u6GoG0d2U-Q</td>\n",
       "      <td>0.889103</td>\n",
       "      <td>8</td>\n",
       "    </tr>\n",
       "    <tr>\n",
       "      <th>8</th>\n",
       "      <td>--9e1ONYQuAa-CB_Rrw7Tw</td>\n",
       "      <td>UNI1agsPX2k3eJSJVB91nw</td>\n",
       "      <td>0.889090</td>\n",
       "      <td>9</td>\n",
       "    </tr>\n",
       "    <tr>\n",
       "      <th>9</th>\n",
       "      <td>--9e1ONYQuAa-CB_Rrw7Tw</td>\n",
       "      <td>KXITXbKuE60WSUDs7NZVLQ</td>\n",
       "      <td>0.868395</td>\n",
       "      <td>10</td>\n",
       "    </tr>\n",
       "    <tr>\n",
       "      <th>10</th>\n",
       "      <td>-1m9o3vGRA8IBPNvNqKLmA</td>\n",
       "      <td>HhVmDybpU7L50Kb5A0jXTg</td>\n",
       "      <td>0.723081</td>\n",
       "      <td>1</td>\n",
       "    </tr>\n",
       "    <tr>\n",
       "      <th>11</th>\n",
       "      <td>-1m9o3vGRA8IBPNvNqKLmA</td>\n",
       "      <td>dubu2kN3Y9EB4uYGFWa0MQ</td>\n",
       "      <td>0.701756</td>\n",
       "      <td>2</td>\n",
       "    </tr>\n",
       "    <tr>\n",
       "      <th>12</th>\n",
       "      <td>-1m9o3vGRA8IBPNvNqKLmA</td>\n",
       "      <td>FhIeCF6QrsLaRvAeu0oEPQ</td>\n",
       "      <td>0.663425</td>\n",
       "      <td>3</td>\n",
       "    </tr>\n",
       "    <tr>\n",
       "      <th>13</th>\n",
       "      <td>-1m9o3vGRA8IBPNvNqKLmA</td>\n",
       "      <td>6MpOzb5ImLdDXHsn4HwI-Q</td>\n",
       "      <td>0.650718</td>\n",
       "      <td>4</td>\n",
       "    </tr>\n",
       "    <tr>\n",
       "      <th>14</th>\n",
       "      <td>-1m9o3vGRA8IBPNvNqKLmA</td>\n",
       "      <td>bpRo8L8dkhgbJhdIKa9mwA</td>\n",
       "      <td>0.649189</td>\n",
       "      <td>5</td>\n",
       "    </tr>\n",
       "    <tr>\n",
       "      <th>15</th>\n",
       "      <td>-1m9o3vGRA8IBPNvNqKLmA</td>\n",
       "      <td>eMKqAItLbazgUT8xokz7fw</td>\n",
       "      <td>0.646897</td>\n",
       "      <td>6</td>\n",
       "    </tr>\n",
       "    <tr>\n",
       "      <th>16</th>\n",
       "      <td>-1m9o3vGRA8IBPNvNqKLmA</td>\n",
       "      <td>Q5olb1x6FGk2oLAlc9p5Lg</td>\n",
       "      <td>0.640860</td>\n",
       "      <td>7</td>\n",
       "    </tr>\n",
       "    <tr>\n",
       "      <th>17</th>\n",
       "      <td>-1m9o3vGRA8IBPNvNqKLmA</td>\n",
       "      <td>dTsyfvRfN-zFdsgIDuQllQ</td>\n",
       "      <td>0.627431</td>\n",
       "      <td>8</td>\n",
       "    </tr>\n",
       "    <tr>\n",
       "      <th>18</th>\n",
       "      <td>-1m9o3vGRA8IBPNvNqKLmA</td>\n",
       "      <td>JRh14J_be0jl7Wbt412vDA</td>\n",
       "      <td>0.621067</td>\n",
       "      <td>9</td>\n",
       "    </tr>\n",
       "    <tr>\n",
       "      <th>19</th>\n",
       "      <td>-1m9o3vGRA8IBPNvNqKLmA</td>\n",
       "      <td>OPxWcHK96_cbmiF7legDnA</td>\n",
       "      <td>0.617375</td>\n",
       "      <td>10</td>\n",
       "    </tr>\n",
       "  </tbody>\n",
       "</table>\n",
       "</div>"
      ],
      "text/plain": [
       "               business_id                 similar     score  rank\n",
       "0   --9e1ONYQuAa-CB_Rrw7Tw  TT658qQinO6MBHP9q7rJ8w  0.951566     1\n",
       "1   --9e1ONYQuAa-CB_Rrw7Tw  uWECX6-Uq9n8v5ipk9R29A  0.950243     2\n",
       "2   --9e1ONYQuAa-CB_Rrw7Tw  AT1bODcrWTKTRNZKRxO-cA  0.917819     3\n",
       "3   --9e1ONYQuAa-CB_Rrw7Tw  zcScEL0WEdFkROcnz5379g  0.915316     4\n",
       "4   --9e1ONYQuAa-CB_Rrw7Tw  p3YqOYELqXtLyHz9T49p_w  0.913488     5\n",
       "5   --9e1ONYQuAa-CB_Rrw7Tw  5TY6bUT3bbl9aHItiIXXqw  0.911275     6\n",
       "6   --9e1ONYQuAa-CB_Rrw7Tw  L2W0QLXIIR5MEmhQwZk-iA  0.910527     7\n",
       "7   --9e1ONYQuAa-CB_Rrw7Tw  VPO8pBUwYz1u6GoG0d2U-Q  0.889103     8\n",
       "8   --9e1ONYQuAa-CB_Rrw7Tw  UNI1agsPX2k3eJSJVB91nw  0.889090     9\n",
       "9   --9e1ONYQuAa-CB_Rrw7Tw  KXITXbKuE60WSUDs7NZVLQ  0.868395    10\n",
       "10  -1m9o3vGRA8IBPNvNqKLmA  HhVmDybpU7L50Kb5A0jXTg  0.723081     1\n",
       "11  -1m9o3vGRA8IBPNvNqKLmA  dubu2kN3Y9EB4uYGFWa0MQ  0.701756     2\n",
       "12  -1m9o3vGRA8IBPNvNqKLmA  FhIeCF6QrsLaRvAeu0oEPQ  0.663425     3\n",
       "13  -1m9o3vGRA8IBPNvNqKLmA  6MpOzb5ImLdDXHsn4HwI-Q  0.650718     4\n",
       "14  -1m9o3vGRA8IBPNvNqKLmA  bpRo8L8dkhgbJhdIKa9mwA  0.649189     5\n",
       "15  -1m9o3vGRA8IBPNvNqKLmA  eMKqAItLbazgUT8xokz7fw  0.646897     6\n",
       "16  -1m9o3vGRA8IBPNvNqKLmA  Q5olb1x6FGk2oLAlc9p5Lg  0.640860     7\n",
       "17  -1m9o3vGRA8IBPNvNqKLmA  dTsyfvRfN-zFdsgIDuQllQ  0.627431     8\n",
       "18  -1m9o3vGRA8IBPNvNqKLmA  JRh14J_be0jl7Wbt412vDA  0.621067     9\n",
       "19  -1m9o3vGRA8IBPNvNqKLmA  OPxWcHK96_cbmiF7legDnA  0.617375    10"
      ]
     },
     "execution_count": 22,
     "metadata": {},
     "output_type": "execute_result"
    }
   ],
   "source": [
    "# similar items per item\n",
    "\n",
    "df_similar_items = content_rec.get_similar_items().to_dataframe()\n",
    "df_similar_items.head(20)"
   ]
  },
  {
   "cell_type": "code",
   "execution_count": 26,
   "metadata": {},
   "outputs": [
    {
     "data": {
      "text/plain": [
       "31140    GkRF8rSvh9cOQuuPeDh9bg\n",
       "24650    kiweDovyXezj-ZMpB1tlXg\n",
       "31141    Bm8nRUsZ-dK6g2eJLxMTOw\n",
       "38170    wAQr_GVUNFSvqFfr3cC9kA\n",
       "42780    KQoeETpQ1nBEQ6fVOtFgWQ\n",
       "Name: similar, dtype: object"
      ]
     },
     "execution_count": 26,
     "metadata": {},
     "output_type": "execute_result"
    }
   ],
   "source": [
    "# make recommendation for a single user\n",
    "# select favored restuarants\n",
    "df_favored = df_stars[df_stars.stars > 4]\n",
    "user_favored = df_favored[df_favored.user_id == df_favored.user_id.iloc[0]]\n",
    "# select similar items for user favored restaurants, and sort them to get the top 5\n",
    "df_similar_items[df_similar_items['business_id'].isin(user_favored.business_id)].sort_values('score',ascending=False).similar[:5]"
   ]
  },
  {
   "cell_type": "markdown",
   "metadata": {},
   "source": [
    "#### Popularity-based recommender "
   ]
  },
  {
   "cell_type": "code",
   "execution_count": 28,
   "metadata": {},
   "outputs": [
    {
     "data": {
      "text/html": [
       "<pre>Recsys training: model = popularity</pre>"
      ],
      "text/plain": [
       "Recsys training: model = popularity"
      ]
     },
     "metadata": {},
     "output_type": "display_data"
    },
    {
     "data": {
      "text/html": [
       "<pre>Preparing data set.</pre>"
      ],
      "text/plain": [
       "Preparing data set."
      ]
     },
     "metadata": {},
     "output_type": "display_data"
    },
    {
     "data": {
      "text/html": [
       "<pre>    Data has 515752 observations with 227241 users and 4832 items.</pre>"
      ],
      "text/plain": [
       "    Data has 515752 observations with 227241 users and 4832 items."
      ]
     },
     "metadata": {},
     "output_type": "display_data"
    },
    {
     "data": {
      "text/html": [
       "<pre>    Data prepared in: 1.04979s</pre>"
      ],
      "text/plain": [
       "    Data prepared in: 1.04979s"
      ]
     },
     "metadata": {},
     "output_type": "display_data"
    },
    {
     "data": {
      "text/html": [
       "<pre>515752 observations to process; with 4832 unique items.</pre>"
      ],
      "text/plain": [
       "515752 observations to process; with 4832 unique items."
      ]
     },
     "metadata": {},
     "output_type": "display_data"
    }
   ],
   "source": [
    "# using the SFrame created in Item-item similarity recommender sf_stars\n",
    "# build recommendation system\n",
    "pop_rec = graphlab.popularity_recommender.create(sf_stars,\n",
    "                                                user_id = 'user_id',\n",
    "                                                item_id = 'business_id',\n",
    "                                                target = 'stars')"
   ]
  },
  {
   "cell_type": "code",
   "execution_count": 30,
   "metadata": {},
   "outputs": [
    {
     "data": {
      "text/html": [
       "<pre>recommendations finished on 1000/227241 queries. users per second: 31145.9</pre>"
      ],
      "text/plain": [
       "recommendations finished on 1000/227241 queries. users per second: 31145.9"
      ]
     },
     "metadata": {},
     "output_type": "display_data"
    },
    {
     "data": {
      "text/html": [
       "<pre>recommendations finished on 2000/227241 queries. users per second: 35034.2</pre>"
      ],
      "text/plain": [
       "recommendations finished on 2000/227241 queries. users per second: 35034.2"
      ]
     },
     "metadata": {},
     "output_type": "display_data"
    },
    {
     "data": {
      "text/html": [
       "<pre>recommendations finished on 3000/227241 queries. users per second: 34569.4</pre>"
      ],
      "text/plain": [
       "recommendations finished on 3000/227241 queries. users per second: 34569.4"
      ]
     },
     "metadata": {},
     "output_type": "display_data"
    },
    {
     "data": {
      "text/html": [
       "<pre>recommendations finished on 4000/227241 queries. users per second: 33335.6</pre>"
      ],
      "text/plain": [
       "recommendations finished on 4000/227241 queries. users per second: 33335.6"
      ]
     },
     "metadata": {},
     "output_type": "display_data"
    },
    {
     "data": {
      "text/html": [
       "<pre>recommendations finished on 5000/227241 queries. users per second: 34427.2</pre>"
      ],
      "text/plain": [
       "recommendations finished on 5000/227241 queries. users per second: 34427.2"
      ]
     },
     "metadata": {},
     "output_type": "display_data"
    },
    {
     "data": {
      "text/html": [
       "<pre>recommendations finished on 6000/227241 queries. users per second: 34913.6</pre>"
      ],
      "text/plain": [
       "recommendations finished on 6000/227241 queries. users per second: 34913.6"
      ]
     },
     "metadata": {},
     "output_type": "display_data"
    },
    {
     "data": {
      "text/html": [
       "<pre>recommendations finished on 7000/227241 queries. users per second: 35433</pre>"
      ],
      "text/plain": [
       "recommendations finished on 7000/227241 queries. users per second: 35433"
      ]
     },
     "metadata": {},
     "output_type": "display_data"
    },
    {
     "data": {
      "text/html": [
       "<pre>recommendations finished on 8000/227241 queries. users per second: 35955.2</pre>"
      ],
      "text/plain": [
       "recommendations finished on 8000/227241 queries. users per second: 35955.2"
      ]
     },
     "metadata": {},
     "output_type": "display_data"
    },
    {
     "data": {
      "text/html": [
       "<pre>recommendations finished on 9000/227241 queries. users per second: 35691.6</pre>"
      ],
      "text/plain": [
       "recommendations finished on 9000/227241 queries. users per second: 35691.6"
      ]
     },
     "metadata": {},
     "output_type": "display_data"
    },
    {
     "data": {
      "text/html": [
       "<pre>recommendations finished on 10000/227241 queries. users per second: 35725.4</pre>"
      ],
      "text/plain": [
       "recommendations finished on 10000/227241 queries. users per second: 35725.4"
      ]
     },
     "metadata": {},
     "output_type": "display_data"
    },
    {
     "data": {
      "text/html": [
       "<pre>recommendations finished on 11000/227241 queries. users per second: 35256.4</pre>"
      ],
      "text/plain": [
       "recommendations finished on 11000/227241 queries. users per second: 35256.4"
      ]
     },
     "metadata": {},
     "output_type": "display_data"
    },
    {
     "data": {
      "text/html": [
       "<pre>recommendations finished on 12000/227241 queries. users per second: 35402.9</pre>"
      ],
      "text/plain": [
       "recommendations finished on 12000/227241 queries. users per second: 35402.9"
      ]
     },
     "metadata": {},
     "output_type": "display_data"
    },
    {
     "data": {
      "text/html": [
       "<pre>recommendations finished on 13000/227241 queries. users per second: 35350</pre>"
      ],
      "text/plain": [
       "recommendations finished on 13000/227241 queries. users per second: 35350"
      ]
     },
     "metadata": {},
     "output_type": "display_data"
    },
    {
     "data": {
      "text/html": [
       "<pre>recommendations finished on 14000/227241 queries. users per second: 35436.8</pre>"
      ],
      "text/plain": [
       "recommendations finished on 14000/227241 queries. users per second: 35436.8"
      ]
     },
     "metadata": {},
     "output_type": "display_data"
    },
    {
     "data": {
      "text/html": [
       "<pre>recommendations finished on 15000/227241 queries. users per second: 35108.2</pre>"
      ],
      "text/plain": [
       "recommendations finished on 15000/227241 queries. users per second: 35108.2"
      ]
     },
     "metadata": {},
     "output_type": "display_data"
    },
    {
     "data": {
      "text/html": [
       "<pre>recommendations finished on 16000/227241 queries. users per second: 35432.8</pre>"
      ],
      "text/plain": [
       "recommendations finished on 16000/227241 queries. users per second: 35432.8"
      ]
     },
     "metadata": {},
     "output_type": "display_data"
    },
    {
     "data": {
      "text/html": [
       "<pre>recommendations finished on 17000/227241 queries. users per second: 35180.5</pre>"
      ],
      "text/plain": [
       "recommendations finished on 17000/227241 queries. users per second: 35180.5"
      ]
     },
     "metadata": {},
     "output_type": "display_data"
    },
    {
     "data": {
      "text/html": [
       "<pre>recommendations finished on 18000/227241 queries. users per second: 35478.3</pre>"
      ],
      "text/plain": [
       "recommendations finished on 18000/227241 queries. users per second: 35478.3"
      ]
     },
     "metadata": {},
     "output_type": "display_data"
    },
    {
     "data": {
      "text/html": [
       "<pre>recommendations finished on 19000/227241 queries. users per second: 35382.1</pre>"
      ],
      "text/plain": [
       "recommendations finished on 19000/227241 queries. users per second: 35382.1"
      ]
     },
     "metadata": {},
     "output_type": "display_data"
    },
    {
     "data": {
      "text/html": [
       "<pre>recommendations finished on 20000/227241 queries. users per second: 35577.5</pre>"
      ],
      "text/plain": [
       "recommendations finished on 20000/227241 queries. users per second: 35577.5"
      ]
     },
     "metadata": {},
     "output_type": "display_data"
    },
    {
     "data": {
      "text/html": [
       "<pre>recommendations finished on 21000/227241 queries. users per second: 35099.4</pre>"
      ],
      "text/plain": [
       "recommendations finished on 21000/227241 queries. users per second: 35099.4"
      ]
     },
     "metadata": {},
     "output_type": "display_data"
    },
    {
     "data": {
      "text/html": [
       "<pre>recommendations finished on 22000/227241 queries. users per second: 34908.8</pre>"
      ],
      "text/plain": [
       "recommendations finished on 22000/227241 queries. users per second: 34908.8"
      ]
     },
     "metadata": {},
     "output_type": "display_data"
    },
    {
     "data": {
      "text/html": [
       "<pre>recommendations finished on 23000/227241 queries. users per second: 34314.5</pre>"
      ],
      "text/plain": [
       "recommendations finished on 23000/227241 queries. users per second: 34314.5"
      ]
     },
     "metadata": {},
     "output_type": "display_data"
    },
    {
     "data": {
      "text/html": [
       "<pre>recommendations finished on 24000/227241 queries. users per second: 34131.5</pre>"
      ],
      "text/plain": [
       "recommendations finished on 24000/227241 queries. users per second: 34131.5"
      ]
     },
     "metadata": {},
     "output_type": "display_data"
    },
    {
     "data": {
      "text/html": [
       "<pre>recommendations finished on 25000/227241 queries. users per second: 34062.5</pre>"
      ],
      "text/plain": [
       "recommendations finished on 25000/227241 queries. users per second: 34062.5"
      ]
     },
     "metadata": {},
     "output_type": "display_data"
    },
    {
     "data": {
      "text/html": [
       "<pre>recommendations finished on 26000/227241 queries. users per second: 34002.1</pre>"
      ],
      "text/plain": [
       "recommendations finished on 26000/227241 queries. users per second: 34002.1"
      ]
     },
     "metadata": {},
     "output_type": "display_data"
    },
    {
     "data": {
      "text/html": [
       "<pre>recommendations finished on 27000/227241 queries. users per second: 33956.4</pre>"
      ],
      "text/plain": [
       "recommendations finished on 27000/227241 queries. users per second: 33956.4"
      ]
     },
     "metadata": {},
     "output_type": "display_data"
    },
    {
     "data": {
      "text/html": [
       "<pre>recommendations finished on 28000/227241 queries. users per second: 33850.5</pre>"
      ],
      "text/plain": [
       "recommendations finished on 28000/227241 queries. users per second: 33850.5"
      ]
     },
     "metadata": {},
     "output_type": "display_data"
    },
    {
     "data": {
      "text/html": [
       "<pre>recommendations finished on 29000/227241 queries. users per second: 34022.7</pre>"
      ],
      "text/plain": [
       "recommendations finished on 29000/227241 queries. users per second: 34022.7"
      ]
     },
     "metadata": {},
     "output_type": "display_data"
    },
    {
     "data": {
      "text/html": [
       "<pre>recommendations finished on 30000/227241 queries. users per second: 33861.2</pre>"
      ],
      "text/plain": [
       "recommendations finished on 30000/227241 queries. users per second: 33861.2"
      ]
     },
     "metadata": {},
     "output_type": "display_data"
    },
    {
     "data": {
      "text/html": [
       "<pre>recommendations finished on 31000/227241 queries. users per second: 33808.5</pre>"
      ],
      "text/plain": [
       "recommendations finished on 31000/227241 queries. users per second: 33808.5"
      ]
     },
     "metadata": {},
     "output_type": "display_data"
    },
    {
     "data": {
      "text/html": [
       "<pre>recommendations finished on 32000/227241 queries. users per second: 33718.3</pre>"
      ],
      "text/plain": [
       "recommendations finished on 32000/227241 queries. users per second: 33718.3"
      ]
     },
     "metadata": {},
     "output_type": "display_data"
    },
    {
     "data": {
      "text/html": [
       "<pre>recommendations finished on 33000/227241 queries. users per second: 33703.1</pre>"
      ],
      "text/plain": [
       "recommendations finished on 33000/227241 queries. users per second: 33703.1"
      ]
     },
     "metadata": {},
     "output_type": "display_data"
    },
    {
     "data": {
      "text/html": [
       "<pre>recommendations finished on 34000/227241 queries. users per second: 33857.7</pre>"
      ],
      "text/plain": [
       "recommendations finished on 34000/227241 queries. users per second: 33857.7"
      ]
     },
     "metadata": {},
     "output_type": "display_data"
    },
    {
     "data": {
      "text/html": [
       "<pre>recommendations finished on 35000/227241 queries. users per second: 33900.4</pre>"
      ],
      "text/plain": [
       "recommendations finished on 35000/227241 queries. users per second: 33900.4"
      ]
     },
     "metadata": {},
     "output_type": "display_data"
    },
    {
     "data": {
      "text/html": [
       "<pre>recommendations finished on 36000/227241 queries. users per second: 33920.6</pre>"
      ],
      "text/plain": [
       "recommendations finished on 36000/227241 queries. users per second: 33920.6"
      ]
     },
     "metadata": {},
     "output_type": "display_data"
    },
    {
     "data": {
      "text/html": [
       "<pre>recommendations finished on 37000/227241 queries. users per second: 33906.5</pre>"
      ],
      "text/plain": [
       "recommendations finished on 37000/227241 queries. users per second: 33906.5"
      ]
     },
     "metadata": {},
     "output_type": "display_data"
    },
    {
     "data": {
      "text/html": [
       "<pre>recommendations finished on 38000/227241 queries. users per second: 33877.3</pre>"
      ],
      "text/plain": [
       "recommendations finished on 38000/227241 queries. users per second: 33877.3"
      ]
     },
     "metadata": {},
     "output_type": "display_data"
    },
    {
     "data": {
      "text/html": [
       "<pre>recommendations finished on 39000/227241 queries. users per second: 33881.9</pre>"
      ],
      "text/plain": [
       "recommendations finished on 39000/227241 queries. users per second: 33881.9"
      ]
     },
     "metadata": {},
     "output_type": "display_data"
    },
    {
     "data": {
      "text/html": [
       "<pre>recommendations finished on 40000/227241 queries. users per second: 33771.2</pre>"
      ],
      "text/plain": [
       "recommendations finished on 40000/227241 queries. users per second: 33771.2"
      ]
     },
     "metadata": {},
     "output_type": "display_data"
    },
    {
     "data": {
      "text/html": [
       "<pre>recommendations finished on 41000/227241 queries. users per second: 33786.3</pre>"
      ],
      "text/plain": [
       "recommendations finished on 41000/227241 queries. users per second: 33786.3"
      ]
     },
     "metadata": {},
     "output_type": "display_data"
    },
    {
     "data": {
      "text/html": [
       "<pre>recommendations finished on 42000/227241 queries. users per second: 33774.5</pre>"
      ],
      "text/plain": [
       "recommendations finished on 42000/227241 queries. users per second: 33774.5"
      ]
     },
     "metadata": {},
     "output_type": "display_data"
    },
    {
     "data": {
      "text/html": [
       "<pre>recommendations finished on 43000/227241 queries. users per second: 33860.7</pre>"
      ],
      "text/plain": [
       "recommendations finished on 43000/227241 queries. users per second: 33860.7"
      ]
     },
     "metadata": {},
     "output_type": "display_data"
    },
    {
     "data": {
      "text/html": [
       "<pre>recommendations finished on 44000/227241 queries. users per second: 33915.6</pre>"
      ],
      "text/plain": [
       "recommendations finished on 44000/227241 queries. users per second: 33915.6"
      ]
     },
     "metadata": {},
     "output_type": "display_data"
    },
    {
     "data": {
      "text/html": [
       "<pre>recommendations finished on 45000/227241 queries. users per second: 33985</pre>"
      ],
      "text/plain": [
       "recommendations finished on 45000/227241 queries. users per second: 33985"
      ]
     },
     "metadata": {},
     "output_type": "display_data"
    },
    {
     "data": {
      "text/html": [
       "<pre>recommendations finished on 46000/227241 queries. users per second: 33971.1</pre>"
      ],
      "text/plain": [
       "recommendations finished on 46000/227241 queries. users per second: 33971.1"
      ]
     },
     "metadata": {},
     "output_type": "display_data"
    },
    {
     "data": {
      "text/html": [
       "<pre>recommendations finished on 47000/227241 queries. users per second: 33770.4</pre>"
      ],
      "text/plain": [
       "recommendations finished on 47000/227241 queries. users per second: 33770.4"
      ]
     },
     "metadata": {},
     "output_type": "display_data"
    },
    {
     "data": {
      "text/html": [
       "<pre>recommendations finished on 48000/227241 queries. users per second: 33912.5</pre>"
      ],
      "text/plain": [
       "recommendations finished on 48000/227241 queries. users per second: 33912.5"
      ]
     },
     "metadata": {},
     "output_type": "display_data"
    },
    {
     "data": {
      "text/html": [
       "<pre>recommendations finished on 49000/227241 queries. users per second: 33775.4</pre>"
      ],
      "text/plain": [
       "recommendations finished on 49000/227241 queries. users per second: 33775.4"
      ]
     },
     "metadata": {},
     "output_type": "display_data"
    },
    {
     "data": {
      "text/html": [
       "<pre>recommendations finished on 50000/227241 queries. users per second: 33716.2</pre>"
      ],
      "text/plain": [
       "recommendations finished on 50000/227241 queries. users per second: 33716.2"
      ]
     },
     "metadata": {},
     "output_type": "display_data"
    },
    {
     "data": {
      "text/html": [
       "<pre>recommendations finished on 51000/227241 queries. users per second: 33650.5</pre>"
      ],
      "text/plain": [
       "recommendations finished on 51000/227241 queries. users per second: 33650.5"
      ]
     },
     "metadata": {},
     "output_type": "display_data"
    },
    {
     "data": {
      "text/html": [
       "<pre>recommendations finished on 52000/227241 queries. users per second: 33530.5</pre>"
      ],
      "text/plain": [
       "recommendations finished on 52000/227241 queries. users per second: 33530.5"
      ]
     },
     "metadata": {},
     "output_type": "display_data"
    },
    {
     "data": {
      "text/html": [
       "<pre>recommendations finished on 53000/227241 queries. users per second: 33411.9</pre>"
      ],
      "text/plain": [
       "recommendations finished on 53000/227241 queries. users per second: 33411.9"
      ]
     },
     "metadata": {},
     "output_type": "display_data"
    },
    {
     "data": {
      "text/html": [
       "<pre>recommendations finished on 54000/227241 queries. users per second: 33311.6</pre>"
      ],
      "text/plain": [
       "recommendations finished on 54000/227241 queries. users per second: 33311.6"
      ]
     },
     "metadata": {},
     "output_type": "display_data"
    },
    {
     "data": {
      "text/html": [
       "<pre>recommendations finished on 55000/227241 queries. users per second: 33248.2</pre>"
      ],
      "text/plain": [
       "recommendations finished on 55000/227241 queries. users per second: 33248.2"
      ]
     },
     "metadata": {},
     "output_type": "display_data"
    },
    {
     "data": {
      "text/html": [
       "<pre>recommendations finished on 56000/227241 queries. users per second: 33230.7</pre>"
      ],
      "text/plain": [
       "recommendations finished on 56000/227241 queries. users per second: 33230.7"
      ]
     },
     "metadata": {},
     "output_type": "display_data"
    },
    {
     "data": {
      "text/html": [
       "<pre>recommendations finished on 57000/227241 queries. users per second: 33236.2</pre>"
      ],
      "text/plain": [
       "recommendations finished on 57000/227241 queries. users per second: 33236.2"
      ]
     },
     "metadata": {},
     "output_type": "display_data"
    },
    {
     "data": {
      "text/html": [
       "<pre>recommendations finished on 58000/227241 queries. users per second: 33310.3</pre>"
      ],
      "text/plain": [
       "recommendations finished on 58000/227241 queries. users per second: 33310.3"
      ]
     },
     "metadata": {},
     "output_type": "display_data"
    },
    {
     "data": {
      "text/html": [
       "<pre>recommendations finished on 59000/227241 queries. users per second: 33350</pre>"
      ],
      "text/plain": [
       "recommendations finished on 59000/227241 queries. users per second: 33350"
      ]
     },
     "metadata": {},
     "output_type": "display_data"
    },
    {
     "data": {
      "text/html": [
       "<pre>recommendations finished on 60000/227241 queries. users per second: 33253.1</pre>"
      ],
      "text/plain": [
       "recommendations finished on 60000/227241 queries. users per second: 33253.1"
      ]
     },
     "metadata": {},
     "output_type": "display_data"
    },
    {
     "data": {
      "text/html": [
       "<pre>recommendations finished on 61000/227241 queries. users per second: 33275.3</pre>"
      ],
      "text/plain": [
       "recommendations finished on 61000/227241 queries. users per second: 33275.3"
      ]
     },
     "metadata": {},
     "output_type": "display_data"
    },
    {
     "data": {
      "text/html": [
       "<pre>recommendations finished on 62000/227241 queries. users per second: 33360.5</pre>"
      ],
      "text/plain": [
       "recommendations finished on 62000/227241 queries. users per second: 33360.5"
      ]
     },
     "metadata": {},
     "output_type": "display_data"
    },
    {
     "data": {
      "text/html": [
       "<pre>recommendations finished on 63000/227241 queries. users per second: 33249.6</pre>"
      ],
      "text/plain": [
       "recommendations finished on 63000/227241 queries. users per second: 33249.6"
      ]
     },
     "metadata": {},
     "output_type": "display_data"
    },
    {
     "data": {
      "text/html": [
       "<pre>recommendations finished on 64000/227241 queries. users per second: 33358.6</pre>"
      ],
      "text/plain": [
       "recommendations finished on 64000/227241 queries. users per second: 33358.6"
      ]
     },
     "metadata": {},
     "output_type": "display_data"
    },
    {
     "data": {
      "text/html": [
       "<pre>recommendations finished on 65000/227241 queries. users per second: 33339.5</pre>"
      ],
      "text/plain": [
       "recommendations finished on 65000/227241 queries. users per second: 33339.5"
      ]
     },
     "metadata": {},
     "output_type": "display_data"
    },
    {
     "data": {
      "text/html": [
       "<pre>recommendations finished on 66000/227241 queries. users per second: 33387.8</pre>"
      ],
      "text/plain": [
       "recommendations finished on 66000/227241 queries. users per second: 33387.8"
      ]
     },
     "metadata": {},
     "output_type": "display_data"
    },
    {
     "data": {
      "text/html": [
       "<pre>recommendations finished on 67000/227241 queries. users per second: 33389.5</pre>"
      ],
      "text/plain": [
       "recommendations finished on 67000/227241 queries. users per second: 33389.5"
      ]
     },
     "metadata": {},
     "output_type": "display_data"
    },
    {
     "data": {
      "text/html": [
       "<pre>recommendations finished on 68000/227241 queries. users per second: 33460.7</pre>"
      ],
      "text/plain": [
       "recommendations finished on 68000/227241 queries. users per second: 33460.7"
      ]
     },
     "metadata": {},
     "output_type": "display_data"
    },
    {
     "data": {
      "text/html": [
       "<pre>recommendations finished on 69000/227241 queries. users per second: 33537</pre>"
      ],
      "text/plain": [
       "recommendations finished on 69000/227241 queries. users per second: 33537"
      ]
     },
     "metadata": {},
     "output_type": "display_data"
    },
    {
     "data": {
      "text/html": [
       "<pre>recommendations finished on 70000/227241 queries. users per second: 33270.2</pre>"
      ],
      "text/plain": [
       "recommendations finished on 70000/227241 queries. users per second: 33270.2"
      ]
     },
     "metadata": {},
     "output_type": "display_data"
    },
    {
     "data": {
      "text/html": [
       "<pre>recommendations finished on 71000/227241 queries. users per second: 33029</pre>"
      ],
      "text/plain": [
       "recommendations finished on 71000/227241 queries. users per second: 33029"
      ]
     },
     "metadata": {},
     "output_type": "display_data"
    },
    {
     "data": {
      "text/html": [
       "<pre>recommendations finished on 72000/227241 queries. users per second: 32803.6</pre>"
      ],
      "text/plain": [
       "recommendations finished on 72000/227241 queries. users per second: 32803.6"
      ]
     },
     "metadata": {},
     "output_type": "display_data"
    },
    {
     "data": {
      "text/html": [
       "<pre>recommendations finished on 73000/227241 queries. users per second: 32865.5</pre>"
      ],
      "text/plain": [
       "recommendations finished on 73000/227241 queries. users per second: 32865.5"
      ]
     },
     "metadata": {},
     "output_type": "display_data"
    },
    {
     "data": {
      "text/html": [
       "<pre>recommendations finished on 74000/227241 queries. users per second: 32833.8</pre>"
      ],
      "text/plain": [
       "recommendations finished on 74000/227241 queries. users per second: 32833.8"
      ]
     },
     "metadata": {},
     "output_type": "display_data"
    },
    {
     "data": {
      "text/html": [
       "<pre>recommendations finished on 75000/227241 queries. users per second: 32839.2</pre>"
      ],
      "text/plain": [
       "recommendations finished on 75000/227241 queries. users per second: 32839.2"
      ]
     },
     "metadata": {},
     "output_type": "display_data"
    },
    {
     "data": {
      "text/html": [
       "<pre>recommendations finished on 76000/227241 queries. users per second: 32833.7</pre>"
      ],
      "text/plain": [
       "recommendations finished on 76000/227241 queries. users per second: 32833.7"
      ]
     },
     "metadata": {},
     "output_type": "display_data"
    },
    {
     "data": {
      "text/html": [
       "<pre>recommendations finished on 77000/227241 queries. users per second: 32735.2</pre>"
      ],
      "text/plain": [
       "recommendations finished on 77000/227241 queries. users per second: 32735.2"
      ]
     },
     "metadata": {},
     "output_type": "display_data"
    },
    {
     "data": {
      "text/html": [
       "<pre>recommendations finished on 78000/227241 queries. users per second: 32695.2</pre>"
      ],
      "text/plain": [
       "recommendations finished on 78000/227241 queries. users per second: 32695.2"
      ]
     },
     "metadata": {},
     "output_type": "display_data"
    },
    {
     "data": {
      "text/html": [
       "<pre>recommendations finished on 79000/227241 queries. users per second: 32703.9</pre>"
      ],
      "text/plain": [
       "recommendations finished on 79000/227241 queries. users per second: 32703.9"
      ]
     },
     "metadata": {},
     "output_type": "display_data"
    },
    {
     "data": {
      "text/html": [
       "<pre>recommendations finished on 80000/227241 queries. users per second: 32681.6</pre>"
      ],
      "text/plain": [
       "recommendations finished on 80000/227241 queries. users per second: 32681.6"
      ]
     },
     "metadata": {},
     "output_type": "display_data"
    },
    {
     "data": {
      "text/html": [
       "<pre>recommendations finished on 81000/227241 queries. users per second: 32609.8</pre>"
      ],
      "text/plain": [
       "recommendations finished on 81000/227241 queries. users per second: 32609.8"
      ]
     },
     "metadata": {},
     "output_type": "display_data"
    },
    {
     "data": {
      "text/html": [
       "<pre>recommendations finished on 82000/227241 queries. users per second: 32592.6</pre>"
      ],
      "text/plain": [
       "recommendations finished on 82000/227241 queries. users per second: 32592.6"
      ]
     },
     "metadata": {},
     "output_type": "display_data"
    },
    {
     "data": {
      "text/html": [
       "<pre>recommendations finished on 83000/227241 queries. users per second: 32599</pre>"
      ],
      "text/plain": [
       "recommendations finished on 83000/227241 queries. users per second: 32599"
      ]
     },
     "metadata": {},
     "output_type": "display_data"
    },
    {
     "data": {
      "text/html": [
       "<pre>recommendations finished on 84000/227241 queries. users per second: 32592.3</pre>"
      ],
      "text/plain": [
       "recommendations finished on 84000/227241 queries. users per second: 32592.3"
      ]
     },
     "metadata": {},
     "output_type": "display_data"
    },
    {
     "data": {
      "text/html": [
       "<pre>recommendations finished on 85000/227241 queries. users per second: 32638.8</pre>"
      ],
      "text/plain": [
       "recommendations finished on 85000/227241 queries. users per second: 32638.8"
      ]
     },
     "metadata": {},
     "output_type": "display_data"
    },
    {
     "data": {
      "text/html": [
       "<pre>recommendations finished on 86000/227241 queries. users per second: 32620.4</pre>"
      ],
      "text/plain": [
       "recommendations finished on 86000/227241 queries. users per second: 32620.4"
      ]
     },
     "metadata": {},
     "output_type": "display_data"
    },
    {
     "data": {
      "text/html": [
       "<pre>recommendations finished on 87000/227241 queries. users per second: 32635</pre>"
      ],
      "text/plain": [
       "recommendations finished on 87000/227241 queries. users per second: 32635"
      ]
     },
     "metadata": {},
     "output_type": "display_data"
    },
    {
     "data": {
      "text/html": [
       "<pre>recommendations finished on 88000/227241 queries. users per second: 32592</pre>"
      ],
      "text/plain": [
       "recommendations finished on 88000/227241 queries. users per second: 32592"
      ]
     },
     "metadata": {},
     "output_type": "display_data"
    },
    {
     "data": {
      "text/html": [
       "<pre>recommendations finished on 89000/227241 queries. users per second: 32562</pre>"
      ],
      "text/plain": [
       "recommendations finished on 89000/227241 queries. users per second: 32562"
      ]
     },
     "metadata": {},
     "output_type": "display_data"
    },
    {
     "data": {
      "text/html": [
       "<pre>recommendations finished on 90000/227241 queries. users per second: 32549.8</pre>"
      ],
      "text/plain": [
       "recommendations finished on 90000/227241 queries. users per second: 32549.8"
      ]
     },
     "metadata": {},
     "output_type": "display_data"
    },
    {
     "data": {
      "text/html": [
       "<pre>recommendations finished on 91000/227241 queries. users per second: 32539.4</pre>"
      ],
      "text/plain": [
       "recommendations finished on 91000/227241 queries. users per second: 32539.4"
      ]
     },
     "metadata": {},
     "output_type": "display_data"
    },
    {
     "data": {
      "text/html": [
       "<pre>recommendations finished on 92000/227241 queries. users per second: 32510.6</pre>"
      ],
      "text/plain": [
       "recommendations finished on 92000/227241 queries. users per second: 32510.6"
      ]
     },
     "metadata": {},
     "output_type": "display_data"
    },
    {
     "data": {
      "text/html": [
       "<pre>recommendations finished on 93000/227241 queries. users per second: 32455.4</pre>"
      ],
      "text/plain": [
       "recommendations finished on 93000/227241 queries. users per second: 32455.4"
      ]
     },
     "metadata": {},
     "output_type": "display_data"
    },
    {
     "data": {
      "text/html": [
       "<pre>recommendations finished on 94000/227241 queries. users per second: 32421.1</pre>"
      ],
      "text/plain": [
       "recommendations finished on 94000/227241 queries. users per second: 32421.1"
      ]
     },
     "metadata": {},
     "output_type": "display_data"
    },
    {
     "data": {
      "text/html": [
       "<pre>recommendations finished on 95000/227241 queries. users per second: 32486.4</pre>"
      ],
      "text/plain": [
       "recommendations finished on 95000/227241 queries. users per second: 32486.4"
      ]
     },
     "metadata": {},
     "output_type": "display_data"
    },
    {
     "data": {
      "text/html": [
       "<pre>recommendations finished on 96000/227241 queries. users per second: 32474.8</pre>"
      ],
      "text/plain": [
       "recommendations finished on 96000/227241 queries. users per second: 32474.8"
      ]
     },
     "metadata": {},
     "output_type": "display_data"
    },
    {
     "data": {
      "text/html": [
       "<pre>recommendations finished on 97000/227241 queries. users per second: 32481.4</pre>"
      ],
      "text/plain": [
       "recommendations finished on 97000/227241 queries. users per second: 32481.4"
      ]
     },
     "metadata": {},
     "output_type": "display_data"
    },
    {
     "data": {
      "text/html": [
       "<pre>recommendations finished on 98000/227241 queries. users per second: 32472</pre>"
      ],
      "text/plain": [
       "recommendations finished on 98000/227241 queries. users per second: 32472"
      ]
     },
     "metadata": {},
     "output_type": "display_data"
    },
    {
     "data": {
      "text/html": [
       "<pre>recommendations finished on 99000/227241 queries. users per second: 32383.8</pre>"
      ],
      "text/plain": [
       "recommendations finished on 99000/227241 queries. users per second: 32383.8"
      ]
     },
     "metadata": {},
     "output_type": "display_data"
    },
    {
     "data": {
      "text/html": [
       "<pre>recommendations finished on 100000/227241 queries. users per second: 32284.9</pre>"
      ],
      "text/plain": [
       "recommendations finished on 100000/227241 queries. users per second: 32284.9"
      ]
     },
     "metadata": {},
     "output_type": "display_data"
    },
    {
     "data": {
      "text/html": [
       "<pre>recommendations finished on 101000/227241 queries. users per second: 32293</pre>"
      ],
      "text/plain": [
       "recommendations finished on 101000/227241 queries. users per second: 32293"
      ]
     },
     "metadata": {},
     "output_type": "display_data"
    },
    {
     "data": {
      "text/html": [
       "<pre>recommendations finished on 102000/227241 queries. users per second: 32230.7</pre>"
      ],
      "text/plain": [
       "recommendations finished on 102000/227241 queries. users per second: 32230.7"
      ]
     },
     "metadata": {},
     "output_type": "display_data"
    },
    {
     "data": {
      "text/html": [
       "<pre>recommendations finished on 103000/227241 queries. users per second: 32080.2</pre>"
      ],
      "text/plain": [
       "recommendations finished on 103000/227241 queries. users per second: 32080.2"
      ]
     },
     "metadata": {},
     "output_type": "display_data"
    },
    {
     "data": {
      "text/html": [
       "<pre>recommendations finished on 104000/227241 queries. users per second: 32077.8</pre>"
      ],
      "text/plain": [
       "recommendations finished on 104000/227241 queries. users per second: 32077.8"
      ]
     },
     "metadata": {},
     "output_type": "display_data"
    },
    {
     "data": {
      "text/html": [
       "<pre>recommendations finished on 105000/227241 queries. users per second: 31762.1</pre>"
      ],
      "text/plain": [
       "recommendations finished on 105000/227241 queries. users per second: 31762.1"
      ]
     },
     "metadata": {},
     "output_type": "display_data"
    },
    {
     "data": {
      "text/html": [
       "<pre>recommendations finished on 106000/227241 queries. users per second: 31546.1</pre>"
      ],
      "text/plain": [
       "recommendations finished on 106000/227241 queries. users per second: 31546.1"
      ]
     },
     "metadata": {},
     "output_type": "display_data"
    },
    {
     "data": {
      "text/html": [
       "<pre>recommendations finished on 107000/227241 queries. users per second: 31611.3</pre>"
      ],
      "text/plain": [
       "recommendations finished on 107000/227241 queries. users per second: 31611.3"
      ]
     },
     "metadata": {},
     "output_type": "display_data"
    },
    {
     "data": {
      "text/html": [
       "<pre>recommendations finished on 108000/227241 queries. users per second: 31609.3</pre>"
      ],
      "text/plain": [
       "recommendations finished on 108000/227241 queries. users per second: 31609.3"
      ]
     },
     "metadata": {},
     "output_type": "display_data"
    },
    {
     "data": {
      "text/html": [
       "<pre>recommendations finished on 109000/227241 queries. users per second: 31469.7</pre>"
      ],
      "text/plain": [
       "recommendations finished on 109000/227241 queries. users per second: 31469.7"
      ]
     },
     "metadata": {},
     "output_type": "display_data"
    },
    {
     "data": {
      "text/html": [
       "<pre>recommendations finished on 110000/227241 queries. users per second: 31316.2</pre>"
      ],
      "text/plain": [
       "recommendations finished on 110000/227241 queries. users per second: 31316.2"
      ]
     },
     "metadata": {},
     "output_type": "display_data"
    },
    {
     "data": {
      "text/html": [
       "<pre>recommendations finished on 111000/227241 queries. users per second: 31320.4</pre>"
      ],
      "text/plain": [
       "recommendations finished on 111000/227241 queries. users per second: 31320.4"
      ]
     },
     "metadata": {},
     "output_type": "display_data"
    },
    {
     "data": {
      "text/html": [
       "<pre>recommendations finished on 112000/227241 queries. users per second: 31351.4</pre>"
      ],
      "text/plain": [
       "recommendations finished on 112000/227241 queries. users per second: 31351.4"
      ]
     },
     "metadata": {},
     "output_type": "display_data"
    },
    {
     "data": {
      "text/html": [
       "<pre>recommendations finished on 113000/227241 queries. users per second: 31355.8</pre>"
      ],
      "text/plain": [
       "recommendations finished on 113000/227241 queries. users per second: 31355.8"
      ]
     },
     "metadata": {},
     "output_type": "display_data"
    },
    {
     "data": {
      "text/html": [
       "<pre>recommendations finished on 114000/227241 queries. users per second: 31317</pre>"
      ],
      "text/plain": [
       "recommendations finished on 114000/227241 queries. users per second: 31317"
      ]
     },
     "metadata": {},
     "output_type": "display_data"
    },
    {
     "data": {
      "text/html": [
       "<pre>recommendations finished on 115000/227241 queries. users per second: 31309</pre>"
      ],
      "text/plain": [
       "recommendations finished on 115000/227241 queries. users per second: 31309"
      ]
     },
     "metadata": {},
     "output_type": "display_data"
    },
    {
     "data": {
      "text/html": [
       "<pre>recommendations finished on 116000/227241 queries. users per second: 31302.8</pre>"
      ],
      "text/plain": [
       "recommendations finished on 116000/227241 queries. users per second: 31302.8"
      ]
     },
     "metadata": {},
     "output_type": "display_data"
    },
    {
     "data": {
      "text/html": [
       "<pre>recommendations finished on 117000/227241 queries. users per second: 31295</pre>"
      ],
      "text/plain": [
       "recommendations finished on 117000/227241 queries. users per second: 31295"
      ]
     },
     "metadata": {},
     "output_type": "display_data"
    },
    {
     "data": {
      "text/html": [
       "<pre>recommendations finished on 118000/227241 queries. users per second: 31283.8</pre>"
      ],
      "text/plain": [
       "recommendations finished on 118000/227241 queries. users per second: 31283.8"
      ]
     },
     "metadata": {},
     "output_type": "display_data"
    },
    {
     "data": {
      "text/html": [
       "<pre>recommendations finished on 119000/227241 queries. users per second: 31285.5</pre>"
      ],
      "text/plain": [
       "recommendations finished on 119000/227241 queries. users per second: 31285.5"
      ]
     },
     "metadata": {},
     "output_type": "display_data"
    },
    {
     "data": {
      "text/html": [
       "<pre>recommendations finished on 120000/227241 queries. users per second: 31317</pre>"
      ],
      "text/plain": [
       "recommendations finished on 120000/227241 queries. users per second: 31317"
      ]
     },
     "metadata": {},
     "output_type": "display_data"
    },
    {
     "data": {
      "text/html": [
       "<pre>recommendations finished on 121000/227241 queries. users per second: 31315.2</pre>"
      ],
      "text/plain": [
       "recommendations finished on 121000/227241 queries. users per second: 31315.2"
      ]
     },
     "metadata": {},
     "output_type": "display_data"
    },
    {
     "data": {
      "text/html": [
       "<pre>recommendations finished on 122000/227241 queries. users per second: 31313.4</pre>"
      ],
      "text/plain": [
       "recommendations finished on 122000/227241 queries. users per second: 31313.4"
      ]
     },
     "metadata": {},
     "output_type": "display_data"
    },
    {
     "data": {
      "text/html": [
       "<pre>recommendations finished on 123000/227241 queries. users per second: 31333.6</pre>"
      ],
      "text/plain": [
       "recommendations finished on 123000/227241 queries. users per second: 31333.6"
      ]
     },
     "metadata": {},
     "output_type": "display_data"
    },
    {
     "data": {
      "text/html": [
       "<pre>recommendations finished on 124000/227241 queries. users per second: 31297.5</pre>"
      ],
      "text/plain": [
       "recommendations finished on 124000/227241 queries. users per second: 31297.5"
      ]
     },
     "metadata": {},
     "output_type": "display_data"
    },
    {
     "data": {
      "text/html": [
       "<pre>recommendations finished on 125000/227241 queries. users per second: 31357.7</pre>"
      ],
      "text/plain": [
       "recommendations finished on 125000/227241 queries. users per second: 31357.7"
      ]
     },
     "metadata": {},
     "output_type": "display_data"
    },
    {
     "data": {
      "text/html": [
       "<pre>recommendations finished on 126000/227241 queries. users per second: 31391.1</pre>"
      ],
      "text/plain": [
       "recommendations finished on 126000/227241 queries. users per second: 31391.1"
      ]
     },
     "metadata": {},
     "output_type": "display_data"
    },
    {
     "data": {
      "text/html": [
       "<pre>recommendations finished on 127000/227241 queries. users per second: 31386.1</pre>"
      ],
      "text/plain": [
       "recommendations finished on 127000/227241 queries. users per second: 31386.1"
      ]
     },
     "metadata": {},
     "output_type": "display_data"
    },
    {
     "data": {
      "text/html": [
       "<pre>recommendations finished on 128000/227241 queries. users per second: 31390.5</pre>"
      ],
      "text/plain": [
       "recommendations finished on 128000/227241 queries. users per second: 31390.5"
      ]
     },
     "metadata": {},
     "output_type": "display_data"
    },
    {
     "data": {
      "text/html": [
       "<pre>recommendations finished on 129000/227241 queries. users per second: 31446.2</pre>"
      ],
      "text/plain": [
       "recommendations finished on 129000/227241 queries. users per second: 31446.2"
      ]
     },
     "metadata": {},
     "output_type": "display_data"
    },
    {
     "data": {
      "text/html": [
       "<pre>recommendations finished on 130000/227241 queries. users per second: 31489.1</pre>"
      ],
      "text/plain": [
       "recommendations finished on 130000/227241 queries. users per second: 31489.1"
      ]
     },
     "metadata": {},
     "output_type": "display_data"
    },
    {
     "data": {
      "text/html": [
       "<pre>recommendations finished on 131000/227241 queries. users per second: 31490.4</pre>"
      ],
      "text/plain": [
       "recommendations finished on 131000/227241 queries. users per second: 31490.4"
      ]
     },
     "metadata": {},
     "output_type": "display_data"
    },
    {
     "data": {
      "text/html": [
       "<pre>recommendations finished on 132000/227241 queries. users per second: 31401.3</pre>"
      ],
      "text/plain": [
       "recommendations finished on 132000/227241 queries. users per second: 31401.3"
      ]
     },
     "metadata": {},
     "output_type": "display_data"
    },
    {
     "data": {
      "text/html": [
       "<pre>recommendations finished on 133000/227241 queries. users per second: 31427.2</pre>"
      ],
      "text/plain": [
       "recommendations finished on 133000/227241 queries. users per second: 31427.2"
      ]
     },
     "metadata": {},
     "output_type": "display_data"
    },
    {
     "data": {
      "text/html": [
       "<pre>recommendations finished on 134000/227241 queries. users per second: 30797.3</pre>"
      ],
      "text/plain": [
       "recommendations finished on 134000/227241 queries. users per second: 30797.3"
      ]
     },
     "metadata": {},
     "output_type": "display_data"
    },
    {
     "data": {
      "text/html": [
       "<pre>recommendations finished on 135000/227241 queries. users per second: 30800.4</pre>"
      ],
      "text/plain": [
       "recommendations finished on 135000/227241 queries. users per second: 30800.4"
      ]
     },
     "metadata": {},
     "output_type": "display_data"
    },
    {
     "data": {
      "text/html": [
       "<pre>recommendations finished on 136000/227241 queries. users per second: 30752.4</pre>"
      ],
      "text/plain": [
       "recommendations finished on 136000/227241 queries. users per second: 30752.4"
      ]
     },
     "metadata": {},
     "output_type": "display_data"
    },
    {
     "data": {
      "text/html": [
       "<pre>recommendations finished on 137000/227241 queries. users per second: 30672.4</pre>"
      ],
      "text/plain": [
       "recommendations finished on 137000/227241 queries. users per second: 30672.4"
      ]
     },
     "metadata": {},
     "output_type": "display_data"
    },
    {
     "data": {
      "text/html": [
       "<pre>recommendations finished on 138000/227241 queries. users per second: 30665.6</pre>"
      ],
      "text/plain": [
       "recommendations finished on 138000/227241 queries. users per second: 30665.6"
      ]
     },
     "metadata": {},
     "output_type": "display_data"
    },
    {
     "data": {
      "text/html": [
       "<pre>recommendations finished on 139000/227241 queries. users per second: 30690.2</pre>"
      ],
      "text/plain": [
       "recommendations finished on 139000/227241 queries. users per second: 30690.2"
      ]
     },
     "metadata": {},
     "output_type": "display_data"
    },
    {
     "data": {
      "text/html": [
       "<pre>recommendations finished on 140000/227241 queries. users per second: 30694.7</pre>"
      ],
      "text/plain": [
       "recommendations finished on 140000/227241 queries. users per second: 30694.7"
      ]
     },
     "metadata": {},
     "output_type": "display_data"
    },
    {
     "data": {
      "text/html": [
       "<pre>recommendations finished on 141000/227241 queries. users per second: 30685.4</pre>"
      ],
      "text/plain": [
       "recommendations finished on 141000/227241 queries. users per second: 30685.4"
      ]
     },
     "metadata": {},
     "output_type": "display_data"
    },
    {
     "data": {
      "text/html": [
       "<pre>recommendations finished on 142000/227241 queries. users per second: 30752.9</pre>"
      ],
      "text/plain": [
       "recommendations finished on 142000/227241 queries. users per second: 30752.9"
      ]
     },
     "metadata": {},
     "output_type": "display_data"
    },
    {
     "data": {
      "text/html": [
       "<pre>recommendations finished on 143000/227241 queries. users per second: 30723.6</pre>"
      ],
      "text/plain": [
       "recommendations finished on 143000/227241 queries. users per second: 30723.6"
      ]
     },
     "metadata": {},
     "output_type": "display_data"
    },
    {
     "data": {
      "text/html": [
       "<pre>recommendations finished on 144000/227241 queries. users per second: 30692</pre>"
      ],
      "text/plain": [
       "recommendations finished on 144000/227241 queries. users per second: 30692"
      ]
     },
     "metadata": {},
     "output_type": "display_data"
    },
    {
     "data": {
      "text/html": [
       "<pre>recommendations finished on 145000/227241 queries. users per second: 30710.4</pre>"
      ],
      "text/plain": [
       "recommendations finished on 145000/227241 queries. users per second: 30710.4"
      ]
     },
     "metadata": {},
     "output_type": "display_data"
    },
    {
     "data": {
      "text/html": [
       "<pre>recommendations finished on 146000/227241 queries. users per second: 30695.1</pre>"
      ],
      "text/plain": [
       "recommendations finished on 146000/227241 queries. users per second: 30695.1"
      ]
     },
     "metadata": {},
     "output_type": "display_data"
    },
    {
     "data": {
      "text/html": [
       "<pre>recommendations finished on 147000/227241 queries. users per second: 30655.4</pre>"
      ],
      "text/plain": [
       "recommendations finished on 147000/227241 queries. users per second: 30655.4"
      ]
     },
     "metadata": {},
     "output_type": "display_data"
    },
    {
     "data": {
      "text/html": [
       "<pre>recommendations finished on 148000/227241 queries. users per second: 30660.3</pre>"
      ],
      "text/plain": [
       "recommendations finished on 148000/227241 queries. users per second: 30660.3"
      ]
     },
     "metadata": {},
     "output_type": "display_data"
    },
    {
     "data": {
      "text/html": [
       "<pre>recommendations finished on 149000/227241 queries. users per second: 30692.2</pre>"
      ],
      "text/plain": [
       "recommendations finished on 149000/227241 queries. users per second: 30692.2"
      ]
     },
     "metadata": {},
     "output_type": "display_data"
    },
    {
     "data": {
      "text/html": [
       "<pre>recommendations finished on 150000/227241 queries. users per second: 30654.1</pre>"
      ],
      "text/plain": [
       "recommendations finished on 150000/227241 queries. users per second: 30654.1"
      ]
     },
     "metadata": {},
     "output_type": "display_data"
    },
    {
     "data": {
      "text/html": [
       "<pre>recommendations finished on 151000/227241 queries. users per second: 30648.1</pre>"
      ],
      "text/plain": [
       "recommendations finished on 151000/227241 queries. users per second: 30648.1"
      ]
     },
     "metadata": {},
     "output_type": "display_data"
    },
    {
     "data": {
      "text/html": [
       "<pre>recommendations finished on 152000/227241 queries. users per second: 30697.2</pre>"
      ],
      "text/plain": [
       "recommendations finished on 152000/227241 queries. users per second: 30697.2"
      ]
     },
     "metadata": {},
     "output_type": "display_data"
    },
    {
     "data": {
      "text/html": [
       "<pre>recommendations finished on 153000/227241 queries. users per second: 30702.9</pre>"
      ],
      "text/plain": [
       "recommendations finished on 153000/227241 queries. users per second: 30702.9"
      ]
     },
     "metadata": {},
     "output_type": "display_data"
    },
    {
     "data": {
      "text/html": [
       "<pre>recommendations finished on 154000/227241 queries. users per second: 30686.9</pre>"
      ],
      "text/plain": [
       "recommendations finished on 154000/227241 queries. users per second: 30686.9"
      ]
     },
     "metadata": {},
     "output_type": "display_data"
    },
    {
     "data": {
      "text/html": [
       "<pre>recommendations finished on 155000/227241 queries. users per second: 30710.4</pre>"
      ],
      "text/plain": [
       "recommendations finished on 155000/227241 queries. users per second: 30710.4"
      ]
     },
     "metadata": {},
     "output_type": "display_data"
    },
    {
     "data": {
      "text/html": [
       "<pre>recommendations finished on 156000/227241 queries. users per second: 30707.5</pre>"
      ],
      "text/plain": [
       "recommendations finished on 156000/227241 queries. users per second: 30707.5"
      ]
     },
     "metadata": {},
     "output_type": "display_data"
    },
    {
     "data": {
      "text/html": [
       "<pre>recommendations finished on 157000/227241 queries. users per second: 30756.8</pre>"
      ],
      "text/plain": [
       "recommendations finished on 157000/227241 queries. users per second: 30756.8"
      ]
     },
     "metadata": {},
     "output_type": "display_data"
    },
    {
     "data": {
      "text/html": [
       "<pre>recommendations finished on 158000/227241 queries. users per second: 30757.9</pre>"
      ],
      "text/plain": [
       "recommendations finished on 158000/227241 queries. users per second: 30757.9"
      ]
     },
     "metadata": {},
     "output_type": "display_data"
    },
    {
     "data": {
      "text/html": [
       "<pre>recommendations finished on 159000/227241 queries. users per second: 30777.8</pre>"
      ],
      "text/plain": [
       "recommendations finished on 159000/227241 queries. users per second: 30777.8"
      ]
     },
     "metadata": {},
     "output_type": "display_data"
    },
    {
     "data": {
      "text/html": [
       "<pre>recommendations finished on 160000/227241 queries. users per second: 30798</pre>"
      ],
      "text/plain": [
       "recommendations finished on 160000/227241 queries. users per second: 30798"
      ]
     },
     "metadata": {},
     "output_type": "display_data"
    },
    {
     "data": {
      "text/html": [
       "<pre>recommendations finished on 161000/227241 queries. users per second: 30812.5</pre>"
      ],
      "text/plain": [
       "recommendations finished on 161000/227241 queries. users per second: 30812.5"
      ]
     },
     "metadata": {},
     "output_type": "display_data"
    },
    {
     "data": {
      "text/html": [
       "<pre>recommendations finished on 162000/227241 queries. users per second: 30850.1</pre>"
      ],
      "text/plain": [
       "recommendations finished on 162000/227241 queries. users per second: 30850.1"
      ]
     },
     "metadata": {},
     "output_type": "display_data"
    },
    {
     "data": {
      "text/html": [
       "<pre>recommendations finished on 163000/227241 queries. users per second: 30865.2</pre>"
      ],
      "text/plain": [
       "recommendations finished on 163000/227241 queries. users per second: 30865.2"
      ]
     },
     "metadata": {},
     "output_type": "display_data"
    },
    {
     "data": {
      "text/html": [
       "<pre>recommendations finished on 164000/227241 queries. users per second: 30874.6</pre>"
      ],
      "text/plain": [
       "recommendations finished on 164000/227241 queries. users per second: 30874.6"
      ]
     },
     "metadata": {},
     "output_type": "display_data"
    },
    {
     "data": {
      "text/html": [
       "<pre>recommendations finished on 165000/227241 queries. users per second: 30908.7</pre>"
      ],
      "text/plain": [
       "recommendations finished on 165000/227241 queries. users per second: 30908.7"
      ]
     },
     "metadata": {},
     "output_type": "display_data"
    },
    {
     "data": {
      "text/html": [
       "<pre>recommendations finished on 166000/227241 queries. users per second: 30885.1</pre>"
      ],
      "text/plain": [
       "recommendations finished on 166000/227241 queries. users per second: 30885.1"
      ]
     },
     "metadata": {},
     "output_type": "display_data"
    },
    {
     "data": {
      "text/html": [
       "<pre>recommendations finished on 167000/227241 queries. users per second: 30914.5</pre>"
      ],
      "text/plain": [
       "recommendations finished on 167000/227241 queries. users per second: 30914.5"
      ]
     },
     "metadata": {},
     "output_type": "display_data"
    },
    {
     "data": {
      "text/html": [
       "<pre>recommendations finished on 168000/227241 queries. users per second: 30950.4</pre>"
      ],
      "text/plain": [
       "recommendations finished on 168000/227241 queries. users per second: 30950.4"
      ]
     },
     "metadata": {},
     "output_type": "display_data"
    },
    {
     "data": {
      "text/html": [
       "<pre>recommendations finished on 169000/227241 queries. users per second: 31003.2</pre>"
      ],
      "text/plain": [
       "recommendations finished on 169000/227241 queries. users per second: 31003.2"
      ]
     },
     "metadata": {},
     "output_type": "display_data"
    },
    {
     "data": {
      "text/html": [
       "<pre>recommendations finished on 170000/227241 queries. users per second: 31038.5</pre>"
      ],
      "text/plain": [
       "recommendations finished on 170000/227241 queries. users per second: 31038.5"
      ]
     },
     "metadata": {},
     "output_type": "display_data"
    },
    {
     "data": {
      "text/html": [
       "<pre>recommendations finished on 171000/227241 queries. users per second: 31076.1</pre>"
      ],
      "text/plain": [
       "recommendations finished on 171000/227241 queries. users per second: 31076.1"
      ]
     },
     "metadata": {},
     "output_type": "display_data"
    },
    {
     "data": {
      "text/html": [
       "<pre>recommendations finished on 172000/227241 queries. users per second: 31076.7</pre>"
      ],
      "text/plain": [
       "recommendations finished on 172000/227241 queries. users per second: 31076.7"
      ]
     },
     "metadata": {},
     "output_type": "display_data"
    },
    {
     "data": {
      "text/html": [
       "<pre>recommendations finished on 173000/227241 queries. users per second: 31115.9</pre>"
      ],
      "text/plain": [
       "recommendations finished on 173000/227241 queries. users per second: 31115.9"
      ]
     },
     "metadata": {},
     "output_type": "display_data"
    },
    {
     "data": {
      "text/html": [
       "<pre>recommendations finished on 174000/227241 queries. users per second: 31139</pre>"
      ],
      "text/plain": [
       "recommendations finished on 174000/227241 queries. users per second: 31139"
      ]
     },
     "metadata": {},
     "output_type": "display_data"
    },
    {
     "data": {
      "text/html": [
       "<pre>recommendations finished on 175000/227241 queries. users per second: 31049.2</pre>"
      ],
      "text/plain": [
       "recommendations finished on 175000/227241 queries. users per second: 31049.2"
      ]
     },
     "metadata": {},
     "output_type": "display_data"
    },
    {
     "data": {
      "text/html": [
       "<pre>recommendations finished on 176000/227241 queries. users per second: 31033.9</pre>"
      ],
      "text/plain": [
       "recommendations finished on 176000/227241 queries. users per second: 31033.9"
      ]
     },
     "metadata": {},
     "output_type": "display_data"
    },
    {
     "data": {
      "text/html": [
       "<pre>recommendations finished on 177000/227241 queries. users per second: 30930.6</pre>"
      ],
      "text/plain": [
       "recommendations finished on 177000/227241 queries. users per second: 30930.6"
      ]
     },
     "metadata": {},
     "output_type": "display_data"
    },
    {
     "data": {
      "text/html": [
       "<pre>recommendations finished on 178000/227241 queries. users per second: 30965.2</pre>"
      ],
      "text/plain": [
       "recommendations finished on 178000/227241 queries. users per second: 30965.2"
      ]
     },
     "metadata": {},
     "output_type": "display_data"
    },
    {
     "data": {
      "text/html": [
       "<pre>recommendations finished on 179000/227241 queries. users per second: 30984.6</pre>"
      ],
      "text/plain": [
       "recommendations finished on 179000/227241 queries. users per second: 30984.6"
      ]
     },
     "metadata": {},
     "output_type": "display_data"
    },
    {
     "data": {
      "text/html": [
       "<pre>recommendations finished on 180000/227241 queries. users per second: 30985.9</pre>"
      ],
      "text/plain": [
       "recommendations finished on 180000/227241 queries. users per second: 30985.9"
      ]
     },
     "metadata": {},
     "output_type": "display_data"
    },
    {
     "data": {
      "text/html": [
       "<pre>recommendations finished on 181000/227241 queries. users per second: 31006.4</pre>"
      ],
      "text/plain": [
       "recommendations finished on 181000/227241 queries. users per second: 31006.4"
      ]
     },
     "metadata": {},
     "output_type": "display_data"
    },
    {
     "data": {
      "text/html": [
       "<pre>recommendations finished on 182000/227241 queries. users per second: 30973.6</pre>"
      ],
      "text/plain": [
       "recommendations finished on 182000/227241 queries. users per second: 30973.6"
      ]
     },
     "metadata": {},
     "output_type": "display_data"
    },
    {
     "data": {
      "text/html": [
       "<pre>recommendations finished on 183000/227241 queries. users per second: 30983.4</pre>"
      ],
      "text/plain": [
       "recommendations finished on 183000/227241 queries. users per second: 30983.4"
      ]
     },
     "metadata": {},
     "output_type": "display_data"
    },
    {
     "data": {
      "text/html": [
       "<pre>recommendations finished on 184000/227241 queries. users per second: 30977.3</pre>"
      ],
      "text/plain": [
       "recommendations finished on 184000/227241 queries. users per second: 30977.3"
      ]
     },
     "metadata": {},
     "output_type": "display_data"
    },
    {
     "data": {
      "text/html": [
       "<pre>recommendations finished on 185000/227241 queries. users per second: 30963</pre>"
      ],
      "text/plain": [
       "recommendations finished on 185000/227241 queries. users per second: 30963"
      ]
     },
     "metadata": {},
     "output_type": "display_data"
    },
    {
     "data": {
      "text/html": [
       "<pre>recommendations finished on 186000/227241 queries. users per second: 30948.1</pre>"
      ],
      "text/plain": [
       "recommendations finished on 186000/227241 queries. users per second: 30948.1"
      ]
     },
     "metadata": {},
     "output_type": "display_data"
    },
    {
     "data": {
      "text/html": [
       "<pre>recommendations finished on 187000/227241 queries. users per second: 30850.2</pre>"
      ],
      "text/plain": [
       "recommendations finished on 187000/227241 queries. users per second: 30850.2"
      ]
     },
     "metadata": {},
     "output_type": "display_data"
    },
    {
     "data": {
      "text/html": [
       "<pre>recommendations finished on 188000/227241 queries. users per second: 30800.4</pre>"
      ],
      "text/plain": [
       "recommendations finished on 188000/227241 queries. users per second: 30800.4"
      ]
     },
     "metadata": {},
     "output_type": "display_data"
    },
    {
     "data": {
      "text/html": [
       "<pre>recommendations finished on 189000/227241 queries. users per second: 30824</pre>"
      ],
      "text/plain": [
       "recommendations finished on 189000/227241 queries. users per second: 30824"
      ]
     },
     "metadata": {},
     "output_type": "display_data"
    },
    {
     "data": {
      "text/html": [
       "<pre>recommendations finished on 190000/227241 queries. users per second: 30852.5</pre>"
      ],
      "text/plain": [
       "recommendations finished on 190000/227241 queries. users per second: 30852.5"
      ]
     },
     "metadata": {},
     "output_type": "display_data"
    },
    {
     "data": {
      "text/html": [
       "<pre>recommendations finished on 191000/227241 queries. users per second: 30856.2</pre>"
      ],
      "text/plain": [
       "recommendations finished on 191000/227241 queries. users per second: 30856.2"
      ]
     },
     "metadata": {},
     "output_type": "display_data"
    },
    {
     "data": {
      "text/html": [
       "<pre>recommendations finished on 192000/227241 queries. users per second: 30893.6</pre>"
      ],
      "text/plain": [
       "recommendations finished on 192000/227241 queries. users per second: 30893.6"
      ]
     },
     "metadata": {},
     "output_type": "display_data"
    },
    {
     "data": {
      "text/html": [
       "<pre>recommendations finished on 193000/227241 queries. users per second: 30897.6</pre>"
      ],
      "text/plain": [
       "recommendations finished on 193000/227241 queries. users per second: 30897.6"
      ]
     },
     "metadata": {},
     "output_type": "display_data"
    },
    {
     "data": {
      "text/html": [
       "<pre>recommendations finished on 194000/227241 queries. users per second: 30905.9</pre>"
      ],
      "text/plain": [
       "recommendations finished on 194000/227241 queries. users per second: 30905.9"
      ]
     },
     "metadata": {},
     "output_type": "display_data"
    },
    {
     "data": {
      "text/html": [
       "<pre>recommendations finished on 195000/227241 queries. users per second: 30887.2</pre>"
      ],
      "text/plain": [
       "recommendations finished on 195000/227241 queries. users per second: 30887.2"
      ]
     },
     "metadata": {},
     "output_type": "display_data"
    },
    {
     "data": {
      "text/html": [
       "<pre>recommendations finished on 196000/227241 queries. users per second: 30877.4</pre>"
      ],
      "text/plain": [
       "recommendations finished on 196000/227241 queries. users per second: 30877.4"
      ]
     },
     "metadata": {},
     "output_type": "display_data"
    },
    {
     "data": {
      "text/html": [
       "<pre>recommendations finished on 197000/227241 queries. users per second: 30846.1</pre>"
      ],
      "text/plain": [
       "recommendations finished on 197000/227241 queries. users per second: 30846.1"
      ]
     },
     "metadata": {},
     "output_type": "display_data"
    },
    {
     "data": {
      "text/html": [
       "<pre>recommendations finished on 198000/227241 queries. users per second: 30848.6</pre>"
      ],
      "text/plain": [
       "recommendations finished on 198000/227241 queries. users per second: 30848.6"
      ]
     },
     "metadata": {},
     "output_type": "display_data"
    },
    {
     "data": {
      "text/html": [
       "<pre>recommendations finished on 199000/227241 queries. users per second: 30848.1</pre>"
      ],
      "text/plain": [
       "recommendations finished on 199000/227241 queries. users per second: 30848.1"
      ]
     },
     "metadata": {},
     "output_type": "display_data"
    },
    {
     "data": {
      "text/html": [
       "<pre>recommendations finished on 200000/227241 queries. users per second: 30799.3</pre>"
      ],
      "text/plain": [
       "recommendations finished on 200000/227241 queries. users per second: 30799.3"
      ]
     },
     "metadata": {},
     "output_type": "display_data"
    },
    {
     "data": {
      "text/html": [
       "<pre>recommendations finished on 201000/227241 queries. users per second: 30774</pre>"
      ],
      "text/plain": [
       "recommendations finished on 201000/227241 queries. users per second: 30774"
      ]
     },
     "metadata": {},
     "output_type": "display_data"
    },
    {
     "data": {
      "text/html": [
       "<pre>recommendations finished on 202000/227241 queries. users per second: 30728.1</pre>"
      ],
      "text/plain": [
       "recommendations finished on 202000/227241 queries. users per second: 30728.1"
      ]
     },
     "metadata": {},
     "output_type": "display_data"
    },
    {
     "data": {
      "text/html": [
       "<pre>recommendations finished on 203000/227241 queries. users per second: 30695.8</pre>"
      ],
      "text/plain": [
       "recommendations finished on 203000/227241 queries. users per second: 30695.8"
      ]
     },
     "metadata": {},
     "output_type": "display_data"
    },
    {
     "data": {
      "text/html": [
       "<pre>recommendations finished on 204000/227241 queries. users per second: 30690.8</pre>"
      ],
      "text/plain": [
       "recommendations finished on 204000/227241 queries. users per second: 30690.8"
      ]
     },
     "metadata": {},
     "output_type": "display_data"
    },
    {
     "data": {
      "text/html": [
       "<pre>recommendations finished on 205000/227241 queries. users per second: 30628.7</pre>"
      ],
      "text/plain": [
       "recommendations finished on 205000/227241 queries. users per second: 30628.7"
      ]
     },
     "metadata": {},
     "output_type": "display_data"
    },
    {
     "data": {
      "text/html": [
       "<pre>recommendations finished on 206000/227241 queries. users per second: 30592.6</pre>"
      ],
      "text/plain": [
       "recommendations finished on 206000/227241 queries. users per second: 30592.6"
      ]
     },
     "metadata": {},
     "output_type": "display_data"
    },
    {
     "data": {
      "text/html": [
       "<pre>recommendations finished on 207000/227241 queries. users per second: 30565.9</pre>"
      ],
      "text/plain": [
       "recommendations finished on 207000/227241 queries. users per second: 30565.9"
      ]
     },
     "metadata": {},
     "output_type": "display_data"
    },
    {
     "data": {
      "text/html": [
       "<pre>recommendations finished on 208000/227241 queries. users per second: 30493.8</pre>"
      ],
      "text/plain": [
       "recommendations finished on 208000/227241 queries. users per second: 30493.8"
      ]
     },
     "metadata": {},
     "output_type": "display_data"
    },
    {
     "data": {
      "text/html": [
       "<pre>recommendations finished on 209000/227241 queries. users per second: 30416.5</pre>"
      ],
      "text/plain": [
       "recommendations finished on 209000/227241 queries. users per second: 30416.5"
      ]
     },
     "metadata": {},
     "output_type": "display_data"
    },
    {
     "data": {
      "text/html": [
       "<pre>recommendations finished on 210000/227241 queries. users per second: 30319.7</pre>"
      ],
      "text/plain": [
       "recommendations finished on 210000/227241 queries. users per second: 30319.7"
      ]
     },
     "metadata": {},
     "output_type": "display_data"
    },
    {
     "data": {
      "text/html": [
       "<pre>recommendations finished on 211000/227241 queries. users per second: 30301.7</pre>"
      ],
      "text/plain": [
       "recommendations finished on 211000/227241 queries. users per second: 30301.7"
      ]
     },
     "metadata": {},
     "output_type": "display_data"
    },
    {
     "data": {
      "text/html": [
       "<pre>recommendations finished on 212000/227241 queries. users per second: 30289.5</pre>"
      ],
      "text/plain": [
       "recommendations finished on 212000/227241 queries. users per second: 30289.5"
      ]
     },
     "metadata": {},
     "output_type": "display_data"
    },
    {
     "data": {
      "text/html": [
       "<pre>recommendations finished on 213000/227241 queries. users per second: 30269.7</pre>"
      ],
      "text/plain": [
       "recommendations finished on 213000/227241 queries. users per second: 30269.7"
      ]
     },
     "metadata": {},
     "output_type": "display_data"
    },
    {
     "data": {
      "text/html": [
       "<pre>recommendations finished on 214000/227241 queries. users per second: 30263.6</pre>"
      ],
      "text/plain": [
       "recommendations finished on 214000/227241 queries. users per second: 30263.6"
      ]
     },
     "metadata": {},
     "output_type": "display_data"
    },
    {
     "data": {
      "text/html": [
       "<pre>recommendations finished on 215000/227241 queries. users per second: 30242.2</pre>"
      ],
      "text/plain": [
       "recommendations finished on 215000/227241 queries. users per second: 30242.2"
      ]
     },
     "metadata": {},
     "output_type": "display_data"
    },
    {
     "data": {
      "text/html": [
       "<pre>recommendations finished on 216000/227241 queries. users per second: 30257.4</pre>"
      ],
      "text/plain": [
       "recommendations finished on 216000/227241 queries. users per second: 30257.4"
      ]
     },
     "metadata": {},
     "output_type": "display_data"
    },
    {
     "data": {
      "text/html": [
       "<pre>recommendations finished on 217000/227241 queries. users per second: 30261</pre>"
      ],
      "text/plain": [
       "recommendations finished on 217000/227241 queries. users per second: 30261"
      ]
     },
     "metadata": {},
     "output_type": "display_data"
    },
    {
     "data": {
      "text/html": [
       "<pre>recommendations finished on 218000/227241 queries. users per second: 30255.2</pre>"
      ],
      "text/plain": [
       "recommendations finished on 218000/227241 queries. users per second: 30255.2"
      ]
     },
     "metadata": {},
     "output_type": "display_data"
    },
    {
     "data": {
      "text/html": [
       "<pre>recommendations finished on 219000/227241 queries. users per second: 30221</pre>"
      ],
      "text/plain": [
       "recommendations finished on 219000/227241 queries. users per second: 30221"
      ]
     },
     "metadata": {},
     "output_type": "display_data"
    },
    {
     "data": {
      "text/html": [
       "<pre>recommendations finished on 220000/227241 queries. users per second: 30166.7</pre>"
      ],
      "text/plain": [
       "recommendations finished on 220000/227241 queries. users per second: 30166.7"
      ]
     },
     "metadata": {},
     "output_type": "display_data"
    },
    {
     "data": {
      "text/html": [
       "<pre>recommendations finished on 221000/227241 queries. users per second: 30187.4</pre>"
      ],
      "text/plain": [
       "recommendations finished on 221000/227241 queries. users per second: 30187.4"
      ]
     },
     "metadata": {},
     "output_type": "display_data"
    },
    {
     "data": {
      "text/html": [
       "<pre>recommendations finished on 222000/227241 queries. users per second: 30201.8</pre>"
      ],
      "text/plain": [
       "recommendations finished on 222000/227241 queries. users per second: 30201.8"
      ]
     },
     "metadata": {},
     "output_type": "display_data"
    },
    {
     "data": {
      "text/html": [
       "<pre>recommendations finished on 223000/227241 queries. users per second: 30203</pre>"
      ],
      "text/plain": [
       "recommendations finished on 223000/227241 queries. users per second: 30203"
      ]
     },
     "metadata": {},
     "output_type": "display_data"
    },
    {
     "data": {
      "text/html": [
       "<pre>recommendations finished on 224000/227241 queries. users per second: 30175</pre>"
      ],
      "text/plain": [
       "recommendations finished on 224000/227241 queries. users per second: 30175"
      ]
     },
     "metadata": {},
     "output_type": "display_data"
    },
    {
     "data": {
      "text/html": [
       "<pre>recommendations finished on 225000/227241 queries. users per second: 30123.6</pre>"
      ],
      "text/plain": [
       "recommendations finished on 225000/227241 queries. users per second: 30123.6"
      ]
     },
     "metadata": {},
     "output_type": "display_data"
    },
    {
     "data": {
      "text/html": [
       "<pre>recommendations finished on 226000/227241 queries. users per second: 30033.3</pre>"
      ],
      "text/plain": [
       "recommendations finished on 226000/227241 queries. users per second: 30033.3"
      ]
     },
     "metadata": {},
     "output_type": "display_data"
    },
    {
     "data": {
      "text/html": [
       "<pre>recommendations finished on 227000/227241 queries. users per second: 29884.2</pre>"
      ],
      "text/plain": [
       "recommendations finished on 227000/227241 queries. users per second: 29884.2"
      ]
     },
     "metadata": {},
     "output_type": "display_data"
    }
   ],
   "source": [
    "# recommendataion results\n",
    "pop_result = pop_rec.recommend()"
   ]
  },
  {
   "cell_type": "code",
   "execution_count": 31,
   "metadata": {},
   "outputs": [
    {
     "name": "stdout",
     "output_type": "stream",
     "text": [
      "+------------------------+------------------------+-------+------+\n",
      "|        user_id         |      business_id       | score | rank |\n",
      "+------------------------+------------------------+-------+------+\n",
      "| oFyOUOeGTRZhFPF9uTqrTQ | V9eIbZwaOJ7YeMy5bPVm6w |  5.0  |  1   |\n",
      "| oFyOUOeGTRZhFPF9uTqrTQ | V6u7__4jbEDOgWR8K6qUSw |  5.0  |  2   |\n",
      "| oFyOUOeGTRZhFPF9uTqrTQ | iQOjQH30LFsj6aO3wJG7nQ |  5.0  |  3   |\n",
      "| oFyOUOeGTRZhFPF9uTqrTQ | i5vy3X8WBjQ-F7P8HqC7KA |  5.0  |  4   |\n",
      "| oFyOUOeGTRZhFPF9uTqrTQ | U4ZvCExEi8Chtzu9IVrkCg |  5.0  |  5   |\n",
      "| oFyOUOeGTRZhFPF9uTqrTQ | hkbZCioL7TkHLZuTXf-5fQ |  5.0  |  6   |\n",
      "| oFyOUOeGTRZhFPF9uTqrTQ | Flpfv60BjAFazYuDwpjaUQ |  5.0  |  7   |\n",
      "| oFyOUOeGTRZhFPF9uTqrTQ | FK7JHSUMdznZefUW6X319A |  5.0  |  8   |\n",
      "| oFyOUOeGTRZhFPF9uTqrTQ | 096iGHoQ-UImxUExuyqlZA |  5.0  |  9   |\n",
      "| oFyOUOeGTRZhFPF9uTqrTQ | -UtYWvCnUppcSaC_u1pTYQ |  5.0  |  10  |\n",
      "| 2aeNFntqY2QDZLADNo8iQQ | V9eIbZwaOJ7YeMy5bPVm6w |  5.0  |  1   |\n",
      "| 2aeNFntqY2QDZLADNo8iQQ | V6u7__4jbEDOgWR8K6qUSw |  5.0  |  2   |\n",
      "| 2aeNFntqY2QDZLADNo8iQQ | iQOjQH30LFsj6aO3wJG7nQ |  5.0  |  3   |\n",
      "| 2aeNFntqY2QDZLADNo8iQQ | i5vy3X8WBjQ-F7P8HqC7KA |  5.0  |  4   |\n",
      "| 2aeNFntqY2QDZLADNo8iQQ | U4ZvCExEi8Chtzu9IVrkCg |  5.0  |  5   |\n",
      "| 2aeNFntqY2QDZLADNo8iQQ | hkbZCioL7TkHLZuTXf-5fQ |  5.0  |  6   |\n",
      "| 2aeNFntqY2QDZLADNo8iQQ | Flpfv60BjAFazYuDwpjaUQ |  5.0  |  7   |\n",
      "| 2aeNFntqY2QDZLADNo8iQQ | FK7JHSUMdznZefUW6X319A |  5.0  |  8   |\n",
      "| 2aeNFntqY2QDZLADNo8iQQ | 096iGHoQ-UImxUExuyqlZA |  5.0  |  9   |\n",
      "| 2aeNFntqY2QDZLADNo8iQQ | -UtYWvCnUppcSaC_u1pTYQ |  5.0  |  10  |\n",
      "+------------------------+------------------------+-------+------+\n",
      "[2272410 rows x 4 columns]\n",
      "\n"
     ]
    }
   ],
   "source": [
    "pop_result.print_rows(num_rows=20)"
   ]
  }
 ],
 "metadata": {
  "anaconda-cloud": {},
  "kernelspec": {
   "display_name": "Python 3",
   "language": "python",
   "name": "python3"
  },
  "language_info": {
   "codemirror_mode": {
    "name": "ipython",
    "version": 3
   },
   "file_extension": ".py",
   "mimetype": "text/x-python",
   "name": "python",
   "nbconvert_exporter": "python",
   "pygments_lexer": "ipython3",
   "version": "3.6.4"
  }
 },
 "nbformat": 4,
 "nbformat_minor": 1
}
